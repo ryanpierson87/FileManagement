{
 "cells": [
  {
   "cell_type": "code",
   "execution_count": 1,
   "metadata": {},
   "outputs": [
    {
     "data": {
      "text/plain": [
       "'/Users/ryanpierson/Documents'"
      ]
     },
     "execution_count": 1,
     "metadata": {},
     "output_type": "execute_result"
    }
   ],
   "source": [
    "pwd"
   ]
  },
  {
   "cell_type": "code",
   "execution_count": 3,
   "metadata": {},
   "outputs": [
    {
     "name": "stdout",
     "output_type": "stream",
     "text": [
      "/Users/ryanpierson/Documents\n"
     ]
    }
   ],
   "source": [
    "cd .."
   ]
  },
  {
   "cell_type": "code",
   "execution_count": 4,
   "metadata": {},
   "outputs": [],
   "source": [
    "import zipfile\n",
    "\n",
    "with zipfile.ZipFile('/Users/ryanpierson/Documents/elektron packs/Chillwave.zip') as zip_ref:\n",
    "    zip_ref.extractall('/Users/ryanpierson/Documents/elektron_unzip')"
   ]
  },
  {
   "cell_type": "code",
   "execution_count": 84,
   "metadata": {},
   "outputs": [
    {
     "name": "stdout",
     "output_type": "stream",
     "text": [
      "i is SID Redux (2).zip\n",
      "j is /Users/ryanpierson/Documents/elektron_packs/SID Redux (2).zip\n",
      "matches is SID Redux (2)\n",
      "output to /Users/ryanpierson/Documents/elektron_unzip/SID Redux (2)\n",
      "i is Legowelt Studio (1).zip\n",
      "j is /Users/ryanpierson/Documents/elektron_packs/Legowelt Studio (1).zip\n",
      "matches is Legowelt Studio (1)\n",
      "output to /Users/ryanpierson/Documents/elektron_unzip/Legowelt Studio (1)\n",
      "i is Reamped Drums (1).zip\n",
      "j is /Users/ryanpierson/Documents/elektron_packs/Reamped Drums (1).zip\n",
      "matches is Reamped Drums (1)\n",
      "output to /Users/ryanpierson/Documents/elektron_unzip/Reamped Drums (1)\n",
      "i is Radical Bits.zip\n",
      "j is /Users/ryanpierson/Documents/elektron_packs/Radical Bits.zip\n",
      "matches is Radical Bits\n",
      "output to /Users/ryanpierson/Documents/elektron_unzip/Radical Bits\n"
     ]
    }
   ],
   "source": [
    "import re\n",
    "import os\n",
    "import shutil\n",
    "import zipfile\n",
    "\n",
    "path = '/Users/ryanpierson/Documents/elektron_packs'\n",
    "output = '/Users/ryanpierson/Documents/elektron_unzip'\n",
    "\n",
    "\n",
    "def extract(file, output):\n",
    "    with zipfile.ZipFile(file) as zip_ref:\n",
    "        zip_ref.extractall(output)\n",
    "\n",
    "def extract_folder(path, output):\n",
    "    files = list(os.listdir(path))\n",
    "    for i in files:\n",
    "        if 'zip' in i:\n",
    "            j = path + '/' + i\n",
    "            print(f'i is {i}')\n",
    "            print(f'j is {j}')\n",
    "            regex = re.compile(r\"(.*?)\\.zip\")\n",
    "            matches = re.findall(regex, str(i))\n",
    "            print(f'matches is {matches[0]}')\n",
    "            to = output + '/' + matches[0]\n",
    "            print(f\"output to {to}\")\n",
    "            os.mkdir(to)\n",
    "            extract(j, to)\n",
    "    #print(files)\n",
    "    shutil.rmtree(path)\n",
    "\n",
    "extract_folder(path, output)"
   ]
  },
  {
   "cell_type": "code",
   "execution_count": 13,
   "metadata": {
    "scrolled": true
   },
   "outputs": [
    {
     "data": {
      "text/plain": [
       "['Total Tabla.zip',\n",
       " 'SID Redux.zip',\n",
       " 'Legowelt Studio.zip',\n",
       " 'VHS Crosstalk.zip',\n",
       " 'Reamped Drums.zip',\n",
       " 'Disturbance.zip',\n",
       " 'Chillwave.zip',\n",
       " 'Radical Bits.zip']"
      ]
     },
     "execution_count": 13,
     "metadata": {},
     "output_type": "execute_result"
    }
   ],
   "source": [
    "list(os.listdir(path))"
   ]
  },
  {
   "cell_type": "code",
   "execution_count": 11,
   "metadata": {},
   "outputs": [
    {
     "name": "stdout",
     "output_type": "stream",
     "text": [
      "/Users/ryanpierson/Documents/elektron packs/VHS Crosstalk (1).zip\n",
      "/Users/ryanpierson/Documents/elektron packs/Legowelt Studio (1).zip\n",
      "/Users/ryanpierson/Documents/elektron packs/Disturbance.zip\n",
      "/Users/ryanpierson/Documents/elektron packs/SID Redux (1).zip\n",
      "/Users/ryanpierson/Documents/elektron packs/Chillwave.zip\n",
      "/Users/ryanpierson/Documents/elektron packs/Reamped Drums (1).zip\n",
      "/Users/ryanpierson/Documents/elektron packs/Radical Bits.zip\n",
      "/Users/ryanpierson/Documents/elektron packs/Total Tabla (1).zip\n"
     ]
    }
   ],
   "source": [
    "for i in files:\n",
    "    print(path + '/' +i)"
   ]
  },
  {
   "cell_type": "code",
   "execution_count": 15,
   "metadata": {
    "collapsed": true
   },
   "outputs": [
    {
     "name": "stdout",
     "output_type": "stream",
     "text": [
      "\u001b[34mAdobe\u001b[m\u001b[m/                     bigger.py\r\n",
      "Bank 1.nd2_bank            dontknow.py\r\n",
      "\u001b[34mBitwig Studio\u001b[m\u001b[m/             draw_turtles.py\r\n",
      "Equaled Out.ls56           \u001b[34melektron_packs\u001b[m\u001b[m/\r\n",
      "Example.py                 \u001b[34melektron_unzip\u001b[m\u001b[m/\r\n",
      "\u001b[34mJohn Wiese - Circle Snare\u001b[m\u001b[m/ fresh_tomatoes.py\r\n",
      "KP3 settings.p3p           fresh_tomatoes.pyc\r\n",
      "\u001b[34mMax 7\u001b[m\u001b[m/                     media.pyc\r\n",
      "\u001b[34mMax 8\u001b[m\u001b[m/                     \u001b[30m\u001b[43moctabackup\u001b[m\u001b[m/\r\n",
      "\u001b[34mMobileGo\u001b[m\u001b[m/                  profCheck.py\r\n",
      "\u001b[34mNative Instruments\u001b[m\u001b[m/        \u001b[34mpython\u001b[m\u001b[m/\r\n",
      "Project1.jpg               rename_files.py\r\n",
      "Project1.py                sdlfjh.py\r\n",
      "SendText.py                send_text.py\r\n",
      "Text.py                    sys__info1.dat\r\n",
      "Untitled.ipynb             test.py\r\n",
      "\u001b[34mZoom\u001b[m\u001b[m/\r\n"
     ]
    }
   ],
   "source": [
    "ls"
   ]
  },
  {
   "cell_type": "code",
   "execution_count": 16,
   "metadata": {},
   "outputs": [
    {
     "data": {
      "text/plain": [
       "'/Users/ryanpierson/Documents'"
      ]
     },
     "execution_count": 16,
     "metadata": {},
     "output_type": "execute_result"
    }
   ],
   "source": [
    "pwd"
   ]
  },
  {
   "cell_type": "code",
   "execution_count": 20,
   "metadata": {},
   "outputs": [],
   "source": [
    "extract('/Users/ryanpierson/Documents/elektron_packs/Disturbance.zip', '/Users/ryanpierson/Documents/elektron_unzip')"
   ]
  },
  {
   "cell_type": "code",
   "execution_count": 23,
   "metadata": {},
   "outputs": [],
   "source": [
    "file = '/Users/ryanpierson/Documents/elektron_packs/Future House (1).zip'"
   ]
  },
  {
   "cell_type": "code",
   "execution_count": 25,
   "metadata": {},
   "outputs": [],
   "source": [
    "import re"
   ]
  },
  {
   "cell_type": "code",
   "execution_count": 67,
   "metadata": {},
   "outputs": [
    {
     "name": "stdout",
     "output_type": "stream",
     "text": [
      "file VHS Crosstalk (1).zip\n",
      "VHS Crosstalk (1)\n",
      "/Users/ryanpierson/Documents/elektron_unzip/VHS Crosstalk (1)\n",
      "file Legowelt Studio (1).zip\n",
      "Legowelt Studio (1)\n",
      "/Users/ryanpierson/Documents/elektron_unzip/Legowelt Studio (1)\n",
      "file Disturbance.zip\n",
      "Disturbance\n",
      "/Users/ryanpierson/Documents/elektron_unzip/Disturbance\n",
      "file SID Redux (1).zip\n",
      "SID Redux (1)\n",
      "/Users/ryanpierson/Documents/elektron_unzip/SID Redux (1)\n",
      "file Chillwave.zip\n",
      "Chillwave\n",
      "/Users/ryanpierson/Documents/elektron_unzip/Chillwave\n",
      "file Reamped Drums (1).zip\n",
      "Reamped Drums (1)\n",
      "/Users/ryanpierson/Documents/elektron_unzip/Reamped Drums (1)\n",
      "file Radical Bits.zip\n",
      "Radical Bits\n",
      "/Users/ryanpierson/Documents/elektron_unzip/Radical Bits\n",
      "file Total Tabla (1).zip\n",
      "Total Tabla (1)\n",
      "/Users/ryanpierson/Documents/elektron_unzip/Total Tabla (1)\n",
      "done\n"
     ]
    }
   ],
   "source": [
    "# regex = re.compile(r\"href=\\\"(.*?)\\\"\")\n",
    "# matches = re.findall(regex, str(file))\n",
    "import re\n",
    "\n",
    "output = '/Users/ryanpierson/Documents/elektron_unzip'\n",
    "\n",
    "for i in files:\n",
    "    print(f'file {i}')\n",
    "    regex = re.compile(r\"(.*?)\\.zip\")\n",
    "    matches = re.findall(regex, str(i))\n",
    "    print(matches[0])\n",
    "    to = output + '/' + matches[0]\n",
    "    print(to)\n",
    "    #os.mkdir(to)\n",
    "print('done')\n",
    "    "
   ]
  },
  {
   "cell_type": "code",
   "execution_count": 34,
   "metadata": {},
   "outputs": [
    {
     "data": {
      "text/plain": [
       "['VHS Crosstalk (1).zip',\n",
       " 'Legowelt Studio (1).zip',\n",
       " 'Disturbance.zip',\n",
       " 'SID Redux (1).zip',\n",
       " 'Chillwave.zip',\n",
       " 'Reamped Drums (1).zip',\n",
       " 'Radical Bits.zip',\n",
       " 'Total Tabla (1).zip']"
      ]
     },
     "execution_count": 34,
     "metadata": {},
     "output_type": "execute_result"
    }
   ],
   "source": [
    "files"
   ]
  },
  {
   "cell_type": "code",
   "execution_count": 56,
   "metadata": {},
   "outputs": [],
   "source": [
    "test = files[0]"
   ]
  },
  {
   "cell_type": "code",
   "execution_count": 57,
   "metadata": {},
   "outputs": [
    {
     "data": {
      "text/plain": [
       "'VHS Crosstalk (1).zip'"
      ]
     },
     "execution_count": 57,
     "metadata": {},
     "output_type": "execute_result"
    }
   ],
   "source": [
    "test"
   ]
  },
  {
   "cell_type": "code",
   "execution_count": 72,
   "metadata": {},
   "outputs": [
    {
     "data": {
      "text/plain": [
       "['Total Tabla (1)']"
      ]
     },
     "execution_count": 72,
     "metadata": {},
     "output_type": "execute_result"
    }
   ],
   "source": [
    "matches"
   ]
  },
  {
   "cell_type": "code",
   "execution_count": 80,
   "metadata": {},
   "outputs": [
    {
     "data": {
      "text/plain": [
       "['Legowelt Studio (1).zip',\n",
       " 'Transistors &amp; Skins.zip',\n",
       " 'Reamped Drums (1).zip']"
      ]
     },
     "execution_count": 80,
     "metadata": {},
     "output_type": "execute_result"
    }
   ],
   "source": [
    "list(os.listdir(path))"
   ]
  },
  {
   "cell_type": "code",
   "execution_count": 85,
   "metadata": {},
   "outputs": [
    {
     "data": {
      "text/plain": [
       "'/Users/ryanpierson/Documents'"
      ]
     },
     "execution_count": 85,
     "metadata": {},
     "output_type": "execute_result"
    }
   ],
   "source": [
    "pwd"
   ]
  },
  {
   "cell_type": "code",
   "execution_count": null,
   "metadata": {},
   "outputs": [],
   "source": []
  }
 ],
 "metadata": {
  "kernelspec": {
   "display_name": "Python 3",
   "language": "python",
   "name": "python3"
  },
  "language_info": {
   "codemirror_mode": {
    "name": "ipython",
    "version": 3
   },
   "file_extension": ".py",
   "mimetype": "text/x-python",
   "name": "python",
   "nbconvert_exporter": "python",
   "pygments_lexer": "ipython3",
   "version": "3.7.0"
  }
 },
 "nbformat": 4,
 "nbformat_minor": 2
}
