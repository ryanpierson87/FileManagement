{
 "cells": [
  {
   "cell_type": "code",
   "execution_count": 57,
   "metadata": {},
   "outputs": [],
   "source": [
    "from bs4 import BeautifulSoup\n",
    "import re\n",
    "import requests\n",
    "from threading import Thread\n",
    "\n",
    "#This is the program that scrapes the webpage for all of the necessary files and returns the links where the files are\n",
    "def files_to_download(site, file_format):\n",
    "    '''    Scrapes the provided website and returns the links of all of the provided file format.\n",
    "    Ex: a page with a list of mp3s\n",
    "    files_to_download('https://sitewithmusic.com', '.mp3')\n",
    "    >>> ['...sitewithmusic.com/track_1', '...sitewithmusic.com/track_2', '...sitewithmusic.com/track_3']'''\n",
    "    url = requests.get(site)\n",
    "    soup = BeautifulSoup(url.content, 'html.parser')\n",
    "    #finds the files on the page\n",
    "    regex = re.compile(r\"href=\\\"(.*)\\\">\")\n",
    "    matches = re.findall(regex, str(soup.body))\n",
    "    print(matches)\n",
    "    dl = []\n",
    "    for i in matches:\n",
    "        if file_format in i:\n",
    "            if site in i:\n",
    "                dl.append(i)\n",
    "                x = 0\n",
    "            else:\n",
    "                names = []\n",
    "                dl.append(site + '/' + i)\n",
    "                x = 1\n",
    "    if x == 0:\n",
    "        return dl\n",
    "    else:\n",
    "        names = []\n",
    "        for i in matches:\n",
    "            if file_format in i:\n",
    "                names.append(i)        \n",
    "        return dl, names\n",
    "\n",
    "#This is the threading function that takes a download url and a possibly a folder.\n",
    "#it grabs the download from the link and sticks it into the provided folder- or local to the program.\n",
    "def download_files(url, folder=None):\n",
    "    r'''Downloads a file from a download link and places it in the specified folder.\n",
    "    \n",
    "    download_files('www.website.com/download_file', 'C:\\Users\\Me\\Desktop')\n",
    "        places the file from website.com onto the users Desktop.'''\n",
    "    print(f'folder {folder}\\n')\n",
    "    if folder == None:\n",
    "        name = url[url.find('.com/')+ 5:]\n",
    "    else:\n",
    "        if url[-1] == \"/\":\n",
    "            name = folder + url[url.find('.com/')+ 5:]\n",
    "        else:\n",
    "            name = folder + \"\\\\\" + url[url.find('.com/')+ 5:]\n",
    "    \n",
    "    print(\"The file being downloaded is {}\\n\".format(url))\n",
    "    print(f'name {name}\\n')\n",
    "    r = requests.get(name, allow_redirects=True)\n",
    "    open(name, 'wb').write(r.content)\n",
    "\n",
    "    \n",
    "#This function combines the functions: files_to_download and download_files\n",
    "#It runs the files_to_download to generate a list of links to download\n",
    "#It then threads through all of the downloads to get done SUPER QUICK\n",
    "def download_all(site, file_format, folder=None):\n",
    "    '''Takes a Site, a File Format, and a Destination folder\n",
    "   Downloads all of files of that format from a webpage into the folder.\n",
    "    \n",
    "    download_all('https://websitewithmusic.com', '.mp3', 'C:\\\\Users\\\\Desktop\\Folder')\n",
    "    >>>> All mp3s will be downloaded to the Folder folder on your Desktop'''\n",
    "    files_list = files_to_download(site, file_format)\n",
    "    for i in files_list:\n",
    "        t = Thread(target=download_files, args=(i, folder))\n",
    "        t.start()\n",
    "\n",
    "# def download_all(site, file_format, folder=None):\n",
    "#     '''Takes a Site, a File Format, and a Destination folder\n",
    "#    Downloads all of files of that format from a webpage into the folder.\n",
    "    \n",
    "#     download_all('https://websitewithmusic.com', '.mp3', 'C:\\\\Users\\\\Desktop\\Folder')\n",
    "#     >>>> All mp3s will be downloaded to the Folder folder on your Desktop'''\n",
    "#     files_list = files_to_download(site, file_format)\n",
    "#     for i in files_list:\n",
    "#         t = Thread(target=download_files, args=(i, folder))\n",
    "#         t.start()\n",
    "\n",
    "\n",
    "\n",
    "def grab_from_link(url, name, location):\n",
    "    from tqdm import tqdm\n",
    "    response = requests.get(url, stream=True)\n",
    "    \n",
    "    output = location + '/' + name\n",
    "\n",
    "    with open(output, \"wb\") as handle:\n",
    "        for data in tqdm(response.iter_content()):\n",
    "            handle.write(data)\n",
    "            \n"
   ]
  },
  {
   "cell_type": "code",
   "execution_count": 61,
   "metadata": {},
   "outputs": [
    {
     "name": "stdout",
     "output_type": "stream",
     "text": [
      "action.wav\n"
     ]
    },
    {
     "name": "stderr",
     "output_type": "stream",
     "text": [
      "196862it [00:03, 61490.42it/s]\n"
     ]
    },
    {
     "name": "stdout",
     "output_type": "stream",
     "text": [
      "amen_brother.wav\n"
     ]
    },
    {
     "name": "stderr",
     "output_type": "stream",
     "text": [
      "690454it [00:11, 58587.85it/s]\n"
     ]
    },
    {
     "name": "stdout",
     "output_type": "stream",
     "text": [
      "apache.wav\n"
     ]
    },
    {
     "name": "stderr",
     "output_type": "stream",
     "text": [
      "746540it [00:11, 63322.73it/s]\n"
     ]
    },
    {
     "name": "stdout",
     "output_type": "stream",
     "text": [
      "assembly_line.wav\n"
     ]
    },
    {
     "name": "stderr",
     "output_type": "stream",
     "text": [
      "579788it [00:08, 66198.88it/s]\n"
     ]
    },
    {
     "name": "stdout",
     "output_type": "stream",
     "text": [
      "both_eyes_open.wav\n"
     ]
    },
    {
     "name": "stderr",
     "output_type": "stream",
     "text": [
      "308854it [00:04, 65317.33it/s]\n"
     ]
    },
    {
     "name": "stdout",
     "output_type": "stream",
     "text": [
      "cold_sweat.wav\n"
     ]
    },
    {
     "name": "stderr",
     "output_type": "stream",
     "text": [
      "188348it [00:03, 62231.30it/s]\n"
     ]
    },
    {
     "name": "stdout",
     "output_type": "stream",
     "text": [
      "do_the_do.wav\n"
     ]
    },
    {
     "name": "stderr",
     "output_type": "stream",
     "text": [
      "196652it [00:03, 63926.40it/s]\n"
     ]
    },
    {
     "name": "stdout",
     "output_type": "stream",
     "text": [
      "dont_change_your_love.wav\n"
     ]
    },
    {
     "name": "stderr",
     "output_type": "stream",
     "text": [
      "271916it [00:04, 59330.62it/s]\n"
     ]
    },
    {
     "name": "stdout",
     "output_type": "stream",
     "text": [
      "flow.wav\n"
     ]
    },
    {
     "name": "stderr",
     "output_type": "stream",
     "text": [
      "132338it [00:02, 51564.16it/s]\n"
     ]
    },
    {
     "name": "stdout",
     "output_type": "stream",
     "text": [
      "fools_gold.wav\n"
     ]
    },
    {
     "name": "stderr",
     "output_type": "stream",
     "text": [
      "377772it [00:06, 56353.83it/s]\n"
     ]
    },
    {
     "name": "stdout",
     "output_type": "stream",
     "text": [
      "funky_drummer.wav\n"
     ]
    },
    {
     "name": "stderr",
     "output_type": "stream",
     "text": [
      "207408it [00:03, 63506.95it/s]\n"
     ]
    },
    {
     "name": "stdout",
     "output_type": "stream",
     "text": [
      "funky_mule--intro.wav\n"
     ]
    },
    {
     "name": "stderr",
     "output_type": "stream",
     "text": [
      "630662it [00:10, 58672.65it/s]\n"
     ]
    },
    {
     "name": "stdout",
     "output_type": "stream",
     "text": [
      "funky_mule--rides.wav\n"
     ]
    },
    {
     "name": "stderr",
     "output_type": "stream",
     "text": [
      "159904it [00:03, 45849.60it/s]\n"
     ]
    },
    {
     "name": "stdout",
     "output_type": "stream",
     "text": [
      "give_it_up_or_turnit_a_loose.wav\n"
     ]
    },
    {
     "name": "stderr",
     "output_type": "stream",
     "text": [
      "373292it [00:06, 59063.29it/s]\n"
     ]
    },
    {
     "name": "stdout",
     "output_type": "stream",
     "text": [
      "god_made_me_funky.wav\n"
     ]
    },
    {
     "name": "stderr",
     "output_type": "stream",
     "text": [
      "245908it [00:05, 49054.98it/s]\n"
     ]
    },
    {
     "name": "stdout",
     "output_type": "stream",
     "text": [
      "hot_pants.wav\n"
     ]
    },
    {
     "name": "stderr",
     "output_type": "stream",
     "text": [
      "370292it [00:08, 44091.40it/s]\n"
     ]
    },
    {
     "name": "stdout",
     "output_type": "stream",
     "text": [
      "humpty_dump.wav\n"
     ]
    },
    {
     "name": "stderr",
     "output_type": "stream",
     "text": [
      "502932it [00:11, 44642.22it/s]\n"
     ]
    },
    {
     "name": "stdout",
     "output_type": "stream",
     "text": [
      "its_a_new_day.wav\n"
     ]
    },
    {
     "name": "stderr",
     "output_type": "stream",
     "text": [
      "232748it [00:05, 46125.05it/s]\n"
     ]
    },
    {
     "name": "stdout",
     "output_type": "stream",
     "text": [
      "kick_back.wav\n"
     ]
    },
    {
     "name": "stderr",
     "output_type": "stream",
     "text": [
      "172390it [00:03, 44967.90it/s]\n"
     ]
    },
    {
     "name": "stdout",
     "output_type": "stream",
     "text": [
      "kool_is_back.wav\n"
     ]
    },
    {
     "name": "stderr",
     "output_type": "stream",
     "text": [
      "387726it [00:07, 51924.53it/s]\n"
     ]
    },
    {
     "name": "stdout",
     "output_type": "stream",
     "text": [
      "let_a_woman_be_a_woman.wav\n"
     ]
    },
    {
     "name": "stderr",
     "output_type": "stream",
     "text": [
      "200084it [00:03, 59149.22it/s]\n"
     ]
    },
    {
     "name": "stdout",
     "output_type": "stream",
     "text": [
      "life_could.wav\n"
     ]
    },
    {
     "name": "stderr",
     "output_type": "stream",
     "text": [
      "426284it [00:07, 54581.51it/s]\n"
     ]
    },
    {
     "name": "stdout",
     "output_type": "stream",
     "text": [
      "new_orleans.wav\n"
     ]
    },
    {
     "name": "stderr",
     "output_type": "stream",
     "text": [
      "363862it [00:06, 58690.80it/s]\n"
     ]
    },
    {
     "name": "stdout",
     "output_type": "stream",
     "text": [
      "nt.wav\n"
     ]
    },
    {
     "name": "stderr",
     "output_type": "stream",
     "text": [
      "353324it [00:06, 57108.79it/s]\n"
     ]
    },
    {
     "name": "stdout",
     "output_type": "stream",
     "text": [
      "ode_to_billy_joe.wav\n"
     ]
    },
    {
     "name": "stderr",
     "output_type": "stream",
     "text": [
      "470060it [00:08, 57830.57it/s]\n"
     ]
    },
    {
     "name": "stdout",
     "output_type": "stream",
     "text": [
      "plastic_jam.wav\n"
     ]
    },
    {
     "name": "stderr",
     "output_type": "stream",
     "text": [
      "130140it [00:02, 55440.54it/s]\n"
     ]
    },
    {
     "name": "stdout",
     "output_type": "stream",
     "text": [
      "put_your_love--end.wav\n"
     ]
    },
    {
     "name": "stderr",
     "output_type": "stream",
     "text": [
      "226382it [00:04, 48894.93it/s]\n"
     ]
    },
    {
     "name": "stdout",
     "output_type": "stream",
     "text": [
      "put_your_love--middle.wav\n"
     ]
    },
    {
     "name": "stderr",
     "output_type": "stream",
     "text": [
      "222498it [00:04, 49485.52it/s]\n"
     ]
    },
    {
     "name": "stdout",
     "output_type": "stream",
     "text": [
      "scorpio.wav\n"
     ]
    },
    {
     "name": "stderr",
     "output_type": "stream",
     "text": [
      "587924it [00:10, 56484.26it/s]\n"
     ]
    },
    {
     "name": "stdout",
     "output_type": "stream",
     "text": [
      "sesame_street.wav\n"
     ]
    },
    {
     "name": "stderr",
     "output_type": "stream",
     "text": [
      "173218it [00:03, 45360.66it/s]\n"
     ]
    },
    {
     "name": "stdout",
     "output_type": "stream",
     "text": [
      "shack_up.wav\n"
     ]
    },
    {
     "name": "stderr",
     "output_type": "stream",
     "text": [
      "372734it [00:06, 58410.61it/s]\n"
     ]
    },
    {
     "name": "stdout",
     "output_type": "stream",
     "text": [
      "sing_a_simple_song.wav\n"
     ]
    },
    {
     "name": "stderr",
     "output_type": "stream",
     "text": [
      "833366it [00:14, 58297.42it/s]\n"
     ]
    },
    {
     "name": "stdout",
     "output_type": "stream",
     "text": [
      "sneakin_in_the_back.wav\n"
     ]
    },
    {
     "name": "stderr",
     "output_type": "stream",
     "text": [
      "451628it [00:07, 58005.83it/s]\n"
     ]
    },
    {
     "name": "stdout",
     "output_type": "stream",
     "text": [
      "sniper.wav\n"
     ]
    },
    {
     "name": "stderr",
     "output_type": "stream",
     "text": [
      "120326it [00:02, 51861.81it/s]\n"
     ]
    },
    {
     "name": "stdout",
     "output_type": "stream",
     "text": [
      "soul_beat_runna.wav\n"
     ]
    },
    {
     "name": "stderr",
     "output_type": "stream",
     "text": [
      "126298it [00:02, 50977.14it/s]\n"
     ]
    },
    {
     "name": "stdout",
     "output_type": "stream",
     "text": [
      "soul_pride.wav\n"
     ]
    },
    {
     "name": "stderr",
     "output_type": "stream",
     "text": [
      "582800it [00:12, 47056.22it/s]\n"
     ]
    },
    {
     "name": "stdout",
     "output_type": "stream",
     "text": [
      "sport.wav\n"
     ]
    },
    {
     "name": "stderr",
     "output_type": "stream",
     "text": [
      "186668it [00:03, 53069.35it/s]\n"
     ]
    },
    {
     "name": "stdout",
     "output_type": "stream",
     "text": [
      "sweet_pea.wav\n"
     ]
    },
    {
     "name": "stderr",
     "output_type": "stream",
     "text": [
      "172628it [00:03, 51652.06it/s]\n"
     ]
    },
    {
     "name": "stdout",
     "output_type": "stream",
     "text": [
      "take_me_to_the_mardi_gras.wav\n"
     ]
    },
    {
     "name": "stderr",
     "output_type": "stream",
     "text": [
      "118880it [00:02, 50497.11it/s]\n"
     ]
    },
    {
     "name": "stdout",
     "output_type": "stream",
     "text": [
      "think--all5.wav\n"
     ]
    },
    {
     "name": "stderr",
     "output_type": "stream",
     "text": [
      "1145804it [00:22, 50781.72it/s]\n"
     ]
    },
    {
     "name": "stdout",
     "output_type": "stream",
     "text": [
      "tighten_up.wav\n"
     ]
    },
    {
     "name": "stderr",
     "output_type": "stream",
     "text": [
      "450730it [00:07, 61563.18it/s]\n"
     ]
    },
    {
     "name": "stdout",
     "output_type": "stream",
     "text": [
      "whole_thing.wav\n"
     ]
    },
    {
     "name": "stderr",
     "output_type": "stream",
     "text": [
      "591934it [00:10, 54006.64it/s]\n"
     ]
    },
    {
     "name": "stdout",
     "output_type": "stream",
     "text": [
      "willie_pass_the_water.wav\n"
     ]
    },
    {
     "name": "stderr",
     "output_type": "stream",
     "text": [
      "85088it [00:02, 40317.01it/s]\n"
     ]
    }
   ],
   "source": [
    "for i in range(len(links) - 1):\n",
    "    print(names[i])\n",
    "    grab_from_link(links[i], names[i], '/Users/ryanpierson/Desktop/Breaks')"
   ]
  },
  {
   "cell_type": "code",
   "execution_count": 25,
   "metadata": {},
   "outputs": [
    {
     "name": "stdout",
     "output_type": "stream",
     "text": [
      "['?C=N;O=D\">Name</a>                    <a href=\"?C=M;O=A\">Last modified</a>      <a href=\"?C=S;O=A\">Size</a>  <a href=\"?C=D;O=A\">Description</a><hr/>      <a href=\"/', 'action.wav', 'amen_brother.wav', 'apache.wav', 'assembly_line.wav', 'both_eyes_open.wav', 'cold_sweat.wav', 'do_the_do.wav', 'dont_change_your_love.wav', 'flow.wav', 'fools_gold.wav', 'funky_drummer.wav', 'funky_mule--intro.wav', 'funky_mule--rides.wav', 'give_it_up_or_turnit_a_loose.wav', 'god_made_me_funky.wav', 'hot_pants.wav', 'humpty_dump.wav', 'its_a_new_day.wav', 'kick_back.wav', 'kool_is_back.wav', 'let_a_woman_be_a_woman.wav', 'life_could.wav', 'new_orleans.wav', 'nt.wav', 'ode_to_billy_joe.wav', 'plastic_jam.wav', 'put_your_love--end.wav', 'put_your_love--middle.wav', 'scorpio.wav', 'sesame_street.wav', 'shack_up.wav', 'sing_a_simple_song.wav', 'sneakin_in_the_back.wav', 'sniper.wav', 'soul_beat_runna.wav', 'soul_pride.wav', 'sport.wav', 'sweet_pea.wav', 'take_me_to_the_mardi_gras.wav', 'think--all5.wav', 'tighten_up.wav', 'whole_thing.wav', 'willie_pass_the_water.wav', 'worm.wav']\n",
      "folder None\n",
      "\n",
      "The file being downloaded is http://www.junglebreaks.co.uk/breaks/action.wav\n",
      "\n",
      "name ://www.junglebreaks.co.uk/breaks/action.wav\n",
      "\n",
      "folder None\n",
      "\n",
      "The file being downloaded is http://www.junglebreaks.co.uk/breaks/amen_brother.wav\n",
      "\n",
      "name ://www.junglebreaks.co.uk/breaks/amen_brother.wav\n",
      "\n",
      "folder None\n",
      "\n",
      "The file being downloaded is http://www.junglebreaks.co.uk/breaks/apache.wav\n",
      "\n",
      "name ://www.junglebreaks.co.uk/breaks/apache.wav\n",
      "\n",
      "folder None\n",
      "\n",
      "The file being downloaded is http://www.junglebreaks.co.uk/breaks/assembly_line.wav\n",
      "\n",
      "name ://www.junglebreaks.co.uk/breaks/assembly_line.wav\n",
      "\n",
      "folder None\n",
      "\n",
      "The file being downloaded is http://www.junglebreaks.co.uk/breaks/both_eyes_open.wav\n",
      "\n",
      "name ://www.junglebreaks.co.uk/breaks/both_eyes_open.wav\n",
      "\n",
      "folder None\n",
      "\n",
      "The file being downloaded is http://www.junglebreaks.co.uk/breaks/cold_sweat.wav\n",
      "folder None\n",
      "\n",
      "The file being downloaded is http://www.junglebreaks.co.uk/breaks/do_the_do.wav\n",
      "\n",
      "name ://www.junglebreaks.co.uk/breaks/do_the_do.wav\n",
      "\n",
      "\n",
      "name ://www.junglebreaks.co.uk/breaks/cold_sweat.wav\n",
      "\n",
      "folder None\n",
      "\n",
      "The file being downloaded is http://www.junglebreaks.co.uk/breaks/dont_change_your_love.wav\n",
      "\n",
      "name ://www.junglebreaks.co.uk/breaks/dont_change_your_love.wav\n",
      "\n",
      "folder None\n",
      "\n",
      "folder None\n",
      "The file being downloaded is http://www.junglebreaks.co.uk/breaks/flow.wav\n",
      "\n",
      "name ://www.junglebreaks.co.uk/breaks/flow.wav\n",
      "\n",
      "\n",
      "The file being downloaded is http://www.junglebreaks.co.uk/breaks/fools_gold.wav\n",
      "\n",
      "name ://www.junglebreaks.co.uk/breaks/fools_gold.wav\n",
      "\n",
      "folder None\n",
      "\n",
      "The file being downloaded is http://www.junglebreaks.co.uk/breaks/funky_drummer.wav\n",
      "\n",
      "name ://www.junglebreaks.co.uk/breaks/funky_drummer.wav\n",
      "\n",
      "folder None\n",
      "\n",
      "The file being downloaded is http://www.junglebreaks.co.uk/breaks/funky_mule--intro.wav\n",
      "\n",
      "name ://www.junglebreaks.co.uk/breaks/funky_mule--intro.wav\n",
      "\n",
      "folder None\n",
      "\n",
      "The file being downloaded is http://www.junglebreaks.co.uk/breaks/funky_mule--rides.wav\n",
      "\n",
      "name ://www.junglebreaks.co.uk/breaks/funky_mule--rides.wav\n",
      "\n",
      "folder None\n",
      "\n",
      "The file being downloaded is http://www.junglebreaks.co.uk/breaks/give_it_up_or_turnit_a_loose.wav\n",
      "\n",
      "name ://www.junglebreaks.co.uk/breaks/give_it_up_or_turnit_a_loose.wav\n",
      "\n",
      "folder None\n",
      "\n",
      "folder None\n",
      "The file being downloaded is http://www.junglebreaks.co.uk/breaks/god_made_me_funky.wav\n",
      "\n",
      "The file being downloaded is http://www.junglebreaks.co.uk/breaks/hot_pants.wav\n",
      "\n",
      "name ://www.junglebreaks.co.uk/breaks/hot_pants.wav\n",
      "\n",
      "folder None\n",
      "\n",
      "name ://www.junglebreaks.co.uk/breaks/god_made_me_funky.wav\n",
      "\n",
      "\n",
      "The file being downloaded is http://www.junglebreaks.co.uk/breaks/humpty_dump.wav\n",
      "\n",
      "name ://www.junglebreaks.co.uk/breaks/humpty_dump.wav\n",
      "\n",
      "folder None\n",
      "\n",
      "folder None\n",
      "The file being downloaded is http://www.junglebreaks.co.uk/breaks/its_a_new_day.wav\n",
      "\n",
      "name ://www.junglebreaks.co.uk/breaks/its_a_new_day.wav\n",
      "\n",
      "\n",
      "The file being downloaded is http://www.junglebreaks.co.uk/breaks/kick_back.wav\n",
      "\n",
      "name ://www.junglebreaks.co.uk/breaks/kick_back.wav\n",
      "\n",
      "folder None\n",
      "\n",
      "The file being downloaded is http://www.junglebreaks.co.uk/breaks/kool_is_back.wav\n",
      "\n",
      "name ://www.junglebreaks.co.uk/breaks/kool_is_back.wav\n",
      "\n",
      "folder None\n",
      "\n",
      "The file being downloaded is http://www.junglebreaks.co.uk/breaks/let_a_woman_be_a_woman.wav\n",
      "folder None\n",
      "\n",
      "The file being downloaded is http://www.junglebreaks.co.uk/breaks/life_could.wav\n",
      "\n",
      "name ://www.junglebreaks.co.uk/breaks/life_could.wav\n",
      "\n",
      "folder None\n",
      "\n",
      "\n",
      "The file being downloaded is http://www.junglebreaks.co.uk/breaks/new_orleans.wav\n",
      "\n",
      "name ://www.junglebreaks.co.uk/breaks/new_orleans.wav\n",
      "\n",
      "folder None\n",
      "name ://www.junglebreaks.co.uk/breaks/let_a_woman_be_a_woman.wav\n",
      "\n",
      "\n",
      "folder None\n",
      "The file being downloaded is http://www.junglebreaks.co.uk/breaks/nt.wav\n",
      "\n",
      "name ://www.junglebreaks.co.uk/breaks/nt.wav\n",
      "\n",
      "\n",
      "folder None\n",
      "The file being downloaded is http://www.junglebreaks.co.uk/breaks/ode_to_billy_joe.wav\n",
      "\n",
      "\n",
      "folder None\n",
      "The file being downloaded is http://www.junglebreaks.co.uk/breaks/plastic_jam.wav\n",
      "\n",
      "name ://www.junglebreaks.co.uk/breaks/plastic_jam.wav\n",
      "\n",
      "\n",
      "The file being downloaded is http://www.junglebreaks.co.uk/breaks/put_your_love--end.wav\n",
      "\n",
      "name ://www.junglebreaks.co.uk/breaks/put_your_love--end.wav\n",
      "\n",
      "folder None\n",
      "name ://www.junglebreaks.co.uk/breaks/ode_to_billy_joe.wav\n",
      "\n",
      "\n",
      "The file being downloaded is http://www.junglebreaks.co.uk/breaks/put_your_love--middle.wav\n",
      "\n",
      "name ://www.junglebreaks.co.uk/breaks/put_your_love--middle.wav\n",
      "\n",
      "folder None\n",
      "\n",
      "The file being downloaded is http://www.junglebreaks.co.uk/breaks/scorpio.wav\n",
      "\n",
      "name ://www.junglebreaks.co.uk/breaks/scorpio.wav\n",
      "\n",
      "folder None\n",
      "\n",
      "The file being downloaded is http://www.junglebreaks.co.uk/breaks/sesame_street.wav\n",
      "\n",
      "name ://www.junglebreaks.co.uk/breaks/sesame_street.wav\n",
      "\n",
      "folder None\n",
      "\n",
      "The file being downloaded is http://www.junglebreaks.co.uk/breaks/shack_up.wav\n",
      "\n",
      "name ://www.junglebreaks.co.uk/breaks/shack_up.wav\n",
      "\n",
      "folder None\n",
      "\n",
      "The file being downloaded is http://www.junglebreaks.co.uk/breaks/sing_a_simple_song.wav\n",
      "\n",
      "name ://www.junglebreaks.co.uk/breaks/sing_a_simple_song.wav\n",
      "\n",
      "folder None\n",
      "\n",
      "The file being downloaded is http://www.junglebreaks.co.uk/breaks/sneakin_in_the_back.wav\n",
      "\n",
      "name ://www.junglebreaks.co.uk/breaks/sneakin_in_the_back.wav\n",
      "\n",
      "folder None\n",
      "\n",
      "The file being downloaded is http://www.junglebreaks.co.uk/breaks/sniper.wav\n",
      "\n",
      "name ://www.junglebreaks.co.uk/breaks/sniper.wav\n",
      "\n",
      "folder None\n",
      "\n",
      "folder None\n",
      "The file being downloaded is http://www.junglebreaks.co.uk/breaks/soul_beat_runna.wav\n",
      "\n",
      "The file being downloaded is http://www.junglebreaks.co.uk/breaks/soul_pride.wav\n",
      "\n",
      "name ://www.junglebreaks.co.uk/breaks/soul_pride.wav\n",
      "\n",
      "\n",
      "name ://www.junglebreaks.co.uk/breaks/soul_beat_runna.wav\n",
      "\n",
      "folder None\n",
      "\n",
      "folder None\n",
      "The file being downloaded is http://www.junglebreaks.co.uk/breaks/sport.wav\n",
      "\n",
      "The file being downloaded is http://www.junglebreaks.co.uk/breaks/sweet_pea.wav\n",
      "\n",
      "name ://www.junglebreaks.co.uk/breaks/sweet_pea.wav\n",
      "\n",
      "folder None\n",
      "\n",
      "The file being downloaded is http://www.junglebreaks.co.uk/breaks/take_me_to_the_mardi_gras.wav\n",
      "\n",
      "name ://www.junglebreaks.co.uk/breaks/take_me_to_the_mardi_gras.wav\n",
      "\n",
      "\n",
      "folder None\n",
      "name ://www.junglebreaks.co.uk/breaks/sport.wav\n",
      "\n",
      "\n",
      "folder None\n",
      "The file being downloaded is http://www.junglebreaks.co.uk/breaks/think--all5.wav\n",
      "\n",
      "name ://www.junglebreaks.co.uk/breaks/think--all5.wav\n",
      "\n",
      "\n",
      "The file being downloaded is http://www.junglebreaks.co.uk/breaks/tighten_up.wav\n",
      "\n",
      "name ://www.junglebreaks.co.uk/breaks/tighten_up.wav\n",
      "\n",
      "folder None\n",
      "\n",
      "folder None\n",
      "The file being downloaded is http://www.junglebreaks.co.uk/breaks/whole_thing.wav\n",
      "\n",
      "name ://www.junglebreaks.co.uk/breaks/whole_thing.wav\n",
      "\n",
      "\n",
      "The file being downloaded is http://www.junglebreaks.co.uk/breaks/willie_pass_the_water.wav\n",
      "\n",
      "name ://www.junglebreaks.co.uk/breaks/willie_pass_the_water.wav\n",
      "\n",
      "folder None\n"
     ]
    },
    {
     "name": "stderr",
     "output_type": "stream",
     "text": [
      "Exception in thread Thread-358:\n",
      "Traceback (most recent call last):\n",
      "  File \"/Users/ryanpierson/anaconda3/lib/python3.7/threading.py\", line 917, in _bootstrap_inner\n",
      "    self.run()\n",
      "  File \"/Users/ryanpierson/anaconda3/lib/python3.7/threading.py\", line 865, in run\n",
      "    self._target(*self._args, **self._kwargs)\n",
      "  File \"<ipython-input-21-932302479123>\", line 45, in download_files\n",
      "    r = requests.get(name, allow_redirects=True)\n",
      "  File \"/Users/ryanpierson/anaconda3/lib/python3.7/site-packages/requests/api.py\", line 72, in get\n",
      "    return request('get', url, params=params, **kwargs)\n",
      "  File \"/Users/ryanpierson/anaconda3/lib/python3.7/site-packages/requests/api.py\", line 58, in request\n",
      "    return session.request(method=method, url=url, **kwargs)\n",
      "  File \"/Users/ryanpierson/anaconda3/lib/python3.7/site-packages/requests/sessions.py\", line 512, in request\n",
      "    resp = self.send(prep, **send_kwargs)\n",
      "  File \"/Users/ryanpierson/anaconda3/lib/python3.7/site-packages/requests/sessions.py\", line 616, in send\n",
      "    adapter = self.get_adapter(url=request.url)\n",
      "  File \"/Users/ryanpierson/anaconda3/lib/python3.7/site-packages/requests/sessions.py\", line 707, in get_adapter\n",
      "    raise InvalidSchema(\"No connection adapters were found for '%s'\" % url)\n",
      "requests.exceptions.InvalidSchema: No connection adapters were found for '://www.junglebreaks.co.uk/breaks/amen_brother.wav'\n",
      "Exception in thread Thread-357:\n",
      "Traceback (most recent call last):\n",
      "  File \"/Users/ryanpierson/anaconda3/lib/python3.7/threading.py\", line 917, in _bootstrap_inner\n",
      "    self.run()\n",
      "  File \"/Users/ryanpierson/anaconda3/lib/python3.7/threading.py\", line 865, in run\n",
      "    self._target(*self._args, **self._kwargs)\n",
      "  File \"<ipython-input-21-932302479123>\", line 45, in download_files\n",
      "    r = requests.get(name, allow_redirects=True)\n",
      "  File \"/Users/ryanpierson/anaconda3/lib/python3.7/site-packages/requests/api.py\", line 72, in get\n",
      "    return request('get', url, params=params, **kwargs)\n",
      "  File \"/Users/ryanpierson/anaconda3/lib/python3.7/site-packages/requests/api.py\", line 58, in request\n",
      "    return session.request(method=method, url=url, **kwargs)\n",
      "  File \"/Users/ryanpierson/anaconda3/lib/python3.7/site-packages/requests/sessions.py\", line 512, in request\n",
      "    resp = self.send(prep, **send_kwargs)\n",
      "  File \"/Users/ryanpierson/anaconda3/lib/python3.7/site-packages/requests/sessions.py\", line 616, in send\n",
      "    adapter = self.get_adapter(url=request.url)\n",
      "  File \"/Users/ryanpierson/anaconda3/lib/python3.7/site-packages/requests/sessions.py\", line 707, in get_adapter\n",
      "    raise InvalidSchema(\"No connection adapters were found for '%s'\" % url)\n",
      "requests.exceptions.InvalidSchema: No connection adapters were found for '://www.junglebreaks.co.uk/breaks/action.wav'\n",
      "\n",
      "\n",
      "Exception in thread Thread-359:\n",
      "Traceback (most recent call last):\n",
      "  File \"/Users/ryanpierson/anaconda3/lib/python3.7/threading.py\", line 917, in _bootstrap_inner\n",
      "    self.run()\n",
      "  File \"/Users/ryanpierson/anaconda3/lib/python3.7/threading.py\", line 865, in run\n",
      "    self._target(*self._args, **self._kwargs)\n",
      "  File \"<ipython-input-21-932302479123>\", line 45, in download_files\n",
      "    r = requests.get(name, allow_redirects=True)\n",
      "  File \"/Users/ryanpierson/anaconda3/lib/python3.7/site-packages/requests/api.py\", line 72, in get\n",
      "    return request('get', url, params=params, **kwargs)\n",
      "  File \"/Users/ryanpierson/anaconda3/lib/python3.7/site-packages/requests/api.py\", line 58, in request\n",
      "    return session.request(method=method, url=url, **kwargs)\n",
      "  File \"/Users/ryanpierson/anaconda3/lib/python3.7/site-packages/requests/sessions.py\", line 512, in request\n",
      "    resp = self.send(prep, **send_kwargs)\n",
      "  File \"/Users/ryanpierson/anaconda3/lib/python3.7/site-packages/requests/sessions.py\", line 616, in send\n",
      "    adapter = self.get_adapter(url=request.url)\n",
      "  File \"/Users/ryanpierson/anaconda3/lib/python3.7/site-packages/requests/sessions.py\", line 707, in get_adapter\n",
      "    raise InvalidSchema(\"No connection adapters were found for '%s'\" % url)\n",
      "requests.exceptions.InvalidSchema: No connection adapters were found for '://www.junglebreaks.co.uk/breaks/apache.wav'\n",
      "\n",
      "Exception in thread Thread-360:\n",
      "Traceback (most recent call last):\n",
      "  File \"/Users/ryanpierson/anaconda3/lib/python3.7/threading.py\", line 917, in _bootstrap_inner\n",
      "    self.run()\n",
      "  File \"/Users/ryanpierson/anaconda3/lib/python3.7/threading.py\", line 865, in run\n",
      "    self._target(*self._args, **self._kwargs)\n",
      "  File \"<ipython-input-21-932302479123>\", line 45, in download_files\n",
      "    r = requests.get(name, allow_redirects=True)\n",
      "  File \"/Users/ryanpierson/anaconda3/lib/python3.7/site-packages/requests/api.py\", line 72, in get\n",
      "    return request('get', url, params=params, **kwargs)\n",
      "  File \"/Users/ryanpierson/anaconda3/lib/python3.7/site-packages/requests/api.py\", line 58, in request\n",
      "    return session.request(method=method, url=url, **kwargs)\n",
      "  File \"/Users/ryanpierson/anaconda3/lib/python3.7/site-packages/requests/sessions.py\", line 512, in request\n",
      "    resp = self.send(prep, **send_kwargs)\n",
      "  File \"/Users/ryanpierson/anaconda3/lib/python3.7/site-packages/requests/sessions.py\", line 616, in send\n",
      "    adapter = self.get_adapter(url=request.url)\n",
      "  File \"/Users/ryanpierson/anaconda3/lib/python3.7/site-packages/requests/sessions.py\", line 707, in get_adapter\n",
      "    raise InvalidSchema(\"No connection adapters were found for '%s'\" % url)\n",
      "requests.exceptions.InvalidSchema: No connection adapters were found for '://www.junglebreaks.co.uk/breaks/assembly_line.wav'\n",
      "\n",
      "Exception in thread Thread-361:\n",
      "Traceback (most recent call last):\n",
      "  File \"/Users/ryanpierson/anaconda3/lib/python3.7/threading.py\", line 917, in _bootstrap_inner\n",
      "    self.run()\n",
      "  File \"/Users/ryanpierson/anaconda3/lib/python3.7/threading.py\", line 865, in run\n",
      "    self._target(*self._args, **self._kwargs)\n",
      "  File \"<ipython-input-21-932302479123>\", line 45, in download_files\n",
      "    r = requests.get(name, allow_redirects=True)\n",
      "  File \"/Users/ryanpierson/anaconda3/lib/python3.7/site-packages/requests/api.py\", line 72, in get\n",
      "    return request('get', url, params=params, **kwargs)\n",
      "  File \"/Users/ryanpierson/anaconda3/lib/python3.7/site-packages/requests/api.py\", line 58, in request\n",
      "    return session.request(method=method, url=url, **kwargs)\n",
      "  File \"/Users/ryanpierson/anaconda3/lib/python3.7/site-packages/requests/sessions.py\", line 512, in request\n",
      "    resp = self.send(prep, **send_kwargs)\n",
      "  File \"/Users/ryanpierson/anaconda3/lib/python3.7/site-packages/requests/sessions.py\", line 616, in send\n",
      "    adapter = self.get_adapter(url=request.url)\n",
      "  File \"/Users/ryanpierson/anaconda3/lib/python3.7/site-packages/requests/sessions.py\", line 707, in get_adapter\n",
      "    raise InvalidSchema(\"No connection adapters were found for '%s'\" % url)\n",
      "requests.exceptions.InvalidSchema: No connection adapters were found for '://www.junglebreaks.co.uk/breaks/both_eyes_open.wav'\n",
      "\n",
      "Exception in thread Thread-364:\n",
      "Traceback (most recent call last):\n",
      "  File \"/Users/ryanpierson/anaconda3/lib/python3.7/threading.py\", line 917, in _bootstrap_inner\n",
      "    self.run()\n",
      "  File \"/Users/ryanpierson/anaconda3/lib/python3.7/threading.py\", line 865, in run\n",
      "    self._target(*self._args, **self._kwargs)\n",
      "  File \"<ipython-input-21-932302479123>\", line 45, in download_files\n",
      "    r = requests.get(name, allow_redirects=True)\n",
      "  File \"/Users/ryanpierson/anaconda3/lib/python3.7/site-packages/requests/api.py\", line 72, in get\n",
      "    return request('get', url, params=params, **kwargs)\n",
      "  File \"/Users/ryanpierson/anaconda3/lib/python3.7/site-packages/requests/api.py\", line 58, in request\n",
      "    return session.request(method=method, url=url, **kwargs)\n",
      "  File \"/Users/ryanpierson/anaconda3/lib/python3.7/site-packages/requests/sessions.py\", line 512, in request\n",
      "    resp = self.send(prep, **send_kwargs)\n",
      "  File \"/Users/ryanpierson/anaconda3/lib/python3.7/site-packages/requests/sessions.py\", line 616, in send\n",
      "    adapter = self.get_adapter(url=request.url)\n",
      "  File \"/Users/ryanpierson/anaconda3/lib/python3.7/site-packages/requests/sessions.py\", line 707, in get_adapter\n",
      "    raise InvalidSchema(\"No connection adapters were found for '%s'\" % url)\n",
      "requests.exceptions.InvalidSchema: No connection adapters were found for '://www.junglebreaks.co.uk/breaks/dont_change_your_love.wav'\n",
      "Exception in thread Thread-363:\n",
      "Traceback (most recent call last):\n",
      "  File \"/Users/ryanpierson/anaconda3/lib/python3.7/threading.py\", line 917, in _bootstrap_inner\n",
      "    self.run()\n",
      "  File \"/Users/ryanpierson/anaconda3/lib/python3.7/threading.py\", line 865, in run\n",
      "    self._target(*self._args, **self._kwargs)\n",
      "  File \"<ipython-input-21-932302479123>\", line 45, in download_files\n",
      "    r = requests.get(name, allow_redirects=True)\n",
      "  File \"/Users/ryanpierson/anaconda3/lib/python3.7/site-packages/requests/api.py\", line 72, in get\n",
      "    return request('get', url, params=params, **kwargs)\n",
      "  File \"/Users/ryanpierson/anaconda3/lib/python3.7/site-packages/requests/api.py\", line 58, in request\n",
      "    return session.request(method=method, url=url, **kwargs)\n",
      "  File \"/Users/ryanpierson/anaconda3/lib/python3.7/site-packages/requests/sessions.py\", line 512, in request\n",
      "    resp = self.send(prep, **send_kwargs)\n",
      "  File \"/Users/ryanpierson/anaconda3/lib/python3.7/site-packages/requests/sessions.py\", line 616, in send\n",
      "    adapter = self.get_adapter(url=request.url)\n",
      "  File \"/Users/ryanpierson/anaconda3/lib/python3.7/site-packages/requests/sessions.py\", line 707, in get_adapter\n",
      "    raise InvalidSchema(\"No connection adapters were found for '%s'\" % url)\n",
      "requests.exceptions.InvalidSchema: No connection adapters were found for '://www.junglebreaks.co.uk/breaks/do_the_do.wav'\n",
      "\n",
      "\n",
      "Exception in thread Thread-362:\n",
      "Traceback (most recent call last):\n",
      "  File \"/Users/ryanpierson/anaconda3/lib/python3.7/threading.py\", line 917, in _bootstrap_inner\n",
      "    self.run()\n",
      "  File \"/Users/ryanpierson/anaconda3/lib/python3.7/threading.py\", line 865, in run\n",
      "    self._target(*self._args, **self._kwargs)\n",
      "  File \"<ipython-input-21-932302479123>\", line 45, in download_files\n",
      "    r = requests.get(name, allow_redirects=True)\n",
      "  File \"/Users/ryanpierson/anaconda3/lib/python3.7/site-packages/requests/api.py\", line 72, in get\n",
      "    return request('get', url, params=params, **kwargs)\n",
      "  File \"/Users/ryanpierson/anaconda3/lib/python3.7/site-packages/requests/api.py\", line 58, in request\n",
      "    return session.request(method=method, url=url, **kwargs)\n",
      "  File \"/Users/ryanpierson/anaconda3/lib/python3.7/site-packages/requests/sessions.py\", line 512, in request\n",
      "    resp = self.send(prep, **send_kwargs)\n",
      "  File \"/Users/ryanpierson/anaconda3/lib/python3.7/site-packages/requests/sessions.py\", line 616, in send\n",
      "    adapter = self.get_adapter(url=request.url)\n",
      "  File \"/Users/ryanpierson/anaconda3/lib/python3.7/site-packages/requests/sessions.py\", line 707, in get_adapter\n",
      "    raise InvalidSchema(\"No connection adapters were found for '%s'\" % url)\n",
      "requests.exceptions.InvalidSchema: No connection adapters were found for '://www.junglebreaks.co.uk/breaks/cold_sweat.wav'\n",
      "\n",
      "Exception in thread Thread-365:\n",
      "Traceback (most recent call last):\n",
      "  File \"/Users/ryanpierson/anaconda3/lib/python3.7/threading.py\", line 917, in _bootstrap_inner\n",
      "    self.run()\n",
      "  File \"/Users/ryanpierson/anaconda3/lib/python3.7/threading.py\", line 865, in run\n",
      "    self._target(*self._args, **self._kwargs)\n",
      "  File \"<ipython-input-21-932302479123>\", line 45, in download_files\n",
      "    r = requests.get(name, allow_redirects=True)\n",
      "  File \"/Users/ryanpierson/anaconda3/lib/python3.7/site-packages/requests/api.py\", line 72, in get\n",
      "    return request('get', url, params=params, **kwargs)\n",
      "  File \"/Users/ryanpierson/anaconda3/lib/python3.7/site-packages/requests/api.py\", line 58, in request\n",
      "    return session.request(method=method, url=url, **kwargs)\n",
      "  File \"/Users/ryanpierson/anaconda3/lib/python3.7/site-packages/requests/sessions.py\", line 512, in request\n",
      "    resp = self.send(prep, **send_kwargs)\n",
      "  File \"/Users/ryanpierson/anaconda3/lib/python3.7/site-packages/requests/sessions.py\", line 616, in send\n",
      "    adapter = self.get_adapter(url=request.url)\n",
      "  File \"/Users/ryanpierson/anaconda3/lib/python3.7/site-packages/requests/sessions.py\", line 707, in get_adapter\n",
      "    raise InvalidSchema(\"No connection adapters were found for '%s'\" % url)\n",
      "requests.exceptions.InvalidSchema: No connection adapters were found for '://www.junglebreaks.co.uk/breaks/flow.wav'\n",
      "\n",
      "Exception in thread Thread-366:\n",
      "Traceback (most recent call last):\n",
      "  File \"/Users/ryanpierson/anaconda3/lib/python3.7/threading.py\", line 917, in _bootstrap_inner\n",
      "    self.run()\n",
      "  File \"/Users/ryanpierson/anaconda3/lib/python3.7/threading.py\", line 865, in run\n",
      "    self._target(*self._args, **self._kwargs)\n",
      "  File \"<ipython-input-21-932302479123>\", line 45, in download_files\n",
      "    r = requests.get(name, allow_redirects=True)\n",
      "  File \"/Users/ryanpierson/anaconda3/lib/python3.7/site-packages/requests/api.py\", line 72, in get\n",
      "    return request('get', url, params=params, **kwargs)\n",
      "  File \"/Users/ryanpierson/anaconda3/lib/python3.7/site-packages/requests/api.py\", line 58, in request\n",
      "    return session.request(method=method, url=url, **kwargs)\n",
      "  File \"/Users/ryanpierson/anaconda3/lib/python3.7/site-packages/requests/sessions.py\", line 512, in request\n",
      "    resp = self.send(prep, **send_kwargs)\n",
      "  File \"/Users/ryanpierson/anaconda3/lib/python3.7/site-packages/requests/sessions.py\", line 616, in send\n",
      "    adapter = self.get_adapter(url=request.url)\n",
      "  File \"/Users/ryanpierson/anaconda3/lib/python3.7/site-packages/requests/sessions.py\", line 707, in get_adapter\n",
      "    raise InvalidSchema(\"No connection adapters were found for '%s'\" % url)\n",
      "requests.exceptions.InvalidSchema: No connection adapters were found for '://www.junglebreaks.co.uk/breaks/fools_gold.wav'\n",
      "\n",
      "Exception in thread Thread-368:\n",
      "Traceback (most recent call last):\n",
      "  File \"/Users/ryanpierson/anaconda3/lib/python3.7/threading.py\", line 917, in _bootstrap_inner\n",
      "    self.run()\n",
      "  File \"/Users/ryanpierson/anaconda3/lib/python3.7/threading.py\", line 865, in run\n",
      "    self._target(*self._args, **self._kwargs)\n",
      "  File \"<ipython-input-21-932302479123>\", line 45, in download_files\n",
      "    r = requests.get(name, allow_redirects=True)\n",
      "  File \"/Users/ryanpierson/anaconda3/lib/python3.7/site-packages/requests/api.py\", line 72, in get\n",
      "    return request('get', url, params=params, **kwargs)\n",
      "  File \"/Users/ryanpierson/anaconda3/lib/python3.7/site-packages/requests/api.py\", line 58, in request\n",
      "    return session.request(method=method, url=url, **kwargs)\n",
      "  File \"/Users/ryanpierson/anaconda3/lib/python3.7/site-packages/requests/sessions.py\", line 512, in request\n",
      "    resp = self.send(prep, **send_kwargs)\n",
      "  File \"/Users/ryanpierson/anaconda3/lib/python3.7/site-packages/requests/sessions.py\", line 616, in send\n",
      "    adapter = self.get_adapter(url=request.url)\n",
      "  File \"/Users/ryanpierson/anaconda3/lib/python3.7/site-packages/requests/sessions.py\", line 707, in get_adapter\n",
      "    raise InvalidSchema(\"No connection adapters were found for '%s'\" % url)\n",
      "requests.exceptions.InvalidSchema: No connection adapters were found for '://www.junglebreaks.co.uk/breaks/funky_mule--intro.wav'\n",
      "\n",
      "Exception in thread Thread-367:\n",
      "Traceback (most recent call last):\n",
      "  File \"/Users/ryanpierson/anaconda3/lib/python3.7/threading.py\", line 917, in _bootstrap_inner\n",
      "    self.run()\n",
      "  File \"/Users/ryanpierson/anaconda3/lib/python3.7/threading.py\", line 865, in run\n",
      "    self._target(*self._args, **self._kwargs)\n",
      "  File \"<ipython-input-21-932302479123>\", line 45, in download_files\n",
      "    r = requests.get(name, allow_redirects=True)\n",
      "  File \"/Users/ryanpierson/anaconda3/lib/python3.7/site-packages/requests/api.py\", line 72, in get\n",
      "    return request('get', url, params=params, **kwargs)\n",
      "  File \"/Users/ryanpierson/anaconda3/lib/python3.7/site-packages/requests/api.py\", line 58, in request\n",
      "    return session.request(method=method, url=url, **kwargs)\n",
      "  File \"/Users/ryanpierson/anaconda3/lib/python3.7/site-packages/requests/sessions.py\", line 512, in request\n",
      "    resp = self.send(prep, **send_kwargs)\n",
      "  File \"/Users/ryanpierson/anaconda3/lib/python3.7/site-packages/requests/sessions.py\", line 616, in send\n",
      "    adapter = self.get_adapter(url=request.url)\n",
      "  File \"/Users/ryanpierson/anaconda3/lib/python3.7/site-packages/requests/sessions.py\", line 707, in get_adapter\n",
      "    raise InvalidSchema(\"No connection adapters were found for '%s'\" % url)\n",
      "requests.exceptions.InvalidSchema: No connection adapters were found for '://www.junglebreaks.co.uk/breaks/funky_drummer.wav'\n",
      "\n",
      "Exception in thread Thread-369:\n",
      "Traceback (most recent call last):\n",
      "  File \"/Users/ryanpierson/anaconda3/lib/python3.7/threading.py\", line 917, in _bootstrap_inner\n",
      "    self.run()\n",
      "  File \"/Users/ryanpierson/anaconda3/lib/python3.7/threading.py\", line 865, in run\n",
      "    self._target(*self._args, **self._kwargs)\n",
      "  File \"<ipython-input-21-932302479123>\", line 45, in download_files\n",
      "    r = requests.get(name, allow_redirects=True)\n",
      "  File \"/Users/ryanpierson/anaconda3/lib/python3.7/site-packages/requests/api.py\", line 72, in get\n",
      "    return request('get', url, params=params, **kwargs)\n",
      "  File \"/Users/ryanpierson/anaconda3/lib/python3.7/site-packages/requests/api.py\", line 58, in request\n",
      "    return session.request(method=method, url=url, **kwargs)\n",
      "  File \"/Users/ryanpierson/anaconda3/lib/python3.7/site-packages/requests/sessions.py\", line 512, in request\n",
      "    resp = self.send(prep, **send_kwargs)\n",
      "  File \"/Users/ryanpierson/anaconda3/lib/python3.7/site-packages/requests/sessions.py\", line 616, in send\n",
      "    adapter = self.get_adapter(url=request.url)\n",
      "  File \"/Users/ryanpierson/anaconda3/lib/python3.7/site-packages/requests/sessions.py\", line 707, in get_adapter\n",
      "    raise InvalidSchema(\"No connection adapters were found for '%s'\" % url)\n",
      "requests.exceptions.InvalidSchema: No connection adapters were found for '://www.junglebreaks.co.uk/breaks/funky_mule--rides.wav'\n",
      "\n",
      "Exception in thread Thread-371:\n",
      "Traceback (most recent call last):\n",
      "  File \"/Users/ryanpierson/anaconda3/lib/python3.7/threading.py\", line 917, in _bootstrap_inner\n",
      "    self.run()\n",
      "  File \"/Users/ryanpierson/anaconda3/lib/python3.7/threading.py\", line 865, in run\n",
      "    self._target(*self._args, **self._kwargs)\n",
      "  File \"<ipython-input-21-932302479123>\", line 45, in download_files\n",
      "    r = requests.get(name, allow_redirects=True)\n",
      "  File \"/Users/ryanpierson/anaconda3/lib/python3.7/site-packages/requests/api.py\", line 72, in get\n",
      "    return request('get', url, params=params, **kwargs)\n",
      "  File \"/Users/ryanpierson/anaconda3/lib/python3.7/site-packages/requests/api.py\", line 58, in request\n",
      "    return session.request(method=method, url=url, **kwargs)\n",
      "  File \"/Users/ryanpierson/anaconda3/lib/python3.7/site-packages/requests/sessions.py\", line 512, in request\n",
      "    resp = self.send(prep, **send_kwargs)\n",
      "  File \"/Users/ryanpierson/anaconda3/lib/python3.7/site-packages/requests/sessions.py\", line 616, in send\n",
      "    adapter = self.get_adapter(url=request.url)\n",
      "  File \"/Users/ryanpierson/anaconda3/lib/python3.7/site-packages/requests/sessions.py\", line 707, in get_adapter\n",
      "    raise InvalidSchema(\"No connection adapters were found for '%s'\" % url)\n",
      "requests.exceptions.InvalidSchema: No connection adapters were found for '://www.junglebreaks.co.uk/breaks/god_made_me_funky.wav'\n",
      "\n",
      "Exception in thread Thread-372:\n",
      "Traceback (most recent call last):\n",
      "  File \"/Users/ryanpierson/anaconda3/lib/python3.7/threading.py\", line 917, in _bootstrap_inner\n",
      "    self.run()\n",
      "  File \"/Users/ryanpierson/anaconda3/lib/python3.7/threading.py\", line 865, in run\n",
      "    self._target(*self._args, **self._kwargs)\n",
      "  File \"<ipython-input-21-932302479123>\", line 45, in download_files\n",
      "    r = requests.get(name, allow_redirects=True)\n",
      "  File \"/Users/ryanpierson/anaconda3/lib/python3.7/site-packages/requests/api.py\", line 72, in get\n",
      "    return request('get', url, params=params, **kwargs)\n",
      "  File \"/Users/ryanpierson/anaconda3/lib/python3.7/site-packages/requests/api.py\", line 58, in request\n",
      "    return session.request(method=method, url=url, **kwargs)\n",
      "  File \"/Users/ryanpierson/anaconda3/lib/python3.7/site-packages/requests/sessions.py\", line 512, in request\n",
      "    resp = self.send(prep, **send_kwargs)\n",
      "  File \"/Users/ryanpierson/anaconda3/lib/python3.7/site-packages/requests/sessions.py\", line 616, in send\n",
      "    adapter = self.get_adapter(url=request.url)\n",
      "  File \"/Users/ryanpierson/anaconda3/lib/python3.7/site-packages/requests/sessions.py\", line 707, in get_adapter\n",
      "    raise InvalidSchema(\"No connection adapters were found for '%s'\" % url)\n",
      "requests.exceptions.InvalidSchema: No connection adapters were found for '://www.junglebreaks.co.uk/breaks/hot_pants.wav'\n",
      "Exception in thread Thread-373:\n",
      "Traceback (most recent call last):\n",
      "  File \"/Users/ryanpierson/anaconda3/lib/python3.7/threading.py\", line 917, in _bootstrap_inner\n",
      "    self.run()\n",
      "  File \"/Users/ryanpierson/anaconda3/lib/python3.7/threading.py\", line 865, in run\n",
      "    self._target(*self._args, **self._kwargs)\n",
      "  File \"<ipython-input-21-932302479123>\", line 45, in download_files\n",
      "    r = requests.get(name, allow_redirects=True)\n",
      "  File \"/Users/ryanpierson/anaconda3/lib/python3.7/site-packages/requests/api.py\", line 72, in get\n",
      "    return request('get', url, params=params, **kwargs)\n",
      "  File \"/Users/ryanpierson/anaconda3/lib/python3.7/site-packages/requests/api.py\", line 58, in request\n",
      "    return session.request(method=method, url=url, **kwargs)\n",
      "  File \"/Users/ryanpierson/anaconda3/lib/python3.7/site-packages/requests/sessions.py\", line 512, in request\n",
      "    resp = self.send(prep, **send_kwargs)\n",
      "  File \"/Users/ryanpierson/anaconda3/lib/python3.7/site-packages/requests/sessions.py\", line 616, in send\n",
      "    adapter = self.get_adapter(url=request.url)\n",
      "  File \"/Users/ryanpierson/anaconda3/lib/python3.7/site-packages/requests/sessions.py\", line 707, in get_adapter\n",
      "    raise InvalidSchema(\"No connection adapters were found for '%s'\" % url)\n",
      "requests.exceptions.InvalidSchema: No connection adapters were found for '://www.junglebreaks.co.uk/breaks/humpty_dump.wav'\n",
      "\n",
      "Exception in thread Thread-370:\n",
      "Traceback (most recent call last):\n",
      "  File \"/Users/ryanpierson/anaconda3/lib/python3.7/threading.py\", line 917, in _bootstrap_inner\n",
      "    self.run()\n",
      "  File \"/Users/ryanpierson/anaconda3/lib/python3.7/threading.py\", line 865, in run\n",
      "    self._target(*self._args, **self._kwargs)\n",
      "  File \"<ipython-input-21-932302479123>\", line 45, in download_files\n",
      "    r = requests.get(name, allow_redirects=True)\n",
      "  File \"/Users/ryanpierson/anaconda3/lib/python3.7/site-packages/requests/api.py\", line 72, in get\n",
      "    return request('get', url, params=params, **kwargs)\n",
      "  File \"/Users/ryanpierson/anaconda3/lib/python3.7/site-packages/requests/api.py\", line 58, in request\n",
      "    return session.request(method=method, url=url, **kwargs)\n",
      "  File \"/Users/ryanpierson/anaconda3/lib/python3.7/site-packages/requests/sessions.py\", line 512, in request\n",
      "    resp = self.send(prep, **send_kwargs)\n",
      "  File \"/Users/ryanpierson/anaconda3/lib/python3.7/site-packages/requests/sessions.py\", line 616, in send\n",
      "    adapter = self.get_adapter(url=request.url)\n",
      "  File \"/Users/ryanpierson/anaconda3/lib/python3.7/site-packages/requests/sessions.py\", line 707, in get_adapter\n",
      "    raise InvalidSchema(\"No connection adapters were found for '%s'\" % url)\n",
      "requests.exceptions.InvalidSchema: No connection adapters were found for '://www.junglebreaks.co.uk/breaks/give_it_up_or_turnit_a_loose.wav'\n",
      "\n",
      "\n",
      "Exception in thread Thread-374:\n",
      "Traceback (most recent call last):\n",
      "  File \"/Users/ryanpierson/anaconda3/lib/python3.7/threading.py\", line 917, in _bootstrap_inner\n",
      "    self.run()\n",
      "  File \"/Users/ryanpierson/anaconda3/lib/python3.7/threading.py\", line 865, in run\n",
      "    self._target(*self._args, **self._kwargs)\n",
      "  File \"<ipython-input-21-932302479123>\", line 45, in download_files\n",
      "    r = requests.get(name, allow_redirects=True)\n",
      "  File \"/Users/ryanpierson/anaconda3/lib/python3.7/site-packages/requests/api.py\", line 72, in get\n",
      "    return request('get', url, params=params, **kwargs)\n",
      "  File \"/Users/ryanpierson/anaconda3/lib/python3.7/site-packages/requests/api.py\", line 58, in request\n",
      "    return session.request(method=method, url=url, **kwargs)\n",
      "  File \"/Users/ryanpierson/anaconda3/lib/python3.7/site-packages/requests/sessions.py\", line 512, in request\n",
      "    resp = self.send(prep, **send_kwargs)\n",
      "  File \"/Users/ryanpierson/anaconda3/lib/python3.7/site-packages/requests/sessions.py\", line 616, in send\n",
      "    adapter = self.get_adapter(url=request.url)\n",
      "  File \"/Users/ryanpierson/anaconda3/lib/python3.7/site-packages/requests/sessions.py\", line 707, in get_adapter\n",
      "    raise InvalidSchema(\"No connection adapters were found for '%s'\" % url)\n",
      "requests.exceptions.InvalidSchema: No connection adapters were found for '://www.junglebreaks.co.uk/breaks/its_a_new_day.wav'\n",
      "\n",
      "Exception in thread Thread-376:\n",
      "Traceback (most recent call last):\n",
      "  File \"/Users/ryanpierson/anaconda3/lib/python3.7/threading.py\", line 917, in _bootstrap_inner\n",
      "    self.run()\n",
      "  File \"/Users/ryanpierson/anaconda3/lib/python3.7/threading.py\", line 865, in run\n",
      "    self._target(*self._args, **self._kwargs)\n",
      "  File \"<ipython-input-21-932302479123>\", line 45, in download_files\n",
      "    r = requests.get(name, allow_redirects=True)\n",
      "  File \"/Users/ryanpierson/anaconda3/lib/python3.7/site-packages/requests/api.py\", line 72, in get\n",
      "    return request('get', url, params=params, **kwargs)\n",
      "  File \"/Users/ryanpierson/anaconda3/lib/python3.7/site-packages/requests/api.py\", line 58, in request\n",
      "    return session.request(method=method, url=url, **kwargs)\n",
      "  File \"/Users/ryanpierson/anaconda3/lib/python3.7/site-packages/requests/sessions.py\", line 512, in request\n",
      "    resp = self.send(prep, **send_kwargs)\n",
      "  File \"/Users/ryanpierson/anaconda3/lib/python3.7/site-packages/requests/sessions.py\", line 616, in send\n",
      "    adapter = self.get_adapter(url=request.url)\n",
      "  File \"/Users/ryanpierson/anaconda3/lib/python3.7/site-packages/requests/sessions.py\", line 707, in get_adapter\n",
      "    raise InvalidSchema(\"No connection adapters were found for '%s'\" % url)\n",
      "requests.exceptions.InvalidSchema: No connection adapters were found for '://www.junglebreaks.co.uk/breaks/kool_is_back.wav'\n",
      "\n",
      "Exception in thread Thread-375:\n",
      "Traceback (most recent call last):\n",
      "  File \"/Users/ryanpierson/anaconda3/lib/python3.7/threading.py\", line 917, in _bootstrap_inner\n",
      "    self.run()\n",
      "  File \"/Users/ryanpierson/anaconda3/lib/python3.7/threading.py\", line 865, in run\n",
      "    self._target(*self._args, **self._kwargs)\n",
      "  File \"<ipython-input-21-932302479123>\", line 45, in download_files\n",
      "    r = requests.get(name, allow_redirects=True)\n",
      "  File \"/Users/ryanpierson/anaconda3/lib/python3.7/site-packages/requests/api.py\", line 72, in get\n",
      "    return request('get', url, params=params, **kwargs)\n",
      "  File \"/Users/ryanpierson/anaconda3/lib/python3.7/site-packages/requests/api.py\", line 58, in request\n",
      "    return session.request(method=method, url=url, **kwargs)\n",
      "  File \"/Users/ryanpierson/anaconda3/lib/python3.7/site-packages/requests/sessions.py\", line 512, in request\n",
      "    resp = self.send(prep, **send_kwargs)\n",
      "  File \"/Users/ryanpierson/anaconda3/lib/python3.7/site-packages/requests/sessions.py\", line 616, in send\n",
      "    adapter = self.get_adapter(url=request.url)\n",
      "  File \"/Users/ryanpierson/anaconda3/lib/python3.7/site-packages/requests/sessions.py\", line 707, in get_adapter\n",
      "    raise InvalidSchema(\"No connection adapters were found for '%s'\" % url)\n",
      "requests.exceptions.InvalidSchema: No connection adapters were found for '://www.junglebreaks.co.uk/breaks/kick_back.wav'\n",
      "\n",
      "Exception in thread Thread-379:\n",
      "Traceback (most recent call last):\n",
      "  File \"/Users/ryanpierson/anaconda3/lib/python3.7/threading.py\", line 917, in _bootstrap_inner\n",
      "    self.run()\n",
      "  File \"/Users/ryanpierson/anaconda3/lib/python3.7/threading.py\", line 865, in run\n",
      "    self._target(*self._args, **self._kwargs)\n",
      "  File \"<ipython-input-21-932302479123>\", line 45, in download_files\n",
      "    r = requests.get(name, allow_redirects=True)\n",
      "  File \"/Users/ryanpierson/anaconda3/lib/python3.7/site-packages/requests/api.py\", line 72, in get\n",
      "    return request('get', url, params=params, **kwargs)\n",
      "  File \"/Users/ryanpierson/anaconda3/lib/python3.7/site-packages/requests/api.py\", line 58, in request\n",
      "    return session.request(method=method, url=url, **kwargs)\n",
      "  File \"/Users/ryanpierson/anaconda3/lib/python3.7/site-packages/requests/sessions.py\", line 512, in request\n",
      "    resp = self.send(prep, **send_kwargs)\n",
      "  File \"/Users/ryanpierson/anaconda3/lib/python3.7/site-packages/requests/sessions.py\", line 616, in send\n",
      "    adapter = self.get_adapter(url=request.url)\n",
      "  File \"/Users/ryanpierson/anaconda3/lib/python3.7/site-packages/requests/sessions.py\", line 707, in get_adapter\n",
      "    raise InvalidSchema(\"No connection adapters were found for '%s'\" % url)\n",
      "requests.exceptions.InvalidSchema: No connection adapters were found for '://www.junglebreaks.co.uk/breaks/new_orleans.wav'\n",
      "\n",
      "Exception in thread Thread-378:\n",
      "Traceback (most recent call last):\n",
      "  File \"/Users/ryanpierson/anaconda3/lib/python3.7/threading.py\", line 917, in _bootstrap_inner\n",
      "    self.run()\n",
      "  File \"/Users/ryanpierson/anaconda3/lib/python3.7/threading.py\", line 865, in run\n",
      "    self._target(*self._args, **self._kwargs)\n",
      "  File \"<ipython-input-21-932302479123>\", line 45, in download_files\n",
      "    r = requests.get(name, allow_redirects=True)\n",
      "  File \"/Users/ryanpierson/anaconda3/lib/python3.7/site-packages/requests/api.py\", line 72, in get\n",
      "    return request('get', url, params=params, **kwargs)\n",
      "  File \"/Users/ryanpierson/anaconda3/lib/python3.7/site-packages/requests/api.py\", line 58, in request\n",
      "    return session.request(method=method, url=url, **kwargs)\n",
      "  File \"/Users/ryanpierson/anaconda3/lib/python3.7/site-packages/requests/sessions.py\", line 512, in request\n",
      "    resp = self.send(prep, **send_kwargs)\n",
      "  File \"/Users/ryanpierson/anaconda3/lib/python3.7/site-packages/requests/sessions.py\", line 616, in send\n",
      "    adapter = self.get_adapter(url=request.url)\n",
      "  File \"/Users/ryanpierson/anaconda3/lib/python3.7/site-packages/requests/sessions.py\", line 707, in get_adapter\n",
      "    raise InvalidSchema(\"No connection adapters were found for '%s'\" % url)\n",
      "requests.exceptions.InvalidSchema: No connection adapters were found for '://www.junglebreaks.co.uk/breaks/life_could.wav'\n",
      "\n",
      "Exception in thread Thread-380:\n",
      "Traceback (most recent call last):\n",
      "  File \"/Users/ryanpierson/anaconda3/lib/python3.7/threading.py\", line 917, in _bootstrap_inner\n",
      "    self.run()\n",
      "  File \"/Users/ryanpierson/anaconda3/lib/python3.7/threading.py\", line 865, in run\n",
      "    self._target(*self._args, **self._kwargs)\n",
      "  File \"<ipython-input-21-932302479123>\", line 45, in download_files\n",
      "    r = requests.get(name, allow_redirects=True)\n",
      "  File \"/Users/ryanpierson/anaconda3/lib/python3.7/site-packages/requests/api.py\", line 72, in get\n",
      "    return request('get', url, params=params, **kwargs)\n",
      "  File \"/Users/ryanpierson/anaconda3/lib/python3.7/site-packages/requests/api.py\", line 58, in request\n",
      "    return session.request(method=method, url=url, **kwargs)\n",
      "  File \"/Users/ryanpierson/anaconda3/lib/python3.7/site-packages/requests/sessions.py\", line 512, in request\n",
      "    resp = self.send(prep, **send_kwargs)\n",
      "  File \"/Users/ryanpierson/anaconda3/lib/python3.7/site-packages/requests/sessions.py\", line 616, in send\n",
      "    adapter = self.get_adapter(url=request.url)\n",
      "  File \"/Users/ryanpierson/anaconda3/lib/python3.7/site-packages/requests/sessions.py\", line 707, in get_adapter\n",
      "    raise InvalidSchema(\"No connection adapters were found for '%s'\" % url)\n",
      "requests.exceptions.InvalidSchema: No connection adapters were found for '://www.junglebreaks.co.uk/breaks/nt.wav'\n",
      "Exception in thread Thread-377:\n",
      "Traceback (most recent call last):\n",
      "  File \"/Users/ryanpierson/anaconda3/lib/python3.7/threading.py\", line 917, in _bootstrap_inner\n",
      "    self.run()\n",
      "  File \"/Users/ryanpierson/anaconda3/lib/python3.7/threading.py\", line 865, in run\n",
      "    self._target(*self._args, **self._kwargs)\n",
      "  File \"<ipython-input-21-932302479123>\", line 45, in download_files\n",
      "    r = requests.get(name, allow_redirects=True)\n",
      "  File \"/Users/ryanpierson/anaconda3/lib/python3.7/site-packages/requests/api.py\", line 72, in get\n",
      "    return request('get', url, params=params, **kwargs)\n",
      "  File \"/Users/ryanpierson/anaconda3/lib/python3.7/site-packages/requests/api.py\", line 58, in request\n",
      "    return session.request(method=method, url=url, **kwargs)\n",
      "  File \"/Users/ryanpierson/anaconda3/lib/python3.7/site-packages/requests/sessions.py\", line 512, in request\n",
      "    resp = self.send(prep, **send_kwargs)\n",
      "  File \"/Users/ryanpierson/anaconda3/lib/python3.7/site-packages/requests/sessions.py\", line 616, in send\n",
      "    adapter = self.get_adapter(url=request.url)\n",
      "  File \"/Users/ryanpierson/anaconda3/lib/python3.7/site-packages/requests/sessions.py\", line 707, in get_adapter\n",
      "    raise InvalidSchema(\"No connection adapters were found for '%s'\" % url)\n",
      "requests.exceptions.InvalidSchema: No connection adapters were found for '://www.junglebreaks.co.uk/breaks/let_a_woman_be_a_woman.wav'\n",
      "\n",
      "\n",
      "Exception in thread Thread-383:\n",
      "Traceback (most recent call last):\n",
      "  File \"/Users/ryanpierson/anaconda3/lib/python3.7/threading.py\", line 917, in _bootstrap_inner\n",
      "    self.run()\n",
      "  File \"/Users/ryanpierson/anaconda3/lib/python3.7/threading.py\", line 865, in run\n",
      "    self._target(*self._args, **self._kwargs)\n",
      "  File \"<ipython-input-21-932302479123>\", line 45, in download_files\n",
      "    r = requests.get(name, allow_redirects=True)\n",
      "  File \"/Users/ryanpierson/anaconda3/lib/python3.7/site-packages/requests/api.py\", line 72, in get\n",
      "    return request('get', url, params=params, **kwargs)\n",
      "  File \"/Users/ryanpierson/anaconda3/lib/python3.7/site-packages/requests/api.py\", line 58, in request\n",
      "    return session.request(method=method, url=url, **kwargs)\n",
      "  File \"/Users/ryanpierson/anaconda3/lib/python3.7/site-packages/requests/sessions.py\", line 512, in request\n",
      "    resp = self.send(prep, **send_kwargs)\n",
      "  File \"/Users/ryanpierson/anaconda3/lib/python3.7/site-packages/requests/sessions.py\", line 616, in send\n",
      "    adapter = self.get_adapter(url=request.url)\n",
      "  File \"/Users/ryanpierson/anaconda3/lib/python3.7/site-packages/requests/sessions.py\", line 707, in get_adapter\n",
      "    raise InvalidSchema(\"No connection adapters were found for '%s'\" % url)\n",
      "requests.exceptions.InvalidSchema: No connection adapters were found for '://www.junglebreaks.co.uk/breaks/put_your_love--end.wav'\n",
      "Exception in thread Thread-382:\n",
      "Traceback (most recent call last):\n",
      "  File \"/Users/ryanpierson/anaconda3/lib/python3.7/threading.py\", line 917, in _bootstrap_inner\n",
      "    self.run()\n",
      "  File \"/Users/ryanpierson/anaconda3/lib/python3.7/threading.py\", line 865, in run\n",
      "    self._target(*self._args, **self._kwargs)\n",
      "  File \"<ipython-input-21-932302479123>\", line 45, in download_files\n",
      "    r = requests.get(name, allow_redirects=True)\n",
      "  File \"/Users/ryanpierson/anaconda3/lib/python3.7/site-packages/requests/api.py\", line 72, in get\n",
      "    return request('get', url, params=params, **kwargs)\n",
      "  File \"/Users/ryanpierson/anaconda3/lib/python3.7/site-packages/requests/api.py\", line 58, in request\n",
      "    return session.request(method=method, url=url, **kwargs)\n",
      "  File \"/Users/ryanpierson/anaconda3/lib/python3.7/site-packages/requests/sessions.py\", line 512, in request\n",
      "    resp = self.send(prep, **send_kwargs)\n",
      "  File \"/Users/ryanpierson/anaconda3/lib/python3.7/site-packages/requests/sessions.py\", line 616, in send\n",
      "    adapter = self.get_adapter(url=request.url)\n",
      "  File \"/Users/ryanpierson/anaconda3/lib/python3.7/site-packages/requests/sessions.py\", line 707, in get_adapter\n",
      "    raise InvalidSchema(\"No connection adapters were found for '%s'\" % url)\n",
      "requests.exceptions.InvalidSchema: No connection adapters were found for '://www.junglebreaks.co.uk/breaks/plastic_jam.wav'\n",
      "\n",
      "\n",
      "Exception in thread Thread-381:\n",
      "Traceback (most recent call last):\n",
      "  File \"/Users/ryanpierson/anaconda3/lib/python3.7/threading.py\", line 917, in _bootstrap_inner\n",
      "    self.run()\n",
      "  File \"/Users/ryanpierson/anaconda3/lib/python3.7/threading.py\", line 865, in run\n",
      "    self._target(*self._args, **self._kwargs)\n",
      "  File \"<ipython-input-21-932302479123>\", line 45, in download_files\n",
      "    r = requests.get(name, allow_redirects=True)\n",
      "  File \"/Users/ryanpierson/anaconda3/lib/python3.7/site-packages/requests/api.py\", line 72, in get\n",
      "    return request('get', url, params=params, **kwargs)\n",
      "  File \"/Users/ryanpierson/anaconda3/lib/python3.7/site-packages/requests/api.py\", line 58, in request\n",
      "    return session.request(method=method, url=url, **kwargs)\n",
      "  File \"/Users/ryanpierson/anaconda3/lib/python3.7/site-packages/requests/sessions.py\", line 512, in request\n",
      "    resp = self.send(prep, **send_kwargs)\n",
      "  File \"/Users/ryanpierson/anaconda3/lib/python3.7/site-packages/requests/sessions.py\", line 616, in send\n",
      "    adapter = self.get_adapter(url=request.url)\n",
      "  File \"/Users/ryanpierson/anaconda3/lib/python3.7/site-packages/requests/sessions.py\", line 707, in get_adapter\n",
      "    raise InvalidSchema(\"No connection adapters were found for '%s'\" % url)\n",
      "requests.exceptions.InvalidSchema: No connection adapters were found for '://www.junglebreaks.co.uk/breaks/ode_to_billy_joe.wav'\n",
      "\n",
      "Exception in thread Thread-384:\n",
      "Traceback (most recent call last):\n",
      "  File \"/Users/ryanpierson/anaconda3/lib/python3.7/threading.py\", line 917, in _bootstrap_inner\n",
      "    self.run()\n",
      "  File \"/Users/ryanpierson/anaconda3/lib/python3.7/threading.py\", line 865, in run\n",
      "    self._target(*self._args, **self._kwargs)\n",
      "  File \"<ipython-input-21-932302479123>\", line 45, in download_files\n",
      "    r = requests.get(name, allow_redirects=True)\n",
      "  File \"/Users/ryanpierson/anaconda3/lib/python3.7/site-packages/requests/api.py\", line 72, in get\n",
      "    return request('get', url, params=params, **kwargs)\n",
      "  File \"/Users/ryanpierson/anaconda3/lib/python3.7/site-packages/requests/api.py\", line 58, in request\n",
      "    return session.request(method=method, url=url, **kwargs)\n",
      "  File \"/Users/ryanpierson/anaconda3/lib/python3.7/site-packages/requests/sessions.py\", line 512, in request\n",
      "    resp = self.send(prep, **send_kwargs)\n",
      "  File \"/Users/ryanpierson/anaconda3/lib/python3.7/site-packages/requests/sessions.py\", line 616, in send\n",
      "    adapter = self.get_adapter(url=request.url)\n",
      "  File \"/Users/ryanpierson/anaconda3/lib/python3.7/site-packages/requests/sessions.py\", line 707, in get_adapter\n",
      "    raise InvalidSchema(\"No connection adapters were found for '%s'\" % url)\n",
      "requests.exceptions.InvalidSchema: No connection adapters were found for '://www.junglebreaks.co.uk/breaks/put_your_love--middle.wav'\n",
      "\n",
      "Exception in thread Thread-385:\n",
      "Traceback (most recent call last):\n",
      "  File \"/Users/ryanpierson/anaconda3/lib/python3.7/threading.py\", line 917, in _bootstrap_inner\n",
      "    self.run()\n",
      "  File \"/Users/ryanpierson/anaconda3/lib/python3.7/threading.py\", line 865, in run\n",
      "    self._target(*self._args, **self._kwargs)\n",
      "  File \"<ipython-input-21-932302479123>\", line 45, in download_files\n",
      "    r = requests.get(name, allow_redirects=True)\n",
      "  File \"/Users/ryanpierson/anaconda3/lib/python3.7/site-packages/requests/api.py\", line 72, in get\n",
      "    return request('get', url, params=params, **kwargs)\n",
      "  File \"/Users/ryanpierson/anaconda3/lib/python3.7/site-packages/requests/api.py\", line 58, in request\n",
      "    return session.request(method=method, url=url, **kwargs)\n",
      "  File \"/Users/ryanpierson/anaconda3/lib/python3.7/site-packages/requests/sessions.py\", line 512, in request\n",
      "    resp = self.send(prep, **send_kwargs)\n",
      "  File \"/Users/ryanpierson/anaconda3/lib/python3.7/site-packages/requests/sessions.py\", line 616, in send\n",
      "    adapter = self.get_adapter(url=request.url)\n",
      "  File \"/Users/ryanpierson/anaconda3/lib/python3.7/site-packages/requests/sessions.py\", line 707, in get_adapter\n",
      "    raise InvalidSchema(\"No connection adapters were found for '%s'\" % url)\n",
      "requests.exceptions.InvalidSchema: No connection adapters were found for '://www.junglebreaks.co.uk/breaks/scorpio.wav'\n",
      "\n",
      "Exception in thread Thread-386:\n",
      "Traceback (most recent call last):\n",
      "  File \"/Users/ryanpierson/anaconda3/lib/python3.7/threading.py\", line 917, in _bootstrap_inner\n",
      "    self.run()\n",
      "  File \"/Users/ryanpierson/anaconda3/lib/python3.7/threading.py\", line 865, in run\n",
      "    self._target(*self._args, **self._kwargs)\n",
      "  File \"<ipython-input-21-932302479123>\", line 45, in download_files\n",
      "    r = requests.get(name, allow_redirects=True)\n",
      "  File \"/Users/ryanpierson/anaconda3/lib/python3.7/site-packages/requests/api.py\", line 72, in get\n",
      "    return request('get', url, params=params, **kwargs)\n",
      "  File \"/Users/ryanpierson/anaconda3/lib/python3.7/site-packages/requests/api.py\", line 58, in request\n",
      "    return session.request(method=method, url=url, **kwargs)\n",
      "  File \"/Users/ryanpierson/anaconda3/lib/python3.7/site-packages/requests/sessions.py\", line 512, in request\n",
      "    resp = self.send(prep, **send_kwargs)\n",
      "  File \"/Users/ryanpierson/anaconda3/lib/python3.7/site-packages/requests/sessions.py\", line 616, in send\n",
      "    adapter = self.get_adapter(url=request.url)\n",
      "  File \"/Users/ryanpierson/anaconda3/lib/python3.7/site-packages/requests/sessions.py\", line 707, in get_adapter\n",
      "    raise InvalidSchema(\"No connection adapters were found for '%s'\" % url)\n",
      "requests.exceptions.InvalidSchema: No connection adapters were found for '://www.junglebreaks.co.uk/breaks/sesame_street.wav'\n",
      "\n",
      "Exception in thread Thread-387:\n",
      "Traceback (most recent call last):\n",
      "  File \"/Users/ryanpierson/anaconda3/lib/python3.7/threading.py\", line 917, in _bootstrap_inner\n",
      "    self.run()\n",
      "  File \"/Users/ryanpierson/anaconda3/lib/python3.7/threading.py\", line 865, in run\n",
      "    self._target(*self._args, **self._kwargs)\n",
      "  File \"<ipython-input-21-932302479123>\", line 45, in download_files\n",
      "    r = requests.get(name, allow_redirects=True)\n",
      "  File \"/Users/ryanpierson/anaconda3/lib/python3.7/site-packages/requests/api.py\", line 72, in get\n",
      "    return request('get', url, params=params, **kwargs)\n",
      "  File \"/Users/ryanpierson/anaconda3/lib/python3.7/site-packages/requests/api.py\", line 58, in request\n",
      "    return session.request(method=method, url=url, **kwargs)\n",
      "  File \"/Users/ryanpierson/anaconda3/lib/python3.7/site-packages/requests/sessions.py\", line 512, in request\n",
      "    resp = self.send(prep, **send_kwargs)\n",
      "  File \"/Users/ryanpierson/anaconda3/lib/python3.7/site-packages/requests/sessions.py\", line 616, in send\n",
      "    adapter = self.get_adapter(url=request.url)\n",
      "  File \"/Users/ryanpierson/anaconda3/lib/python3.7/site-packages/requests/sessions.py\", line 707, in get_adapter\n",
      "    raise InvalidSchema(\"No connection adapters were found for '%s'\" % url)\n",
      "requests.exceptions.InvalidSchema: No connection adapters were found for '://www.junglebreaks.co.uk/breaks/shack_up.wav'\n",
      "\n",
      "Exception in thread Thread-388:\n",
      "Traceback (most recent call last):\n",
      "  File \"/Users/ryanpierson/anaconda3/lib/python3.7/threading.py\", line 917, in _bootstrap_inner\n",
      "    self.run()\n",
      "  File \"/Users/ryanpierson/anaconda3/lib/python3.7/threading.py\", line 865, in run\n",
      "    self._target(*self._args, **self._kwargs)\n",
      "  File \"<ipython-input-21-932302479123>\", line 45, in download_files\n",
      "    r = requests.get(name, allow_redirects=True)\n",
      "  File \"/Users/ryanpierson/anaconda3/lib/python3.7/site-packages/requests/api.py\", line 72, in get\n",
      "    return request('get', url, params=params, **kwargs)\n",
      "  File \"/Users/ryanpierson/anaconda3/lib/python3.7/site-packages/requests/api.py\", line 58, in request\n",
      "    return session.request(method=method, url=url, **kwargs)\n",
      "  File \"/Users/ryanpierson/anaconda3/lib/python3.7/site-packages/requests/sessions.py\", line 512, in request\n",
      "    resp = self.send(prep, **send_kwargs)\n",
      "  File \"/Users/ryanpierson/anaconda3/lib/python3.7/site-packages/requests/sessions.py\", line 616, in send\n",
      "    adapter = self.get_adapter(url=request.url)\n",
      "  File \"/Users/ryanpierson/anaconda3/lib/python3.7/site-packages/requests/sessions.py\", line 707, in get_adapter\n",
      "    raise InvalidSchema(\"No connection adapters were found for '%s'\" % url)\n",
      "requests.exceptions.InvalidSchema: No connection adapters were found for '://www.junglebreaks.co.uk/breaks/sing_a_simple_song.wav'\n",
      "\n",
      "Exception in thread Thread-389:\n",
      "Traceback (most recent call last):\n",
      "  File \"/Users/ryanpierson/anaconda3/lib/python3.7/threading.py\", line 917, in _bootstrap_inner\n",
      "    self.run()\n",
      "  File \"/Users/ryanpierson/anaconda3/lib/python3.7/threading.py\", line 865, in run\n",
      "    self._target(*self._args, **self._kwargs)\n",
      "  File \"<ipython-input-21-932302479123>\", line 45, in download_files\n",
      "    r = requests.get(name, allow_redirects=True)\n",
      "  File \"/Users/ryanpierson/anaconda3/lib/python3.7/site-packages/requests/api.py\", line 72, in get\n",
      "    return request('get', url, params=params, **kwargs)\n",
      "  File \"/Users/ryanpierson/anaconda3/lib/python3.7/site-packages/requests/api.py\", line 58, in request\n",
      "    return session.request(method=method, url=url, **kwargs)\n",
      "  File \"/Users/ryanpierson/anaconda3/lib/python3.7/site-packages/requests/sessions.py\", line 512, in request\n",
      "    resp = self.send(prep, **send_kwargs)\n",
      "  File \"/Users/ryanpierson/anaconda3/lib/python3.7/site-packages/requests/sessions.py\", line 616, in send\n",
      "    adapter = self.get_adapter(url=request.url)\n",
      "  File \"/Users/ryanpierson/anaconda3/lib/python3.7/site-packages/requests/sessions.py\", line 707, in get_adapter\n",
      "    raise InvalidSchema(\"No connection adapters were found for '%s'\" % url)\n",
      "requests.exceptions.InvalidSchema: No connection adapters were found for '://www.junglebreaks.co.uk/breaks/sneakin_in_the_back.wav'\n",
      "\n",
      "Exception in thread Thread-390:\n",
      "Traceback (most recent call last):\n",
      "  File \"/Users/ryanpierson/anaconda3/lib/python3.7/threading.py\", line 917, in _bootstrap_inner\n",
      "    self.run()\n",
      "  File \"/Users/ryanpierson/anaconda3/lib/python3.7/threading.py\", line 865, in run\n",
      "    self._target(*self._args, **self._kwargs)\n",
      "  File \"<ipython-input-21-932302479123>\", line 45, in download_files\n",
      "    r = requests.get(name, allow_redirects=True)\n",
      "  File \"/Users/ryanpierson/anaconda3/lib/python3.7/site-packages/requests/api.py\", line 72, in get\n",
      "    return request('get', url, params=params, **kwargs)\n",
      "  File \"/Users/ryanpierson/anaconda3/lib/python3.7/site-packages/requests/api.py\", line 58, in request\n",
      "    return session.request(method=method, url=url, **kwargs)\n",
      "  File \"/Users/ryanpierson/anaconda3/lib/python3.7/site-packages/requests/sessions.py\", line 512, in request\n",
      "    resp = self.send(prep, **send_kwargs)\n",
      "  File \"/Users/ryanpierson/anaconda3/lib/python3.7/site-packages/requests/sessions.py\", line 616, in send\n",
      "    adapter = self.get_adapter(url=request.url)\n",
      "  File \"/Users/ryanpierson/anaconda3/lib/python3.7/site-packages/requests/sessions.py\", line 707, in get_adapter\n",
      "    raise InvalidSchema(\"No connection adapters were found for '%s'\" % url)\n",
      "requests.exceptions.InvalidSchema: No connection adapters were found for '://www.junglebreaks.co.uk/breaks/sniper.wav'\n",
      "\n",
      "Exception in thread Thread-392:\n",
      "Traceback (most recent call last):\n",
      "  File \"/Users/ryanpierson/anaconda3/lib/python3.7/threading.py\", line 917, in _bootstrap_inner\n",
      "    self.run()\n",
      "  File \"/Users/ryanpierson/anaconda3/lib/python3.7/threading.py\", line 865, in run\n",
      "    self._target(*self._args, **self._kwargs)\n",
      "  File \"<ipython-input-21-932302479123>\", line 45, in download_files\n",
      "    r = requests.get(name, allow_redirects=True)\n",
      "  File \"/Users/ryanpierson/anaconda3/lib/python3.7/site-packages/requests/api.py\", line 72, in get\n",
      "    return request('get', url, params=params, **kwargs)\n",
      "  File \"/Users/ryanpierson/anaconda3/lib/python3.7/site-packages/requests/api.py\", line 58, in request\n",
      "    return session.request(method=method, url=url, **kwargs)\n",
      "  File \"/Users/ryanpierson/anaconda3/lib/python3.7/site-packages/requests/sessions.py\", line 512, in request\n",
      "    resp = self.send(prep, **send_kwargs)\n",
      "  File \"/Users/ryanpierson/anaconda3/lib/python3.7/site-packages/requests/sessions.py\", line 616, in send\n",
      "    adapter = self.get_adapter(url=request.url)\n",
      "  File \"/Users/ryanpierson/anaconda3/lib/python3.7/site-packages/requests/sessions.py\", line 707, in get_adapter\n",
      "    raise InvalidSchema(\"No connection adapters were found for '%s'\" % url)\n",
      "requests.exceptions.InvalidSchema: No connection adapters were found for '://www.junglebreaks.co.uk/breaks/soul_pride.wav'\n",
      "\n",
      "Exception in thread Thread-391:\n",
      "Traceback (most recent call last):\n",
      "  File \"/Users/ryanpierson/anaconda3/lib/python3.7/threading.py\", line 917, in _bootstrap_inner\n",
      "    self.run()\n",
      "  File \"/Users/ryanpierson/anaconda3/lib/python3.7/threading.py\", line 865, in run\n",
      "    self._target(*self._args, **self._kwargs)\n",
      "  File \"<ipython-input-21-932302479123>\", line 45, in download_files\n",
      "    r = requests.get(name, allow_redirects=True)\n",
      "  File \"/Users/ryanpierson/anaconda3/lib/python3.7/site-packages/requests/api.py\", line 72, in get\n",
      "    return request('get', url, params=params, **kwargs)\n",
      "  File \"/Users/ryanpierson/anaconda3/lib/python3.7/site-packages/requests/api.py\", line 58, in request\n",
      "    return session.request(method=method, url=url, **kwargs)\n",
      "  File \"/Users/ryanpierson/anaconda3/lib/python3.7/site-packages/requests/sessions.py\", line 512, in request\n",
      "    resp = self.send(prep, **send_kwargs)\n",
      "  File \"/Users/ryanpierson/anaconda3/lib/python3.7/site-packages/requests/sessions.py\", line 616, in send\n",
      "    adapter = self.get_adapter(url=request.url)\n",
      "  File \"/Users/ryanpierson/anaconda3/lib/python3.7/site-packages/requests/sessions.py\", line 707, in get_adapter\n",
      "    raise InvalidSchema(\"No connection adapters were found for '%s'\" % url)\n",
      "requests.exceptions.InvalidSchema: No connection adapters were found for '://www.junglebreaks.co.uk/breaks/soul_beat_runna.wav'\n",
      "Exception in thread Thread-393:\n",
      "Traceback (most recent call last):\n",
      "  File \"/Users/ryanpierson/anaconda3/lib/python3.7/threading.py\", line 917, in _bootstrap_inner\n",
      "    self.run()\n",
      "  File \"/Users/ryanpierson/anaconda3/lib/python3.7/threading.py\", line 865, in run\n",
      "    self._target(*self._args, **self._kwargs)\n",
      "  File \"<ipython-input-21-932302479123>\", line 45, in download_files\n",
      "    r = requests.get(name, allow_redirects=True)\n",
      "  File \"/Users/ryanpierson/anaconda3/lib/python3.7/site-packages/requests/api.py\", line 72, in get\n",
      "    return request('get', url, params=params, **kwargs)\n",
      "  File \"/Users/ryanpierson/anaconda3/lib/python3.7/site-packages/requests/api.py\", line 58, in request\n",
      "    return session.request(method=method, url=url, **kwargs)\n",
      "  File \"/Users/ryanpierson/anaconda3/lib/python3.7/site-packages/requests/sessions.py\", line 512, in request\n",
      "    resp = self.send(prep, **send_kwargs)\n",
      "  File \"/Users/ryanpierson/anaconda3/lib/python3.7/site-packages/requests/sessions.py\", line 616, in send\n",
      "    adapter = self.get_adapter(url=request.url)\n",
      "  File \"/Users/ryanpierson/anaconda3/lib/python3.7/site-packages/requests/sessions.py\", line 707, in get_adapter\n",
      "    raise InvalidSchema(\"No connection adapters were found for '%s'\" % url)\n",
      "requests.exceptions.InvalidSchema: No connection adapters were found for '://www.junglebreaks.co.uk/breaks/sport.wav'\n",
      "\n",
      "Exception in thread Thread-395:\n",
      "Traceback (most recent call last):\n",
      "  File \"/Users/ryanpierson/anaconda3/lib/python3.7/threading.py\", line 917, in _bootstrap_inner\n",
      "    self.run()\n",
      "  File \"/Users/ryanpierson/anaconda3/lib/python3.7/threading.py\", line 865, in run\n",
      "    self._target(*self._args, **self._kwargs)\n",
      "  File \"<ipython-input-21-932302479123>\", line 45, in download_files\n",
      "    r = requests.get(name, allow_redirects=True)\n",
      "  File \"/Users/ryanpierson/anaconda3/lib/python3.7/site-packages/requests/api.py\", line 72, in get\n",
      "    return request('get', url, params=params, **kwargs)\n",
      "  File \"/Users/ryanpierson/anaconda3/lib/python3.7/site-packages/requests/api.py\", line 58, in request\n",
      "    return session.request(method=method, url=url, **kwargs)\n",
      "  File \"/Users/ryanpierson/anaconda3/lib/python3.7/site-packages/requests/sessions.py\", line 512, in request\n",
      "    resp = self.send(prep, **send_kwargs)\n",
      "  File \"/Users/ryanpierson/anaconda3/lib/python3.7/site-packages/requests/sessions.py\", line 616, in send\n",
      "    adapter = self.get_adapter(url=request.url)\n",
      "  File \"/Users/ryanpierson/anaconda3/lib/python3.7/site-packages/requests/sessions.py\", line 707, in get_adapter\n",
      "    raise InvalidSchema(\"No connection adapters were found for '%s'\" % url)\n",
      "requests.exceptions.InvalidSchema: No connection adapters were found for '://www.junglebreaks.co.uk/breaks/take_me_to_the_mardi_gras.wav'\n",
      "Exception in thread Thread-397:\n",
      "Traceback (most recent call last):\n",
      "  File \"/Users/ryanpierson/anaconda3/lib/python3.7/threading.py\", line 917, in _bootstrap_inner\n",
      "    self.run()\n",
      "  File \"/Users/ryanpierson/anaconda3/lib/python3.7/threading.py\", line 865, in run\n",
      "    self._target(*self._args, **self._kwargs)\n",
      "  File \"<ipython-input-21-932302479123>\", line 45, in download_files\n",
      "    r = requests.get(name, allow_redirects=True)\n",
      "  File \"/Users/ryanpierson/anaconda3/lib/python3.7/site-packages/requests/api.py\", line 72, in get\n",
      "    return request('get', url, params=params, **kwargs)\n",
      "  File \"/Users/ryanpierson/anaconda3/lib/python3.7/site-packages/requests/api.py\", line 58, in request\n",
      "    return session.request(method=method, url=url, **kwargs)\n",
      "  File \"/Users/ryanpierson/anaconda3/lib/python3.7/site-packages/requests/sessions.py\", line 512, in request\n",
      "    resp = self.send(prep, **send_kwargs)\n",
      "  File \"/Users/ryanpierson/anaconda3/lib/python3.7/site-packages/requests/sessions.py\", line 616, in send\n",
      "    adapter = self.get_adapter(url=request.url)\n",
      "  File \"/Users/ryanpierson/anaconda3/lib/python3.7/site-packages/requests/sessions.py\", line 707, in get_adapter\n",
      "    raise InvalidSchema(\"No connection adapters were found for '%s'\" % url)\n",
      "requests.exceptions.InvalidSchema: No connection adapters were found for '://www.junglebreaks.co.uk/breaks/tighten_up.wav'\n",
      "\n",
      "Exception in thread Thread-394:\n",
      "Traceback (most recent call last):\n",
      "  File \"/Users/ryanpierson/anaconda3/lib/python3.7/threading.py\", line 917, in _bootstrap_inner\n",
      "    self.run()\n",
      "  File \"/Users/ryanpierson/anaconda3/lib/python3.7/threading.py\", line 865, in run\n",
      "    self._target(*self._args, **self._kwargs)\n",
      "  File \"<ipython-input-21-932302479123>\", line 45, in download_files\n",
      "    r = requests.get(name, allow_redirects=True)\n",
      "  File \"/Users/ryanpierson/anaconda3/lib/python3.7/site-packages/requests/api.py\", line 72, in get\n",
      "    return request('get', url, params=params, **kwargs)\n",
      "  File \"/Users/ryanpierson/anaconda3/lib/python3.7/site-packages/requests/api.py\", line 58, in request\n",
      "    return session.request(method=method, url=url, **kwargs)\n",
      "  File \"/Users/ryanpierson/anaconda3/lib/python3.7/site-packages/requests/sessions.py\", line 512, in request\n",
      "    resp = self.send(prep, **send_kwargs)\n",
      "  File \"/Users/ryanpierson/anaconda3/lib/python3.7/site-packages/requests/sessions.py\", line 616, in send\n",
      "    adapter = self.get_adapter(url=request.url)\n",
      "  File \"/Users/ryanpierson/anaconda3/lib/python3.7/site-packages/requests/sessions.py\", line 707, in get_adapter\n",
      "    raise InvalidSchema(\"No connection adapters were found for '%s'\" % url)\n",
      "requests.exceptions.InvalidSchema: No connection adapters were found for '://www.junglebreaks.co.uk/breaks/sweet_pea.wav'\n",
      "\n",
      "\n",
      "Exception in thread Thread-396:\n",
      "Traceback (most recent call last):\n",
      "  File \"/Users/ryanpierson/anaconda3/lib/python3.7/threading.py\", line 917, in _bootstrap_inner\n",
      "    self.run()\n",
      "  File \"/Users/ryanpierson/anaconda3/lib/python3.7/threading.py\", line 865, in run\n",
      "    self._target(*self._args, **self._kwargs)\n",
      "  File \"<ipython-input-21-932302479123>\", line 45, in download_files\n",
      "    r = requests.get(name, allow_redirects=True)\n",
      "  File \"/Users/ryanpierson/anaconda3/lib/python3.7/site-packages/requests/api.py\", line 72, in get\n",
      "    return request('get', url, params=params, **kwargs)\n",
      "  File \"/Users/ryanpierson/anaconda3/lib/python3.7/site-packages/requests/api.py\", line 58, in request\n",
      "    return session.request(method=method, url=url, **kwargs)\n",
      "  File \"/Users/ryanpierson/anaconda3/lib/python3.7/site-packages/requests/sessions.py\", line 512, in request\n",
      "    resp = self.send(prep, **send_kwargs)\n",
      "  File \"/Users/ryanpierson/anaconda3/lib/python3.7/site-packages/requests/sessions.py\", line 616, in send\n",
      "    adapter = self.get_adapter(url=request.url)\n",
      "  File \"/Users/ryanpierson/anaconda3/lib/python3.7/site-packages/requests/sessions.py\", line 707, in get_adapter\n",
      "    raise InvalidSchema(\"No connection adapters were found for '%s'\" % url)\n",
      "requests.exceptions.InvalidSchema: No connection adapters were found for '://www.junglebreaks.co.uk/breaks/think--all5.wav'\n",
      "\n",
      "\n",
      "Exception in thread Thread-399:\n",
      "Traceback (most recent call last):\n",
      "  File \"/Users/ryanpierson/anaconda3/lib/python3.7/threading.py\", line 917, in _bootstrap_inner\n",
      "    self.run()\n",
      "  File \"/Users/ryanpierson/anaconda3/lib/python3.7/threading.py\", line 865, in run\n",
      "    self._target(*self._args, **self._kwargs)\n",
      "  File \"<ipython-input-21-932302479123>\", line 45, in download_files\n",
      "    r = requests.get(name, allow_redirects=True)\n",
      "  File \"/Users/ryanpierson/anaconda3/lib/python3.7/site-packages/requests/api.py\", line 72, in get\n",
      "    return request('get', url, params=params, **kwargs)\n",
      "  File \"/Users/ryanpierson/anaconda3/lib/python3.7/site-packages/requests/api.py\", line 58, in request\n",
      "    return session.request(method=method, url=url, **kwargs)\n",
      "  File \"/Users/ryanpierson/anaconda3/lib/python3.7/site-packages/requests/sessions.py\", line 512, in request\n",
      "    resp = self.send(prep, **send_kwargs)\n",
      "  File \"/Users/ryanpierson/anaconda3/lib/python3.7/site-packages/requests/sessions.py\", line 616, in send\n",
      "    adapter = self.get_adapter(url=request.url)\n",
      "  File \"/Users/ryanpierson/anaconda3/lib/python3.7/site-packages/requests/sessions.py\", line 707, in get_adapter\n",
      "    raise InvalidSchema(\"No connection adapters were found for '%s'\" % url)\n",
      "requests.exceptions.InvalidSchema: No connection adapters were found for '://www.junglebreaks.co.uk/breaks/willie_pass_the_water.wav'\n",
      "\n",
      "Exception in thread Thread-400:\n",
      "Traceback (most recent call last):\n",
      "  File \"/Users/ryanpierson/anaconda3/lib/python3.7/threading.py\", line 917, in _bootstrap_inner\n",
      "    self.run()\n",
      "  File \"/Users/ryanpierson/anaconda3/lib/python3.7/threading.py\", line 865, in run\n",
      "    self._target(*self._args, **self._kwargs)\n",
      "  File \"<ipython-input-21-932302479123>\", line 45, in download_files\n",
      "    r = requests.get(name, allow_redirects=True)\n",
      "  File \"/Users/ryanpierson/anaconda3/lib/python3.7/site-packages/requests/api.py\", line 72, in get\n",
      "    return request('get', url, params=params, **kwargs)\n",
      "  File \"/Users/ryanpierson/anaconda3/lib/python3.7/site-packages/requests/api.py\", line 58, in request\n",
      "    return session.request(method=method, url=url, **kwargs)\n",
      "  File \"/Users/ryanpierson/anaconda3/lib/python3.7/site-packages/requests/sessions.py\", line 512, in request\n",
      "    resp = self.send(prep, **send_kwargs)\n",
      "  File \"/Users/ryanpierson/anaconda3/lib/python3.7/site-packages/requests/sessions.py\", line 616, in send\n",
      "    adapter = self.get_adapter(url=request.url)\n",
      "  File \"/Users/ryanpierson/anaconda3/lib/python3.7/site-packages/requests/sessions.py\", line 707, in get_adapter\n",
      "    raise InvalidSchema(\"No connection adapters were found for '%s'\" % url)\n",
      "requests.exceptions.InvalidSchema: No connection adapters were found for '://www.junglebreaks.co.uk/breaks/worm.wav'\n",
      "Exception in thread Thread-398:\n",
      "Traceback (most recent call last):\n",
      "  File \"/Users/ryanpierson/anaconda3/lib/python3.7/threading.py\", line 917, in _bootstrap_inner\n",
      "    self.run()\n",
      "  File \"/Users/ryanpierson/anaconda3/lib/python3.7/threading.py\", line 865, in run\n",
      "    self._target(*self._args, **self._kwargs)\n",
      "  File \"<ipython-input-21-932302479123>\", line 45, in download_files\n",
      "    r = requests.get(name, allow_redirects=True)\n",
      "  File \"/Users/ryanpierson/anaconda3/lib/python3.7/site-packages/requests/api.py\", line 72, in get\n",
      "    return request('get', url, params=params, **kwargs)\n",
      "  File \"/Users/ryanpierson/anaconda3/lib/python3.7/site-packages/requests/api.py\", line 58, in request\n",
      "    return session.request(method=method, url=url, **kwargs)\n",
      "  File \"/Users/ryanpierson/anaconda3/lib/python3.7/site-packages/requests/sessions.py\", line 512, in request\n",
      "    resp = self.send(prep, **send_kwargs)\n",
      "  File \"/Users/ryanpierson/anaconda3/lib/python3.7/site-packages/requests/sessions.py\", line 616, in send\n",
      "    adapter = self.get_adapter(url=request.url)\n",
      "  File \"/Users/ryanpierson/anaconda3/lib/python3.7/site-packages/requests/sessions.py\", line 707, in get_adapter\n",
      "    raise InvalidSchema(\"No connection adapters were found for '%s'\" % url)\n",
      "requests.exceptions.InvalidSchema: No connection adapters were found for '://www.junglebreaks.co.uk/breaks/whole_thing.wav'\n",
      "\n",
      "\n"
     ]
    },
    {
     "name": "stdout",
     "output_type": "stream",
     "text": [
      "\n",
      "The file being downloaded is http://www.junglebreaks.co.uk/breaks/worm.wav\n",
      "\n",
      "name ://www.junglebreaks.co.uk/breaks/worm.wav\n",
      "\n"
     ]
    }
   ],
   "source": [
    "download_all('http://www.junglebreaks.co.uk/breaks', '.wav')"
   ]
  },
  {
   "cell_type": "code",
   "execution_count": 51,
   "metadata": {},
   "outputs": [
    {
     "name": "stdout",
     "output_type": "stream",
     "text": [
      "['?C=N;O=D\">Name</a>                    <a href=\"?C=M;O=A\">Last modified</a>      <a href=\"?C=S;O=A\">Size</a>  <a href=\"?C=D;O=A\">Description</a><hr/>      <a href=\"/', 'action.wav', 'amen_brother.wav', 'apache.wav', 'assembly_line.wav', 'both_eyes_open.wav', 'cold_sweat.wav', 'do_the_do.wav', 'dont_change_your_love.wav', 'flow.wav', 'fools_gold.wav', 'funky_drummer.wav', 'funky_mule--intro.wav', 'funky_mule--rides.wav', 'give_it_up_or_turnit_a_loose.wav', 'god_made_me_funky.wav', 'hot_pants.wav', 'humpty_dump.wav', 'its_a_new_day.wav', 'kick_back.wav', 'kool_is_back.wav', 'let_a_woman_be_a_woman.wav', 'life_could.wav', 'new_orleans.wav', 'nt.wav', 'ode_to_billy_joe.wav', 'plastic_jam.wav', 'put_your_love--end.wav', 'put_your_love--middle.wav', 'scorpio.wav', 'sesame_street.wav', 'shack_up.wav', 'sing_a_simple_song.wav', 'sneakin_in_the_back.wav', 'sniper.wav', 'soul_beat_runna.wav', 'soul_pride.wav', 'sport.wav', 'sweet_pea.wav', 'take_me_to_the_mardi_gras.wav', 'think--all5.wav', 'tighten_up.wav', 'whole_thing.wav', 'willie_pass_the_water.wav', 'worm.wav']\n"
     ]
    }
   ],
   "source": [
    "f = files_to_download('http://www.junglebreaks.co.uk/breaks', '.wav')"
   ]
  },
  {
   "cell_type": "code",
   "execution_count": 52,
   "metadata": {},
   "outputs": [],
   "source": [
    "links, names = f"
   ]
  },
  {
   "cell_type": "code",
   "execution_count": 60,
   "metadata": {
    "scrolled": true
   },
   "outputs": [
    {
     "data": {
      "text/plain": [
       "['http://www.junglebreaks.co.uk/breaks/action.wav',\n",
       " 'http://www.junglebreaks.co.uk/breaks/amen_brother.wav',\n",
       " 'http://www.junglebreaks.co.uk/breaks/apache.wav',\n",
       " 'http://www.junglebreaks.co.uk/breaks/assembly_line.wav',\n",
       " 'http://www.junglebreaks.co.uk/breaks/both_eyes_open.wav',\n",
       " 'http://www.junglebreaks.co.uk/breaks/cold_sweat.wav',\n",
       " 'http://www.junglebreaks.co.uk/breaks/do_the_do.wav',\n",
       " 'http://www.junglebreaks.co.uk/breaks/dont_change_your_love.wav',\n",
       " 'http://www.junglebreaks.co.uk/breaks/flow.wav',\n",
       " 'http://www.junglebreaks.co.uk/breaks/fools_gold.wav',\n",
       " 'http://www.junglebreaks.co.uk/breaks/funky_drummer.wav',\n",
       " 'http://www.junglebreaks.co.uk/breaks/funky_mule--intro.wav',\n",
       " 'http://www.junglebreaks.co.uk/breaks/funky_mule--rides.wav',\n",
       " 'http://www.junglebreaks.co.uk/breaks/give_it_up_or_turnit_a_loose.wav',\n",
       " 'http://www.junglebreaks.co.uk/breaks/god_made_me_funky.wav',\n",
       " 'http://www.junglebreaks.co.uk/breaks/hot_pants.wav',\n",
       " 'http://www.junglebreaks.co.uk/breaks/humpty_dump.wav',\n",
       " 'http://www.junglebreaks.co.uk/breaks/its_a_new_day.wav',\n",
       " 'http://www.junglebreaks.co.uk/breaks/kick_back.wav',\n",
       " 'http://www.junglebreaks.co.uk/breaks/kool_is_back.wav',\n",
       " 'http://www.junglebreaks.co.uk/breaks/let_a_woman_be_a_woman.wav',\n",
       " 'http://www.junglebreaks.co.uk/breaks/life_could.wav',\n",
       " 'http://www.junglebreaks.co.uk/breaks/new_orleans.wav',\n",
       " 'http://www.junglebreaks.co.uk/breaks/nt.wav',\n",
       " 'http://www.junglebreaks.co.uk/breaks/ode_to_billy_joe.wav',\n",
       " 'http://www.junglebreaks.co.uk/breaks/plastic_jam.wav',\n",
       " 'http://www.junglebreaks.co.uk/breaks/put_your_love--end.wav',\n",
       " 'http://www.junglebreaks.co.uk/breaks/put_your_love--middle.wav',\n",
       " 'http://www.junglebreaks.co.uk/breaks/scorpio.wav',\n",
       " 'http://www.junglebreaks.co.uk/breaks/sesame_street.wav',\n",
       " 'http://www.junglebreaks.co.uk/breaks/shack_up.wav',\n",
       " 'http://www.junglebreaks.co.uk/breaks/sing_a_simple_song.wav',\n",
       " 'http://www.junglebreaks.co.uk/breaks/sneakin_in_the_back.wav',\n",
       " 'http://www.junglebreaks.co.uk/breaks/sniper.wav',\n",
       " 'http://www.junglebreaks.co.uk/breaks/soul_beat_runna.wav',\n",
       " 'http://www.junglebreaks.co.uk/breaks/soul_pride.wav',\n",
       " 'http://www.junglebreaks.co.uk/breaks/sport.wav',\n",
       " 'http://www.junglebreaks.co.uk/breaks/sweet_pea.wav',\n",
       " 'http://www.junglebreaks.co.uk/breaks/take_me_to_the_mardi_gras.wav',\n",
       " 'http://www.junglebreaks.co.uk/breaks/think--all5.wav',\n",
       " 'http://www.junglebreaks.co.uk/breaks/tighten_up.wav',\n",
       " 'http://www.junglebreaks.co.uk/breaks/whole_thing.wav',\n",
       " 'http://www.junglebreaks.co.uk/breaks/willie_pass_the_water.wav',\n",
       " 'http://www.junglebreaks.co.uk/breaks/worm.wav']"
      ]
     },
     "execution_count": 60,
     "metadata": {},
     "output_type": "execute_result"
    }
   ],
   "source": [
    "links"
   ]
  },
  {
   "cell_type": "code",
   "execution_count": 59,
   "metadata": {},
   "outputs": [
    {
     "data": {
      "text/plain": [
       "44"
      ]
     },
     "execution_count": 59,
     "metadata": {},
     "output_type": "execute_result"
    }
   ],
   "source": [
    "len(names)"
   ]
  },
  {
   "cell_type": "code",
   "execution_count": 39,
   "metadata": {},
   "outputs": [
    {
     "data": {
      "text/plain": [
       "True"
      ]
     },
     "execution_count": 39,
     "metadata": {},
     "output_type": "execute_result"
    }
   ],
   "source": [
    "isinstance(f, tuple)"
   ]
  },
  {
   "cell_type": "code",
   "execution_count": 20,
   "metadata": {},
   "outputs": [
    {
     "name": "stdout",
     "output_type": "stream",
     "text": [
      "yes\n"
     ]
    }
   ],
   "source": [
    "if \"and\" in \"theand\":\n",
    "    print('yes')\n",
    "else:\n",
    "    print('no')"
   ]
  },
  {
   "cell_type": "code",
   "execution_count": 27,
   "metadata": {},
   "outputs": [
    {
     "name": "stderr",
     "output_type": "stream",
     "text": [
      "196862it [00:03, 61435.06it/s]\n"
     ]
    }
   ],
   "source": [
    "from tqdm import tqdm\n",
    "import requests\n",
    "\n",
    "url = 'http://www.junglebreaks.co.uk/breaks/action.wav'\n",
    "response = requests.get(url, stream=True)\n",
    "\n",
    "with open(\"10MB.wav\", \"wb\") as handle:\n",
    "    for data in tqdm(response.iter_content()):\n",
    "        handle.write(data)"
   ]
  },
  {
   "cell_type": "code",
   "execution_count": 28,
   "metadata": {},
   "outputs": [],
   "source": [
    "lit = [1, 2, 3]\n",
    "tup = (1, 2, 3)"
   ]
  },
  {
   "cell_type": "code",
   "execution_count": 29,
   "metadata": {},
   "outputs": [
    {
     "data": {
      "text/plain": [
       "list"
      ]
     },
     "execution_count": 29,
     "metadata": {},
     "output_type": "execute_result"
    }
   ],
   "source": [
    "type(lit)"
   ]
  },
  {
   "cell_type": "code",
   "execution_count": 30,
   "metadata": {},
   "outputs": [
    {
     "data": {
      "text/plain": [
       "tuple"
      ]
     },
     "execution_count": 30,
     "metadata": {},
     "output_type": "execute_result"
    }
   ],
   "source": [
    "type(tup)"
   ]
  },
  {
   "cell_type": "code",
   "execution_count": 31,
   "metadata": {},
   "outputs": [
    {
     "name": "stdout",
     "output_type": "stream",
     "text": [
      "no\n"
     ]
    }
   ],
   "source": [
    "if type(tup) == 'tuple':\n",
    "    print('yes')\n",
    "else:\n",
    "    print('no')"
   ]
  },
  {
   "cell_type": "code",
   "execution_count": 35,
   "metadata": {},
   "outputs": [
    {
     "data": {
      "text/plain": [
       "False"
      ]
     },
     "execution_count": 35,
     "metadata": {},
     "output_type": "execute_result"
    }
   ],
   "source": [
    "import types\n",
    "\n",
    "isinstance(lit, tuple)"
   ]
  },
  {
   "cell_type": "code",
   "execution_count": null,
   "metadata": {},
   "outputs": [],
   "source": []
  }
 ],
 "metadata": {
  "kernelspec": {
   "display_name": "Python 3",
   "language": "python",
   "name": "python3"
  },
  "language_info": {
   "codemirror_mode": {
    "name": "ipython",
    "version": 3
   },
   "file_extension": ".py",
   "mimetype": "text/x-python",
   "name": "python",
   "nbconvert_exporter": "python",
   "pygments_lexer": "ipython3",
   "version": "3.7.0"
  }
 },
 "nbformat": 4,
 "nbformat_minor": 2
}
