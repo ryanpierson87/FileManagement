{
 "cells": [
  {
   "cell_type": "code",
   "execution_count": 105,
   "metadata": {},
   "outputs": [],
   "source": [
    "from bs4 import BeautifulSoup\n",
    "import re\n",
    "import requests\n",
    "from threading import Thread\n",
    "\n",
    "#This is the program that scrapes the webpage for all of the necessary files and returns the links where the files are\n",
    "def files_to_download(site, file_format):\n",
    "    '''    Scrapes the provided website and returns the links of all of the provided file format.\n",
    "    Ex: a page with a list of mp3s\n",
    "    files_to_download('https://sitewithmusic.com', '.mp3')\n",
    "    >>> ['...sitewithmusic.com/track_1', '...sitewithmusic.com/track_2', '...sitewithmusic.com/track_3']'''\n",
    "    url = requests.get(site)\n",
    "    soup = BeautifulSoup(url.content, 'html.parser')\n",
    "    #finds the files on the page\n",
    "    regex = re.compile(r\"href=\\\"(.*?)\\\"\")\n",
    "    matches = re.findall(regex, str(soup.body))\n",
    "    print(matches)\n",
    "    dl = []\n",
    "    for i in matches:\n",
    "        print(i)\n",
    "        if file_format in i:\n",
    "            if site in i:\n",
    "                dl.append(i)\n",
    "                x = 0\n",
    "            else:\n",
    "                names = []\n",
    "                dl.append(site + '/' + i)\n",
    "                x = 1\n",
    "    if x == 0:\n",
    "        return dl\n",
    "    else:\n",
    "        names = []\n",
    "        for i in matches:\n",
    "            if file_format in i:\n",
    "                names.append(i)        \n",
    "        return dl, names\n",
    "\n",
    "#This is the threading function that takes a download url and a possibly a folder.\n",
    "#it grabs the download from the link and sticks it into the provided folder- or local to the program.\n",
    "def download_files(url, folder=None):\n",
    "    r'''Downloads a file from a download link and places it in the specified folder.\n",
    "    \n",
    "    download_files('www.website.com/download_file', 'C:\\Users\\Me\\Desktop')\n",
    "        places the file from website.com onto the users Desktop.'''\n",
    "    print(f'folder {folder}\\n')\n",
    "    if folder == None:\n",
    "        name = url[url.find('.com/')+ 5:]\n",
    "    else:\n",
    "        if url[-1] == \"/\":\n",
    "            name = folder + url[url.find('.com/')+ 5:]\n",
    "        else:\n",
    "            name = folder + \"\\\\\" + url[url.find('.com/')+ 5:]\n",
    "    \n",
    "    print(\"The file being downloaded is {}\\n\".format(url))\n",
    "    print(f'name {name}\\n')\n",
    "    r = requests.get(name, allow_redirects=True)\n",
    "    open(name, 'wb').write(r.content)\n",
    "\n",
    "    \n",
    "#This function combines the functions: files_to_download and download_files\n",
    "#It runs the files_to_download to generate a list of links to download\n",
    "#It then threads through all of the downloads to get done SUPER QUICK\n",
    "def download_all(site, file_format, folder=None):\n",
    "    '''Takes a Site, a File Format, and a Destination folder\n",
    "   Downloads all of files of that format from a webpage into the folder.\n",
    "    \n",
    "    download_all('https://websitewithmusic.com', '.mp3', 'C:\\\\Users\\\\Desktop\\Folder')\n",
    "    >>>> All mp3s will be downloaded to the Folder folder on your Desktop'''\n",
    "    files_list = files_to_download(site, file_format)\n",
    "    for i in files_list:\n",
    "        t = Thread(target=download_files, args=(i, folder))\n",
    "        t.start()\n",
    "\n",
    "# def download_all(site, file_format, folder=None):\n",
    "#     '''Takes a Site, a File Format, and a Destination folder\n",
    "#    Downloads all of files of that format from a webpage into the folder.\n",
    "    \n",
    "#     download_all('https://websitewithmusic.com', '.mp3', 'C:\\\\Users\\\\Desktop\\Folder')\n",
    "#     >>>> All mp3s will be downloaded to the Folder folder on your Desktop'''\n",
    "#     files_list = files_to_download(site, file_format)\n",
    "#     for i in files_list:\n",
    "#         t = Thread(target=download_files, args=(i, folder))\n",
    "#         t.start()\n",
    "\n",
    "\n",
    "\n",
    "def grab_from_link(url, name, location):\n",
    "    from tqdm import tqdm\n",
    "    response = requests.get(url, stream=True)\n",
    "    \n",
    "    output = location + '/' + name\n",
    "\n",
    "    with open(output, \"wb\") as handle:\n",
    "        for data in tqdm(response.iter_content()):\n",
    "            handle.write(data)\n",
    "            \n"
   ]
  },
  {
   "cell_type": "code",
   "execution_count": 106,
   "metadata": {},
   "outputs": [
    {
     "name": "stdout",
     "output_type": "stream",
     "text": [
      "['machines/akai-alesis-bontempi.htm', 'machines/casio-emu-fricke.htm', 'machines/kawai-korg-linn.htm', 'machines/kawai-korg-linn.htm', 'machines/novation-oberheim.htm', 'machines/simmons-vermona-yamaha.htm', 'machines/akai-alesis-bontempi.htm', 'machines/kawai-korg-linn.htm', 'machines/simmons-vermona-yamaha.htm', 'machines/novation-oberheim.htm', 'machines/novation-oberheim.htm', 'machines/casio-emu-fricke.htm', 'newsletter.htm', 'newsletter.htm', 'faq.htm', 'faq.htm', 'http://www.synthzone.com/', 'http://www.maketunes.com/', 'http://www.kvraudio.com/', 'http://www.vintagesynth.com/', 'http://www.synthmuseum.com/', 'http://www.delamar.de/', 'http://www.rhythm-lab.com/', 'http://www.loopmasters.com#a_aid=4b7c099e6c77e&amp;a_bid=606ab213', 'thelist.htm', 'thelist.htm', 'index.htm', 'index.htm', 'index.htm', 'downloads_en.php', 'downloads_snare_drum.php', 'downloads_en.php', 'hfiehhwodwcnsjdcnsk/[KB6]_Acetone_Rhythm-Ace.rar', 'hfiehhwodwcnsjdcnsk/[KB6]_Acetone_Rhythm-King.rar', 'hfiehhwodwcnsjdcnsk/[KB6]_Acetone_Rhythm-Master.rar', 'hfiehhwodwcnsjdcnsk/[KB6]_AcidLab_Miami.rar', '#att', '#att', 'hfiehhwodwcnsjdcnsk/[KB6]_Akai_MPC2000.rar', '#att', '#att', '#att', '#att', 'hfiehhwodwcnsjdcnsk/[KB6]_Akai_XE8.rar', '#att', '#att', '#att', '#att', '#att', 'hfiehhwodwcnsjdcnsk/[KB6]_Alesis_HR16A.rar', 'http://drumsamples.kb6.de/2009/04/free-drum-samples-alesis-hr-16-a/', '#att', '#att', '#att', '#att', 'hfiehhwodwcnsjdcnsk/[KB6]_ARP_Axxe.rar', '#att', 'hfiehhwodwcnsjdcnsk/[KB6]_Austin_ARB-6.rar', 'hfiehhwodwcnsjdcnsk/[KB6]_BME_Rattlesnake.rar', 'hfiehhwodwcnsjdcnsk/[KB6]_Bontempi_HF222.rar', '#att', 'hfiehhwodwcnsjdcnsk/[KB6]_Casio_CZ-230S.rar', 'hfiehhwodwcnsjdcnsk/[KB6]_Casio_HT-700.rar', 'hfiehhwodwcnsjdcnsk/[KB6]_Casio_MA-101.rar', 'hfiehhwodwcnsjdcnsk/[KB6]_Casio_RZ1.rar', 'hfiehhwodwcnsjdcnsk/[KB6]_Casio_SA-10.rar', 'hfiehhwodwcnsjdcnsk/[KB6]_Casio_SK1.rar', 'hfiehhwodwcnsjdcnsk/[KB6]_Casio_SK5.rar', 'hfiehhwodwcnsjdcnsk/[KB6]_Casio_MT-18.rar', 'hfiehhwodwcnsjdcnsk/[KB6]_Casio_MT-100.rar', 'hfiehhwodwcnsjdcnsk/[KB6]_Casio_MT-500.rar', 'hfiehhwodwcnsjdcnsk/[KB6]_Casio_MT-800.rar', 'hfiehhwodwcnsjdcnsk/[KB6]_Casio_PT-82.rar', 'hfiehhwodwcnsjdcnsk/[KB6]_Casio_Rapman.rar', 'hfiehhwodwcnsjdcnsk/[KB6]_Casio_Rapman-II.rar', 'hfiehhwodwcnsjdcnsk/[KB6]_Chaser_PR-80.rar', 'hfiehhwodwcnsjdcnsk/[KB6]_Cheetah_MD16.rar', 'hfiehhwodwcnsjdcnsk/[KB6]_Cheetah_SpecDrum.rar', 'http://drumsamples.kb6.de/2009/04/free-drum-samples-cheetah-specdrum/', '#att', '#att', 'hfiehhwodwcnsjdcnsk/[KB6]_Clavia_Nord-Drum.rar', 'hfiehhwodwcnsjdcnsk/[KB6]_Coron_Drum-Synce_DS-7.rar', '#att', '#att', 'hfiehhwodwcnsjdcnsk/[KB6]_Daytone_Drum-Synthe-RDS.rar', 'hfiehhwodwcnsjdcnsk/[KB6]_DeepSky_Drumbox.rar', 'hfiehhwodwcnsjdcnsk/[KB6]_Denon_CRB-90.rar', 'hfiehhwodwcnsjdcnsk/[KB6]_Digitech_RP200.rar', 'hfiehhwodwcnsjdcnsk/[KB6]_DrBoehm_S-78.rar', 'hfiehhwodwcnsjdcnsk/[KB6]_Drumfire_DF-500.rar', 'hfiehhwodwcnsjdcnsk/[KB6]_EKO_MusicBox-12.rar', 'hfiehhwodwcnsjdcnsk/[KB6]_EKO_Ritmo20.rar', 'hfiehhwodwcnsjdcnsk/[KB6]_Electro-Harmonix_DRM-15.rar', 'hfiehhwodwcnsjdcnsk/[KB6]_Electro-Harmonix_DRM-16.rar', 'hfiehhwodwcnsjdcnsk/[KB6]_Electro-Harmonix_DRM-32.rar', '#att', '#att', '#att', '#att', 'hfiehhwodwcnsjdcnsk/[KB6]_Elka_Drumstar-80.rar', '#att', '#att', '#att', 'hfiehhwodwcnsjdcnsk/[KB6]_EMU_E-Drum.rar', '#att', '#att', '#att', '#att', '#att', 'hfiehhwodwcnsjdcnsk/[KB6]_EMU_Proteus1.rar', '#att', 'hfiehhwodwcnsjdcnsk/[KB6]_EMU_Proteus3.rar', '#att', 'hfiehhwodwcnsjdcnsk/[KB6]_EMU_SP-12.rar', '#att', '#att', '#att', 'hfiehhwodwcnsjdcnsk/[KB6]_Ensoniq_ASR-X.rar', '#att', 'hfiehhwodwcnsjdcnsk/[KB6]_Ensoniq_EPS.rar', 'hfiehhwodwcnsjdcnsk/[KB6]_Ensoniq_Mirage.rar', '#att', '#att', 'hfiehhwodwcnsjdcnsk/[KB6]_Estradin_Pulsar.rar', '#att', '#att', 'hfiehhwodwcnsjdcnsk/[KB6]_Forat_F-9000.rar', '#att', 'hfiehhwodwcnsjdcnsk/[KB6]_Fricke_MFB_301.rar', 'hfiehhwodwcnsjdcnsk/[KB6]_Fricke_MFB_501.rar', 'hfiehhwodwcnsjdcnsk/[KB6]_Fricke_MFB_512.rar', '#att', 'hfiehhwodwcnsjdcnsk/[KB6]_Fricke_MFB_712.rar', '#att', '#att', 'hfiehhwodwcnsjdcnsk/[KB6]_GEM_Drum15.rar', 'hfiehhwodwcnsjdcnsk/[KB6]_Hammond_Auto-Vari64.rar', 'hfiehhwodwcnsjdcnsk/[KB6]_Hammond_Rhythm2.rar', 'hfiehhwodwcnsjdcnsk/[KB6]_Hing-Hon_EK001.rar', '#att', 'hfiehhwodwcnsjdcnsk/[KB6]_Jomox_Mbase01.rar', '#att', '#att', 'hfiehhwodwcnsjdcnsk/[KB6]_Kawai_ACR20.rar', 'hfiehhwodwcnsjdcnsk/[KB6]_Kawai_K1.rar', '#att', 'hfiehhwodwcnsjdcnsk/[KB6]_Kawai_R-50.rar', 'hfiehhwodwcnsjdcnsk/[KB6]_Kawai_R-50e.rar', 'hfiehhwodwcnsjdcnsk/[KB6]_Kawai_R-100.rar', 'hfiehhwodwcnsjdcnsk/[KB6]_Kawai_SX-240.rar', 'hfiehhwodwcnsjdcnsk/[KB6]_Kawai_XD-5.rar', 'hfiehhwodwcnsjdcnsk/[KB6]_Kay_DRM1.rar', 'hfiehhwodwcnsjdcnsk/[KB6]_Kay_R8.rar', 'hfiehhwodwcnsjdcnsk/[KB6]_Keio_Checkmate.rar', 'hfiehhwodwcnsjdcnsk/[KB6]_Ketron_SD-5.rar', '#att', '#att', '#att', '#att', 'hfiehhwodwcnsjdcnsk/[KB6]_Korg_DDD-1.rar', '#att', 'hfiehhwodwcnsjdcnsk/[KB6]_Korg_DDM110.rar', 'hfiehhwodwcnsjdcnsk/[KB6]_Korg_DDM220.rar', 'hfiehhwodwcnsjdcnsk/[KB6]_Korg_DRM-1.rar', '#att', '#att', '#att', '#att', 'hfiehhwodwcnsjdcnsk/[KB6]_Korg_KPR77.rar', 'hfiehhwodwcnsjdcnsk/[KB6]_Korg_KR-33.rar', 'hfiehhwodwcnsjdcnsk/[KB6]_Korg_KR55.rar', 'hfiehhwodwcnsjdcnsk/[KB6]_Korg_KR-Mini.rar', '#att', 'hfiehhwodwcnsjdcnsk/[KB6]_Korg_Minipops.rar', '#att', 'hfiehhwodwcnsjdcnsk/[KB6]_Korg_MP7.rar', 'hfiehhwodwcnsjdcnsk/[KB6]_Korg_Prophecy.rar', 'hfiehhwodwcnsjdcnsk/[KB6]_Korg_ProWave.rar', 'hfiehhwodwcnsjdcnsk/[KB6]_Korg_PSS-50.rar', 'hfiehhwodwcnsjdcnsk/[KB6]_Korg_Radias.rar', 'hfiehhwodwcnsjdcnsk/[KB6]_Korg_SR-120.rar', 'hfiehhwodwcnsjdcnsk/[KB6]_Korg_T1.rar', 'hfiehhwodwcnsjdcnsk/[KB6]_Korg_T3.rar', '#att', '#att', '#att', '#att', '#att', '#att', '#att', '#att', 'hfiehhwodwcnsjdcnsk/[KB6]_Kurzweil_K2000.rar', 'hfiehhwodwcnsjdcnsk/[KB6]_Lel_PSR.rar', 'hfiehhwodwcnsjdcnsk/[KB6]_Linn_AdrenaLinn1.rar', '#att', 'hfiehhwodwcnsjdcnsk/[KB6]_Linn_LM-1.rar', '#att', '#att', 'hfiehhwodwcnsjdcnsk/[KB6]_Maestro_G2.rar', '#att', 'hfiehhwodwcnsjdcnsk/[KB6]_Mattel_Electronics_Synsonics_DRM.rar', '#att', 'http://drumsamples.kb6.de/2009/04/free-drum-samples-millenium-mps-400/', 'hfiehhwodwcnsjdcnsk/[KB6]_Moog_Modular55.rar', 'hfiehhwodwcnsjdcnsk/[KB6]_Moog_Voyager.rar', '#att', 'hfiehhwodwcnsjdcnsk/[KB6]_MPC-Electronics_The-KIT.rar', 'hfiehhwodwcnsjdcnsk/[KB6]_MSC_DL-909.rar', 'hfiehhwodwcnsjdcnsk/[KB6]_MTI_AO-1.rar', '#att', '#att', 'hfiehhwodwcnsjdcnsk/[KB6]_MXR_185.rar', 'hfiehhwodwcnsjdcnsk/[KB6]_Nasta_Hit-Stix2.rar', 'hfiehhwodwcnsjdcnsk/[KB6]_Nintendo_Game-Boy-Advance-SP.rar', '#att', '#att', '#att', 'hfiehhwodwcnsjdcnsk/[KB6]_Novation_Bass-Station-2.rar', '#att', '#att', '#att', 'hfiehhwodwcnsjdcnsk/[KB6]_Panasonic_RD-9844.rar', '#att', 'hfiehhwodwcnsjdcnsk/[KB6]_Pearl_DRX-1.rar', '#att', '#att', '#att', '#att', '#att', 'hfiehhwodwcnsjdcnsk/[KB6]_Rhodes_Polaris.rar', 'hfiehhwodwcnsjdcnsk/[KB6]_RSF_DD-30.rar', 'hfiehhwodwcnsjdcnsk/[KB6]_Sakata_DPM48.rar', 'hfiehhwodwcnsjdcnsk/[KB6]_SequentialCircuits_Drumtraks.rar', 'hfiehhwodwcnsjdcnsk/[KB6]_Sequential_Circuits_Studio-440.rar', 'hfiehhwodwcnsjdcnsk/[KB6]_SequentialCircuits_Tom.rar', 'hfiehhwodwcnsjdcnsk/[KB6]_Serge_Modular.rar', 'hfiehhwodwcnsjdcnsk/[KB6]_Simmons_ClapTrap.rar', 'hfiehhwodwcnsjdcnsk/[KB6]_Simmons_SDS1000.rar', 'hfiehhwodwcnsjdcnsk/[KB6]_Simmons_SDS200.rar', 'hfiehhwodwcnsjdcnsk/[KB6]_Simmons_SDS2000.rar', '#att', 'hfiehhwodwcnsjdcnsk/[KB6]_Simmons_SDS7.rar', '#att', '#att', 'hfiehhwodwcnsjdcnsk/[KB6]_Solton_Disco-64.rar', '#att', '#att', 'hfiehhwodwcnsjdcnsk/[KB6]_Sony_DRP-1.rar', '#att', 'hfiehhwodwcnsjdcnsk/[KB6]_SoundMaster_SR88.rar', 'hfiehhwodwcnsjdcnsk/[KB6]_SoundMaster_Stix_ST-305.rar', 'hfiehhwodwcnsjdcnsk/[KB6]_SRB_600.rar', 'hfiehhwodwcnsjdcnsk/[KB6]_Star-Instruments_Synare-PS-1.rar', '#att', 'hfiehhwodwcnsjdcnsk/[KB6]_Stylophone_Beatbox.rar', 'hfiehhwodwcnsjdcnsk/[KB6]_Syncussion_Zapp.rar', 'hfiehhwodwcnsjdcnsk/[KB6]_Tama_RockStar.rar', '#att', '#att', 'hfiehhwodwcnsjdcnsk/[KB6]_Tama_TS-500.rar', 'hfiehhwodwcnsjdcnsk/[KB6]_Technics_AX5.rar', 'hfiehhwodwcnsjdcnsk/[KB6]_Technics_PCM_DP50.rar', 'hfiehhwodwcnsjdcnsk/[KB6]_Technics_U90.rar', 'hfiehhwodwcnsjdcnsk/[KB6]_Teenage-Engineering_PO-12.rar', '#att', '#att', 'hfiehhwodwcnsjdcnsk/[KB6]_Vermona_DRM1.rar', '#att', '#att', '#att', '#att', 'hfiehhwodwcnsjdcnsk/[KB6]_Video-Tech_Rythmic10.rar', 'hfiehhwodwcnsjdcnsk/[KB6]_Visco_Space_Drum.rar', 'hfiehhwodwcnsjdcnsk/[KB6]_Watford-Electronics_Rhythm-Generator.rar', 'hfiehhwodwcnsjdcnsk/[KB6]_Wersi_Prisma-DX5.rar', 'hfiehhwodwcnsjdcnsk/[KB6]_Wiard_300-Series-Modular.rar', '#att', 'hfiehhwodwcnsjdcnsk/[KB6]_Wurlitzer_Swinging-Rhythm.rar', 'hfiehhwodwcnsjdcnsk/[KB6]_Yamaha_AN200.rar', '#att', 'hfiehhwodwcnsjdcnsk/[KB6]_Yamaha_CS15D.rar', 'hfiehhwodwcnsjdcnsk/[KB6]_Yamaha_CS-40M.rar', 'hfiehhwodwcnsjdcnsk/[KB6]_Yamaha_DD-5.rar', '#att', 'hfiehhwodwcnsjdcnsk/[KB6]_Yamaha_DD-10.rar', 'hfiehhwodwcnsjdcnsk/[KB6]_Yamaha_DD-11.rar', '#att', '#att', 'hfiehhwodwcnsjdcnsk/[KB6]_Yamaha_DD-50.rar', '#att', '#att', '#att', '#att', '#att', '#att', '#att', '#att', '#att', '#att', 'hfiehhwodwcnsjdcnsk/[KB6]_Yamaha_PTX8.rar', '#att', '#att', 'hfiehhwodwcnsjdcnsk/[KB6]_Yamaha_RX-11.rar', 'hfiehhwodwcnsjdcnsk/[KB6]_Yamaha_RX-21.rar', 'hfiehhwodwcnsjdcnsk/[KB6]_Yamaha_RX-21L.rar', 'hfiehhwodwcnsjdcnsk/[KB6]_Yamaha_RX-5.rar', '#att', 'hfiehhwodwcnsjdcnsk/[KB6]_Yamaha_RX15.rar', 'hfiehhwodwcnsjdcnsk/[KB6]_Yamaha_RX17.rar', 'hfiehhwodwcnsjdcnsk/[KB6]_Yamaha_RX-120.rar', '#att', '#att', '#att', '#att', '#att', 'hfiehhwodwcnsjdcnsk/[KB6]_Yamaha_SHS200.rar', '#att', '#att', '#att', '#att', 'hfiehhwodwcnsjdcnsk/[KB6]_Yamaha_TX16W_Typhoon-OS.rar', 'hfiehhwodwcnsjdcnsk/[KB6]_Yamaha_VSS-100.rar', '#att', '#att', '#att', '#att', '#att', '#att', 'https://www.paypal.me/KB6samples', 'https://www.paypal.me/KB6samples', 'faq.htm']\n",
      "machines/akai-alesis-bontempi.htm\n",
      "machines/casio-emu-fricke.htm\n",
      "machines/kawai-korg-linn.htm\n",
      "machines/kawai-korg-linn.htm\n",
      "machines/novation-oberheim.htm\n",
      "machines/simmons-vermona-yamaha.htm\n",
      "machines/akai-alesis-bontempi.htm\n",
      "machines/kawai-korg-linn.htm\n",
      "machines/simmons-vermona-yamaha.htm\n",
      "machines/novation-oberheim.htm\n",
      "machines/novation-oberheim.htm\n",
      "machines/casio-emu-fricke.htm\n",
      "newsletter.htm\n",
      "newsletter.htm\n",
      "faq.htm\n",
      "faq.htm\n",
      "http://www.synthzone.com/\n",
      "http://www.maketunes.com/\n",
      "http://www.kvraudio.com/\n",
      "http://www.vintagesynth.com/\n",
      "http://www.synthmuseum.com/\n",
      "http://www.delamar.de/\n",
      "http://www.rhythm-lab.com/\n",
      "http://www.loopmasters.com#a_aid=4b7c099e6c77e&amp;a_bid=606ab213\n",
      "thelist.htm\n",
      "thelist.htm\n",
      "index.htm\n",
      "index.htm\n",
      "index.htm\n",
      "downloads_en.php\n",
      "downloads_snare_drum.php\n",
      "downloads_en.php\n",
      "hfiehhwodwcnsjdcnsk/[KB6]_Acetone_Rhythm-Ace.rar\n",
      "hfiehhwodwcnsjdcnsk/[KB6]_Acetone_Rhythm-King.rar\n",
      "hfiehhwodwcnsjdcnsk/[KB6]_Acetone_Rhythm-Master.rar\n",
      "hfiehhwodwcnsjdcnsk/[KB6]_AcidLab_Miami.rar\n",
      "#att\n",
      "#att\n",
      "hfiehhwodwcnsjdcnsk/[KB6]_Akai_MPC2000.rar\n",
      "#att\n",
      "#att\n",
      "#att\n",
      "#att\n",
      "hfiehhwodwcnsjdcnsk/[KB6]_Akai_XE8.rar\n",
      "#att\n",
      "#att\n",
      "#att\n",
      "#att\n",
      "#att\n",
      "hfiehhwodwcnsjdcnsk/[KB6]_Alesis_HR16A.rar\n",
      "http://drumsamples.kb6.de/2009/04/free-drum-samples-alesis-hr-16-a/\n",
      "#att\n",
      "#att\n",
      "#att\n",
      "#att\n",
      "hfiehhwodwcnsjdcnsk/[KB6]_ARP_Axxe.rar\n",
      "#att\n",
      "hfiehhwodwcnsjdcnsk/[KB6]_Austin_ARB-6.rar\n",
      "hfiehhwodwcnsjdcnsk/[KB6]_BME_Rattlesnake.rar\n",
      "hfiehhwodwcnsjdcnsk/[KB6]_Bontempi_HF222.rar\n",
      "#att\n",
      "hfiehhwodwcnsjdcnsk/[KB6]_Casio_CZ-230S.rar\n",
      "hfiehhwodwcnsjdcnsk/[KB6]_Casio_HT-700.rar\n",
      "hfiehhwodwcnsjdcnsk/[KB6]_Casio_MA-101.rar\n",
      "hfiehhwodwcnsjdcnsk/[KB6]_Casio_RZ1.rar\n",
      "hfiehhwodwcnsjdcnsk/[KB6]_Casio_SA-10.rar\n",
      "hfiehhwodwcnsjdcnsk/[KB6]_Casio_SK1.rar\n",
      "hfiehhwodwcnsjdcnsk/[KB6]_Casio_SK5.rar\n",
      "hfiehhwodwcnsjdcnsk/[KB6]_Casio_MT-18.rar\n",
      "hfiehhwodwcnsjdcnsk/[KB6]_Casio_MT-100.rar\n",
      "hfiehhwodwcnsjdcnsk/[KB6]_Casio_MT-500.rar\n",
      "hfiehhwodwcnsjdcnsk/[KB6]_Casio_MT-800.rar\n",
      "hfiehhwodwcnsjdcnsk/[KB6]_Casio_PT-82.rar\n",
      "hfiehhwodwcnsjdcnsk/[KB6]_Casio_Rapman.rar\n",
      "hfiehhwodwcnsjdcnsk/[KB6]_Casio_Rapman-II.rar\n",
      "hfiehhwodwcnsjdcnsk/[KB6]_Chaser_PR-80.rar\n",
      "hfiehhwodwcnsjdcnsk/[KB6]_Cheetah_MD16.rar\n",
      "hfiehhwodwcnsjdcnsk/[KB6]_Cheetah_SpecDrum.rar\n",
      "http://drumsamples.kb6.de/2009/04/free-drum-samples-cheetah-specdrum/\n",
      "#att\n",
      "#att\n",
      "hfiehhwodwcnsjdcnsk/[KB6]_Clavia_Nord-Drum.rar\n",
      "hfiehhwodwcnsjdcnsk/[KB6]_Coron_Drum-Synce_DS-7.rar\n",
      "#att\n",
      "#att\n",
      "hfiehhwodwcnsjdcnsk/[KB6]_Daytone_Drum-Synthe-RDS.rar\n",
      "hfiehhwodwcnsjdcnsk/[KB6]_DeepSky_Drumbox.rar\n",
      "hfiehhwodwcnsjdcnsk/[KB6]_Denon_CRB-90.rar\n",
      "hfiehhwodwcnsjdcnsk/[KB6]_Digitech_RP200.rar\n",
      "hfiehhwodwcnsjdcnsk/[KB6]_DrBoehm_S-78.rar\n",
      "hfiehhwodwcnsjdcnsk/[KB6]_Drumfire_DF-500.rar\n",
      "hfiehhwodwcnsjdcnsk/[KB6]_EKO_MusicBox-12.rar\n",
      "hfiehhwodwcnsjdcnsk/[KB6]_EKO_Ritmo20.rar\n",
      "hfiehhwodwcnsjdcnsk/[KB6]_Electro-Harmonix_DRM-15.rar\n",
      "hfiehhwodwcnsjdcnsk/[KB6]_Electro-Harmonix_DRM-16.rar\n",
      "hfiehhwodwcnsjdcnsk/[KB6]_Electro-Harmonix_DRM-32.rar\n",
      "#att\n",
      "#att\n",
      "#att\n",
      "#att\n",
      "hfiehhwodwcnsjdcnsk/[KB6]_Elka_Drumstar-80.rar\n",
      "#att\n",
      "#att\n",
      "#att\n",
      "hfiehhwodwcnsjdcnsk/[KB6]_EMU_E-Drum.rar\n",
      "#att\n",
      "#att\n",
      "#att\n",
      "#att\n",
      "#att\n",
      "hfiehhwodwcnsjdcnsk/[KB6]_EMU_Proteus1.rar\n",
      "#att\n",
      "hfiehhwodwcnsjdcnsk/[KB6]_EMU_Proteus3.rar\n",
      "#att\n",
      "hfiehhwodwcnsjdcnsk/[KB6]_EMU_SP-12.rar\n",
      "#att\n",
      "#att\n",
      "#att\n",
      "hfiehhwodwcnsjdcnsk/[KB6]_Ensoniq_ASR-X.rar\n",
      "#att\n",
      "hfiehhwodwcnsjdcnsk/[KB6]_Ensoniq_EPS.rar\n",
      "hfiehhwodwcnsjdcnsk/[KB6]_Ensoniq_Mirage.rar\n",
      "#att\n",
      "#att\n",
      "hfiehhwodwcnsjdcnsk/[KB6]_Estradin_Pulsar.rar\n",
      "#att\n",
      "#att\n",
      "hfiehhwodwcnsjdcnsk/[KB6]_Forat_F-9000.rar\n",
      "#att\n",
      "hfiehhwodwcnsjdcnsk/[KB6]_Fricke_MFB_301.rar\n",
      "hfiehhwodwcnsjdcnsk/[KB6]_Fricke_MFB_501.rar\n",
      "hfiehhwodwcnsjdcnsk/[KB6]_Fricke_MFB_512.rar\n",
      "#att\n",
      "hfiehhwodwcnsjdcnsk/[KB6]_Fricke_MFB_712.rar\n",
      "#att\n",
      "#att\n",
      "hfiehhwodwcnsjdcnsk/[KB6]_GEM_Drum15.rar\n",
      "hfiehhwodwcnsjdcnsk/[KB6]_Hammond_Auto-Vari64.rar\n",
      "hfiehhwodwcnsjdcnsk/[KB6]_Hammond_Rhythm2.rar\n",
      "hfiehhwodwcnsjdcnsk/[KB6]_Hing-Hon_EK001.rar\n",
      "#att\n",
      "hfiehhwodwcnsjdcnsk/[KB6]_Jomox_Mbase01.rar\n",
      "#att\n",
      "#att\n",
      "hfiehhwodwcnsjdcnsk/[KB6]_Kawai_ACR20.rar\n",
      "hfiehhwodwcnsjdcnsk/[KB6]_Kawai_K1.rar\n",
      "#att\n",
      "hfiehhwodwcnsjdcnsk/[KB6]_Kawai_R-50.rar\n",
      "hfiehhwodwcnsjdcnsk/[KB6]_Kawai_R-50e.rar\n",
      "hfiehhwodwcnsjdcnsk/[KB6]_Kawai_R-100.rar\n",
      "hfiehhwodwcnsjdcnsk/[KB6]_Kawai_SX-240.rar\n",
      "hfiehhwodwcnsjdcnsk/[KB6]_Kawai_XD-5.rar\n",
      "hfiehhwodwcnsjdcnsk/[KB6]_Kay_DRM1.rar\n",
      "hfiehhwodwcnsjdcnsk/[KB6]_Kay_R8.rar\n",
      "hfiehhwodwcnsjdcnsk/[KB6]_Keio_Checkmate.rar\n",
      "hfiehhwodwcnsjdcnsk/[KB6]_Ketron_SD-5.rar\n",
      "#att\n",
      "#att\n",
      "#att\n",
      "#att\n",
      "hfiehhwodwcnsjdcnsk/[KB6]_Korg_DDD-1.rar\n",
      "#att\n",
      "hfiehhwodwcnsjdcnsk/[KB6]_Korg_DDM110.rar\n",
      "hfiehhwodwcnsjdcnsk/[KB6]_Korg_DDM220.rar\n",
      "hfiehhwodwcnsjdcnsk/[KB6]_Korg_DRM-1.rar\n",
      "#att\n",
      "#att\n",
      "#att\n",
      "#att\n",
      "hfiehhwodwcnsjdcnsk/[KB6]_Korg_KPR77.rar\n",
      "hfiehhwodwcnsjdcnsk/[KB6]_Korg_KR-33.rar\n",
      "hfiehhwodwcnsjdcnsk/[KB6]_Korg_KR55.rar\n",
      "hfiehhwodwcnsjdcnsk/[KB6]_Korg_KR-Mini.rar\n",
      "#att\n",
      "hfiehhwodwcnsjdcnsk/[KB6]_Korg_Minipops.rar\n",
      "#att\n",
      "hfiehhwodwcnsjdcnsk/[KB6]_Korg_MP7.rar\n",
      "hfiehhwodwcnsjdcnsk/[KB6]_Korg_Prophecy.rar\n",
      "hfiehhwodwcnsjdcnsk/[KB6]_Korg_ProWave.rar\n",
      "hfiehhwodwcnsjdcnsk/[KB6]_Korg_PSS-50.rar\n",
      "hfiehhwodwcnsjdcnsk/[KB6]_Korg_Radias.rar\n",
      "hfiehhwodwcnsjdcnsk/[KB6]_Korg_SR-120.rar\n",
      "hfiehhwodwcnsjdcnsk/[KB6]_Korg_T1.rar\n",
      "hfiehhwodwcnsjdcnsk/[KB6]_Korg_T3.rar\n",
      "#att\n",
      "#att\n",
      "#att\n",
      "#att\n",
      "#att\n",
      "#att\n",
      "#att\n",
      "#att\n",
      "hfiehhwodwcnsjdcnsk/[KB6]_Kurzweil_K2000.rar\n",
      "hfiehhwodwcnsjdcnsk/[KB6]_Lel_PSR.rar\n",
      "hfiehhwodwcnsjdcnsk/[KB6]_Linn_AdrenaLinn1.rar\n",
      "#att\n",
      "hfiehhwodwcnsjdcnsk/[KB6]_Linn_LM-1.rar\n",
      "#att\n",
      "#att\n",
      "hfiehhwodwcnsjdcnsk/[KB6]_Maestro_G2.rar\n",
      "#att\n",
      "hfiehhwodwcnsjdcnsk/[KB6]_Mattel_Electronics_Synsonics_DRM.rar\n",
      "#att\n",
      "http://drumsamples.kb6.de/2009/04/free-drum-samples-millenium-mps-400/\n",
      "hfiehhwodwcnsjdcnsk/[KB6]_Moog_Modular55.rar\n",
      "hfiehhwodwcnsjdcnsk/[KB6]_Moog_Voyager.rar\n",
      "#att\n",
      "hfiehhwodwcnsjdcnsk/[KB6]_MPC-Electronics_The-KIT.rar\n",
      "hfiehhwodwcnsjdcnsk/[KB6]_MSC_DL-909.rar\n",
      "hfiehhwodwcnsjdcnsk/[KB6]_MTI_AO-1.rar\n",
      "#att\n",
      "#att\n",
      "hfiehhwodwcnsjdcnsk/[KB6]_MXR_185.rar\n",
      "hfiehhwodwcnsjdcnsk/[KB6]_Nasta_Hit-Stix2.rar\n",
      "hfiehhwodwcnsjdcnsk/[KB6]_Nintendo_Game-Boy-Advance-SP.rar\n",
      "#att\n",
      "#att\n",
      "#att\n",
      "hfiehhwodwcnsjdcnsk/[KB6]_Novation_Bass-Station-2.rar\n",
      "#att\n",
      "#att\n",
      "#att\n",
      "hfiehhwodwcnsjdcnsk/[KB6]_Panasonic_RD-9844.rar\n",
      "#att\n",
      "hfiehhwodwcnsjdcnsk/[KB6]_Pearl_DRX-1.rar\n",
      "#att\n",
      "#att\n",
      "#att\n",
      "#att\n",
      "#att\n",
      "hfiehhwodwcnsjdcnsk/[KB6]_Rhodes_Polaris.rar\n",
      "hfiehhwodwcnsjdcnsk/[KB6]_RSF_DD-30.rar\n",
      "hfiehhwodwcnsjdcnsk/[KB6]_Sakata_DPM48.rar\n",
      "hfiehhwodwcnsjdcnsk/[KB6]_SequentialCircuits_Drumtraks.rar\n",
      "hfiehhwodwcnsjdcnsk/[KB6]_Sequential_Circuits_Studio-440.rar\n",
      "hfiehhwodwcnsjdcnsk/[KB6]_SequentialCircuits_Tom.rar\n",
      "hfiehhwodwcnsjdcnsk/[KB6]_Serge_Modular.rar\n",
      "hfiehhwodwcnsjdcnsk/[KB6]_Simmons_ClapTrap.rar\n",
      "hfiehhwodwcnsjdcnsk/[KB6]_Simmons_SDS1000.rar\n",
      "hfiehhwodwcnsjdcnsk/[KB6]_Simmons_SDS200.rar\n",
      "hfiehhwodwcnsjdcnsk/[KB6]_Simmons_SDS2000.rar\n",
      "#att\n",
      "hfiehhwodwcnsjdcnsk/[KB6]_Simmons_SDS7.rar\n",
      "#att\n",
      "#att\n",
      "hfiehhwodwcnsjdcnsk/[KB6]_Solton_Disco-64.rar\n",
      "#att\n",
      "#att\n",
      "hfiehhwodwcnsjdcnsk/[KB6]_Sony_DRP-1.rar\n",
      "#att\n",
      "hfiehhwodwcnsjdcnsk/[KB6]_SoundMaster_SR88.rar\n",
      "hfiehhwodwcnsjdcnsk/[KB6]_SoundMaster_Stix_ST-305.rar\n",
      "hfiehhwodwcnsjdcnsk/[KB6]_SRB_600.rar\n",
      "hfiehhwodwcnsjdcnsk/[KB6]_Star-Instruments_Synare-PS-1.rar\n",
      "#att\n",
      "hfiehhwodwcnsjdcnsk/[KB6]_Stylophone_Beatbox.rar\n",
      "hfiehhwodwcnsjdcnsk/[KB6]_Syncussion_Zapp.rar\n",
      "hfiehhwodwcnsjdcnsk/[KB6]_Tama_RockStar.rar\n",
      "#att\n",
      "#att\n",
      "hfiehhwodwcnsjdcnsk/[KB6]_Tama_TS-500.rar\n",
      "hfiehhwodwcnsjdcnsk/[KB6]_Technics_AX5.rar\n",
      "hfiehhwodwcnsjdcnsk/[KB6]_Technics_PCM_DP50.rar\n",
      "hfiehhwodwcnsjdcnsk/[KB6]_Technics_U90.rar\n",
      "hfiehhwodwcnsjdcnsk/[KB6]_Teenage-Engineering_PO-12.rar\n",
      "#att\n",
      "#att\n",
      "hfiehhwodwcnsjdcnsk/[KB6]_Vermona_DRM1.rar\n",
      "#att\n",
      "#att\n",
      "#att\n",
      "#att\n",
      "hfiehhwodwcnsjdcnsk/[KB6]_Video-Tech_Rythmic10.rar\n",
      "hfiehhwodwcnsjdcnsk/[KB6]_Visco_Space_Drum.rar\n",
      "hfiehhwodwcnsjdcnsk/[KB6]_Watford-Electronics_Rhythm-Generator.rar\n",
      "hfiehhwodwcnsjdcnsk/[KB6]_Wersi_Prisma-DX5.rar\n",
      "hfiehhwodwcnsjdcnsk/[KB6]_Wiard_300-Series-Modular.rar\n",
      "#att\n",
      "hfiehhwodwcnsjdcnsk/[KB6]_Wurlitzer_Swinging-Rhythm.rar\n",
      "hfiehhwodwcnsjdcnsk/[KB6]_Yamaha_AN200.rar\n",
      "#att\n",
      "hfiehhwodwcnsjdcnsk/[KB6]_Yamaha_CS15D.rar\n",
      "hfiehhwodwcnsjdcnsk/[KB6]_Yamaha_CS-40M.rar\n",
      "hfiehhwodwcnsjdcnsk/[KB6]_Yamaha_DD-5.rar\n",
      "#att\n",
      "hfiehhwodwcnsjdcnsk/[KB6]_Yamaha_DD-10.rar\n",
      "hfiehhwodwcnsjdcnsk/[KB6]_Yamaha_DD-11.rar\n",
      "#att\n",
      "#att\n",
      "hfiehhwodwcnsjdcnsk/[KB6]_Yamaha_DD-50.rar\n",
      "#att\n",
      "#att\n",
      "#att\n",
      "#att\n",
      "#att\n",
      "#att\n",
      "#att\n",
      "#att\n",
      "#att\n",
      "#att\n",
      "hfiehhwodwcnsjdcnsk/[KB6]_Yamaha_PTX8.rar\n",
      "#att\n",
      "#att\n",
      "hfiehhwodwcnsjdcnsk/[KB6]_Yamaha_RX-11.rar\n",
      "hfiehhwodwcnsjdcnsk/[KB6]_Yamaha_RX-21.rar\n",
      "hfiehhwodwcnsjdcnsk/[KB6]_Yamaha_RX-21L.rar\n",
      "hfiehhwodwcnsjdcnsk/[KB6]_Yamaha_RX-5.rar\n",
      "#att\n",
      "hfiehhwodwcnsjdcnsk/[KB6]_Yamaha_RX15.rar\n",
      "hfiehhwodwcnsjdcnsk/[KB6]_Yamaha_RX17.rar\n",
      "hfiehhwodwcnsjdcnsk/[KB6]_Yamaha_RX-120.rar\n",
      "#att\n",
      "#att\n",
      "#att\n",
      "#att\n",
      "#att\n",
      "hfiehhwodwcnsjdcnsk/[KB6]_Yamaha_SHS200.rar\n",
      "#att\n",
      "#att\n",
      "#att\n",
      "#att\n",
      "hfiehhwodwcnsjdcnsk/[KB6]_Yamaha_TX16W_Typhoon-OS.rar\n",
      "hfiehhwodwcnsjdcnsk/[KB6]_Yamaha_VSS-100.rar\n",
      "#att\n",
      "#att\n",
      "#att\n",
      "#att\n",
      "#att\n",
      "#att\n",
      "https://www.paypal.me/KB6samples\n",
      "https://www.paypal.me/KB6samples\n",
      "faq.htm\n"
     ]
    }
   ],
   "source": [
    "f = files_to_download('https://samples.kb6.de/downloads.php', '.rar')"
   ]
  },
  {
   "cell_type": "code",
   "execution_count": 111,
   "metadata": {},
   "outputs": [
    {
     "name": "stdout",
     "output_type": "stream",
     "text": [
      "hfiehhwodwcnsjdcnsk/[KB6]_Acetone_Rhythm-Ace.rar\n"
     ]
    },
    {
     "name": "stderr",
     "output_type": "stream",
     "text": [
      "9367it [00:00, 38794.31it/s]\n"
     ]
    },
    {
     "name": "stdout",
     "output_type": "stream",
     "text": [
      "hfiehhwodwcnsjdcnsk/[KB6]_Acetone_Rhythm-King.rar\n"
     ]
    },
    {
     "name": "stderr",
     "output_type": "stream",
     "text": [
      "9367it [00:00, 39269.04it/s]\n"
     ]
    },
    {
     "name": "stdout",
     "output_type": "stream",
     "text": [
      "hfiehhwodwcnsjdcnsk/[KB6]_Acetone_Rhythm-Master.rar\n"
     ]
    },
    {
     "name": "stderr",
     "output_type": "stream",
     "text": [
      "9367it [00:00, 38856.89it/s]\n"
     ]
    },
    {
     "name": "stdout",
     "output_type": "stream",
     "text": [
      "hfiehhwodwcnsjdcnsk/[KB6]_AcidLab_Miami.rar\n"
     ]
    },
    {
     "name": "stderr",
     "output_type": "stream",
     "text": [
      "9367it [00:00, 39093.67it/s]\n"
     ]
    },
    {
     "name": "stdout",
     "output_type": "stream",
     "text": [
      "hfiehhwodwcnsjdcnsk/[KB6]_Akai_MPC2000.rar\n"
     ]
    },
    {
     "name": "stderr",
     "output_type": "stream",
     "text": [
      "9367it [00:00, 34195.99it/s]\n"
     ]
    },
    {
     "name": "stdout",
     "output_type": "stream",
     "text": [
      "hfiehhwodwcnsjdcnsk/[KB6]_Akai_XE8.rar\n"
     ]
    },
    {
     "name": "stderr",
     "output_type": "stream",
     "text": [
      "9367it [00:00, 35292.41it/s]\n"
     ]
    },
    {
     "name": "stdout",
     "output_type": "stream",
     "text": [
      "hfiehhwodwcnsjdcnsk/[KB6]_Alesis_HR16A.rar\n"
     ]
    },
    {
     "name": "stderr",
     "output_type": "stream",
     "text": [
      "9367it [00:00, 37098.49it/s]\n"
     ]
    },
    {
     "name": "stdout",
     "output_type": "stream",
     "text": [
      "hfiehhwodwcnsjdcnsk/[KB6]_ARP_Axxe.rar\n"
     ]
    },
    {
     "name": "stderr",
     "output_type": "stream",
     "text": [
      "9367it [00:00, 31560.82it/s]\n"
     ]
    },
    {
     "name": "stdout",
     "output_type": "stream",
     "text": [
      "hfiehhwodwcnsjdcnsk/[KB6]_Austin_ARB-6.rar\n"
     ]
    },
    {
     "name": "stderr",
     "output_type": "stream",
     "text": [
      "9367it [00:00, 34334.26it/s]\n"
     ]
    },
    {
     "name": "stdout",
     "output_type": "stream",
     "text": [
      "hfiehhwodwcnsjdcnsk/[KB6]_BME_Rattlesnake.rar\n"
     ]
    },
    {
     "name": "stderr",
     "output_type": "stream",
     "text": [
      "9367it [00:00, 40286.96it/s]\n"
     ]
    },
    {
     "name": "stdout",
     "output_type": "stream",
     "text": [
      "hfiehhwodwcnsjdcnsk/[KB6]_Bontempi_HF222.rar\n"
     ]
    },
    {
     "name": "stderr",
     "output_type": "stream",
     "text": [
      "9367it [00:00, 31439.44it/s]\n"
     ]
    },
    {
     "name": "stdout",
     "output_type": "stream",
     "text": [
      "hfiehhwodwcnsjdcnsk/[KB6]_Casio_CZ-230S.rar\n"
     ]
    },
    {
     "name": "stderr",
     "output_type": "stream",
     "text": [
      "9367it [00:00, 23481.96it/s]\n"
     ]
    },
    {
     "name": "stdout",
     "output_type": "stream",
     "text": [
      "hfiehhwodwcnsjdcnsk/[KB6]_Casio_HT-700.rar\n"
     ]
    },
    {
     "name": "stderr",
     "output_type": "stream",
     "text": [
      "9367it [00:00, 38771.65it/s]\n"
     ]
    },
    {
     "name": "stdout",
     "output_type": "stream",
     "text": [
      "hfiehhwodwcnsjdcnsk/[KB6]_Casio_MA-101.rar\n"
     ]
    },
    {
     "name": "stderr",
     "output_type": "stream",
     "text": [
      "9367it [00:00, 36021.54it/s]\n"
     ]
    },
    {
     "name": "stdout",
     "output_type": "stream",
     "text": [
      "hfiehhwodwcnsjdcnsk/[KB6]_Casio_RZ1.rar\n"
     ]
    },
    {
     "name": "stderr",
     "output_type": "stream",
     "text": [
      "9367it [00:00, 38668.27it/s]\n"
     ]
    },
    {
     "name": "stdout",
     "output_type": "stream",
     "text": [
      "hfiehhwodwcnsjdcnsk/[KB6]_Casio_SA-10.rar\n"
     ]
    },
    {
     "name": "stderr",
     "output_type": "stream",
     "text": [
      "9367it [00:00, 16085.82it/s]\n"
     ]
    },
    {
     "name": "stdout",
     "output_type": "stream",
     "text": [
      "hfiehhwodwcnsjdcnsk/[KB6]_Casio_SK1.rar\n"
     ]
    },
    {
     "name": "stderr",
     "output_type": "stream",
     "text": [
      "9367it [00:00, 27676.49it/s]\n"
     ]
    },
    {
     "name": "stdout",
     "output_type": "stream",
     "text": [
      "hfiehhwodwcnsjdcnsk/[KB6]_Casio_SK5.rar\n"
     ]
    },
    {
     "name": "stderr",
     "output_type": "stream",
     "text": [
      "9367it [00:00, 17778.21it/s]\n"
     ]
    },
    {
     "name": "stdout",
     "output_type": "stream",
     "text": [
      "hfiehhwodwcnsjdcnsk/[KB6]_Casio_MT-18.rar\n"
     ]
    },
    {
     "name": "stderr",
     "output_type": "stream",
     "text": [
      "9367it [00:00, 20551.44it/s]\n"
     ]
    },
    {
     "name": "stdout",
     "output_type": "stream",
     "text": [
      "hfiehhwodwcnsjdcnsk/[KB6]_Casio_MT-100.rar\n"
     ]
    },
    {
     "name": "stderr",
     "output_type": "stream",
     "text": [
      "9367it [00:00, 25999.56it/s]\n"
     ]
    },
    {
     "name": "stdout",
     "output_type": "stream",
     "text": [
      "hfiehhwodwcnsjdcnsk/[KB6]_Casio_MT-500.rar\n"
     ]
    },
    {
     "name": "stderr",
     "output_type": "stream",
     "text": [
      "9367it [00:00, 26746.21it/s]\n"
     ]
    },
    {
     "name": "stdout",
     "output_type": "stream",
     "text": [
      "hfiehhwodwcnsjdcnsk/[KB6]_Casio_MT-800.rar\n"
     ]
    },
    {
     "name": "stderr",
     "output_type": "stream",
     "text": [
      "9367it [00:00, 10841.48it/s]\n"
     ]
    },
    {
     "name": "stdout",
     "output_type": "stream",
     "text": [
      "hfiehhwodwcnsjdcnsk/[KB6]_Casio_PT-82.rar\n"
     ]
    },
    {
     "name": "stderr",
     "output_type": "stream",
     "text": [
      "9367it [00:00, 13871.12it/s]\n"
     ]
    },
    {
     "name": "stdout",
     "output_type": "stream",
     "text": [
      "hfiehhwodwcnsjdcnsk/[KB6]_Casio_Rapman.rar\n"
     ]
    },
    {
     "name": "stderr",
     "output_type": "stream",
     "text": [
      "9367it [00:00, 33416.24it/s]\n"
     ]
    },
    {
     "name": "stdout",
     "output_type": "stream",
     "text": [
      "hfiehhwodwcnsjdcnsk/[KB6]_Casio_Rapman-II.rar\n"
     ]
    },
    {
     "name": "stderr",
     "output_type": "stream",
     "text": [
      "9367it [00:00, 23400.00it/s]\n"
     ]
    },
    {
     "name": "stdout",
     "output_type": "stream",
     "text": [
      "hfiehhwodwcnsjdcnsk/[KB6]_Chaser_PR-80.rar\n"
     ]
    },
    {
     "name": "stderr",
     "output_type": "stream",
     "text": [
      "9367it [00:01, 8868.81it/s]\n"
     ]
    },
    {
     "name": "stdout",
     "output_type": "stream",
     "text": [
      "hfiehhwodwcnsjdcnsk/[KB6]_Cheetah_MD16.rar\n"
     ]
    },
    {
     "name": "stderr",
     "output_type": "stream",
     "text": [
      "9367it [00:00, 38056.54it/s]\n"
     ]
    },
    {
     "name": "stdout",
     "output_type": "stream",
     "text": [
      "hfiehhwodwcnsjdcnsk/[KB6]_Cheetah_SpecDrum.rar\n"
     ]
    },
    {
     "name": "stderr",
     "output_type": "stream",
     "text": [
      "9367it [00:00, 38888.85it/s]\n"
     ]
    },
    {
     "name": "stdout",
     "output_type": "stream",
     "text": [
      "hfiehhwodwcnsjdcnsk/[KB6]_Clavia_Nord-Drum.rar\n"
     ]
    },
    {
     "name": "stderr",
     "output_type": "stream",
     "text": [
      "9367it [00:00, 61285.11it/s]\n"
     ]
    },
    {
     "name": "stdout",
     "output_type": "stream",
     "text": [
      "hfiehhwodwcnsjdcnsk/[KB6]_Coron_Drum-Synce_DS-7.rar\n"
     ]
    },
    {
     "name": "stderr",
     "output_type": "stream",
     "text": [
      "9367it [00:00, 39068.09it/s]\n"
     ]
    },
    {
     "name": "stdout",
     "output_type": "stream",
     "text": [
      "hfiehhwodwcnsjdcnsk/[KB6]_Daytone_Drum-Synthe-RDS.rar\n"
     ]
    },
    {
     "name": "stderr",
     "output_type": "stream",
     "text": [
      "9367it [00:00, 39512.36it/s]\n"
     ]
    },
    {
     "name": "stdout",
     "output_type": "stream",
     "text": [
      "hfiehhwodwcnsjdcnsk/[KB6]_DeepSky_Drumbox.rar\n"
     ]
    },
    {
     "name": "stderr",
     "output_type": "stream",
     "text": [
      "9367it [00:00, 39103.63it/s]\n"
     ]
    },
    {
     "name": "stdout",
     "output_type": "stream",
     "text": [
      "hfiehhwodwcnsjdcnsk/[KB6]_Denon_CRB-90.rar\n"
     ]
    },
    {
     "name": "stderr",
     "output_type": "stream",
     "text": [
      "9367it [00:00, 33576.11it/s]\n"
     ]
    },
    {
     "name": "stdout",
     "output_type": "stream",
     "text": [
      "hfiehhwodwcnsjdcnsk/[KB6]_Digitech_RP200.rar\n"
     ]
    },
    {
     "name": "stderr",
     "output_type": "stream",
     "text": [
      "9367it [00:00, 39490.71it/s]\n"
     ]
    },
    {
     "name": "stdout",
     "output_type": "stream",
     "text": [
      "hfiehhwodwcnsjdcnsk/[KB6]_DrBoehm_S-78.rar\n"
     ]
    },
    {
     "name": "stderr",
     "output_type": "stream",
     "text": [
      "9367it [00:00, 38335.93it/s]\n"
     ]
    },
    {
     "name": "stdout",
     "output_type": "stream",
     "text": [
      "hfiehhwodwcnsjdcnsk/[KB6]_Drumfire_DF-500.rar\n"
     ]
    },
    {
     "name": "stderr",
     "output_type": "stream",
     "text": [
      "9367it [00:00, 38605.46it/s]\n"
     ]
    },
    {
     "name": "stdout",
     "output_type": "stream",
     "text": [
      "hfiehhwodwcnsjdcnsk/[KB6]_EKO_MusicBox-12.rar\n"
     ]
    },
    {
     "name": "stderr",
     "output_type": "stream",
     "text": [
      "9367it [00:00, 38811.17it/s]\n"
     ]
    },
    {
     "name": "stdout",
     "output_type": "stream",
     "text": [
      "hfiehhwodwcnsjdcnsk/[KB6]_EKO_Ritmo20.rar\n"
     ]
    },
    {
     "name": "stderr",
     "output_type": "stream",
     "text": [
      "9367it [00:00, 37941.36it/s]\n"
     ]
    },
    {
     "name": "stdout",
     "output_type": "stream",
     "text": [
      "hfiehhwodwcnsjdcnsk/[KB6]_Electro-Harmonix_DRM-15.rar\n"
     ]
    },
    {
     "name": "stderr",
     "output_type": "stream",
     "text": [
      "9367it [00:00, 38124.97it/s]\n"
     ]
    },
    {
     "name": "stdout",
     "output_type": "stream",
     "text": [
      "hfiehhwodwcnsjdcnsk/[KB6]_Electro-Harmonix_DRM-16.rar\n"
     ]
    },
    {
     "name": "stderr",
     "output_type": "stream",
     "text": [
      "9367it [00:00, 39173.31it/s]\n"
     ]
    },
    {
     "name": "stdout",
     "output_type": "stream",
     "text": [
      "hfiehhwodwcnsjdcnsk/[KB6]_Electro-Harmonix_DRM-32.rar\n"
     ]
    },
    {
     "name": "stderr",
     "output_type": "stream",
     "text": [
      "9367it [00:00, 33902.91it/s]\n"
     ]
    },
    {
     "name": "stdout",
     "output_type": "stream",
     "text": [
      "hfiehhwodwcnsjdcnsk/[KB6]_Elka_Drumstar-80.rar\n"
     ]
    },
    {
     "name": "stderr",
     "output_type": "stream",
     "text": [
      "9367it [00:00, 38496.44it/s]\n"
     ]
    },
    {
     "name": "stdout",
     "output_type": "stream",
     "text": [
      "hfiehhwodwcnsjdcnsk/[KB6]_EMU_E-Drum.rar\n"
     ]
    },
    {
     "name": "stderr",
     "output_type": "stream",
     "text": [
      "9367it [00:00, 39219.88it/s]\n"
     ]
    },
    {
     "name": "stdout",
     "output_type": "stream",
     "text": [
      "hfiehhwodwcnsjdcnsk/[KB6]_EMU_Proteus1.rar\n"
     ]
    },
    {
     "name": "stderr",
     "output_type": "stream",
     "text": [
      "9367it [00:00, 37779.15it/s]\n"
     ]
    },
    {
     "name": "stdout",
     "output_type": "stream",
     "text": [
      "hfiehhwodwcnsjdcnsk/[KB6]_EMU_Proteus3.rar\n"
     ]
    },
    {
     "name": "stderr",
     "output_type": "stream",
     "text": [
      "9367it [00:00, 37176.67it/s]\n"
     ]
    },
    {
     "name": "stdout",
     "output_type": "stream",
     "text": [
      "hfiehhwodwcnsjdcnsk/[KB6]_EMU_SP-12.rar\n"
     ]
    },
    {
     "name": "stderr",
     "output_type": "stream",
     "text": [
      "9367it [00:00, 39123.73it/s]\n"
     ]
    },
    {
     "name": "stdout",
     "output_type": "stream",
     "text": [
      "hfiehhwodwcnsjdcnsk/[KB6]_Ensoniq_ASR-X.rar\n"
     ]
    },
    {
     "name": "stderr",
     "output_type": "stream",
     "text": [
      "9367it [00:00, 39140.37it/s]\n"
     ]
    },
    {
     "name": "stdout",
     "output_type": "stream",
     "text": [
      "hfiehhwodwcnsjdcnsk/[KB6]_Ensoniq_EPS.rar\n"
     ]
    },
    {
     "name": "stderr",
     "output_type": "stream",
     "text": [
      "9367it [00:00, 39547.28it/s]\n"
     ]
    },
    {
     "name": "stdout",
     "output_type": "stream",
     "text": [
      "hfiehhwodwcnsjdcnsk/[KB6]_Ensoniq_Mirage.rar\n"
     ]
    },
    {
     "name": "stderr",
     "output_type": "stream",
     "text": [
      "9367it [00:00, 39384.10it/s]\n"
     ]
    },
    {
     "name": "stdout",
     "output_type": "stream",
     "text": [
      "hfiehhwodwcnsjdcnsk/[KB6]_Estradin_Pulsar.rar\n"
     ]
    },
    {
     "name": "stderr",
     "output_type": "stream",
     "text": [
      "9367it [00:00, 36776.33it/s]\n"
     ]
    },
    {
     "name": "stdout",
     "output_type": "stream",
     "text": [
      "hfiehhwodwcnsjdcnsk/[KB6]_Forat_F-9000.rar\n"
     ]
    },
    {
     "name": "stderr",
     "output_type": "stream",
     "text": [
      "9367it [00:00, 34329.70it/s]\n"
     ]
    },
    {
     "name": "stdout",
     "output_type": "stream",
     "text": [
      "hfiehhwodwcnsjdcnsk/[KB6]_Fricke_MFB_301.rar\n"
     ]
    },
    {
     "name": "stderr",
     "output_type": "stream",
     "text": [
      "9367it [00:00, 38121.08it/s]\n"
     ]
    },
    {
     "name": "stdout",
     "output_type": "stream",
     "text": [
      "hfiehhwodwcnsjdcnsk/[KB6]_Fricke_MFB_501.rar\n"
     ]
    },
    {
     "name": "stderr",
     "output_type": "stream",
     "text": [
      "9367it [00:00, 37180.40it/s]\n"
     ]
    },
    {
     "name": "stdout",
     "output_type": "stream",
     "text": [
      "hfiehhwodwcnsjdcnsk/[KB6]_Fricke_MFB_512.rar\n"
     ]
    },
    {
     "name": "stderr",
     "output_type": "stream",
     "text": [
      "9367it [00:00, 38873.81it/s]\n"
     ]
    },
    {
     "name": "stdout",
     "output_type": "stream",
     "text": [
      "hfiehhwodwcnsjdcnsk/[KB6]_Fricke_MFB_712.rar\n"
     ]
    },
    {
     "name": "stderr",
     "output_type": "stream",
     "text": [
      "9367it [00:00, 39384.46it/s]\n"
     ]
    },
    {
     "name": "stdout",
     "output_type": "stream",
     "text": [
      "hfiehhwodwcnsjdcnsk/[KB6]_GEM_Drum15.rar\n"
     ]
    },
    {
     "name": "stderr",
     "output_type": "stream",
     "text": [
      "9367it [00:00, 35696.19it/s]\n"
     ]
    },
    {
     "name": "stdout",
     "output_type": "stream",
     "text": [
      "hfiehhwodwcnsjdcnsk/[KB6]_Hammond_Auto-Vari64.rar\n"
     ]
    },
    {
     "name": "stderr",
     "output_type": "stream",
     "text": [
      "9367it [00:00, 34951.23it/s]\n"
     ]
    },
    {
     "name": "stdout",
     "output_type": "stream",
     "text": [
      "hfiehhwodwcnsjdcnsk/[KB6]_Hammond_Rhythm2.rar\n"
     ]
    },
    {
     "name": "stderr",
     "output_type": "stream",
     "text": [
      "9367it [00:00, 39179.36it/s]\n"
     ]
    },
    {
     "name": "stdout",
     "output_type": "stream",
     "text": [
      "hfiehhwodwcnsjdcnsk/[KB6]_Hing-Hon_EK001.rar\n"
     ]
    },
    {
     "name": "stderr",
     "output_type": "stream",
     "text": [
      "9367it [00:00, 33918.60it/s]\n"
     ]
    },
    {
     "name": "stdout",
     "output_type": "stream",
     "text": [
      "hfiehhwodwcnsjdcnsk/[KB6]_Jomox_Mbase01.rar\n"
     ]
    },
    {
     "name": "stderr",
     "output_type": "stream",
     "text": [
      "9367it [00:00, 14256.40it/s]\n"
     ]
    },
    {
     "name": "stdout",
     "output_type": "stream",
     "text": [
      "hfiehhwodwcnsjdcnsk/[KB6]_Kawai_ACR20.rar\n"
     ]
    },
    {
     "name": "stderr",
     "output_type": "stream",
     "text": [
      "9367it [00:00, 38421.60it/s]\n"
     ]
    },
    {
     "name": "stdout",
     "output_type": "stream",
     "text": [
      "hfiehhwodwcnsjdcnsk/[KB6]_Kawai_K1.rar\n"
     ]
    },
    {
     "name": "stderr",
     "output_type": "stream",
     "text": [
      "9367it [00:00, 34947.19it/s]\n"
     ]
    },
    {
     "name": "stdout",
     "output_type": "stream",
     "text": [
      "hfiehhwodwcnsjdcnsk/[KB6]_Kawai_R-50.rar\n"
     ]
    },
    {
     "name": "stderr",
     "output_type": "stream",
     "text": [
      "9367it [00:00, 22504.55it/s]\n"
     ]
    },
    {
     "name": "stdout",
     "output_type": "stream",
     "text": [
      "hfiehhwodwcnsjdcnsk/[KB6]_Kawai_R-50e.rar\n"
     ]
    },
    {
     "name": "stderr",
     "output_type": "stream",
     "text": [
      "9367it [00:00, 22780.18it/s]\n"
     ]
    },
    {
     "name": "stdout",
     "output_type": "stream",
     "text": [
      "hfiehhwodwcnsjdcnsk/[KB6]_Kawai_R-100.rar\n"
     ]
    },
    {
     "name": "stderr",
     "output_type": "stream",
     "text": [
      "9367it [00:00, 25016.23it/s]\n"
     ]
    },
    {
     "name": "stdout",
     "output_type": "stream",
     "text": [
      "hfiehhwodwcnsjdcnsk/[KB6]_Kawai_SX-240.rar\n"
     ]
    },
    {
     "name": "stderr",
     "output_type": "stream",
     "text": [
      "9367it [00:00, 25612.62it/s]\n"
     ]
    },
    {
     "name": "stdout",
     "output_type": "stream",
     "text": [
      "hfiehhwodwcnsjdcnsk/[KB6]_Kawai_XD-5.rar\n"
     ]
    },
    {
     "name": "stderr",
     "output_type": "stream",
     "text": [
      "9367it [00:00, 29127.44it/s]\n"
     ]
    },
    {
     "name": "stdout",
     "output_type": "stream",
     "text": [
      "hfiehhwodwcnsjdcnsk/[KB6]_Kay_DRM1.rar\n"
     ]
    },
    {
     "name": "stderr",
     "output_type": "stream",
     "text": [
      "9367it [00:00, 25148.68it/s]\n"
     ]
    },
    {
     "name": "stdout",
     "output_type": "stream",
     "text": [
      "hfiehhwodwcnsjdcnsk/[KB6]_Kay_R8.rar\n"
     ]
    },
    {
     "name": "stderr",
     "output_type": "stream",
     "text": [
      "9367it [00:00, 37967.02it/s]\n"
     ]
    },
    {
     "name": "stdout",
     "output_type": "stream",
     "text": [
      "hfiehhwodwcnsjdcnsk/[KB6]_Keio_Checkmate.rar\n"
     ]
    },
    {
     "name": "stderr",
     "output_type": "stream",
     "text": [
      "9367it [00:00, 39411.28it/s]\n"
     ]
    },
    {
     "name": "stdout",
     "output_type": "stream",
     "text": [
      "hfiehhwodwcnsjdcnsk/[KB6]_Ketron_SD-5.rar\n"
     ]
    },
    {
     "name": "stderr",
     "output_type": "stream",
     "text": [
      "9367it [00:00, 38387.78it/s]\n"
     ]
    },
    {
     "name": "stdout",
     "output_type": "stream",
     "text": [
      "hfiehhwodwcnsjdcnsk/[KB6]_Korg_DDD-1.rar\n"
     ]
    },
    {
     "name": "stderr",
     "output_type": "stream",
     "text": [
      "9367it [00:00, 32814.64it/s]\n"
     ]
    },
    {
     "name": "stdout",
     "output_type": "stream",
     "text": [
      "hfiehhwodwcnsjdcnsk/[KB6]_Korg_DDM110.rar\n"
     ]
    },
    {
     "name": "stderr",
     "output_type": "stream",
     "text": [
      "9367it [00:00, 38731.89it/s]\n"
     ]
    },
    {
     "name": "stdout",
     "output_type": "stream",
     "text": [
      "hfiehhwodwcnsjdcnsk/[KB6]_Korg_DDM220.rar\n"
     ]
    },
    {
     "name": "stderr",
     "output_type": "stream",
     "text": [
      "9367it [00:00, 39027.23it/s]\n"
     ]
    },
    {
     "name": "stdout",
     "output_type": "stream",
     "text": [
      "hfiehhwodwcnsjdcnsk/[KB6]_Korg_DRM-1.rar\n"
     ]
    },
    {
     "name": "stderr",
     "output_type": "stream",
     "text": [
      "9367it [00:00, 29050.57it/s]\n"
     ]
    },
    {
     "name": "stdout",
     "output_type": "stream",
     "text": [
      "hfiehhwodwcnsjdcnsk/[KB6]_Korg_KPR77.rar\n"
     ]
    },
    {
     "name": "stderr",
     "output_type": "stream",
     "text": [
      "9367it [00:00, 39452.76it/s]\n"
     ]
    },
    {
     "name": "stdout",
     "output_type": "stream",
     "text": [
      "hfiehhwodwcnsjdcnsk/[KB6]_Korg_KR-33.rar\n"
     ]
    },
    {
     "name": "stderr",
     "output_type": "stream",
     "text": [
      "9367it [00:00, 34579.86it/s]\n"
     ]
    },
    {
     "name": "stdout",
     "output_type": "stream",
     "text": [
      "hfiehhwodwcnsjdcnsk/[KB6]_Korg_KR55.rar\n"
     ]
    },
    {
     "name": "stderr",
     "output_type": "stream",
     "text": [
      "9367it [00:00, 40505.94it/s]\n"
     ]
    },
    {
     "name": "stdout",
     "output_type": "stream",
     "text": [
      "hfiehhwodwcnsjdcnsk/[KB6]_Korg_KR-Mini.rar\n"
     ]
    },
    {
     "name": "stderr",
     "output_type": "stream",
     "text": [
      "9367it [00:00, 38582.53it/s]\n"
     ]
    },
    {
     "name": "stdout",
     "output_type": "stream",
     "text": [
      "hfiehhwodwcnsjdcnsk/[KB6]_Korg_Minipops.rar\n"
     ]
    },
    {
     "name": "stderr",
     "output_type": "stream",
     "text": [
      "9367it [00:00, 38913.04it/s]\n"
     ]
    },
    {
     "name": "stdout",
     "output_type": "stream",
     "text": [
      "hfiehhwodwcnsjdcnsk/[KB6]_Korg_MP7.rar\n"
     ]
    },
    {
     "name": "stderr",
     "output_type": "stream",
     "text": [
      "9367it [00:00, 38519.43it/s]\n"
     ]
    },
    {
     "name": "stdout",
     "output_type": "stream",
     "text": [
      "hfiehhwodwcnsjdcnsk/[KB6]_Korg_Prophecy.rar\n"
     ]
    },
    {
     "name": "stderr",
     "output_type": "stream",
     "text": [
      "9367it [00:00, 38818.92it/s]\n"
     ]
    },
    {
     "name": "stdout",
     "output_type": "stream",
     "text": [
      "hfiehhwodwcnsjdcnsk/[KB6]_Korg_ProWave.rar\n"
     ]
    },
    {
     "name": "stderr",
     "output_type": "stream",
     "text": [
      "9367it [00:00, 39947.62it/s]\n"
     ]
    },
    {
     "name": "stdout",
     "output_type": "stream",
     "text": [
      "hfiehhwodwcnsjdcnsk/[KB6]_Korg_PSS-50.rar\n"
     ]
    },
    {
     "name": "stderr",
     "output_type": "stream",
     "text": [
      "9367it [00:00, 39439.81it/s]\n"
     ]
    },
    {
     "name": "stdout",
     "output_type": "stream",
     "text": [
      "hfiehhwodwcnsjdcnsk/[KB6]_Korg_Radias.rar\n"
     ]
    },
    {
     "name": "stderr",
     "output_type": "stream",
     "text": [
      "9367it [00:00, 38536.24it/s]\n"
     ]
    },
    {
     "name": "stdout",
     "output_type": "stream",
     "text": [
      "hfiehhwodwcnsjdcnsk/[KB6]_Korg_SR-120.rar\n"
     ]
    },
    {
     "name": "stderr",
     "output_type": "stream",
     "text": [
      "9367it [00:00, 33537.65it/s]\n"
     ]
    },
    {
     "name": "stdout",
     "output_type": "stream",
     "text": [
      "hfiehhwodwcnsjdcnsk/[KB6]_Korg_T1.rar\n"
     ]
    },
    {
     "name": "stderr",
     "output_type": "stream",
     "text": [
      "9367it [00:00, 38908.88it/s]\n"
     ]
    },
    {
     "name": "stdout",
     "output_type": "stream",
     "text": [
      "hfiehhwodwcnsjdcnsk/[KB6]_Korg_T3.rar\n"
     ]
    },
    {
     "name": "stderr",
     "output_type": "stream",
     "text": [
      "9367it [00:00, 38896.90it/s]\n"
     ]
    },
    {
     "name": "stdout",
     "output_type": "stream",
     "text": [
      "hfiehhwodwcnsjdcnsk/[KB6]_Kurzweil_K2000.rar\n"
     ]
    },
    {
     "name": "stderr",
     "output_type": "stream",
     "text": [
      "9367it [00:00, 35407.30it/s]\n"
     ]
    },
    {
     "name": "stdout",
     "output_type": "stream",
     "text": [
      "hfiehhwodwcnsjdcnsk/[KB6]_Lel_PSR.rar\n"
     ]
    },
    {
     "name": "stderr",
     "output_type": "stream",
     "text": [
      "9367it [00:00, 38073.87it/s]\n"
     ]
    },
    {
     "name": "stdout",
     "output_type": "stream",
     "text": [
      "hfiehhwodwcnsjdcnsk/[KB6]_Linn_AdrenaLinn1.rar\n"
     ]
    },
    {
     "name": "stderr",
     "output_type": "stream",
     "text": [
      "9367it [00:00, 37187.90it/s]\n"
     ]
    },
    {
     "name": "stdout",
     "output_type": "stream",
     "text": [
      "hfiehhwodwcnsjdcnsk/[KB6]_Linn_LM-1.rar\n"
     ]
    },
    {
     "name": "stderr",
     "output_type": "stream",
     "text": [
      "9367it [00:00, 43050.39it/s]\n"
     ]
    },
    {
     "name": "stdout",
     "output_type": "stream",
     "text": [
      "hfiehhwodwcnsjdcnsk/[KB6]_Maestro_G2.rar\n"
     ]
    },
    {
     "name": "stderr",
     "output_type": "stream",
     "text": [
      "9367it [00:00, 38674.63it/s]\n"
     ]
    },
    {
     "name": "stdout",
     "output_type": "stream",
     "text": [
      "hfiehhwodwcnsjdcnsk/[KB6]_Mattel_Electronics_Synsonics_DRM.rar\n"
     ]
    },
    {
     "name": "stderr",
     "output_type": "stream",
     "text": [
      "9367it [00:00, 39424.41it/s]\n"
     ]
    },
    {
     "name": "stdout",
     "output_type": "stream",
     "text": [
      "hfiehhwodwcnsjdcnsk/[KB6]_Moog_Modular55.rar\n"
     ]
    },
    {
     "name": "stderr",
     "output_type": "stream",
     "text": [
      "9367it [00:00, 39944.90it/s]\n"
     ]
    },
    {
     "name": "stdout",
     "output_type": "stream",
     "text": [
      "hfiehhwodwcnsjdcnsk/[KB6]_Moog_Voyager.rar\n"
     ]
    },
    {
     "name": "stderr",
     "output_type": "stream",
     "text": [
      "9367it [00:00, 34222.47it/s]\n"
     ]
    },
    {
     "name": "stdout",
     "output_type": "stream",
     "text": [
      "hfiehhwodwcnsjdcnsk/[KB6]_MPC-Electronics_The-KIT.rar\n"
     ]
    },
    {
     "name": "stderr",
     "output_type": "stream",
     "text": [
      "9367it [00:00, 39384.46it/s]\n"
     ]
    },
    {
     "name": "stdout",
     "output_type": "stream",
     "text": [
      "hfiehhwodwcnsjdcnsk/[KB6]_MSC_DL-909.rar\n"
     ]
    },
    {
     "name": "stderr",
     "output_type": "stream",
     "text": [
      "9367it [00:00, 34430.04it/s]\n"
     ]
    },
    {
     "name": "stdout",
     "output_type": "stream",
     "text": [
      "hfiehhwodwcnsjdcnsk/[KB6]_MTI_AO-1.rar\n"
     ]
    },
    {
     "name": "stderr",
     "output_type": "stream",
     "text": [
      "9367it [00:00, 39275.48it/s]\n"
     ]
    },
    {
     "name": "stdout",
     "output_type": "stream",
     "text": [
      "hfiehhwodwcnsjdcnsk/[KB6]_MXR_185.rar\n"
     ]
    },
    {
     "name": "stderr",
     "output_type": "stream",
     "text": [
      "9367it [00:00, 39574.84it/s]\n"
     ]
    },
    {
     "name": "stdout",
     "output_type": "stream",
     "text": [
      "hfiehhwodwcnsjdcnsk/[KB6]_Nasta_Hit-Stix2.rar\n"
     ]
    },
    {
     "name": "stderr",
     "output_type": "stream",
     "text": [
      "9367it [00:00, 39762.45it/s]\n"
     ]
    },
    {
     "name": "stdout",
     "output_type": "stream",
     "text": [
      "hfiehhwodwcnsjdcnsk/[KB6]_Nintendo_Game-Boy-Advance-SP.rar\n"
     ]
    },
    {
     "name": "stderr",
     "output_type": "stream",
     "text": [
      "9367it [00:00, 39852.48it/s]\n"
     ]
    },
    {
     "name": "stdout",
     "output_type": "stream",
     "text": [
      "hfiehhwodwcnsjdcnsk/[KB6]_Novation_Bass-Station-2.rar\n"
     ]
    },
    {
     "name": "stderr",
     "output_type": "stream",
     "text": [
      "9367it [00:00, 39366.90it/s]\n"
     ]
    },
    {
     "name": "stdout",
     "output_type": "stream",
     "text": [
      "hfiehhwodwcnsjdcnsk/[KB6]_Panasonic_RD-9844.rar\n"
     ]
    },
    {
     "name": "stderr",
     "output_type": "stream",
     "text": [
      "9367it [00:00, 39925.86it/s]\n"
     ]
    },
    {
     "name": "stdout",
     "output_type": "stream",
     "text": [
      "hfiehhwodwcnsjdcnsk/[KB6]_Pearl_DRX-1.rar\n"
     ]
    },
    {
     "name": "stderr",
     "output_type": "stream",
     "text": [
      "9367it [00:00, 39976.11it/s]\n"
     ]
    },
    {
     "name": "stdout",
     "output_type": "stream",
     "text": [
      "hfiehhwodwcnsjdcnsk/[KB6]_Rhodes_Polaris.rar\n"
     ]
    },
    {
     "name": "stderr",
     "output_type": "stream",
     "text": [
      "9367it [00:00, 39019.24it/s]\n"
     ]
    },
    {
     "name": "stdout",
     "output_type": "stream",
     "text": [
      "hfiehhwodwcnsjdcnsk/[KB6]_RSF_DD-30.rar\n"
     ]
    },
    {
     "name": "stderr",
     "output_type": "stream",
     "text": [
      "9367it [00:00, 37538.74it/s]\n"
     ]
    },
    {
     "name": "stdout",
     "output_type": "stream",
     "text": [
      "hfiehhwodwcnsjdcnsk/[KB6]_Sakata_DPM48.rar\n"
     ]
    },
    {
     "name": "stderr",
     "output_type": "stream",
     "text": [
      "9367it [00:00, 38377.88it/s]\n"
     ]
    },
    {
     "name": "stdout",
     "output_type": "stream",
     "text": [
      "hfiehhwodwcnsjdcnsk/[KB6]_SequentialCircuits_Drumtraks.rar\n"
     ]
    },
    {
     "name": "stderr",
     "output_type": "stream",
     "text": [
      "9367it [00:00, 39579.83it/s]\n"
     ]
    },
    {
     "name": "stdout",
     "output_type": "stream",
     "text": [
      "hfiehhwodwcnsjdcnsk/[KB6]_Sequential_Circuits_Studio-440.rar\n"
     ]
    },
    {
     "name": "stderr",
     "output_type": "stream",
     "text": [
      "9367it [00:00, 37666.90it/s]\n"
     ]
    },
    {
     "name": "stdout",
     "output_type": "stream",
     "text": [
      "hfiehhwodwcnsjdcnsk/[KB6]_SequentialCircuits_Tom.rar\n"
     ]
    },
    {
     "name": "stderr",
     "output_type": "stream",
     "text": [
      "9367it [00:00, 38813.13it/s]\n"
     ]
    },
    {
     "name": "stdout",
     "output_type": "stream",
     "text": [
      "hfiehhwodwcnsjdcnsk/[KB6]_Serge_Modular.rar\n"
     ]
    },
    {
     "name": "stderr",
     "output_type": "stream",
     "text": [
      "9367it [00:00, 39402.31it/s]\n"
     ]
    },
    {
     "name": "stdout",
     "output_type": "stream",
     "text": [
      "hfiehhwodwcnsjdcnsk/[KB6]_Simmons_ClapTrap.rar\n"
     ]
    },
    {
     "name": "stderr",
     "output_type": "stream",
     "text": [
      "9367it [00:00, 38496.78it/s]\n"
     ]
    },
    {
     "name": "stdout",
     "output_type": "stream",
     "text": [
      "hfiehhwodwcnsjdcnsk/[KB6]_Simmons_SDS1000.rar\n"
     ]
    },
    {
     "name": "stderr",
     "output_type": "stream",
     "text": [
      "9367it [00:00, 39311.91it/s]\n"
     ]
    },
    {
     "name": "stdout",
     "output_type": "stream",
     "text": [
      "hfiehhwodwcnsjdcnsk/[KB6]_Simmons_SDS200.rar\n"
     ]
    },
    {
     "name": "stderr",
     "output_type": "stream",
     "text": [
      "9367it [00:00, 38937.22it/s]\n"
     ]
    },
    {
     "name": "stdout",
     "output_type": "stream",
     "text": [
      "hfiehhwodwcnsjdcnsk/[KB6]_Simmons_SDS2000.rar\n"
     ]
    },
    {
     "name": "stderr",
     "output_type": "stream",
     "text": [
      "9367it [00:00, 39167.37it/s]\n"
     ]
    },
    {
     "name": "stdout",
     "output_type": "stream",
     "text": [
      "hfiehhwodwcnsjdcnsk/[KB6]_Simmons_SDS7.rar\n"
     ]
    },
    {
     "name": "stderr",
     "output_type": "stream",
     "text": [
      "9367it [00:00, 39127.27it/s]\n"
     ]
    },
    {
     "name": "stdout",
     "output_type": "stream",
     "text": [
      "hfiehhwodwcnsjdcnsk/[KB6]_Solton_Disco-64.rar\n"
     ]
    },
    {
     "name": "stderr",
     "output_type": "stream",
     "text": [
      "9367it [00:00, 37409.35it/s]\n"
     ]
    },
    {
     "name": "stdout",
     "output_type": "stream",
     "text": [
      "hfiehhwodwcnsjdcnsk/[KB6]_Sony_DRP-1.rar\n"
     ]
    },
    {
     "name": "stderr",
     "output_type": "stream",
     "text": [
      "9367it [00:00, 39155.43it/s]\n"
     ]
    },
    {
     "name": "stdout",
     "output_type": "stream",
     "text": [
      "hfiehhwodwcnsjdcnsk/[KB6]_SoundMaster_SR88.rar\n"
     ]
    },
    {
     "name": "stderr",
     "output_type": "stream",
     "text": [
      "9367it [00:00, 39053.26it/s]\n"
     ]
    },
    {
     "name": "stdout",
     "output_type": "stream",
     "text": [
      "hfiehhwodwcnsjdcnsk/[KB6]_SoundMaster_Stix_ST-305.rar\n"
     ]
    },
    {
     "name": "stderr",
     "output_type": "stream",
     "text": [
      "9367it [00:00, 34769.44it/s]\n"
     ]
    },
    {
     "name": "stdout",
     "output_type": "stream",
     "text": [
      "hfiehhwodwcnsjdcnsk/[KB6]_SRB_600.rar\n"
     ]
    },
    {
     "name": "stderr",
     "output_type": "stream",
     "text": [
      "9367it [00:00, 38730.67it/s]\n"
     ]
    },
    {
     "name": "stdout",
     "output_type": "stream",
     "text": [
      "hfiehhwodwcnsjdcnsk/[KB6]_Star-Instruments_Synare-PS-1.rar\n"
     ]
    },
    {
     "name": "stderr",
     "output_type": "stream",
     "text": [
      "9367it [00:00, 38637.47it/s]\n"
     ]
    },
    {
     "name": "stdout",
     "output_type": "stream",
     "text": [
      "hfiehhwodwcnsjdcnsk/[KB6]_Stylophone_Beatbox.rar\n"
     ]
    },
    {
     "name": "stderr",
     "output_type": "stream",
     "text": [
      "9367it [00:00, 36076.45it/s]\n"
     ]
    },
    {
     "name": "stdout",
     "output_type": "stream",
     "text": [
      "hfiehhwodwcnsjdcnsk/[KB6]_Syncussion_Zapp.rar\n"
     ]
    },
    {
     "name": "stderr",
     "output_type": "stream",
     "text": [
      "9367it [00:00, 39680.57it/s]\n"
     ]
    },
    {
     "name": "stdout",
     "output_type": "stream",
     "text": [
      "hfiehhwodwcnsjdcnsk/[KB6]_Tama_RockStar.rar\n"
     ]
    },
    {
     "name": "stderr",
     "output_type": "stream",
     "text": [
      "9367it [00:00, 36731.02it/s]\n"
     ]
    },
    {
     "name": "stdout",
     "output_type": "stream",
     "text": [
      "hfiehhwodwcnsjdcnsk/[KB6]_Tama_TS-500.rar\n"
     ]
    },
    {
     "name": "stderr",
     "output_type": "stream",
     "text": [
      "9367it [00:00, 39280.43it/s]\n"
     ]
    },
    {
     "name": "stdout",
     "output_type": "stream",
     "text": [
      "hfiehhwodwcnsjdcnsk/[KB6]_Technics_AX5.rar\n"
     ]
    },
    {
     "name": "stderr",
     "output_type": "stream",
     "text": [
      "9367it [00:00, 39151.37it/s]\n"
     ]
    },
    {
     "name": "stdout",
     "output_type": "stream",
     "text": [
      "hfiehhwodwcnsjdcnsk/[KB6]_Technics_PCM_DP50.rar\n"
     ]
    },
    {
     "name": "stderr",
     "output_type": "stream",
     "text": [
      "9367it [00:00, 38693.02it/s]\n"
     ]
    },
    {
     "name": "stdout",
     "output_type": "stream",
     "text": [
      "hfiehhwodwcnsjdcnsk/[KB6]_Technics_U90.rar\n"
     ]
    },
    {
     "name": "stderr",
     "output_type": "stream",
     "text": [
      "9367it [00:00, 39305.62it/s]\n"
     ]
    },
    {
     "name": "stdout",
     "output_type": "stream",
     "text": [
      "hfiehhwodwcnsjdcnsk/[KB6]_Teenage-Engineering_PO-12.rar\n"
     ]
    },
    {
     "name": "stderr",
     "output_type": "stream",
     "text": [
      "9367it [00:00, 34012.21it/s]\n"
     ]
    },
    {
     "name": "stdout",
     "output_type": "stream",
     "text": [
      "hfiehhwodwcnsjdcnsk/[KB6]_Vermona_DRM1.rar\n"
     ]
    },
    {
     "name": "stderr",
     "output_type": "stream",
     "text": [
      "9367it [00:00, 38976.08it/s]\n"
     ]
    },
    {
     "name": "stdout",
     "output_type": "stream",
     "text": [
      "hfiehhwodwcnsjdcnsk/[KB6]_Video-Tech_Rythmic10.rar\n"
     ]
    },
    {
     "name": "stderr",
     "output_type": "stream",
     "text": [
      "9367it [00:00, 39322.14it/s]\n"
     ]
    },
    {
     "name": "stdout",
     "output_type": "stream",
     "text": [
      "hfiehhwodwcnsjdcnsk/[KB6]_Visco_Space_Drum.rar\n"
     ]
    },
    {
     "name": "stderr",
     "output_type": "stream",
     "text": [
      "9367it [00:00, 38436.45it/s]\n"
     ]
    },
    {
     "name": "stdout",
     "output_type": "stream",
     "text": [
      "hfiehhwodwcnsjdcnsk/[KB6]_Watford-Electronics_Rhythm-Generator.rar\n"
     ]
    },
    {
     "name": "stderr",
     "output_type": "stream",
     "text": [
      "9367it [00:00, 36543.89it/s]\n"
     ]
    },
    {
     "name": "stdout",
     "output_type": "stream",
     "text": [
      "hfiehhwodwcnsjdcnsk/[KB6]_Wersi_Prisma-DX5.rar\n"
     ]
    },
    {
     "name": "stderr",
     "output_type": "stream",
     "text": [
      "9367it [00:00, 37736.26it/s]\n"
     ]
    },
    {
     "name": "stdout",
     "output_type": "stream",
     "text": [
      "hfiehhwodwcnsjdcnsk/[KB6]_Wiard_300-Series-Modular.rar\n"
     ]
    },
    {
     "name": "stderr",
     "output_type": "stream",
     "text": [
      "9367it [00:00, 38593.21it/s]\n"
     ]
    },
    {
     "name": "stdout",
     "output_type": "stream",
     "text": [
      "hfiehhwodwcnsjdcnsk/[KB6]_Wurlitzer_Swinging-Rhythm.rar\n"
     ]
    },
    {
     "name": "stderr",
     "output_type": "stream",
     "text": [
      "9367it [00:00, 37910.49it/s]\n"
     ]
    },
    {
     "name": "stdout",
     "output_type": "stream",
     "text": [
      "hfiehhwodwcnsjdcnsk/[KB6]_Yamaha_AN200.rar\n"
     ]
    },
    {
     "name": "stderr",
     "output_type": "stream",
     "text": [
      "9367it [00:00, 38519.88it/s]\n"
     ]
    },
    {
     "name": "stdout",
     "output_type": "stream",
     "text": [
      "hfiehhwodwcnsjdcnsk/[KB6]_Yamaha_CS15D.rar\n"
     ]
    },
    {
     "name": "stderr",
     "output_type": "stream",
     "text": [
      "9367it [00:00, 37830.11it/s]\n"
     ]
    },
    {
     "name": "stdout",
     "output_type": "stream",
     "text": [
      "hfiehhwodwcnsjdcnsk/[KB6]_Yamaha_CS-40M.rar\n"
     ]
    },
    {
     "name": "stderr",
     "output_type": "stream",
     "text": [
      "9367it [00:00, 38630.63it/s]\n"
     ]
    },
    {
     "name": "stdout",
     "output_type": "stream",
     "text": [
      "hfiehhwodwcnsjdcnsk/[KB6]_Yamaha_DD-5.rar\n"
     ]
    },
    {
     "name": "stderr",
     "output_type": "stream",
     "text": [
      "9367it [00:00, 38828.20it/s]\n"
     ]
    },
    {
     "name": "stdout",
     "output_type": "stream",
     "text": [
      "hfiehhwodwcnsjdcnsk/[KB6]_Yamaha_DD-10.rar\n"
     ]
    },
    {
     "name": "stderr",
     "output_type": "stream",
     "text": [
      "9367it [00:00, 38994.42it/s]\n"
     ]
    },
    {
     "name": "stdout",
     "output_type": "stream",
     "text": [
      "hfiehhwodwcnsjdcnsk/[KB6]_Yamaha_DD-11.rar\n"
     ]
    },
    {
     "name": "stderr",
     "output_type": "stream",
     "text": [
      "9367it [00:00, 39687.50it/s]\n"
     ]
    },
    {
     "name": "stdout",
     "output_type": "stream",
     "text": [
      "hfiehhwodwcnsjdcnsk/[KB6]_Yamaha_DD-50.rar\n"
     ]
    },
    {
     "name": "stderr",
     "output_type": "stream",
     "text": [
      "9367it [00:00, 38771.03it/s]\n"
     ]
    },
    {
     "name": "stdout",
     "output_type": "stream",
     "text": [
      "hfiehhwodwcnsjdcnsk/[KB6]_Yamaha_PTX8.rar\n"
     ]
    },
    {
     "name": "stderr",
     "output_type": "stream",
     "text": [
      "9367it [00:00, 39370.88it/s]\n"
     ]
    },
    {
     "name": "stdout",
     "output_type": "stream",
     "text": [
      "hfiehhwodwcnsjdcnsk/[KB6]_Yamaha_RX-11.rar\n"
     ]
    },
    {
     "name": "stderr",
     "output_type": "stream",
     "text": [
      "9367it [00:00, 34330.48it/s]\n"
     ]
    },
    {
     "name": "stdout",
     "output_type": "stream",
     "text": [
      "hfiehhwodwcnsjdcnsk/[KB6]_Yamaha_RX-21.rar\n"
     ]
    },
    {
     "name": "stderr",
     "output_type": "stream",
     "text": [
      "9367it [00:00, 35434.19it/s]\n"
     ]
    },
    {
     "name": "stdout",
     "output_type": "stream",
     "text": [
      "hfiehhwodwcnsjdcnsk/[KB6]_Yamaha_RX-21L.rar\n"
     ]
    },
    {
     "name": "stderr",
     "output_type": "stream",
     "text": [
      "9367it [00:00, 39090.87it/s]\n"
     ]
    },
    {
     "name": "stdout",
     "output_type": "stream",
     "text": [
      "hfiehhwodwcnsjdcnsk/[KB6]_Yamaha_RX-5.rar\n"
     ]
    },
    {
     "name": "stderr",
     "output_type": "stream",
     "text": [
      "9367it [00:00, 39335.01it/s]\n"
     ]
    },
    {
     "name": "stdout",
     "output_type": "stream",
     "text": [
      "hfiehhwodwcnsjdcnsk/[KB6]_Yamaha_RX15.rar\n"
     ]
    },
    {
     "name": "stderr",
     "output_type": "stream",
     "text": [
      "9367it [00:00, 37352.19it/s]\n"
     ]
    },
    {
     "name": "stdout",
     "output_type": "stream",
     "text": [
      "hfiehhwodwcnsjdcnsk/[KB6]_Yamaha_RX17.rar\n"
     ]
    },
    {
     "name": "stderr",
     "output_type": "stream",
     "text": [
      "9367it [00:00, 33128.66it/s]\n"
     ]
    },
    {
     "name": "stdout",
     "output_type": "stream",
     "text": [
      "hfiehhwodwcnsjdcnsk/[KB6]_Yamaha_RX-120.rar\n"
     ]
    },
    {
     "name": "stderr",
     "output_type": "stream",
     "text": [
      "9367it [00:00, 19591.56it/s]\n"
     ]
    },
    {
     "name": "stdout",
     "output_type": "stream",
     "text": [
      "hfiehhwodwcnsjdcnsk/[KB6]_Yamaha_SHS200.rar\n"
     ]
    },
    {
     "name": "stderr",
     "output_type": "stream",
     "text": [
      "9367it [00:00, 38546.64it/s]\n"
     ]
    },
    {
     "name": "stdout",
     "output_type": "stream",
     "text": [
      "hfiehhwodwcnsjdcnsk/[KB6]_Yamaha_TX16W_Typhoon-OS.rar\n"
     ]
    },
    {
     "name": "stderr",
     "output_type": "stream",
     "text": [
      "9367it [00:00, 30082.13it/s]\n"
     ]
    }
   ],
   "source": [
    "for i in range(len(links) - 1):\n",
    "    print(names[i])\n",
    "    grab_from_link(links[i], names[i], '/Users/ryanpierson/Desktop/drum_samples')"
   ]
  }
 ],
 "metadata": {
  "kernelspec": {
   "display_name": "Python 3",
   "language": "python",
   "name": "python3"
  },
  "language_info": {
   "codemirror_mode": {
    "name": "ipython",
    "version": 3
   },
   "file_extension": ".py",
   "mimetype": "text/x-python",
   "name": "python",
   "nbconvert_exporter": "python",
   "pygments_lexer": "ipython3",
   "version": "3.7.0"
  }
 },
 "nbformat": 4,
 "nbformat_minor": 2
}
