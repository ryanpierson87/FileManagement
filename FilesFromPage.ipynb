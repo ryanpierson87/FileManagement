{
 "cells": [
  {
   "cell_type": "code",
   "execution_count": 105,
   "metadata": {},
   "outputs": [],
   "source": [
    "from bs4 import BeautifulSoup\n",
    "import re\n",
    "import requests\n",
    "from threading import Thread\n",
    "\n",
    "#This is the program that scrapes the webpage for all of the necessary files and returns the links where the files are\n",
    "def files_to_download(site, file_format):\n",
    "    '''    Scrapes the provided website and returns the links of all of the provided file format.\n",
    "    Ex: a page with a list of mp3s\n",
    "    files_to_download('https://sitewithmusic.com', '.mp3')\n",
    "    >>> ['...sitewithmusic.com/track_1', '...sitewithmusic.com/track_2', '...sitewithmusic.com/track_3']'''\n",
    "    url = requests.get(site)\n",
    "    soup = BeautifulSoup(url.content, 'html.parser')\n",
    "    #finds the files on the page\n",
    "    regex = re.compile(r\"href=\\\"(.*?)\\\"\")\n",
    "    matches = re.findall(regex, str(soup.body))\n",
    "    print(matches)\n",
    "    dl = []\n",
    "    for i in matches:\n",
    "        print(i)\n",
    "        if file_format in i:\n",
    "            if site in i:\n",
    "                dl.append(i)\n",
    "                x = 0\n",
    "            else:\n",
    "                names = []\n",
    "                dl.append(site + '/' + i)\n",
    "                x = 1\n",
    "    if x == 0:\n",
    "        return dl\n",
    "    else:\n",
    "        names = []\n",
    "        for i in matches:\n",
    "            if file_format in i:\n",
    "                names.append(i)        \n",
    "        return dl, names\n",
    "\n",
    "#This is the threading function that takes a download url and a possibly a folder.\n",
    "#it grabs the download from the link and sticks it into the provided folder- or local to the program.\n",
    "def download_files(url, folder=None):\n",
    "    r'''Downloads a file from a download link and places it in the specified folder.\n",
    "    \n",
    "    download_files('www.website.com/download_file', 'C:\\Users\\Me\\Desktop')\n",
    "        places the file from website.com onto the users Desktop.'''\n",
    "    print(f'folder {folder}\\n')\n",
    "    if folder == None:\n",
    "        name = url[url.find('.com/')+ 5:]\n",
    "    else:\n",
    "        if url[-1] == \"/\":\n",
    "            name = folder + url[url.find('.com/')+ 5:]\n",
    "        else:\n",
    "            name = folder + \"\\\\\" + url[url.find('.com/')+ 5:]\n",
    "    \n",
    "    print(\"The file being downloaded is {}\\n\".format(url))\n",
    "    print(f'name {name}\\n')\n",
    "    r = requests.get(name, allow_redirects=True)\n",
    "    open(name, 'wb').write(r.content)\n",
    "\n",
    "    \n",
    "#This function combines the functions: files_to_download and download_files\n",
    "#It runs the files_to_download to generate a list of links to download\n",
    "#It then threads through all of the downloads to get done SUPER QUICK\n",
    "def download_all(site, file_format, folder=None):\n",
    "    '''Takes a Site, a File Format, and a Destination folder\n",
    "   Downloads all of files of that format from a webpage into the folder.\n",
    "    \n",
    "    download_all('https://websitewithmusic.com', '.mp3', 'C:\\\\Users\\\\Desktop\\Folder')\n",
    "    >>>> All mp3s will be downloaded to the Folder folder on your Desktop'''\n",
    "    files_list = files_to_download(site, file_format)\n",
    "    for i in files_list:\n",
    "        t = Thread(target=download_files, args=(i, folder))\n",
    "        t.start()\n",
    "\n",
    "# def download_all(site, file_format, folder=None):\n",
    "#     '''Takes a Site, a File Format, and a Destination folder\n",
    "#    Downloads all of files of that format from a webpage into the folder.\n",
    "    \n",
    "#     download_all('https://websitewithmusic.com', '.mp3', 'C:\\\\Users\\\\Desktop\\Folder')\n",
    "#     >>>> All mp3s will be downloaded to the Folder folder on your Desktop'''\n",
    "#     files_list = files_to_download(site, file_format)\n",
    "#     for i in files_list:\n",
    "#         t = Thread(target=download_files, args=(i, folder))\n",
    "#         t.start()\n",
    "\n",
    "\n",
    "\n",
    "def grab_from_link(url, name, location):\n",
    "    from tqdm import tqdm\n",
    "    response = requests.get(url, stream=True)\n",
    "    \n",
    "    output = location + '/' + name\n",
    "\n",
    "    with open(output, \"wb\") as handle:\n",
    "        for data in tqdm(response.iter_content()):\n",
    "            handle.write(data)\n",
    "            \n"
   ]
  },
  {
   "cell_type": "code",
   "execution_count": 106,
   "metadata": {},
   "outputs": [
    {
     "name": "stdout",
     "output_type": "stream",
     "text": [
      "['machines/akai-alesis-bontempi.htm', 'machines/casio-emu-fricke.htm', 'machines/kawai-korg-linn.htm', 'machines/kawai-korg-linn.htm', 'machines/novation-oberheim.htm', 'machines/simmons-vermona-yamaha.htm', 'machines/akai-alesis-bontempi.htm', 'machines/kawai-korg-linn.htm', 'machines/simmons-vermona-yamaha.htm', 'machines/novation-oberheim.htm', 'machines/novation-oberheim.htm', 'machines/casio-emu-fricke.htm', 'newsletter.htm', 'newsletter.htm', 'faq.htm', 'faq.htm', 'http://www.synthzone.com/', 'http://www.maketunes.com/', 'http://www.kvraudio.com/', 'http://www.vintagesynth.com/', 'http://www.synthmuseum.com/', 'http://www.delamar.de/', 'http://www.rhythm-lab.com/', 'http://www.loopmasters.com#a_aid=4b7c099e6c77e&amp;a_bid=606ab213', 'thelist.htm', 'thelist.htm', 'index.htm', 'index.htm', 'index.htm', 'downloads_en.php', 'downloads_snare_drum.php', 'downloads_en.php', 'hfiehhwodwcnsjdcnsk/[KB6]_Acetone_Rhythm-Ace.rar', 'hfiehhwodwcnsjdcnsk/[KB6]_Acetone_Rhythm-King.rar', 'hfiehhwodwcnsjdcnsk/[KB6]_Acetone_Rhythm-Master.rar', 'hfiehhwodwcnsjdcnsk/[KB6]_AcidLab_Miami.rar', '#att', '#att', 'hfiehhwodwcnsjdcnsk/[KB6]_Akai_MPC2000.rar', '#att', '#att', '#att', '#att', 'hfiehhwodwcnsjdcnsk/[KB6]_Akai_XE8.rar', '#att', '#att', '#att', '#att', '#att', 'hfiehhwodwcnsjdcnsk/[KB6]_Alesis_HR16A.rar', 'http://drumsamples.kb6.de/2009/04/free-drum-samples-alesis-hr-16-a/', '#att', '#att', '#att', '#att', 'hfiehhwodwcnsjdcnsk/[KB6]_ARP_Axxe.rar', '#att', 'hfiehhwodwcnsjdcnsk/[KB6]_Austin_ARB-6.rar', 'hfiehhwodwcnsjdcnsk/[KB6]_BME_Rattlesnake.rar', 'hfiehhwodwcnsjdcnsk/[KB6]_Bontempi_HF222.rar', '#att', 'hfiehhwodwcnsjdcnsk/[KB6]_Casio_CZ-230S.rar', 'hfiehhwodwcnsjdcnsk/[KB6]_Casio_HT-700.rar', 'hfiehhwodwcnsjdcnsk/[KB6]_Casio_MA-101.rar', 'hfiehhwodwcnsjdcnsk/[KB6]_Casio_RZ1.rar', 'hfiehhwodwcnsjdcnsk/[KB6]_Casio_SA-10.rar', 'hfiehhwodwcnsjdcnsk/[KB6]_Casio_SK1.rar', 'hfiehhwodwcnsjdcnsk/[KB6]_Casio_SK5.rar', 'hfiehhwodwcnsjdcnsk/[KB6]_Casio_MT-18.rar', 'hfiehhwodwcnsjdcnsk/[KB6]_Casio_MT-100.rar', 'hfiehhwodwcnsjdcnsk/[KB6]_Casio_MT-500.rar', 'hfiehhwodwcnsjdcnsk/[KB6]_Casio_MT-800.rar', 'hfiehhwodwcnsjdcnsk/[KB6]_Casio_PT-82.rar', 'hfiehhwodwcnsjdcnsk/[KB6]_Casio_Rapman.rar', 'hfiehhwodwcnsjdcnsk/[KB6]_Casio_Rapman-II.rar', 'hfiehhwodwcnsjdcnsk/[KB6]_Chaser_PR-80.rar', 'hfiehhwodwcnsjdcnsk/[KB6]_Cheetah_MD16.rar', 'hfiehhwodwcnsjdcnsk/[KB6]_Cheetah_SpecDrum.rar', 'http://drumsamples.kb6.de/2009/04/free-drum-samples-cheetah-specdrum/', '#att', '#att', 'hfiehhwodwcnsjdcnsk/[KB6]_Clavia_Nord-Drum.rar', 'hfiehhwodwcnsjdcnsk/[KB6]_Coron_Drum-Synce_DS-7.rar', '#att', '#att', 'hfiehhwodwcnsjdcnsk/[KB6]_Daytone_Drum-Synthe-RDS.rar', 'hfiehhwodwcnsjdcnsk/[KB6]_DeepSky_Drumbox.rar', 'hfiehhwodwcnsjdcnsk/[KB6]_Denon_CRB-90.rar', 'hfiehhwodwcnsjdcnsk/[KB6]_Digitech_RP200.rar', 'hfiehhwodwcnsjdcnsk/[KB6]_DrBoehm_S-78.rar', 'hfiehhwodwcnsjdcnsk/[KB6]_Drumfire_DF-500.rar', 'hfiehhwodwcnsjdcnsk/[KB6]_EKO_MusicBox-12.rar', 'hfiehhwodwcnsjdcnsk/[KB6]_EKO_Ritmo20.rar', 'hfiehhwodwcnsjdcnsk/[KB6]_Electro-Harmonix_DRM-15.rar', 'hfiehhwodwcnsjdcnsk/[KB6]_Electro-Harmonix_DRM-16.rar', 'hfiehhwodwcnsjdcnsk/[KB6]_Electro-Harmonix_DRM-32.rar', '#att', '#att', '#att', '#att', 'hfiehhwodwcnsjdcnsk/[KB6]_Elka_Drumstar-80.rar', '#att', '#att', '#att', 'hfiehhwodwcnsjdcnsk/[KB6]_EMU_E-Drum.rar', '#att', '#att', '#att', '#att', '#att', 'hfiehhwodwcnsjdcnsk/[KB6]_EMU_Proteus1.rar', '#att', 'hfiehhwodwcnsjdcnsk/[KB6]_EMU_Proteus3.rar', '#att', 'hfiehhwodwcnsjdcnsk/[KB6]_EMU_SP-12.rar', '#att', '#att', '#att', 'hfiehhwodwcnsjdcnsk/[KB6]_Ensoniq_ASR-X.rar', '#att', 'hfiehhwodwcnsjdcnsk/[KB6]_Ensoniq_EPS.rar', 'hfiehhwodwcnsjdcnsk/[KB6]_Ensoniq_Mirage.rar', '#att', '#att', 'hfiehhwodwcnsjdcnsk/[KB6]_Estradin_Pulsar.rar', '#att', '#att', 'hfiehhwodwcnsjdcnsk/[KB6]_Forat_F-9000.rar', '#att', 'hfiehhwodwcnsjdcnsk/[KB6]_Fricke_MFB_301.rar', 'hfiehhwodwcnsjdcnsk/[KB6]_Fricke_MFB_501.rar', 'hfiehhwodwcnsjdcnsk/[KB6]_Fricke_MFB_512.rar', '#att', 'hfiehhwodwcnsjdcnsk/[KB6]_Fricke_MFB_712.rar', '#att', '#att', 'hfiehhwodwcnsjdcnsk/[KB6]_GEM_Drum15.rar', 'hfiehhwodwcnsjdcnsk/[KB6]_Hammond_Auto-Vari64.rar', 'hfiehhwodwcnsjdcnsk/[KB6]_Hammond_Rhythm2.rar', 'hfiehhwodwcnsjdcnsk/[KB6]_Hing-Hon_EK001.rar', '#att', 'hfiehhwodwcnsjdcnsk/[KB6]_Jomox_Mbase01.rar', '#att', '#att', 'hfiehhwodwcnsjdcnsk/[KB6]_Kawai_ACR20.rar', 'hfiehhwodwcnsjdcnsk/[KB6]_Kawai_K1.rar', '#att', 'hfiehhwodwcnsjdcnsk/[KB6]_Kawai_R-50.rar', 'hfiehhwodwcnsjdcnsk/[KB6]_Kawai_R-50e.rar', 'hfiehhwodwcnsjdcnsk/[KB6]_Kawai_R-100.rar', 'hfiehhwodwcnsjdcnsk/[KB6]_Kawai_SX-240.rar', 'hfiehhwodwcnsjdcnsk/[KB6]_Kawai_XD-5.rar', 'hfiehhwodwcnsjdcnsk/[KB6]_Kay_DRM1.rar', 'hfiehhwodwcnsjdcnsk/[KB6]_Kay_R8.rar', 'hfiehhwodwcnsjdcnsk/[KB6]_Keio_Checkmate.rar', 'hfiehhwodwcnsjdcnsk/[KB6]_Ketron_SD-5.rar', '#att', '#att', '#att', '#att', 'hfiehhwodwcnsjdcnsk/[KB6]_Korg_DDD-1.rar', '#att', 'hfiehhwodwcnsjdcnsk/[KB6]_Korg_DDM110.rar', 'hfiehhwodwcnsjdcnsk/[KB6]_Korg_DDM220.rar', 'hfiehhwodwcnsjdcnsk/[KB6]_Korg_DRM-1.rar', '#att', '#att', '#att', '#att', 'hfiehhwodwcnsjdcnsk/[KB6]_Korg_KPR77.rar', 'hfiehhwodwcnsjdcnsk/[KB6]_Korg_KR-33.rar', 'hfiehhwodwcnsjdcnsk/[KB6]_Korg_KR55.rar', 'hfiehhwodwcnsjdcnsk/[KB6]_Korg_KR-Mini.rar', '#att', 'hfiehhwodwcnsjdcnsk/[KB6]_Korg_Minipops.rar', '#att', 'hfiehhwodwcnsjdcnsk/[KB6]_Korg_MP7.rar', 'hfiehhwodwcnsjdcnsk/[KB6]_Korg_Prophecy.rar', 'hfiehhwodwcnsjdcnsk/[KB6]_Korg_ProWave.rar', 'hfiehhwodwcnsjdcnsk/[KB6]_Korg_PSS-50.rar', 'hfiehhwodwcnsjdcnsk/[KB6]_Korg_Radias.rar', 'hfiehhwodwcnsjdcnsk/[KB6]_Korg_SR-120.rar', 'hfiehhwodwcnsjdcnsk/[KB6]_Korg_T1.rar', 'hfiehhwodwcnsjdcnsk/[KB6]_Korg_T3.rar', '#att', '#att', '#att', '#att', '#att', '#att', '#att', '#att', 'hfiehhwodwcnsjdcnsk/[KB6]_Kurzweil_K2000.rar', 'hfiehhwodwcnsjdcnsk/[KB6]_Lel_PSR.rar', 'hfiehhwodwcnsjdcnsk/[KB6]_Linn_AdrenaLinn1.rar', '#att', 'hfiehhwodwcnsjdcnsk/[KB6]_Linn_LM-1.rar', '#att', '#att', 'hfiehhwodwcnsjdcnsk/[KB6]_Maestro_G2.rar', '#att', 'hfiehhwodwcnsjdcnsk/[KB6]_Mattel_Electronics_Synsonics_DRM.rar', '#att', 'http://drumsamples.kb6.de/2009/04/free-drum-samples-millenium-mps-400/', 'hfiehhwodwcnsjdcnsk/[KB6]_Moog_Modular55.rar', 'hfiehhwodwcnsjdcnsk/[KB6]_Moog_Voyager.rar', '#att', 'hfiehhwodwcnsjdcnsk/[KB6]_MPC-Electronics_The-KIT.rar', 'hfiehhwodwcnsjdcnsk/[KB6]_MSC_DL-909.rar', 'hfiehhwodwcnsjdcnsk/[KB6]_MTI_AO-1.rar', '#att', '#att', 'hfiehhwodwcnsjdcnsk/[KB6]_MXR_185.rar', 'hfiehhwodwcnsjdcnsk/[KB6]_Nasta_Hit-Stix2.rar', 'hfiehhwodwcnsjdcnsk/[KB6]_Nintendo_Game-Boy-Advance-SP.rar', '#att', '#att', '#att', 'hfiehhwodwcnsjdcnsk/[KB6]_Novation_Bass-Station-2.rar', '#att', '#att', '#att', 'hfiehhwodwcnsjdcnsk/[KB6]_Panasonic_RD-9844.rar', '#att', 'hfiehhwodwcnsjdcnsk/[KB6]_Pearl_DRX-1.rar', '#att', '#att', '#att', '#att', '#att', 'hfiehhwodwcnsjdcnsk/[KB6]_Rhodes_Polaris.rar', 'hfiehhwodwcnsjdcnsk/[KB6]_RSF_DD-30.rar', 'hfiehhwodwcnsjdcnsk/[KB6]_Sakata_DPM48.rar', 'hfiehhwodwcnsjdcnsk/[KB6]_SequentialCircuits_Drumtraks.rar', 'hfiehhwodwcnsjdcnsk/[KB6]_Sequential_Circuits_Studio-440.rar', 'hfiehhwodwcnsjdcnsk/[KB6]_SequentialCircuits_Tom.rar', 'hfiehhwodwcnsjdcnsk/[KB6]_Serge_Modular.rar', 'hfiehhwodwcnsjdcnsk/[KB6]_Simmons_ClapTrap.rar', 'hfiehhwodwcnsjdcnsk/[KB6]_Simmons_SDS1000.rar', 'hfiehhwodwcnsjdcnsk/[KB6]_Simmons_SDS200.rar', 'hfiehhwodwcnsjdcnsk/[KB6]_Simmons_SDS2000.rar', '#att', 'hfiehhwodwcnsjdcnsk/[KB6]_Simmons_SDS7.rar', '#att', '#att', 'hfiehhwodwcnsjdcnsk/[KB6]_Solton_Disco-64.rar', '#att', '#att', 'hfiehhwodwcnsjdcnsk/[KB6]_Sony_DRP-1.rar', '#att', 'hfiehhwodwcnsjdcnsk/[KB6]_SoundMaster_SR88.rar', 'hfiehhwodwcnsjdcnsk/[KB6]_SoundMaster_Stix_ST-305.rar', 'hfiehhwodwcnsjdcnsk/[KB6]_SRB_600.rar', 'hfiehhwodwcnsjdcnsk/[KB6]_Star-Instruments_Synare-PS-1.rar', '#att', 'hfiehhwodwcnsjdcnsk/[KB6]_Stylophone_Beatbox.rar', 'hfiehhwodwcnsjdcnsk/[KB6]_Syncussion_Zapp.rar', 'hfiehhwodwcnsjdcnsk/[KB6]_Tama_RockStar.rar', '#att', '#att', 'hfiehhwodwcnsjdcnsk/[KB6]_Tama_TS-500.rar', 'hfiehhwodwcnsjdcnsk/[KB6]_Technics_AX5.rar', 'hfiehhwodwcnsjdcnsk/[KB6]_Technics_PCM_DP50.rar', 'hfiehhwodwcnsjdcnsk/[KB6]_Technics_U90.rar', 'hfiehhwodwcnsjdcnsk/[KB6]_Teenage-Engineering_PO-12.rar', '#att', '#att', 'hfiehhwodwcnsjdcnsk/[KB6]_Vermona_DRM1.rar', '#att', '#att', '#att', '#att', 'hfiehhwodwcnsjdcnsk/[KB6]_Video-Tech_Rythmic10.rar', 'hfiehhwodwcnsjdcnsk/[KB6]_Visco_Space_Drum.rar', 'hfiehhwodwcnsjdcnsk/[KB6]_Watford-Electronics_Rhythm-Generator.rar', 'hfiehhwodwcnsjdcnsk/[KB6]_Wersi_Prisma-DX5.rar', 'hfiehhwodwcnsjdcnsk/[KB6]_Wiard_300-Series-Modular.rar', '#att', 'hfiehhwodwcnsjdcnsk/[KB6]_Wurlitzer_Swinging-Rhythm.rar', 'hfiehhwodwcnsjdcnsk/[KB6]_Yamaha_AN200.rar', '#att', 'hfiehhwodwcnsjdcnsk/[KB6]_Yamaha_CS15D.rar', 'hfiehhwodwcnsjdcnsk/[KB6]_Yamaha_CS-40M.rar', 'hfiehhwodwcnsjdcnsk/[KB6]_Yamaha_DD-5.rar', '#att', 'hfiehhwodwcnsjdcnsk/[KB6]_Yamaha_DD-10.rar', 'hfiehhwodwcnsjdcnsk/[KB6]_Yamaha_DD-11.rar', '#att', '#att', 'hfiehhwodwcnsjdcnsk/[KB6]_Yamaha_DD-50.rar', '#att', '#att', '#att', '#att', '#att', '#att', '#att', '#att', '#att', '#att', 'hfiehhwodwcnsjdcnsk/[KB6]_Yamaha_PTX8.rar', '#att', '#att', 'hfiehhwodwcnsjdcnsk/[KB6]_Yamaha_RX-11.rar', 'hfiehhwodwcnsjdcnsk/[KB6]_Yamaha_RX-21.rar', 'hfiehhwodwcnsjdcnsk/[KB6]_Yamaha_RX-21L.rar', 'hfiehhwodwcnsjdcnsk/[KB6]_Yamaha_RX-5.rar', '#att', 'hfiehhwodwcnsjdcnsk/[KB6]_Yamaha_RX15.rar', 'hfiehhwodwcnsjdcnsk/[KB6]_Yamaha_RX17.rar', 'hfiehhwodwcnsjdcnsk/[KB6]_Yamaha_RX-120.rar', '#att', '#att', '#att', '#att', '#att', 'hfiehhwodwcnsjdcnsk/[KB6]_Yamaha_SHS200.rar', '#att', '#att', '#att', '#att', 'hfiehhwodwcnsjdcnsk/[KB6]_Yamaha_TX16W_Typhoon-OS.rar', 'hfiehhwodwcnsjdcnsk/[KB6]_Yamaha_VSS-100.rar', '#att', '#att', '#att', '#att', '#att', '#att', 'https://www.paypal.me/KB6samples', 'https://www.paypal.me/KB6samples', 'faq.htm']\n",
      "machines/akai-alesis-bontempi.htm\n",
      "machines/casio-emu-fricke.htm\n",
      "machines/kawai-korg-linn.htm\n",
      "machines/kawai-korg-linn.htm\n",
      "machines/novation-oberheim.htm\n",
      "machines/simmons-vermona-yamaha.htm\n",
      "machines/akai-alesis-bontempi.htm\n",
      "machines/kawai-korg-linn.htm\n",
      "machines/simmons-vermona-yamaha.htm\n",
      "machines/novation-oberheim.htm\n",
      "machines/novation-oberheim.htm\n",
      "machines/casio-emu-fricke.htm\n",
      "newsletter.htm\n",
      "newsletter.htm\n",
      "faq.htm\n",
      "faq.htm\n",
      "http://www.synthzone.com/\n",
      "http://www.maketunes.com/\n",
      "http://www.kvraudio.com/\n",
      "http://www.vintagesynth.com/\n",
      "http://www.synthmuseum.com/\n",
      "http://www.delamar.de/\n",
      "http://www.rhythm-lab.com/\n",
      "http://www.loopmasters.com#a_aid=4b7c099e6c77e&amp;a_bid=606ab213\n",
      "thelist.htm\n",
      "thelist.htm\n",
      "index.htm\n",
      "index.htm\n",
      "index.htm\n",
      "downloads_en.php\n",
      "downloads_snare_drum.php\n",
      "downloads_en.php\n",
      "hfiehhwodwcnsjdcnsk/[KB6]_Acetone_Rhythm-Ace.rar\n",
      "hfiehhwodwcnsjdcnsk/[KB6]_Acetone_Rhythm-King.rar\n",
      "hfiehhwodwcnsjdcnsk/[KB6]_Acetone_Rhythm-Master.rar\n",
      "hfiehhwodwcnsjdcnsk/[KB6]_AcidLab_Miami.rar\n",
      "#att\n",
      "#att\n",
      "hfiehhwodwcnsjdcnsk/[KB6]_Akai_MPC2000.rar\n",
      "#att\n",
      "#att\n",
      "#att\n",
      "#att\n",
      "hfiehhwodwcnsjdcnsk/[KB6]_Akai_XE8.rar\n",
      "#att\n",
      "#att\n",
      "#att\n",
      "#att\n",
      "#att\n",
      "hfiehhwodwcnsjdcnsk/[KB6]_Alesis_HR16A.rar\n",
      "http://drumsamples.kb6.de/2009/04/free-drum-samples-alesis-hr-16-a/\n",
      "#att\n",
      "#att\n",
      "#att\n",
      "#att\n",
      "hfiehhwodwcnsjdcnsk/[KB6]_ARP_Axxe.rar\n",
      "#att\n",
      "hfiehhwodwcnsjdcnsk/[KB6]_Austin_ARB-6.rar\n",
      "hfiehhwodwcnsjdcnsk/[KB6]_BME_Rattlesnake.rar\n",
      "hfiehhwodwcnsjdcnsk/[KB6]_Bontempi_HF222.rar\n",
      "#att\n",
      "hfiehhwodwcnsjdcnsk/[KB6]_Casio_CZ-230S.rar\n",
      "hfiehhwodwcnsjdcnsk/[KB6]_Casio_HT-700.rar\n",
      "hfiehhwodwcnsjdcnsk/[KB6]_Casio_MA-101.rar\n",
      "hfiehhwodwcnsjdcnsk/[KB6]_Casio_RZ1.rar\n",
      "hfiehhwodwcnsjdcnsk/[KB6]_Casio_SA-10.rar\n",
      "hfiehhwodwcnsjdcnsk/[KB6]_Casio_SK1.rar\n",
      "hfiehhwodwcnsjdcnsk/[KB6]_Casio_SK5.rar\n",
      "hfiehhwodwcnsjdcnsk/[KB6]_Casio_MT-18.rar\n",
      "hfiehhwodwcnsjdcnsk/[KB6]_Casio_MT-100.rar\n",
      "hfiehhwodwcnsjdcnsk/[KB6]_Casio_MT-500.rar\n",
      "hfiehhwodwcnsjdcnsk/[KB6]_Casio_MT-800.rar\n",
      "hfiehhwodwcnsjdcnsk/[KB6]_Casio_PT-82.rar\n",
      "hfiehhwodwcnsjdcnsk/[KB6]_Casio_Rapman.rar\n",
      "hfiehhwodwcnsjdcnsk/[KB6]_Casio_Rapman-II.rar\n",
      "hfiehhwodwcnsjdcnsk/[KB6]_Chaser_PR-80.rar\n",
      "hfiehhwodwcnsjdcnsk/[KB6]_Cheetah_MD16.rar\n",
      "hfiehhwodwcnsjdcnsk/[KB6]_Cheetah_SpecDrum.rar\n",
      "http://drumsamples.kb6.de/2009/04/free-drum-samples-cheetah-specdrum/\n",
      "#att\n",
      "#att\n",
      "hfiehhwodwcnsjdcnsk/[KB6]_Clavia_Nord-Drum.rar\n",
      "hfiehhwodwcnsjdcnsk/[KB6]_Coron_Drum-Synce_DS-7.rar\n",
      "#att\n",
      "#att\n",
      "hfiehhwodwcnsjdcnsk/[KB6]_Daytone_Drum-Synthe-RDS.rar\n",
      "hfiehhwodwcnsjdcnsk/[KB6]_DeepSky_Drumbox.rar\n",
      "hfiehhwodwcnsjdcnsk/[KB6]_Denon_CRB-90.rar\n",
      "hfiehhwodwcnsjdcnsk/[KB6]_Digitech_RP200.rar\n",
      "hfiehhwodwcnsjdcnsk/[KB6]_DrBoehm_S-78.rar\n",
      "hfiehhwodwcnsjdcnsk/[KB6]_Drumfire_DF-500.rar\n",
      "hfiehhwodwcnsjdcnsk/[KB6]_EKO_MusicBox-12.rar\n",
      "hfiehhwodwcnsjdcnsk/[KB6]_EKO_Ritmo20.rar\n",
      "hfiehhwodwcnsjdcnsk/[KB6]_Electro-Harmonix_DRM-15.rar\n",
      "hfiehhwodwcnsjdcnsk/[KB6]_Electro-Harmonix_DRM-16.rar\n",
      "hfiehhwodwcnsjdcnsk/[KB6]_Electro-Harmonix_DRM-32.rar\n",
      "#att\n",
      "#att\n",
      "#att\n",
      "#att\n",
      "hfiehhwodwcnsjdcnsk/[KB6]_Elka_Drumstar-80.rar\n",
      "#att\n",
      "#att\n",
      "#att\n",
      "hfiehhwodwcnsjdcnsk/[KB6]_EMU_E-Drum.rar\n",
      "#att\n",
      "#att\n",
      "#att\n",
      "#att\n",
      "#att\n",
      "hfiehhwodwcnsjdcnsk/[KB6]_EMU_Proteus1.rar\n",
      "#att\n",
      "hfiehhwodwcnsjdcnsk/[KB6]_EMU_Proteus3.rar\n",
      "#att\n",
      "hfiehhwodwcnsjdcnsk/[KB6]_EMU_SP-12.rar\n",
      "#att\n",
      "#att\n",
      "#att\n",
      "hfiehhwodwcnsjdcnsk/[KB6]_Ensoniq_ASR-X.rar\n",
      "#att\n",
      "hfiehhwodwcnsjdcnsk/[KB6]_Ensoniq_EPS.rar\n",
      "hfiehhwodwcnsjdcnsk/[KB6]_Ensoniq_Mirage.rar\n",
      "#att\n",
      "#att\n",
      "hfiehhwodwcnsjdcnsk/[KB6]_Estradin_Pulsar.rar\n",
      "#att\n",
      "#att\n",
      "hfiehhwodwcnsjdcnsk/[KB6]_Forat_F-9000.rar\n",
      "#att\n",
      "hfiehhwodwcnsjdcnsk/[KB6]_Fricke_MFB_301.rar\n",
      "hfiehhwodwcnsjdcnsk/[KB6]_Fricke_MFB_501.rar\n",
      "hfiehhwodwcnsjdcnsk/[KB6]_Fricke_MFB_512.rar\n",
      "#att\n",
      "hfiehhwodwcnsjdcnsk/[KB6]_Fricke_MFB_712.rar\n",
      "#att\n",
      "#att\n",
      "hfiehhwodwcnsjdcnsk/[KB6]_GEM_Drum15.rar\n",
      "hfiehhwodwcnsjdcnsk/[KB6]_Hammond_Auto-Vari64.rar\n",
      "hfiehhwodwcnsjdcnsk/[KB6]_Hammond_Rhythm2.rar\n",
      "hfiehhwodwcnsjdcnsk/[KB6]_Hing-Hon_EK001.rar\n",
      "#att\n",
      "hfiehhwodwcnsjdcnsk/[KB6]_Jomox_Mbase01.rar\n",
      "#att\n",
      "#att\n",
      "hfiehhwodwcnsjdcnsk/[KB6]_Kawai_ACR20.rar\n",
      "hfiehhwodwcnsjdcnsk/[KB6]_Kawai_K1.rar\n",
      "#att\n",
      "hfiehhwodwcnsjdcnsk/[KB6]_Kawai_R-50.rar\n",
      "hfiehhwodwcnsjdcnsk/[KB6]_Kawai_R-50e.rar\n",
      "hfiehhwodwcnsjdcnsk/[KB6]_Kawai_R-100.rar\n",
      "hfiehhwodwcnsjdcnsk/[KB6]_Kawai_SX-240.rar\n",
      "hfiehhwodwcnsjdcnsk/[KB6]_Kawai_XD-5.rar\n",
      "hfiehhwodwcnsjdcnsk/[KB6]_Kay_DRM1.rar\n",
      "hfiehhwodwcnsjdcnsk/[KB6]_Kay_R8.rar\n",
      "hfiehhwodwcnsjdcnsk/[KB6]_Keio_Checkmate.rar\n",
      "hfiehhwodwcnsjdcnsk/[KB6]_Ketron_SD-5.rar\n",
      "#att\n",
      "#att\n",
      "#att\n",
      "#att\n",
      "hfiehhwodwcnsjdcnsk/[KB6]_Korg_DDD-1.rar\n",
      "#att\n",
      "hfiehhwodwcnsjdcnsk/[KB6]_Korg_DDM110.rar\n",
      "hfiehhwodwcnsjdcnsk/[KB6]_Korg_DDM220.rar\n",
      "hfiehhwodwcnsjdcnsk/[KB6]_Korg_DRM-1.rar\n",
      "#att\n",
      "#att\n",
      "#att\n",
      "#att\n",
      "hfiehhwodwcnsjdcnsk/[KB6]_Korg_KPR77.rar\n",
      "hfiehhwodwcnsjdcnsk/[KB6]_Korg_KR-33.rar\n",
      "hfiehhwodwcnsjdcnsk/[KB6]_Korg_KR55.rar\n",
      "hfiehhwodwcnsjdcnsk/[KB6]_Korg_KR-Mini.rar\n",
      "#att\n",
      "hfiehhwodwcnsjdcnsk/[KB6]_Korg_Minipops.rar\n",
      "#att\n",
      "hfiehhwodwcnsjdcnsk/[KB6]_Korg_MP7.rar\n",
      "hfiehhwodwcnsjdcnsk/[KB6]_Korg_Prophecy.rar\n",
      "hfiehhwodwcnsjdcnsk/[KB6]_Korg_ProWave.rar\n",
      "hfiehhwodwcnsjdcnsk/[KB6]_Korg_PSS-50.rar\n",
      "hfiehhwodwcnsjdcnsk/[KB6]_Korg_Radias.rar\n",
      "hfiehhwodwcnsjdcnsk/[KB6]_Korg_SR-120.rar\n",
      "hfiehhwodwcnsjdcnsk/[KB6]_Korg_T1.rar\n",
      "hfiehhwodwcnsjdcnsk/[KB6]_Korg_T3.rar\n",
      "#att\n",
      "#att\n",
      "#att\n",
      "#att\n",
      "#att\n",
      "#att\n",
      "#att\n",
      "#att\n",
      "hfiehhwodwcnsjdcnsk/[KB6]_Kurzweil_K2000.rar\n",
      "hfiehhwodwcnsjdcnsk/[KB6]_Lel_PSR.rar\n",
      "hfiehhwodwcnsjdcnsk/[KB6]_Linn_AdrenaLinn1.rar\n",
      "#att\n",
      "hfiehhwodwcnsjdcnsk/[KB6]_Linn_LM-1.rar\n",
      "#att\n",
      "#att\n",
      "hfiehhwodwcnsjdcnsk/[KB6]_Maestro_G2.rar\n",
      "#att\n",
      "hfiehhwodwcnsjdcnsk/[KB6]_Mattel_Electronics_Synsonics_DRM.rar\n",
      "#att\n",
      "http://drumsamples.kb6.de/2009/04/free-drum-samples-millenium-mps-400/\n",
      "hfiehhwodwcnsjdcnsk/[KB6]_Moog_Modular55.rar\n",
      "hfiehhwodwcnsjdcnsk/[KB6]_Moog_Voyager.rar\n",
      "#att\n",
      "hfiehhwodwcnsjdcnsk/[KB6]_MPC-Electronics_The-KIT.rar\n",
      "hfiehhwodwcnsjdcnsk/[KB6]_MSC_DL-909.rar\n",
      "hfiehhwodwcnsjdcnsk/[KB6]_MTI_AO-1.rar\n",
      "#att\n",
      "#att\n",
      "hfiehhwodwcnsjdcnsk/[KB6]_MXR_185.rar\n",
      "hfiehhwodwcnsjdcnsk/[KB6]_Nasta_Hit-Stix2.rar\n",
      "hfiehhwodwcnsjdcnsk/[KB6]_Nintendo_Game-Boy-Advance-SP.rar\n",
      "#att\n",
      "#att\n",
      "#att\n",
      "hfiehhwodwcnsjdcnsk/[KB6]_Novation_Bass-Station-2.rar\n",
      "#att\n",
      "#att\n",
      "#att\n",
      "hfiehhwodwcnsjdcnsk/[KB6]_Panasonic_RD-9844.rar\n",
      "#att\n",
      "hfiehhwodwcnsjdcnsk/[KB6]_Pearl_DRX-1.rar\n",
      "#att\n",
      "#att\n",
      "#att\n",
      "#att\n",
      "#att\n",
      "hfiehhwodwcnsjdcnsk/[KB6]_Rhodes_Polaris.rar\n",
      "hfiehhwodwcnsjdcnsk/[KB6]_RSF_DD-30.rar\n",
      "hfiehhwodwcnsjdcnsk/[KB6]_Sakata_DPM48.rar\n",
      "hfiehhwodwcnsjdcnsk/[KB6]_SequentialCircuits_Drumtraks.rar\n",
      "hfiehhwodwcnsjdcnsk/[KB6]_Sequential_Circuits_Studio-440.rar\n",
      "hfiehhwodwcnsjdcnsk/[KB6]_SequentialCircuits_Tom.rar\n",
      "hfiehhwodwcnsjdcnsk/[KB6]_Serge_Modular.rar\n",
      "hfiehhwodwcnsjdcnsk/[KB6]_Simmons_ClapTrap.rar\n",
      "hfiehhwodwcnsjdcnsk/[KB6]_Simmons_SDS1000.rar\n",
      "hfiehhwodwcnsjdcnsk/[KB6]_Simmons_SDS200.rar\n",
      "hfiehhwodwcnsjdcnsk/[KB6]_Simmons_SDS2000.rar\n",
      "#att\n",
      "hfiehhwodwcnsjdcnsk/[KB6]_Simmons_SDS7.rar\n",
      "#att\n",
      "#att\n",
      "hfiehhwodwcnsjdcnsk/[KB6]_Solton_Disco-64.rar\n",
      "#att\n",
      "#att\n",
      "hfiehhwodwcnsjdcnsk/[KB6]_Sony_DRP-1.rar\n",
      "#att\n",
      "hfiehhwodwcnsjdcnsk/[KB6]_SoundMaster_SR88.rar\n",
      "hfiehhwodwcnsjdcnsk/[KB6]_SoundMaster_Stix_ST-305.rar\n",
      "hfiehhwodwcnsjdcnsk/[KB6]_SRB_600.rar\n",
      "hfiehhwodwcnsjdcnsk/[KB6]_Star-Instruments_Synare-PS-1.rar\n",
      "#att\n",
      "hfiehhwodwcnsjdcnsk/[KB6]_Stylophone_Beatbox.rar\n",
      "hfiehhwodwcnsjdcnsk/[KB6]_Syncussion_Zapp.rar\n",
      "hfiehhwodwcnsjdcnsk/[KB6]_Tama_RockStar.rar\n",
      "#att\n",
      "#att\n",
      "hfiehhwodwcnsjdcnsk/[KB6]_Tama_TS-500.rar\n",
      "hfiehhwodwcnsjdcnsk/[KB6]_Technics_AX5.rar\n",
      "hfiehhwodwcnsjdcnsk/[KB6]_Technics_PCM_DP50.rar\n",
      "hfiehhwodwcnsjdcnsk/[KB6]_Technics_U90.rar\n",
      "hfiehhwodwcnsjdcnsk/[KB6]_Teenage-Engineering_PO-12.rar\n",
      "#att\n",
      "#att\n",
      "hfiehhwodwcnsjdcnsk/[KB6]_Vermona_DRM1.rar\n",
      "#att\n",
      "#att\n",
      "#att\n",
      "#att\n",
      "hfiehhwodwcnsjdcnsk/[KB6]_Video-Tech_Rythmic10.rar\n",
      "hfiehhwodwcnsjdcnsk/[KB6]_Visco_Space_Drum.rar\n",
      "hfiehhwodwcnsjdcnsk/[KB6]_Watford-Electronics_Rhythm-Generator.rar\n",
      "hfiehhwodwcnsjdcnsk/[KB6]_Wersi_Prisma-DX5.rar\n",
      "hfiehhwodwcnsjdcnsk/[KB6]_Wiard_300-Series-Modular.rar\n",
      "#att\n",
      "hfiehhwodwcnsjdcnsk/[KB6]_Wurlitzer_Swinging-Rhythm.rar\n",
      "hfiehhwodwcnsjdcnsk/[KB6]_Yamaha_AN200.rar\n",
      "#att\n",
      "hfiehhwodwcnsjdcnsk/[KB6]_Yamaha_CS15D.rar\n",
      "hfiehhwodwcnsjdcnsk/[KB6]_Yamaha_CS-40M.rar\n",
      "hfiehhwodwcnsjdcnsk/[KB6]_Yamaha_DD-5.rar\n",
      "#att\n",
      "hfiehhwodwcnsjdcnsk/[KB6]_Yamaha_DD-10.rar\n",
      "hfiehhwodwcnsjdcnsk/[KB6]_Yamaha_DD-11.rar\n",
      "#att\n",
      "#att\n",
      "hfiehhwodwcnsjdcnsk/[KB6]_Yamaha_DD-50.rar\n",
      "#att\n",
      "#att\n",
      "#att\n",
      "#att\n",
      "#att\n",
      "#att\n",
      "#att\n",
      "#att\n",
      "#att\n",
      "#att\n",
      "hfiehhwodwcnsjdcnsk/[KB6]_Yamaha_PTX8.rar\n",
      "#att\n",
      "#att\n",
      "hfiehhwodwcnsjdcnsk/[KB6]_Yamaha_RX-11.rar\n",
      "hfiehhwodwcnsjdcnsk/[KB6]_Yamaha_RX-21.rar\n",
      "hfiehhwodwcnsjdcnsk/[KB6]_Yamaha_RX-21L.rar\n",
      "hfiehhwodwcnsjdcnsk/[KB6]_Yamaha_RX-5.rar\n",
      "#att\n",
      "hfiehhwodwcnsjdcnsk/[KB6]_Yamaha_RX15.rar\n",
      "hfiehhwodwcnsjdcnsk/[KB6]_Yamaha_RX17.rar\n",
      "hfiehhwodwcnsjdcnsk/[KB6]_Yamaha_RX-120.rar\n",
      "#att\n",
      "#att\n",
      "#att\n",
      "#att\n",
      "#att\n",
      "hfiehhwodwcnsjdcnsk/[KB6]_Yamaha_SHS200.rar\n",
      "#att\n",
      "#att\n",
      "#att\n",
      "#att\n",
      "hfiehhwodwcnsjdcnsk/[KB6]_Yamaha_TX16W_Typhoon-OS.rar\n",
      "hfiehhwodwcnsjdcnsk/[KB6]_Yamaha_VSS-100.rar\n",
      "#att\n",
      "#att\n",
      "#att\n",
      "#att\n",
      "#att\n",
      "#att\n",
      "https://www.paypal.me/KB6samples\n",
      "https://www.paypal.me/KB6samples\n",
      "faq.htm\n"
     ]
    }
   ],
   "source": [
    "f = files_to_download('https://samples.kb6.de/downloads.php', '.rar')"
   ]
  },
  {
   "cell_type": "code",
   "execution_count": 111,
   "metadata": {},
   "outputs": [
    {
     "name": "stdout",
     "output_type": "stream",
     "text": [
      "hfiehhwodwcnsjdcnsk/[KB6]_Acetone_Rhythm-Ace.rar\n"
     ]
    },
    {
     "name": "stderr",
     "output_type": "stream",
     "text": [
      "9367it [00:00, 38794.31it/s]\n"
     ]
    },
    {
     "name": "stdout",
     "output_type": "stream",
     "text": [
      "hfiehhwodwcnsjdcnsk/[KB6]_Acetone_Rhythm-King.rar\n"
     ]
    },
    {
     "name": "stderr",
     "output_type": "stream",
     "text": [
      "9367it [00:00, 39269.04it/s]\n"
     ]
    },
    {
     "name": "stdout",
     "output_type": "stream",
     "text": [
      "hfiehhwodwcnsjdcnsk/[KB6]_Acetone_Rhythm-Master.rar\n"
     ]
    },
    {
     "name": "stderr",
     "output_type": "stream",
     "text": [
      "9367it [00:00, 38856.89it/s]\n"
     ]
    },
    {
     "name": "stdout",
     "output_type": "stream",
     "text": [
      "hfiehhwodwcnsjdcnsk/[KB6]_AcidLab_Miami.rar\n"
     ]
    },
    {
     "name": "stderr",
     "output_type": "stream",
     "text": [
      "9367it [00:00, 39093.67it/s]\n"
     ]
    },
    {
     "name": "stdout",
     "output_type": "stream",
     "text": [
      "hfiehhwodwcnsjdcnsk/[KB6]_Akai_MPC2000.rar\n"
     ]
    },
    {
     "name": "stderr",
     "output_type": "stream",
     "text": [
      "9367it [00:00, 34195.99it/s]\n"
     ]
    },
    {
     "name": "stdout",
     "output_type": "stream",
     "text": [
      "hfiehhwodwcnsjdcnsk/[KB6]_Akai_XE8.rar\n"
     ]
    },
    {
     "name": "stderr",
     "output_type": "stream",
     "text": [
      "9367it [00:00, 35292.41it/s]\n"
     ]
    },
    {
     "name": "stdout",
     "output_type": "stream",
     "text": [
      "hfiehhwodwcnsjdcnsk/[KB6]_Alesis_HR16A.rar\n"
     ]
    },
    {
     "name": "stderr",
     "output_type": "stream",
     "text": [
      "9367it [00:00, 37098.49it/s]\n"
     ]
    },
    {
     "name": "stdout",
     "output_type": "stream",
     "text": [
      "hfiehhwodwcnsjdcnsk/[KB6]_ARP_Axxe.rar\n"
     ]
    },
    {
     "name": "stderr",
     "output_type": "stream",
     "text": [
      "9367it [00:00, 31560.82it/s]\n"
     ]
    },
    {
     "name": "stdout",
     "output_type": "stream",
     "text": [
      "hfiehhwodwcnsjdcnsk/[KB6]_Austin_ARB-6.rar\n"
     ]
    },
    {
     "name": "stderr",
     "output_type": "stream",
     "text": [
      "9367it [00:00, 34334.26it/s]\n"
     ]
    },
    {
     "name": "stdout",
     "output_type": "stream",
     "text": [
      "hfiehhwodwcnsjdcnsk/[KB6]_BME_Rattlesnake.rar\n"
     ]
    },
    {
     "name": "stderr",
     "output_type": "stream",
     "text": [
      "9367it [00:00, 40286.96it/s]\n"
     ]
    },
    {
     "name": "stdout",
     "output_type": "stream",
     "text": [
      "hfiehhwodwcnsjdcnsk/[KB6]_Bontempi_HF222.rar\n"
     ]
    },
    {
     "name": "stderr",
     "output_type": "stream",
     "text": [
      "9367it [00:00, 31439.44it/s]\n"
     ]
    },
    {
     "name": "stdout",
     "output_type": "stream",
     "text": [
      "hfiehhwodwcnsjdcnsk/[KB6]_Casio_CZ-230S.rar\n"
     ]
    },
    {
     "name": "stderr",
     "output_type": "stream",
     "text": [
      "9367it [00:00, 23481.96it/s]\n"
     ]
    },
    {
     "name": "stdout",
     "output_type": "stream",
     "text": [
      "hfiehhwodwcnsjdcnsk/[KB6]_Casio_HT-700.rar\n"
     ]
    },
    {
     "name": "stderr",
     "output_type": "stream",
     "text": [
      "9367it [00:00, 38771.65it/s]\n"
     ]
    },
    {
     "name": "stdout",
     "output_type": "stream",
     "text": [
      "hfiehhwodwcnsjdcnsk/[KB6]_Casio_MA-101.rar\n"
     ]
    },
    {
     "name": "stderr",
     "output_type": "stream",
     "text": [
      "9367it [00:00, 36021.54it/s]\n"
     ]
    },
    {
     "name": "stdout",
     "output_type": "stream",
     "text": [
      "hfiehhwodwcnsjdcnsk/[KB6]_Casio_RZ1.rar\n"
     ]
    },
    {
     "name": "stderr",
     "output_type": "stream",
     "text": [
      "9367it [00:00, 38668.27it/s]\n"
     ]
    },
    {
     "name": "stdout",
     "output_type": "stream",
     "text": [
      "hfiehhwodwcnsjdcnsk/[KB6]_Casio_SA-10.rar\n"
     ]
    },
    {
     "name": "stderr",
     "output_type": "stream",
     "text": [
      "9367it [00:00, 16085.82it/s]\n"
     ]
    },
    {
     "name": "stdout",
     "output_type": "stream",
     "text": [
      "hfiehhwodwcnsjdcnsk/[KB6]_Casio_SK1.rar\n"
     ]
    },
    {
     "name": "stderr",
     "output_type": "stream",
     "text": [
      "9367it [00:00, 27676.49it/s]\n"
     ]
    },
    {
     "name": "stdout",
     "output_type": "stream",
     "text": [
      "hfiehhwodwcnsjdcnsk/[KB6]_Casio_SK5.rar\n"
     ]
    },
    {
     "name": "stderr",
     "output_type": "stream",
     "text": [
      "9367it [00:00, 17778.21it/s]\n"
     ]
    },
    {
     "name": "stdout",
     "output_type": "stream",
     "text": [
      "hfiehhwodwcnsjdcnsk/[KB6]_Casio_MT-18.rar\n"
     ]
    },
    {
     "name": "stderr",
     "output_type": "stream",
     "text": [
      "9367it [00:00, 20551.44it/s]\n"
     ]
    },
    {
     "name": "stdout",
     "output_type": "stream",
     "text": [
      "hfiehhwodwcnsjdcnsk/[KB6]_Casio_MT-100.rar\n"
     ]
    },
    {
     "name": "stderr",
     "output_type": "stream",
     "text": [
      "9367it [00:00, 25999.56it/s]\n"
     ]
    },
    {
     "name": "stdout",
     "output_type": "stream",
     "text": [
      "hfiehhwodwcnsjdcnsk/[KB6]_Casio_MT-500.rar\n"
     ]
    },
    {
     "name": "stderr",
     "output_type": "stream",
     "text": [
      "9367it [00:00, 26746.21it/s]\n"
     ]
    },
    {
     "name": "stdout",
     "output_type": "stream",
     "text": [
      "hfiehhwodwcnsjdcnsk/[KB6]_Casio_MT-800.rar\n"
     ]
    },
    {
     "name": "stderr",
     "output_type": "stream",
     "text": [
      "9367it [00:00, 10841.48it/s]\n"
     ]
    },
    {
     "name": "stdout",
     "output_type": "stream",
     "text": [
      "hfiehhwodwcnsjdcnsk/[KB6]_Casio_PT-82.rar\n"
     ]
    },
    {
     "name": "stderr",
     "output_type": "stream",
     "text": [
      "9367it [00:00, 13871.12it/s]\n"
     ]
    },
    {
     "name": "stdout",
     "output_type": "stream",
     "text": [
      "hfiehhwodwcnsjdcnsk/[KB6]_Casio_Rapman.rar\n"
     ]
    },
    {
     "name": "stderr",
     "output_type": "stream",
     "text": [
      "9367it [00:00, 33416.24it/s]\n"
     ]
    },
    {
     "name": "stdout",
     "output_type": "stream",
     "text": [
      "hfiehhwodwcnsjdcnsk/[KB6]_Casio_Rapman-II.rar\n"
     ]
    },
    {
     "name": "stderr",
     "output_type": "stream",
     "text": [
      "9367it [00:00, 23400.00it/s]\n"
     ]
    },
    {
     "name": "stdout",
     "output_type": "stream",
     "text": [
      "hfiehhwodwcnsjdcnsk/[KB6]_Chaser_PR-80.rar\n"
     ]
    },
    {
     "name": "stderr",
     "output_type": "stream",
     "text": [
      "9367it [00:01, 8868.81it/s]\n"
     ]
    },
    {
     "name": "stdout",
     "output_type": "stream",
     "text": [
      "hfiehhwodwcnsjdcnsk/[KB6]_Cheetah_MD16.rar\n"
     ]
    },
    {
     "name": "stderr",
     "output_type": "stream",
     "text": [
      "9367it [00:00, 38056.54it/s]\n"
     ]
    },
    {
     "name": "stdout",
     "output_type": "stream",
     "text": [
      "hfiehhwodwcnsjdcnsk/[KB6]_Cheetah_SpecDrum.rar\n"
     ]
    },
    {
     "name": "stderr",
     "output_type": "stream",
     "text": [
      "9367it [00:00, 38888.85it/s]\n"
     ]
    },
    {
     "name": "stdout",
     "output_type": "stream",
     "text": [
      "hfiehhwodwcnsjdcnsk/[KB6]_Clavia_Nord-Drum.rar\n"
     ]
    },
    {
     "name": "stderr",
     "output_type": "stream",
     "text": [
      "9367it [00:00, 61285.11it/s]\n"
     ]
    },
    {
     "name": "stdout",
     "output_type": "stream",
     "text": [
      "hfiehhwodwcnsjdcnsk/[KB6]_Coron_Drum-Synce_DS-7.rar\n"
     ]
    },
    {
     "name": "stderr",
     "output_type": "stream",
     "text": [
      "9367it [00:00, 39068.09it/s]\n"
     ]
    },
    {
     "name": "stdout",
     "output_type": "stream",
     "text": [
      "hfiehhwodwcnsjdcnsk/[KB6]_Daytone_Drum-Synthe-RDS.rar\n"
     ]
    },
    {
     "name": "stderr",
     "output_type": "stream",
     "text": [
      "9367it [00:00, 39512.36it/s]\n"
     ]
    },
    {
     "name": "stdout",
     "output_type": "stream",
     "text": [
      "hfiehhwodwcnsjdcnsk/[KB6]_DeepSky_Drumbox.rar\n"
     ]
    },
    {
     "name": "stderr",
     "output_type": "stream",
     "text": [
      "9367it [00:00, 39103.63it/s]\n"
     ]
    },
    {
     "name": "stdout",
     "output_type": "stream",
     "text": [
      "hfiehhwodwcnsjdcnsk/[KB6]_Denon_CRB-90.rar\n"
     ]
    },
    {
     "name": "stderr",
     "output_type": "stream",
     "text": [
      "9367it [00:00, 33576.11it/s]\n"
     ]
    },
    {
     "name": "stdout",
     "output_type": "stream",
     "text": [
      "hfiehhwodwcnsjdcnsk/[KB6]_Digitech_RP200.rar\n"
     ]
    },
    {
     "name": "stderr",
     "output_type": "stream",
     "text": [
      "9367it [00:00, 39490.71it/s]\n"
     ]
    },
    {
     "name": "stdout",
     "output_type": "stream",
     "text": [
      "hfiehhwodwcnsjdcnsk/[KB6]_DrBoehm_S-78.rar\n"
     ]
    },
    {
     "name": "stderr",
     "output_type": "stream",
     "text": [
      "9367it [00:00, 38335.93it/s]\n"
     ]
    },
    {
     "name": "stdout",
     "output_type": "stream",
     "text": [
      "hfiehhwodwcnsjdcnsk/[KB6]_Drumfire_DF-500.rar\n"
     ]
    },
    {
     "name": "stderr",
     "output_type": "stream",
     "text": [
      "9367it [00:00, 38605.46it/s]\n"
     ]
    },
    {
     "name": "stdout",
     "output_type": "stream",
     "text": [
      "hfiehhwodwcnsjdcnsk/[KB6]_EKO_MusicBox-12.rar\n"
     ]
    },
    {
     "name": "stderr",
     "output_type": "stream",
     "text": [
      "9367it [00:00, 38811.17it/s]\n"
     ]
    },
    {
     "name": "stdout",
     "output_type": "stream",
     "text": [
      "hfiehhwodwcnsjdcnsk/[KB6]_EKO_Ritmo20.rar\n"
     ]
    },
    {
     "name": "stderr",
     "output_type": "stream",
     "text": [
      "9367it [00:00, 37941.36it/s]\n"
     ]
    },
    {
     "name": "stdout",
     "output_type": "stream",
     "text": [
      "hfiehhwodwcnsjdcnsk/[KB6]_Electro-Harmonix_DRM-15.rar\n"
     ]
    },
    {
     "name": "stderr",
     "output_type": "stream",
     "text": [
      "9367it [00:00, 38124.97it/s]\n"
     ]
    },
    {
     "name": "stdout",
     "output_type": "stream",
     "text": [
      "hfiehhwodwcnsjdcnsk/[KB6]_Electro-Harmonix_DRM-16.rar\n"
     ]
    },
    {
     "name": "stderr",
     "output_type": "stream",
     "text": [
      "9367it [00:00, 39173.31it/s]\n"
     ]
    },
    {
     "name": "stdout",
     "output_type": "stream",
     "text": [
      "hfiehhwodwcnsjdcnsk/[KB6]_Electro-Harmonix_DRM-32.rar\n"
     ]
    },
    {
     "name": "stderr",
     "output_type": "stream",
     "text": [
      "9367it [00:00, 33902.91it/s]\n"
     ]
    },
    {
     "name": "stdout",
     "output_type": "stream",
     "text": [
      "hfiehhwodwcnsjdcnsk/[KB6]_Elka_Drumstar-80.rar\n"
     ]
    },
    {
     "name": "stderr",
     "output_type": "stream",
     "text": [
      "9367it [00:00, 38496.44it/s]\n"
     ]
    },
    {
     "name": "stdout",
     "output_type": "stream",
     "text": [
      "hfiehhwodwcnsjdcnsk/[KB6]_EMU_E-Drum.rar\n"
     ]
    },
    {
     "name": "stderr",
     "output_type": "stream",
     "text": [
      "9367it [00:00, 39219.88it/s]\n"
     ]
    },
    {
     "name": "stdout",
     "output_type": "stream",
     "text": [
      "hfiehhwodwcnsjdcnsk/[KB6]_EMU_Proteus1.rar\n"
     ]
    },
    {
     "name": "stderr",
     "output_type": "stream",
     "text": [
      "9367it [00:00, 37779.15it/s]\n"
     ]
    },
    {
     "name": "stdout",
     "output_type": "stream",
     "text": [
      "hfiehhwodwcnsjdcnsk/[KB6]_EMU_Proteus3.rar\n"
     ]
    },
    {
     "name": "stderr",
     "output_type": "stream",
     "text": [
      "9367it [00:00, 37176.67it/s]\n"
     ]
    },
    {
     "name": "stdout",
     "output_type": "stream",
     "text": [
      "hfiehhwodwcnsjdcnsk/[KB6]_EMU_SP-12.rar\n"
     ]
    },
    {
     "name": "stderr",
     "output_type": "stream",
     "text": [
      "9367it [00:00, 39123.73it/s]\n"
     ]
    },
    {
     "name": "stdout",
     "output_type": "stream",
     "text": [
      "hfiehhwodwcnsjdcnsk/[KB6]_Ensoniq_ASR-X.rar\n"
     ]
    },
    {
     "name": "stderr",
     "output_type": "stream",
     "text": [
      "9367it [00:00, 39140.37it/s]\n"
     ]
    },
    {
     "name": "stdout",
     "output_type": "stream",
     "text": [
      "hfiehhwodwcnsjdcnsk/[KB6]_Ensoniq_EPS.rar\n"
     ]
    },
    {
     "name": "stderr",
     "output_type": "stream",
     "text": [
      "9367it [00:00, 39547.28it/s]\n"
     ]
    },
    {
     "name": "stdout",
     "output_type": "stream",
     "text": [
      "hfiehhwodwcnsjdcnsk/[KB6]_Ensoniq_Mirage.rar\n"
     ]
    },
    {
     "name": "stderr",
     "output_type": "stream",
     "text": [
      "9367it [00:00, 39384.10it/s]\n"
     ]
    },
    {
     "name": "stdout",
     "output_type": "stream",
     "text": [
      "hfiehhwodwcnsjdcnsk/[KB6]_Estradin_Pulsar.rar\n"
     ]
    },
    {
     "name": "stderr",
     "output_type": "stream",
     "text": [
      "9367it [00:00, 36776.33it/s]\n"
     ]
    },
    {
     "name": "stdout",
     "output_type": "stream",
     "text": [
      "hfiehhwodwcnsjdcnsk/[KB6]_Forat_F-9000.rar\n"
     ]
    },
    {
     "name": "stderr",
     "output_type": "stream",
     "text": [
      "9367it [00:00, 34329.70it/s]\n"
     ]
    },
    {
     "name": "stdout",
     "output_type": "stream",
     "text": [
      "hfiehhwodwcnsjdcnsk/[KB6]_Fricke_MFB_301.rar\n"
     ]
    },
    {
     "name": "stderr",
     "output_type": "stream",
     "text": [
      "9367it [00:00, 38121.08it/s]\n"
     ]
    },
    {
     "name": "stdout",
     "output_type": "stream",
     "text": [
      "hfiehhwodwcnsjdcnsk/[KB6]_Fricke_MFB_501.rar\n"
     ]
    },
    {
     "name": "stderr",
     "output_type": "stream",
     "text": [
      "9367it [00:00, 37180.40it/s]\n"
     ]
    },
    {
     "name": "stdout",
     "output_type": "stream",
     "text": [
      "hfiehhwodwcnsjdcnsk/[KB6]_Fricke_MFB_512.rar\n"
     ]
    },
    {
     "name": "stderr",
     "output_type": "stream",
     "text": [
      "9367it [00:00, 38873.81it/s]\n"
     ]
    },
    {
     "name": "stdout",
     "output_type": "stream",
     "text": [
      "hfiehhwodwcnsjdcnsk/[KB6]_Fricke_MFB_712.rar\n"
     ]
    },
    {
     "name": "stderr",
     "output_type": "stream",
     "text": [
      "9367it [00:00, 39384.46it/s]\n"
     ]
    },
    {
     "name": "stdout",
     "output_type": "stream",
     "text": [
      "hfiehhwodwcnsjdcnsk/[KB6]_GEM_Drum15.rar\n"
     ]
    },
    {
     "name": "stderr",
     "output_type": "stream",
     "text": [
      "9367it [00:00, 35696.19it/s]\n"
     ]
    },
    {
     "name": "stdout",
     "output_type": "stream",
     "text": [
      "hfiehhwodwcnsjdcnsk/[KB6]_Hammond_Auto-Vari64.rar\n"
     ]
    },
    {
     "name": "stderr",
     "output_type": "stream",
     "text": [
      "9367it [00:00, 34951.23it/s]\n"
     ]
    },
    {
     "name": "stdout",
     "output_type": "stream",
     "text": [
      "hfiehhwodwcnsjdcnsk/[KB6]_Hammond_Rhythm2.rar\n"
     ]
    },
    {
     "name": "stderr",
     "output_type": "stream",
     "text": [
      "9367it [00:00, 39179.36it/s]\n"
     ]
    },
    {
     "name": "stdout",
     "output_type": "stream",
     "text": [
      "hfiehhwodwcnsjdcnsk/[KB6]_Hing-Hon_EK001.rar\n"
     ]
    },
    {
     "name": "stderr",
     "output_type": "stream",
     "text": [
      "9367it [00:00, 33918.60it/s]\n"
     ]
    },
    {
     "name": "stdout",
     "output_type": "stream",
     "text": [
      "hfiehhwodwcnsjdcnsk/[KB6]_Jomox_Mbase01.rar\n"
     ]
    },
    {
     "name": "stderr",
     "output_type": "stream",
     "text": [
      "9367it [00:00, 14256.40it/s]\n"
     ]
    },
    {
     "name": "stdout",
     "output_type": "stream",
     "text": [
      "hfiehhwodwcnsjdcnsk/[KB6]_Kawai_ACR20.rar\n"
     ]
    },
    {
     "name": "stderr",
     "output_type": "stream",
     "text": [
      "9367it [00:00, 38421.60it/s]\n"
     ]
    },
    {
     "name": "stdout",
     "output_type": "stream",
     "text": [
      "hfiehhwodwcnsjdcnsk/[KB6]_Kawai_K1.rar\n"
     ]
    },
    {
     "name": "stderr",
     "output_type": "stream",
     "text": [
      "9367it [00:00, 34947.19it/s]\n"
     ]
    },
    {
     "name": "stdout",
     "output_type": "stream",
     "text": [
      "hfiehhwodwcnsjdcnsk/[KB6]_Kawai_R-50.rar\n"
     ]
    },
    {
     "name": "stderr",
     "output_type": "stream",
     "text": [
      "9367it [00:00, 22504.55it/s]\n"
     ]
    },
    {
     "name": "stdout",
     "output_type": "stream",
     "text": [
      "hfiehhwodwcnsjdcnsk/[KB6]_Kawai_R-50e.rar\n"
     ]
    },
    {
     "name": "stderr",
     "output_type": "stream",
     "text": [
      "9367it [00:00, 22780.18it/s]\n"
     ]
    },
    {
     "name": "stdout",
     "output_type": "stream",
     "text": [
      "hfiehhwodwcnsjdcnsk/[KB6]_Kawai_R-100.rar\n"
     ]
    },
    {
     "name": "stderr",
     "output_type": "stream",
     "text": [
      "9367it [00:00, 25016.23it/s]\n"
     ]
    },
    {
     "name": "stdout",
     "output_type": "stream",
     "text": [
      "hfiehhwodwcnsjdcnsk/[KB6]_Kawai_SX-240.rar\n"
     ]
    },
    {
     "name": "stderr",
     "output_type": "stream",
     "text": [
      "9367it [00:00, 25612.62it/s]\n"
     ]
    },
    {
     "name": "stdout",
     "output_type": "stream",
     "text": [
      "hfiehhwodwcnsjdcnsk/[KB6]_Kawai_XD-5.rar\n"
     ]
    },
    {
     "name": "stderr",
     "output_type": "stream",
     "text": [
      "9367it [00:00, 29127.44it/s]\n"
     ]
    },
    {
     "name": "stdout",
     "output_type": "stream",
     "text": [
      "hfiehhwodwcnsjdcnsk/[KB6]_Kay_DRM1.rar\n"
     ]
    },
    {
     "name": "stderr",
     "output_type": "stream",
     "text": [
      "9367it [00:00, 25148.68it/s]\n"
     ]
    },
    {
     "name": "stdout",
     "output_type": "stream",
     "text": [
      "hfiehhwodwcnsjdcnsk/[KB6]_Kay_R8.rar\n"
     ]
    },
    {
     "name": "stderr",
     "output_type": "stream",
     "text": [
      "9367it [00:00, 37967.02it/s]\n"
     ]
    },
    {
     "name": "stdout",
     "output_type": "stream",
     "text": [
      "hfiehhwodwcnsjdcnsk/[KB6]_Keio_Checkmate.rar\n"
     ]
    },
    {
     "name": "stderr",
     "output_type": "stream",
     "text": [
      "9367it [00:00, 39411.28it/s]\n"
     ]
    },
    {
     "name": "stdout",
     "output_type": "stream",
     "text": [
      "hfiehhwodwcnsjdcnsk/[KB6]_Ketron_SD-5.rar\n"
     ]
    },
    {
     "name": "stderr",
     "output_type": "stream",
     "text": [
      "9367it [00:00, 38387.78it/s]\n"
     ]
    },
    {
     "name": "stdout",
     "output_type": "stream",
     "text": [
      "hfiehhwodwcnsjdcnsk/[KB6]_Korg_DDD-1.rar\n"
     ]
    },
    {
     "name": "stderr",
     "output_type": "stream",
     "text": [
      "9367it [00:00, 32814.64it/s]\n"
     ]
    },
    {
     "name": "stdout",
     "output_type": "stream",
     "text": [
      "hfiehhwodwcnsjdcnsk/[KB6]_Korg_DDM110.rar\n"
     ]
    },
    {
     "name": "stderr",
     "output_type": "stream",
     "text": [
      "9367it [00:00, 38731.89it/s]\n"
     ]
    },
    {
     "name": "stdout",
     "output_type": "stream",
     "text": [
      "hfiehhwodwcnsjdcnsk/[KB6]_Korg_DDM220.rar\n"
     ]
    },
    {
     "name": "stderr",
     "output_type": "stream",
     "text": [
      "9367it [00:00, 39027.23it/s]\n"
     ]
    },
    {
     "name": "stdout",
     "output_type": "stream",
     "text": [
      "hfiehhwodwcnsjdcnsk/[KB6]_Korg_DRM-1.rar\n"
     ]
    },
    {
     "name": "stderr",
     "output_type": "stream",
     "text": [
      "9367it [00:00, 29050.57it/s]\n"
     ]
    },
    {
     "name": "stdout",
     "output_type": "stream",
     "text": [
      "hfiehhwodwcnsjdcnsk/[KB6]_Korg_KPR77.rar\n"
     ]
    },
    {
     "name": "stderr",
     "output_type": "stream",
     "text": [
      "9367it [00:00, 39452.76it/s]\n"
     ]
    },
    {
     "name": "stdout",
     "output_type": "stream",
     "text": [
      "hfiehhwodwcnsjdcnsk/[KB6]_Korg_KR-33.rar\n"
     ]
    },
    {
     "name": "stderr",
     "output_type": "stream",
     "text": [
      "9367it [00:00, 34579.86it/s]\n"
     ]
    },
    {
     "name": "stdout",
     "output_type": "stream",
     "text": [
      "hfiehhwodwcnsjdcnsk/[KB6]_Korg_KR55.rar\n"
     ]
    },
    {
     "name": "stderr",
     "output_type": "stream",
     "text": [
      "9367it [00:00, 40505.94it/s]\n"
     ]
    },
    {
     "name": "stdout",
     "output_type": "stream",
     "text": [
      "hfiehhwodwcnsjdcnsk/[KB6]_Korg_KR-Mini.rar\n"
     ]
    },
    {
     "name": "stderr",
     "output_type": "stream",
     "text": [
      "9367it [00:00, 38582.53it/s]\n"
     ]
    },
    {
     "name": "stdout",
     "output_type": "stream",
     "text": [
      "hfiehhwodwcnsjdcnsk/[KB6]_Korg_Minipops.rar\n"
     ]
    },
    {
     "name": "stderr",
     "output_type": "stream",
     "text": [
      "9367it [00:00, 38913.04it/s]\n"
     ]
    },
    {
     "name": "stdout",
     "output_type": "stream",
     "text": [
      "hfiehhwodwcnsjdcnsk/[KB6]_Korg_MP7.rar\n"
     ]
    },
    {
     "name": "stderr",
     "output_type": "stream",
     "text": [
      "9367it [00:00, 38519.43it/s]\n"
     ]
    },
    {
     "name": "stdout",
     "output_type": "stream",
     "text": [
      "hfiehhwodwcnsjdcnsk/[KB6]_Korg_Prophecy.rar\n"
     ]
    },
    {
     "name": "stderr",
     "output_type": "stream",
     "text": [
      "9367it [00:00, 38818.92it/s]\n"
     ]
    },
    {
     "name": "stdout",
     "output_type": "stream",
     "text": [
      "hfiehhwodwcnsjdcnsk/[KB6]_Korg_ProWave.rar\n"
     ]
    },
    {
     "name": "stderr",
     "output_type": "stream",
     "text": [
      "9367it [00:00, 39947.62it/s]\n"
     ]
    },
    {
     "name": "stdout",
     "output_type": "stream",
     "text": [
      "hfiehhwodwcnsjdcnsk/[KB6]_Korg_PSS-50.rar\n"
     ]
    },
    {
     "name": "stderr",
     "output_type": "stream",
     "text": [
      "9367it [00:00, 39439.81it/s]\n"
     ]
    },
    {
     "name": "stdout",
     "output_type": "stream",
     "text": [
      "hfiehhwodwcnsjdcnsk/[KB6]_Korg_Radias.rar\n"
     ]
    },
    {
     "name": "stderr",
     "output_type": "stream",
     "text": [
      "9367it [00:00, 38536.24it/s]\n"
     ]
    },
    {
     "name": "stdout",
     "output_type": "stream",
     "text": [
      "hfiehhwodwcnsjdcnsk/[KB6]_Korg_SR-120.rar\n"
     ]
    },
    {
     "name": "stderr",
     "output_type": "stream",
     "text": [
      "9367it [00:00, 33537.65it/s]\n"
     ]
    },
    {
     "name": "stdout",
     "output_type": "stream",
     "text": [
      "hfiehhwodwcnsjdcnsk/[KB6]_Korg_T1.rar\n"
     ]
    },
    {
     "name": "stderr",
     "output_type": "stream",
     "text": [
      "9367it [00:00, 38908.88it/s]\n"
     ]
    },
    {
     "name": "stdout",
     "output_type": "stream",
     "text": [
      "hfiehhwodwcnsjdcnsk/[KB6]_Korg_T3.rar\n"
     ]
    },
    {
     "name": "stderr",
     "output_type": "stream",
     "text": [
      "9367it [00:00, 38896.90it/s]\n"
     ]
    },
    {
     "name": "stdout",
     "output_type": "stream",
     "text": [
      "hfiehhwodwcnsjdcnsk/[KB6]_Kurzweil_K2000.rar\n"
     ]
    },
    {
     "name": "stderr",
     "output_type": "stream",
     "text": [
      "9367it [00:00, 35407.30it/s]\n"
     ]
    },
    {
     "name": "stdout",
     "output_type": "stream",
     "text": [
      "hfiehhwodwcnsjdcnsk/[KB6]_Lel_PSR.rar\n"
     ]
    },
    {
     "name": "stderr",
     "output_type": "stream",
     "text": [
      "9367it [00:00, 38073.87it/s]\n"
     ]
    },
    {
     "name": "stdout",
     "output_type": "stream",
     "text": [
      "hfiehhwodwcnsjdcnsk/[KB6]_Linn_AdrenaLinn1.rar\n"
     ]
    },
    {
     "name": "stderr",
     "output_type": "stream",
     "text": [
      "9367it [00:00, 37187.90it/s]\n"
     ]
    },
    {
     "name": "stdout",
     "output_type": "stream",
     "text": [
      "hfiehhwodwcnsjdcnsk/[KB6]_Linn_LM-1.rar\n"
     ]
    },
    {
     "name": "stderr",
     "output_type": "stream",
     "text": [
      "9367it [00:00, 43050.39it/s]\n"
     ]
    },
    {
     "name": "stdout",
     "output_type": "stream",
     "text": [
      "hfiehhwodwcnsjdcnsk/[KB6]_Maestro_G2.rar\n"
     ]
    },
    {
     "name": "stderr",
     "output_type": "stream",
     "text": [
      "9367it [00:00, 38674.63it/s]\n"
     ]
    },
    {
     "name": "stdout",
     "output_type": "stream",
     "text": [
      "hfiehhwodwcnsjdcnsk/[KB6]_Mattel_Electronics_Synsonics_DRM.rar\n"
     ]
    },
    {
     "name": "stderr",
     "output_type": "stream",
     "text": [
      "9367it [00:00, 39424.41it/s]\n"
     ]
    },
    {
     "name": "stdout",
     "output_type": "stream",
     "text": [
      "hfiehhwodwcnsjdcnsk/[KB6]_Moog_Modular55.rar\n"
     ]
    },
    {
     "name": "stderr",
     "output_type": "stream",
     "text": [
      "9367it [00:00, 39944.90it/s]\n"
     ]
    },
    {
     "name": "stdout",
     "output_type": "stream",
     "text": [
      "hfiehhwodwcnsjdcnsk/[KB6]_Moog_Voyager.rar\n"
     ]
    },
    {
     "name": "stderr",
     "output_type": "stream",
     "text": [
      "9367it [00:00, 34222.47it/s]\n"
     ]
    },
    {
     "name": "stdout",
     "output_type": "stream",
     "text": [
      "hfiehhwodwcnsjdcnsk/[KB6]_MPC-Electronics_The-KIT.rar\n"
     ]
    },
    {
     "name": "stderr",
     "output_type": "stream",
     "text": [
      "9367it [00:00, 39384.46it/s]\n"
     ]
    },
    {
     "name": "stdout",
     "output_type": "stream",
     "text": [
      "hfiehhwodwcnsjdcnsk/[KB6]_MSC_DL-909.rar\n"
     ]
    },
    {
     "name": "stderr",
     "output_type": "stream",
     "text": [
      "9367it [00:00, 34430.04it/s]\n"
     ]
    },
    {
     "name": "stdout",
     "output_type": "stream",
     "text": [
      "hfiehhwodwcnsjdcnsk/[KB6]_MTI_AO-1.rar\n"
     ]
    },
    {
     "name": "stderr",
     "output_type": "stream",
     "text": [
      "9367it [00:00, 39275.48it/s]\n"
     ]
    },
    {
     "name": "stdout",
     "output_type": "stream",
     "text": [
      "hfiehhwodwcnsjdcnsk/[KB6]_MXR_185.rar\n"
     ]
    },
    {
     "name": "stderr",
     "output_type": "stream",
     "text": [
      "9367it [00:00, 39574.84it/s]\n"
     ]
    },
    {
     "name": "stdout",
     "output_type": "stream",
     "text": [
      "hfiehhwodwcnsjdcnsk/[KB6]_Nasta_Hit-Stix2.rar\n"
     ]
    },
    {
     "name": "stderr",
     "output_type": "stream",
     "text": [
      "9367it [00:00, 39762.45it/s]\n"
     ]
    },
    {
     "name": "stdout",
     "output_type": "stream",
     "text": [
      "hfiehhwodwcnsjdcnsk/[KB6]_Nintendo_Game-Boy-Advance-SP.rar\n"
     ]
    },
    {
     "name": "stderr",
     "output_type": "stream",
     "text": [
      "9367it [00:00, 39852.48it/s]\n"
     ]
    },
    {
     "name": "stdout",
     "output_type": "stream",
     "text": [
      "hfiehhwodwcnsjdcnsk/[KB6]_Novation_Bass-Station-2.rar\n"
     ]
    },
    {
     "name": "stderr",
     "output_type": "stream",
     "text": [
      "9367it [00:00, 39366.90it/s]\n"
     ]
    },
    {
     "name": "stdout",
     "output_type": "stream",
     "text": [
      "hfiehhwodwcnsjdcnsk/[KB6]_Panasonic_RD-9844.rar\n"
     ]
    },
    {
     "name": "stderr",
     "output_type": "stream",
     "text": [
      "9367it [00:00, 39925.86it/s]\n"
     ]
    },
    {
     "name": "stdout",
     "output_type": "stream",
     "text": [
      "hfiehhwodwcnsjdcnsk/[KB6]_Pearl_DRX-1.rar\n"
     ]
    },
    {
     "name": "stderr",
     "output_type": "stream",
     "text": [
      "9367it [00:00, 39976.11it/s]\n"
     ]
    },
    {
     "name": "stdout",
     "output_type": "stream",
     "text": [
      "hfiehhwodwcnsjdcnsk/[KB6]_Rhodes_Polaris.rar\n"
     ]
    },
    {
     "name": "stderr",
     "output_type": "stream",
     "text": [
      "9367it [00:00, 39019.24it/s]\n"
     ]
    },
    {
     "name": "stdout",
     "output_type": "stream",
     "text": [
      "hfiehhwodwcnsjdcnsk/[KB6]_RSF_DD-30.rar\n"
     ]
    },
    {
     "name": "stderr",
     "output_type": "stream",
     "text": [
      "9367it [00:00, 37538.74it/s]\n"
     ]
    },
    {
     "name": "stdout",
     "output_type": "stream",
     "text": [
      "hfiehhwodwcnsjdcnsk/[KB6]_Sakata_DPM48.rar\n"
     ]
    },
    {
     "name": "stderr",
     "output_type": "stream",
     "text": [
      "9367it [00:00, 38377.88it/s]\n"
     ]
    },
    {
     "name": "stdout",
     "output_type": "stream",
     "text": [
      "hfiehhwodwcnsjdcnsk/[KB6]_SequentialCircuits_Drumtraks.rar\n"
     ]
    },
    {
     "name": "stderr",
     "output_type": "stream",
     "text": [
      "9367it [00:00, 39579.83it/s]\n"
     ]
    },
    {
     "name": "stdout",
     "output_type": "stream",
     "text": [
      "hfiehhwodwcnsjdcnsk/[KB6]_Sequential_Circuits_Studio-440.rar\n"
     ]
    },
    {
     "name": "stderr",
     "output_type": "stream",
     "text": [
      "9367it [00:00, 37666.90it/s]\n"
     ]
    },
    {
     "name": "stdout",
     "output_type": "stream",
     "text": [
      "hfiehhwodwcnsjdcnsk/[KB6]_SequentialCircuits_Tom.rar\n"
     ]
    },
    {
     "name": "stderr",
     "output_type": "stream",
     "text": [
      "9367it [00:00, 38813.13it/s]\n"
     ]
    },
    {
     "name": "stdout",
     "output_type": "stream",
     "text": [
      "hfiehhwodwcnsjdcnsk/[KB6]_Serge_Modular.rar\n"
     ]
    },
    {
     "name": "stderr",
     "output_type": "stream",
     "text": [
      "9367it [00:00, 39402.31it/s]\n"
     ]
    },
    {
     "name": "stdout",
     "output_type": "stream",
     "text": [
      "hfiehhwodwcnsjdcnsk/[KB6]_Simmons_ClapTrap.rar\n"
     ]
    },
    {
     "name": "stderr",
     "output_type": "stream",
     "text": [
      "9367it [00:00, 38496.78it/s]\n"
     ]
    },
    {
     "name": "stdout",
     "output_type": "stream",
     "text": [
      "hfiehhwodwcnsjdcnsk/[KB6]_Simmons_SDS1000.rar\n"
     ]
    },
    {
     "name": "stderr",
     "output_type": "stream",
     "text": [
      "9367it [00:00, 39311.91it/s]\n"
     ]
    },
    {
     "name": "stdout",
     "output_type": "stream",
     "text": [
      "hfiehhwodwcnsjdcnsk/[KB6]_Simmons_SDS200.rar\n"
     ]
    },
    {
     "name": "stderr",
     "output_type": "stream",
     "text": [
      "9367it [00:00, 38937.22it/s]\n"
     ]
    },
    {
     "name": "stdout",
     "output_type": "stream",
     "text": [
      "hfiehhwodwcnsjdcnsk/[KB6]_Simmons_SDS2000.rar\n"
     ]
    },
    {
     "name": "stderr",
     "output_type": "stream",
     "text": [
      "9367it [00:00, 39167.37it/s]\n"
     ]
    },
    {
     "name": "stdout",
     "output_type": "stream",
     "text": [
      "hfiehhwodwcnsjdcnsk/[KB6]_Simmons_SDS7.rar\n"
     ]
    },
    {
     "name": "stderr",
     "output_type": "stream",
     "text": [
      "9367it [00:00, 39127.27it/s]\n"
     ]
    },
    {
     "name": "stdout",
     "output_type": "stream",
     "text": [
      "hfiehhwodwcnsjdcnsk/[KB6]_Solton_Disco-64.rar\n"
     ]
    },
    {
     "name": "stderr",
     "output_type": "stream",
     "text": [
      "9367it [00:00, 37409.35it/s]\n"
     ]
    },
    {
     "name": "stdout",
     "output_type": "stream",
     "text": [
      "hfiehhwodwcnsjdcnsk/[KB6]_Sony_DRP-1.rar\n"
     ]
    },
    {
     "name": "stderr",
     "output_type": "stream",
     "text": [
      "9367it [00:00, 39155.43it/s]\n"
     ]
    },
    {
     "name": "stdout",
     "output_type": "stream",
     "text": [
      "hfiehhwodwcnsjdcnsk/[KB6]_SoundMaster_SR88.rar\n"
     ]
    },
    {
     "name": "stderr",
     "output_type": "stream",
     "text": [
      "9367it [00:00, 39053.26it/s]\n"
     ]
    },
    {
     "name": "stdout",
     "output_type": "stream",
     "text": [
      "hfiehhwodwcnsjdcnsk/[KB6]_SoundMaster_Stix_ST-305.rar\n"
     ]
    },
    {
     "name": "stderr",
     "output_type": "stream",
     "text": [
      "9367it [00:00, 34769.44it/s]\n"
     ]
    },
    {
     "name": "stdout",
     "output_type": "stream",
     "text": [
      "hfiehhwodwcnsjdcnsk/[KB6]_SRB_600.rar\n"
     ]
    },
    {
     "name": "stderr",
     "output_type": "stream",
     "text": [
      "9367it [00:00, 38730.67it/s]\n"
     ]
    },
    {
     "name": "stdout",
     "output_type": "stream",
     "text": [
      "hfiehhwodwcnsjdcnsk/[KB6]_Star-Instruments_Synare-PS-1.rar\n"
     ]
    },
    {
     "name": "stderr",
     "output_type": "stream",
     "text": [
      "9367it [00:00, 38637.47it/s]\n"
     ]
    },
    {
     "name": "stdout",
     "output_type": "stream",
     "text": [
      "hfiehhwodwcnsjdcnsk/[KB6]_Stylophone_Beatbox.rar\n"
     ]
    },
    {
     "name": "stderr",
     "output_type": "stream",
     "text": [
      "9367it [00:00, 36076.45it/s]\n"
     ]
    },
    {
     "name": "stdout",
     "output_type": "stream",
     "text": [
      "hfiehhwodwcnsjdcnsk/[KB6]_Syncussion_Zapp.rar\n"
     ]
    },
    {
     "name": "stderr",
     "output_type": "stream",
     "text": [
      "9367it [00:00, 39680.57it/s]\n"
     ]
    },
    {
     "name": "stdout",
     "output_type": "stream",
     "text": [
      "hfiehhwodwcnsjdcnsk/[KB6]_Tama_RockStar.rar\n"
     ]
    },
    {
     "name": "stderr",
     "output_type": "stream",
     "text": [
      "9367it [00:00, 36731.02it/s]\n"
     ]
    },
    {
     "name": "stdout",
     "output_type": "stream",
     "text": [
      "hfiehhwodwcnsjdcnsk/[KB6]_Tama_TS-500.rar\n"
     ]
    },
    {
     "name": "stderr",
     "output_type": "stream",
     "text": [
      "9367it [00:00, 39280.43it/s]\n"
     ]
    },
    {
     "name": "stdout",
     "output_type": "stream",
     "text": [
      "hfiehhwodwcnsjdcnsk/[KB6]_Technics_AX5.rar\n"
     ]
    },
    {
     "name": "stderr",
     "output_type": "stream",
     "text": [
      "9367it [00:00, 39151.37it/s]\n"
     ]
    },
    {
     "name": "stdout",
     "output_type": "stream",
     "text": [
      "hfiehhwodwcnsjdcnsk/[KB6]_Technics_PCM_DP50.rar\n"
     ]
    },
    {
     "name": "stderr",
     "output_type": "stream",
     "text": [
      "9367it [00:00, 38693.02it/s]\n"
     ]
    },
    {
     "name": "stdout",
     "output_type": "stream",
     "text": [
      "hfiehhwodwcnsjdcnsk/[KB6]_Technics_U90.rar\n"
     ]
    },
    {
     "name": "stderr",
     "output_type": "stream",
     "text": [
      "9367it [00:00, 39305.62it/s]\n"
     ]
    },
    {
     "name": "stdout",
     "output_type": "stream",
     "text": [
      "hfiehhwodwcnsjdcnsk/[KB6]_Teenage-Engineering_PO-12.rar\n"
     ]
    },
    {
     "name": "stderr",
     "output_type": "stream",
     "text": [
      "9367it [00:00, 34012.21it/s]\n"
     ]
    },
    {
     "name": "stdout",
     "output_type": "stream",
     "text": [
      "hfiehhwodwcnsjdcnsk/[KB6]_Vermona_DRM1.rar\n"
     ]
    },
    {
     "name": "stderr",
     "output_type": "stream",
     "text": [
      "9367it [00:00, 38976.08it/s]\n"
     ]
    },
    {
     "name": "stdout",
     "output_type": "stream",
     "text": [
      "hfiehhwodwcnsjdcnsk/[KB6]_Video-Tech_Rythmic10.rar\n"
     ]
    },
    {
     "name": "stderr",
     "output_type": "stream",
     "text": [
      "9367it [00:00, 39322.14it/s]\n"
     ]
    },
    {
     "name": "stdout",
     "output_type": "stream",
     "text": [
      "hfiehhwodwcnsjdcnsk/[KB6]_Visco_Space_Drum.rar\n"
     ]
    },
    {
     "name": "stderr",
     "output_type": "stream",
     "text": [
      "9367it [00:00, 38436.45it/s]\n"
     ]
    },
    {
     "name": "stdout",
     "output_type": "stream",
     "text": [
      "hfiehhwodwcnsjdcnsk/[KB6]_Watford-Electronics_Rhythm-Generator.rar\n"
     ]
    },
    {
     "name": "stderr",
     "output_type": "stream",
     "text": [
      "9367it [00:00, 36543.89it/s]\n"
     ]
    },
    {
     "name": "stdout",
     "output_type": "stream",
     "text": [
      "hfiehhwodwcnsjdcnsk/[KB6]_Wersi_Prisma-DX5.rar\n"
     ]
    },
    {
     "name": "stderr",
     "output_type": "stream",
     "text": [
      "9367it [00:00, 37736.26it/s]\n"
     ]
    },
    {
     "name": "stdout",
     "output_type": "stream",
     "text": [
      "hfiehhwodwcnsjdcnsk/[KB6]_Wiard_300-Series-Modular.rar\n"
     ]
    },
    {
     "name": "stderr",
     "output_type": "stream",
     "text": [
      "9367it [00:00, 38593.21it/s]\n"
     ]
    },
    {
     "name": "stdout",
     "output_type": "stream",
     "text": [
      "hfiehhwodwcnsjdcnsk/[KB6]_Wurlitzer_Swinging-Rhythm.rar\n"
     ]
    },
    {
     "name": "stderr",
     "output_type": "stream",
     "text": [
      "9367it [00:00, 37910.49it/s]\n"
     ]
    },
    {
     "name": "stdout",
     "output_type": "stream",
     "text": [
      "hfiehhwodwcnsjdcnsk/[KB6]_Yamaha_AN200.rar\n"
     ]
    },
    {
     "name": "stderr",
     "output_type": "stream",
     "text": [
      "9367it [00:00, 38519.88it/s]\n"
     ]
    },
    {
     "name": "stdout",
     "output_type": "stream",
     "text": [
      "hfiehhwodwcnsjdcnsk/[KB6]_Yamaha_CS15D.rar\n"
     ]
    },
    {
     "name": "stderr",
     "output_type": "stream",
     "text": [
      "9367it [00:00, 37830.11it/s]\n"
     ]
    },
    {
     "name": "stdout",
     "output_type": "stream",
     "text": [
      "hfiehhwodwcnsjdcnsk/[KB6]_Yamaha_CS-40M.rar\n"
     ]
    },
    {
     "name": "stderr",
     "output_type": "stream",
     "text": [
      "9367it [00:00, 38630.63it/s]\n"
     ]
    },
    {
     "name": "stdout",
     "output_type": "stream",
     "text": [
      "hfiehhwodwcnsjdcnsk/[KB6]_Yamaha_DD-5.rar\n"
     ]
    },
    {
     "name": "stderr",
     "output_type": "stream",
     "text": [
      "9367it [00:00, 38828.20it/s]\n"
     ]
    },
    {
     "name": "stdout",
     "output_type": "stream",
     "text": [
      "hfiehhwodwcnsjdcnsk/[KB6]_Yamaha_DD-10.rar\n"
     ]
    },
    {
     "name": "stderr",
     "output_type": "stream",
     "text": [
      "9367it [00:00, 38994.42it/s]\n"
     ]
    },
    {
     "name": "stdout",
     "output_type": "stream",
     "text": [
      "hfiehhwodwcnsjdcnsk/[KB6]_Yamaha_DD-11.rar\n"
     ]
    },
    {
     "name": "stderr",
     "output_type": "stream",
     "text": [
      "9367it [00:00, 39687.50it/s]\n"
     ]
    },
    {
     "name": "stdout",
     "output_type": "stream",
     "text": [
      "hfiehhwodwcnsjdcnsk/[KB6]_Yamaha_DD-50.rar\n"
     ]
    },
    {
     "name": "stderr",
     "output_type": "stream",
     "text": [
      "9367it [00:00, 38771.03it/s]\n"
     ]
    },
    {
     "name": "stdout",
     "output_type": "stream",
     "text": [
      "hfiehhwodwcnsjdcnsk/[KB6]_Yamaha_PTX8.rar\n"
     ]
    },
    {
     "name": "stderr",
     "output_type": "stream",
     "text": [
      "9367it [00:00, 39370.88it/s]\n"
     ]
    },
    {
     "name": "stdout",
     "output_type": "stream",
     "text": [
      "hfiehhwodwcnsjdcnsk/[KB6]_Yamaha_RX-11.rar\n"
     ]
    },
    {
     "name": "stderr",
     "output_type": "stream",
     "text": [
      "9367it [00:00, 34330.48it/s]\n"
     ]
    },
    {
     "name": "stdout",
     "output_type": "stream",
     "text": [
      "hfiehhwodwcnsjdcnsk/[KB6]_Yamaha_RX-21.rar\n"
     ]
    },
    {
     "name": "stderr",
     "output_type": "stream",
     "text": [
      "9367it [00:00, 35434.19it/s]\n"
     ]
    },
    {
     "name": "stdout",
     "output_type": "stream",
     "text": [
      "hfiehhwodwcnsjdcnsk/[KB6]_Yamaha_RX-21L.rar\n"
     ]
    },
    {
     "name": "stderr",
     "output_type": "stream",
     "text": [
      "9367it [00:00, 39090.87it/s]\n"
     ]
    },
    {
     "name": "stdout",
     "output_type": "stream",
     "text": [
      "hfiehhwodwcnsjdcnsk/[KB6]_Yamaha_RX-5.rar\n"
     ]
    },
    {
     "name": "stderr",
     "output_type": "stream",
     "text": [
      "9367it [00:00, 39335.01it/s]\n"
     ]
    },
    {
     "name": "stdout",
     "output_type": "stream",
     "text": [
      "hfiehhwodwcnsjdcnsk/[KB6]_Yamaha_RX15.rar\n"
     ]
    },
    {
     "name": "stderr",
     "output_type": "stream",
     "text": [
      "9367it [00:00, 37352.19it/s]\n"
     ]
    },
    {
     "name": "stdout",
     "output_type": "stream",
     "text": [
      "hfiehhwodwcnsjdcnsk/[KB6]_Yamaha_RX17.rar\n"
     ]
    },
    {
     "name": "stderr",
     "output_type": "stream",
     "text": [
      "9367it [00:00, 33128.66it/s]\n"
     ]
    },
    {
     "name": "stdout",
     "output_type": "stream",
     "text": [
      "hfiehhwodwcnsjdcnsk/[KB6]_Yamaha_RX-120.rar\n"
     ]
    },
    {
     "name": "stderr",
     "output_type": "stream",
     "text": [
      "9367it [00:00, 19591.56it/s]\n"
     ]
    },
    {
     "name": "stdout",
     "output_type": "stream",
     "text": [
      "hfiehhwodwcnsjdcnsk/[KB6]_Yamaha_SHS200.rar\n"
     ]
    },
    {
     "name": "stderr",
     "output_type": "stream",
     "text": [
      "9367it [00:00, 38546.64it/s]\n"
     ]
    },
    {
     "name": "stdout",
     "output_type": "stream",
     "text": [
      "hfiehhwodwcnsjdcnsk/[KB6]_Yamaha_TX16W_Typhoon-OS.rar\n"
     ]
    },
    {
     "name": "stderr",
     "output_type": "stream",
     "text": [
      "9367it [00:00, 30082.13it/s]\n"
     ]
    }
   ],
   "source": [
    "for i in range(len(links) - 1):\n",
    "    print(names[i])\n",
    "    grab_from_link(links[i], names[i], '/Users/ryanpierson/Desktop/drum_samples')"
   ]
  },
  {
   "cell_type": "code",
   "execution_count": 25,
   "metadata": {
    "collapsed": true
   },
   "outputs": [
    {
     "name": "stdout",
     "output_type": "stream",
     "text": [
      "['?C=N;O=D\">Name</a>                    <a href=\"?C=M;O=A\">Last modified</a>      <a href=\"?C=S;O=A\">Size</a>  <a href=\"?C=D;O=A\">Description</a><hr/>      <a href=\"/', 'action.wav', 'amen_brother.wav', 'apache.wav', 'assembly_line.wav', 'both_eyes_open.wav', 'cold_sweat.wav', 'do_the_do.wav', 'dont_change_your_love.wav', 'flow.wav', 'fools_gold.wav', 'funky_drummer.wav', 'funky_mule--intro.wav', 'funky_mule--rides.wav', 'give_it_up_or_turnit_a_loose.wav', 'god_made_me_funky.wav', 'hot_pants.wav', 'humpty_dump.wav', 'its_a_new_day.wav', 'kick_back.wav', 'kool_is_back.wav', 'let_a_woman_be_a_woman.wav', 'life_could.wav', 'new_orleans.wav', 'nt.wav', 'ode_to_billy_joe.wav', 'plastic_jam.wav', 'put_your_love--end.wav', 'put_your_love--middle.wav', 'scorpio.wav', 'sesame_street.wav', 'shack_up.wav', 'sing_a_simple_song.wav', 'sneakin_in_the_back.wav', 'sniper.wav', 'soul_beat_runna.wav', 'soul_pride.wav', 'sport.wav', 'sweet_pea.wav', 'take_me_to_the_mardi_gras.wav', 'think--all5.wav', 'tighten_up.wav', 'whole_thing.wav', 'willie_pass_the_water.wav', 'worm.wav']\n",
      "folder None\n",
      "\n",
      "The file being downloaded is http://www.junglebreaks.co.uk/breaks/action.wav\n",
      "\n",
      "name ://www.junglebreaks.co.uk/breaks/action.wav\n",
      "\n",
      "folder None\n",
      "\n",
      "The file being downloaded is http://www.junglebreaks.co.uk/breaks/amen_brother.wav\n",
      "\n",
      "name ://www.junglebreaks.co.uk/breaks/amen_brother.wav\n",
      "\n",
      "folder None\n",
      "\n",
      "The file being downloaded is http://www.junglebreaks.co.uk/breaks/apache.wav\n",
      "\n",
      "name ://www.junglebreaks.co.uk/breaks/apache.wav\n",
      "\n",
      "folder None\n",
      "\n",
      "The file being downloaded is http://www.junglebreaks.co.uk/breaks/assembly_line.wav\n",
      "\n",
      "name ://www.junglebreaks.co.uk/breaks/assembly_line.wav\n",
      "\n",
      "folder None\n",
      "\n",
      "The file being downloaded is http://www.junglebreaks.co.uk/breaks/both_eyes_open.wav\n",
      "\n",
      "name ://www.junglebreaks.co.uk/breaks/both_eyes_open.wav\n",
      "\n",
      "folder None\n",
      "\n",
      "The file being downloaded is http://www.junglebreaks.co.uk/breaks/cold_sweat.wav\n",
      "folder None\n",
      "\n",
      "The file being downloaded is http://www.junglebreaks.co.uk/breaks/do_the_do.wav\n",
      "\n",
      "name ://www.junglebreaks.co.uk/breaks/do_the_do.wav\n",
      "\n",
      "\n",
      "name ://www.junglebreaks.co.uk/breaks/cold_sweat.wav\n",
      "\n",
      "folder None\n",
      "\n",
      "The file being downloaded is http://www.junglebreaks.co.uk/breaks/dont_change_your_love.wav\n",
      "\n",
      "name ://www.junglebreaks.co.uk/breaks/dont_change_your_love.wav\n",
      "\n",
      "folder None\n",
      "\n",
      "folder None\n",
      "The file being downloaded is http://www.junglebreaks.co.uk/breaks/flow.wav\n",
      "\n",
      "name ://www.junglebreaks.co.uk/breaks/flow.wav\n",
      "\n",
      "\n",
      "The file being downloaded is http://www.junglebreaks.co.uk/breaks/fools_gold.wav\n",
      "\n",
      "name ://www.junglebreaks.co.uk/breaks/fools_gold.wav\n",
      "\n",
      "folder None\n",
      "\n",
      "The file being downloaded is http://www.junglebreaks.co.uk/breaks/funky_drummer.wav\n",
      "\n",
      "name ://www.junglebreaks.co.uk/breaks/funky_drummer.wav\n",
      "\n",
      "folder None\n",
      "\n",
      "The file being downloaded is http://www.junglebreaks.co.uk/breaks/funky_mule--intro.wav\n",
      "\n",
      "name ://www.junglebreaks.co.uk/breaks/funky_mule--intro.wav\n",
      "\n",
      "folder None\n",
      "\n",
      "The file being downloaded is http://www.junglebreaks.co.uk/breaks/funky_mule--rides.wav\n",
      "\n",
      "name ://www.junglebreaks.co.uk/breaks/funky_mule--rides.wav\n",
      "\n",
      "folder None\n",
      "\n",
      "The file being downloaded is http://www.junglebreaks.co.uk/breaks/give_it_up_or_turnit_a_loose.wav\n",
      "\n",
      "name ://www.junglebreaks.co.uk/breaks/give_it_up_or_turnit_a_loose.wav\n",
      "\n",
      "folder None\n",
      "\n",
      "folder None\n",
      "The file being downloaded is http://www.junglebreaks.co.uk/breaks/god_made_me_funky.wav\n",
      "\n",
      "The file being downloaded is http://www.junglebreaks.co.uk/breaks/hot_pants.wav\n",
      "\n",
      "name ://www.junglebreaks.co.uk/breaks/hot_pants.wav\n",
      "\n",
      "folder None\n",
      "\n",
      "name ://www.junglebreaks.co.uk/breaks/god_made_me_funky.wav\n",
      "\n",
      "\n",
      "The file being downloaded is http://www.junglebreaks.co.uk/breaks/humpty_dump.wav\n",
      "\n",
      "name ://www.junglebreaks.co.uk/breaks/humpty_dump.wav\n",
      "\n",
      "folder None\n",
      "\n",
      "folder None\n",
      "The file being downloaded is http://www.junglebreaks.co.uk/breaks/its_a_new_day.wav\n",
      "\n",
      "name ://www.junglebreaks.co.uk/breaks/its_a_new_day.wav\n",
      "\n",
      "\n",
      "The file being downloaded is http://www.junglebreaks.co.uk/breaks/kick_back.wav\n",
      "\n",
      "name ://www.junglebreaks.co.uk/breaks/kick_back.wav\n",
      "\n",
      "folder None\n",
      "\n",
      "The file being downloaded is http://www.junglebreaks.co.uk/breaks/kool_is_back.wav\n",
      "\n",
      "name ://www.junglebreaks.co.uk/breaks/kool_is_back.wav\n",
      "\n",
      "folder None\n",
      "\n",
      "The file being downloaded is http://www.junglebreaks.co.uk/breaks/let_a_woman_be_a_woman.wav\n",
      "folder None\n",
      "\n",
      "The file being downloaded is http://www.junglebreaks.co.uk/breaks/life_could.wav\n",
      "\n",
      "name ://www.junglebreaks.co.uk/breaks/life_could.wav\n",
      "\n",
      "folder None\n",
      "\n",
      "\n",
      "The file being downloaded is http://www.junglebreaks.co.uk/breaks/new_orleans.wav\n",
      "\n",
      "name ://www.junglebreaks.co.uk/breaks/new_orleans.wav\n",
      "\n",
      "folder None\n",
      "name ://www.junglebreaks.co.uk/breaks/let_a_woman_be_a_woman.wav\n",
      "\n",
      "\n",
      "folder None\n",
      "The file being downloaded is http://www.junglebreaks.co.uk/breaks/nt.wav\n",
      "\n",
      "name ://www.junglebreaks.co.uk/breaks/nt.wav\n",
      "\n",
      "\n",
      "folder None\n",
      "The file being downloaded is http://www.junglebreaks.co.uk/breaks/ode_to_billy_joe.wav\n",
      "\n",
      "\n",
      "folder None\n",
      "The file being downloaded is http://www.junglebreaks.co.uk/breaks/plastic_jam.wav\n",
      "\n",
      "name ://www.junglebreaks.co.uk/breaks/plastic_jam.wav\n",
      "\n",
      "\n",
      "The file being downloaded is http://www.junglebreaks.co.uk/breaks/put_your_love--end.wav\n",
      "\n",
      "name ://www.junglebreaks.co.uk/breaks/put_your_love--end.wav\n",
      "\n",
      "folder None\n",
      "name ://www.junglebreaks.co.uk/breaks/ode_to_billy_joe.wav\n",
      "\n",
      "\n",
      "The file being downloaded is http://www.junglebreaks.co.uk/breaks/put_your_love--middle.wav\n",
      "\n",
      "name ://www.junglebreaks.co.uk/breaks/put_your_love--middle.wav\n",
      "\n",
      "folder None\n",
      "\n",
      "The file being downloaded is http://www.junglebreaks.co.uk/breaks/scorpio.wav\n",
      "\n",
      "name ://www.junglebreaks.co.uk/breaks/scorpio.wav\n",
      "\n",
      "folder None\n",
      "\n",
      "The file being downloaded is http://www.junglebreaks.co.uk/breaks/sesame_street.wav\n",
      "\n",
      "name ://www.junglebreaks.co.uk/breaks/sesame_street.wav\n",
      "\n",
      "folder None\n",
      "\n",
      "The file being downloaded is http://www.junglebreaks.co.uk/breaks/shack_up.wav\n",
      "\n",
      "name ://www.junglebreaks.co.uk/breaks/shack_up.wav\n",
      "\n",
      "folder None\n",
      "\n",
      "The file being downloaded is http://www.junglebreaks.co.uk/breaks/sing_a_simple_song.wav\n",
      "\n",
      "name ://www.junglebreaks.co.uk/breaks/sing_a_simple_song.wav\n",
      "\n",
      "folder None\n",
      "\n",
      "The file being downloaded is http://www.junglebreaks.co.uk/breaks/sneakin_in_the_back.wav\n",
      "\n",
      "name ://www.junglebreaks.co.uk/breaks/sneakin_in_the_back.wav\n",
      "\n",
      "folder None\n",
      "\n",
      "The file being downloaded is http://www.junglebreaks.co.uk/breaks/sniper.wav\n",
      "\n",
      "name ://www.junglebreaks.co.uk/breaks/sniper.wav\n",
      "\n",
      "folder None\n",
      "\n",
      "folder None\n",
      "The file being downloaded is http://www.junglebreaks.co.uk/breaks/soul_beat_runna.wav\n",
      "\n",
      "The file being downloaded is http://www.junglebreaks.co.uk/breaks/soul_pride.wav\n",
      "\n",
      "name ://www.junglebreaks.co.uk/breaks/soul_pride.wav\n",
      "\n",
      "\n",
      "name ://www.junglebreaks.co.uk/breaks/soul_beat_runna.wav\n",
      "\n",
      "folder None\n",
      "\n",
      "folder None\n",
      "The file being downloaded is http://www.junglebreaks.co.uk/breaks/sport.wav\n",
      "\n",
      "The file being downloaded is http://www.junglebreaks.co.uk/breaks/sweet_pea.wav\n",
      "\n",
      "name ://www.junglebreaks.co.uk/breaks/sweet_pea.wav\n",
      "\n",
      "folder None\n",
      "\n",
      "The file being downloaded is http://www.junglebreaks.co.uk/breaks/take_me_to_the_mardi_gras.wav\n",
      "\n",
      "name ://www.junglebreaks.co.uk/breaks/take_me_to_the_mardi_gras.wav\n",
      "\n",
      "\n",
      "folder None\n",
      "name ://www.junglebreaks.co.uk/breaks/sport.wav\n",
      "\n",
      "\n",
      "folder None\n",
      "The file being downloaded is http://www.junglebreaks.co.uk/breaks/think--all5.wav\n",
      "\n",
      "name ://www.junglebreaks.co.uk/breaks/think--all5.wav\n",
      "\n",
      "\n",
      "The file being downloaded is http://www.junglebreaks.co.uk/breaks/tighten_up.wav\n",
      "\n",
      "name ://www.junglebreaks.co.uk/breaks/tighten_up.wav\n",
      "\n",
      "folder None\n",
      "\n",
      "folder None\n",
      "The file being downloaded is http://www.junglebreaks.co.uk/breaks/whole_thing.wav\n",
      "\n",
      "name ://www.junglebreaks.co.uk/breaks/whole_thing.wav\n",
      "\n",
      "\n",
      "The file being downloaded is http://www.junglebreaks.co.uk/breaks/willie_pass_the_water.wav\n",
      "\n",
      "name ://www.junglebreaks.co.uk/breaks/willie_pass_the_water.wav\n",
      "\n",
      "folder None\n"
     ]
    },
    {
     "name": "stderr",
     "output_type": "stream",
     "text": [
      "Exception in thread Thread-358:\n",
      "Traceback (most recent call last):\n",
      "  File \"/Users/ryanpierson/anaconda3/lib/python3.7/threading.py\", line 917, in _bootstrap_inner\n",
      "    self.run()\n",
      "  File \"/Users/ryanpierson/anaconda3/lib/python3.7/threading.py\", line 865, in run\n",
      "    self._target(*self._args, **self._kwargs)\n",
      "  File \"<ipython-input-21-932302479123>\", line 45, in download_files\n",
      "    r = requests.get(name, allow_redirects=True)\n",
      "  File \"/Users/ryanpierson/anaconda3/lib/python3.7/site-packages/requests/api.py\", line 72, in get\n",
      "    return request('get', url, params=params, **kwargs)\n",
      "  File \"/Users/ryanpierson/anaconda3/lib/python3.7/site-packages/requests/api.py\", line 58, in request\n",
      "    return session.request(method=method, url=url, **kwargs)\n",
      "  File \"/Users/ryanpierson/anaconda3/lib/python3.7/site-packages/requests/sessions.py\", line 512, in request\n",
      "    resp = self.send(prep, **send_kwargs)\n",
      "  File \"/Users/ryanpierson/anaconda3/lib/python3.7/site-packages/requests/sessions.py\", line 616, in send\n",
      "    adapter = self.get_adapter(url=request.url)\n",
      "  File \"/Users/ryanpierson/anaconda3/lib/python3.7/site-packages/requests/sessions.py\", line 707, in get_adapter\n",
      "    raise InvalidSchema(\"No connection adapters were found for '%s'\" % url)\n",
      "requests.exceptions.InvalidSchema: No connection adapters were found for '://www.junglebreaks.co.uk/breaks/amen_brother.wav'\n",
      "Exception in thread Thread-357:\n",
      "Traceback (most recent call last):\n",
      "  File \"/Users/ryanpierson/anaconda3/lib/python3.7/threading.py\", line 917, in _bootstrap_inner\n",
      "    self.run()\n",
      "  File \"/Users/ryanpierson/anaconda3/lib/python3.7/threading.py\", line 865, in run\n",
      "    self._target(*self._args, **self._kwargs)\n",
      "  File \"<ipython-input-21-932302479123>\", line 45, in download_files\n",
      "    r = requests.get(name, allow_redirects=True)\n",
      "  File \"/Users/ryanpierson/anaconda3/lib/python3.7/site-packages/requests/api.py\", line 72, in get\n",
      "    return request('get', url, params=params, **kwargs)\n",
      "  File \"/Users/ryanpierson/anaconda3/lib/python3.7/site-packages/requests/api.py\", line 58, in request\n",
      "    return session.request(method=method, url=url, **kwargs)\n",
      "  File \"/Users/ryanpierson/anaconda3/lib/python3.7/site-packages/requests/sessions.py\", line 512, in request\n",
      "    resp = self.send(prep, **send_kwargs)\n",
      "  File \"/Users/ryanpierson/anaconda3/lib/python3.7/site-packages/requests/sessions.py\", line 616, in send\n",
      "    adapter = self.get_adapter(url=request.url)\n",
      "  File \"/Users/ryanpierson/anaconda3/lib/python3.7/site-packages/requests/sessions.py\", line 707, in get_adapter\n",
      "    raise InvalidSchema(\"No connection adapters were found for '%s'\" % url)\n",
      "requests.exceptions.InvalidSchema: No connection adapters were found for '://www.junglebreaks.co.uk/breaks/action.wav'\n",
      "\n",
      "\n",
      "Exception in thread Thread-359:\n",
      "Traceback (most recent call last):\n",
      "  File \"/Users/ryanpierson/anaconda3/lib/python3.7/threading.py\", line 917, in _bootstrap_inner\n",
      "    self.run()\n",
      "  File \"/Users/ryanpierson/anaconda3/lib/python3.7/threading.py\", line 865, in run\n",
      "    self._target(*self._args, **self._kwargs)\n",
      "  File \"<ipython-input-21-932302479123>\", line 45, in download_files\n",
      "    r = requests.get(name, allow_redirects=True)\n",
      "  File \"/Users/ryanpierson/anaconda3/lib/python3.7/site-packages/requests/api.py\", line 72, in get\n",
      "    return request('get', url, params=params, **kwargs)\n",
      "  File \"/Users/ryanpierson/anaconda3/lib/python3.7/site-packages/requests/api.py\", line 58, in request\n",
      "    return session.request(method=method, url=url, **kwargs)\n",
      "  File \"/Users/ryanpierson/anaconda3/lib/python3.7/site-packages/requests/sessions.py\", line 512, in request\n",
      "    resp = self.send(prep, **send_kwargs)\n",
      "  File \"/Users/ryanpierson/anaconda3/lib/python3.7/site-packages/requests/sessions.py\", line 616, in send\n",
      "    adapter = self.get_adapter(url=request.url)\n",
      "  File \"/Users/ryanpierson/anaconda3/lib/python3.7/site-packages/requests/sessions.py\", line 707, in get_adapter\n",
      "    raise InvalidSchema(\"No connection adapters were found for '%s'\" % url)\n",
      "requests.exceptions.InvalidSchema: No connection adapters were found for '://www.junglebreaks.co.uk/breaks/apache.wav'\n",
      "\n",
      "Exception in thread Thread-360:\n",
      "Traceback (most recent call last):\n",
      "  File \"/Users/ryanpierson/anaconda3/lib/python3.7/threading.py\", line 917, in _bootstrap_inner\n",
      "    self.run()\n",
      "  File \"/Users/ryanpierson/anaconda3/lib/python3.7/threading.py\", line 865, in run\n",
      "    self._target(*self._args, **self._kwargs)\n",
      "  File \"<ipython-input-21-932302479123>\", line 45, in download_files\n",
      "    r = requests.get(name, allow_redirects=True)\n",
      "  File \"/Users/ryanpierson/anaconda3/lib/python3.7/site-packages/requests/api.py\", line 72, in get\n",
      "    return request('get', url, params=params, **kwargs)\n",
      "  File \"/Users/ryanpierson/anaconda3/lib/python3.7/site-packages/requests/api.py\", line 58, in request\n",
      "    return session.request(method=method, url=url, **kwargs)\n",
      "  File \"/Users/ryanpierson/anaconda3/lib/python3.7/site-packages/requests/sessions.py\", line 512, in request\n",
      "    resp = self.send(prep, **send_kwargs)\n",
      "  File \"/Users/ryanpierson/anaconda3/lib/python3.7/site-packages/requests/sessions.py\", line 616, in send\n",
      "    adapter = self.get_adapter(url=request.url)\n",
      "  File \"/Users/ryanpierson/anaconda3/lib/python3.7/site-packages/requests/sessions.py\", line 707, in get_adapter\n",
      "    raise InvalidSchema(\"No connection adapters were found for '%s'\" % url)\n",
      "requests.exceptions.InvalidSchema: No connection adapters were found for '://www.junglebreaks.co.uk/breaks/assembly_line.wav'\n",
      "\n",
      "Exception in thread Thread-361:\n",
      "Traceback (most recent call last):\n",
      "  File \"/Users/ryanpierson/anaconda3/lib/python3.7/threading.py\", line 917, in _bootstrap_inner\n",
      "    self.run()\n",
      "  File \"/Users/ryanpierson/anaconda3/lib/python3.7/threading.py\", line 865, in run\n",
      "    self._target(*self._args, **self._kwargs)\n",
      "  File \"<ipython-input-21-932302479123>\", line 45, in download_files\n",
      "    r = requests.get(name, allow_redirects=True)\n",
      "  File \"/Users/ryanpierson/anaconda3/lib/python3.7/site-packages/requests/api.py\", line 72, in get\n",
      "    return request('get', url, params=params, **kwargs)\n",
      "  File \"/Users/ryanpierson/anaconda3/lib/python3.7/site-packages/requests/api.py\", line 58, in request\n",
      "    return session.request(method=method, url=url, **kwargs)\n",
      "  File \"/Users/ryanpierson/anaconda3/lib/python3.7/site-packages/requests/sessions.py\", line 512, in request\n",
      "    resp = self.send(prep, **send_kwargs)\n",
      "  File \"/Users/ryanpierson/anaconda3/lib/python3.7/site-packages/requests/sessions.py\", line 616, in send\n",
      "    adapter = self.get_adapter(url=request.url)\n",
      "  File \"/Users/ryanpierson/anaconda3/lib/python3.7/site-packages/requests/sessions.py\", line 707, in get_adapter\n",
      "    raise InvalidSchema(\"No connection adapters were found for '%s'\" % url)\n",
      "requests.exceptions.InvalidSchema: No connection adapters were found for '://www.junglebreaks.co.uk/breaks/both_eyes_open.wav'\n",
      "\n",
      "Exception in thread Thread-364:\n",
      "Traceback (most recent call last):\n",
      "  File \"/Users/ryanpierson/anaconda3/lib/python3.7/threading.py\", line 917, in _bootstrap_inner\n",
      "    self.run()\n",
      "  File \"/Users/ryanpierson/anaconda3/lib/python3.7/threading.py\", line 865, in run\n",
      "    self._target(*self._args, **self._kwargs)\n",
      "  File \"<ipython-input-21-932302479123>\", line 45, in download_files\n",
      "    r = requests.get(name, allow_redirects=True)\n",
      "  File \"/Users/ryanpierson/anaconda3/lib/python3.7/site-packages/requests/api.py\", line 72, in get\n",
      "    return request('get', url, params=params, **kwargs)\n",
      "  File \"/Users/ryanpierson/anaconda3/lib/python3.7/site-packages/requests/api.py\", line 58, in request\n",
      "    return session.request(method=method, url=url, **kwargs)\n",
      "  File \"/Users/ryanpierson/anaconda3/lib/python3.7/site-packages/requests/sessions.py\", line 512, in request\n",
      "    resp = self.send(prep, **send_kwargs)\n",
      "  File \"/Users/ryanpierson/anaconda3/lib/python3.7/site-packages/requests/sessions.py\", line 616, in send\n",
      "    adapter = self.get_adapter(url=request.url)\n",
      "  File \"/Users/ryanpierson/anaconda3/lib/python3.7/site-packages/requests/sessions.py\", line 707, in get_adapter\n",
      "    raise InvalidSchema(\"No connection adapters were found for '%s'\" % url)\n",
      "requests.exceptions.InvalidSchema: No connection adapters were found for '://www.junglebreaks.co.uk/breaks/dont_change_your_love.wav'\n",
      "Exception in thread Thread-363:\n",
      "Traceback (most recent call last):\n",
      "  File \"/Users/ryanpierson/anaconda3/lib/python3.7/threading.py\", line 917, in _bootstrap_inner\n",
      "    self.run()\n",
      "  File \"/Users/ryanpierson/anaconda3/lib/python3.7/threading.py\", line 865, in run\n",
      "    self._target(*self._args, **self._kwargs)\n",
      "  File \"<ipython-input-21-932302479123>\", line 45, in download_files\n",
      "    r = requests.get(name, allow_redirects=True)\n",
      "  File \"/Users/ryanpierson/anaconda3/lib/python3.7/site-packages/requests/api.py\", line 72, in get\n",
      "    return request('get', url, params=params, **kwargs)\n",
      "  File \"/Users/ryanpierson/anaconda3/lib/python3.7/site-packages/requests/api.py\", line 58, in request\n",
      "    return session.request(method=method, url=url, **kwargs)\n",
      "  File \"/Users/ryanpierson/anaconda3/lib/python3.7/site-packages/requests/sessions.py\", line 512, in request\n",
      "    resp = self.send(prep, **send_kwargs)\n",
      "  File \"/Users/ryanpierson/anaconda3/lib/python3.7/site-packages/requests/sessions.py\", line 616, in send\n",
      "    adapter = self.get_adapter(url=request.url)\n",
      "  File \"/Users/ryanpierson/anaconda3/lib/python3.7/site-packages/requests/sessions.py\", line 707, in get_adapter\n",
      "    raise InvalidSchema(\"No connection adapters were found for '%s'\" % url)\n",
      "requests.exceptions.InvalidSchema: No connection adapters were found for '://www.junglebreaks.co.uk/breaks/do_the_do.wav'\n",
      "\n",
      "\n",
      "Exception in thread Thread-362:\n",
      "Traceback (most recent call last):\n",
      "  File \"/Users/ryanpierson/anaconda3/lib/python3.7/threading.py\", line 917, in _bootstrap_inner\n",
      "    self.run()\n",
      "  File \"/Users/ryanpierson/anaconda3/lib/python3.7/threading.py\", line 865, in run\n",
      "    self._target(*self._args, **self._kwargs)\n",
      "  File \"<ipython-input-21-932302479123>\", line 45, in download_files\n",
      "    r = requests.get(name, allow_redirects=True)\n",
      "  File \"/Users/ryanpierson/anaconda3/lib/python3.7/site-packages/requests/api.py\", line 72, in get\n",
      "    return request('get', url, params=params, **kwargs)\n",
      "  File \"/Users/ryanpierson/anaconda3/lib/python3.7/site-packages/requests/api.py\", line 58, in request\n",
      "    return session.request(method=method, url=url, **kwargs)\n",
      "  File \"/Users/ryanpierson/anaconda3/lib/python3.7/site-packages/requests/sessions.py\", line 512, in request\n",
      "    resp = self.send(prep, **send_kwargs)\n",
      "  File \"/Users/ryanpierson/anaconda3/lib/python3.7/site-packages/requests/sessions.py\", line 616, in send\n",
      "    adapter = self.get_adapter(url=request.url)\n",
      "  File \"/Users/ryanpierson/anaconda3/lib/python3.7/site-packages/requests/sessions.py\", line 707, in get_adapter\n",
      "    raise InvalidSchema(\"No connection adapters were found for '%s'\" % url)\n",
      "requests.exceptions.InvalidSchema: No connection adapters were found for '://www.junglebreaks.co.uk/breaks/cold_sweat.wav'\n",
      "\n",
      "Exception in thread Thread-365:\n",
      "Traceback (most recent call last):\n",
      "  File \"/Users/ryanpierson/anaconda3/lib/python3.7/threading.py\", line 917, in _bootstrap_inner\n",
      "    self.run()\n",
      "  File \"/Users/ryanpierson/anaconda3/lib/python3.7/threading.py\", line 865, in run\n",
      "    self._target(*self._args, **self._kwargs)\n",
      "  File \"<ipython-input-21-932302479123>\", line 45, in download_files\n",
      "    r = requests.get(name, allow_redirects=True)\n",
      "  File \"/Users/ryanpierson/anaconda3/lib/python3.7/site-packages/requests/api.py\", line 72, in get\n",
      "    return request('get', url, params=params, **kwargs)\n",
      "  File \"/Users/ryanpierson/anaconda3/lib/python3.7/site-packages/requests/api.py\", line 58, in request\n",
      "    return session.request(method=method, url=url, **kwargs)\n",
      "  File \"/Users/ryanpierson/anaconda3/lib/python3.7/site-packages/requests/sessions.py\", line 512, in request\n",
      "    resp = self.send(prep, **send_kwargs)\n",
      "  File \"/Users/ryanpierson/anaconda3/lib/python3.7/site-packages/requests/sessions.py\", line 616, in send\n",
      "    adapter = self.get_adapter(url=request.url)\n",
      "  File \"/Users/ryanpierson/anaconda3/lib/python3.7/site-packages/requests/sessions.py\", line 707, in get_adapter\n",
      "    raise InvalidSchema(\"No connection adapters were found for '%s'\" % url)\n",
      "requests.exceptions.InvalidSchema: No connection adapters were found for '://www.junglebreaks.co.uk/breaks/flow.wav'\n",
      "\n",
      "Exception in thread Thread-366:\n",
      "Traceback (most recent call last):\n",
      "  File \"/Users/ryanpierson/anaconda3/lib/python3.7/threading.py\", line 917, in _bootstrap_inner\n",
      "    self.run()\n",
      "  File \"/Users/ryanpierson/anaconda3/lib/python3.7/threading.py\", line 865, in run\n",
      "    self._target(*self._args, **self._kwargs)\n",
      "  File \"<ipython-input-21-932302479123>\", line 45, in download_files\n",
      "    r = requests.get(name, allow_redirects=True)\n",
      "  File \"/Users/ryanpierson/anaconda3/lib/python3.7/site-packages/requests/api.py\", line 72, in get\n",
      "    return request('get', url, params=params, **kwargs)\n",
      "  File \"/Users/ryanpierson/anaconda3/lib/python3.7/site-packages/requests/api.py\", line 58, in request\n",
      "    return session.request(method=method, url=url, **kwargs)\n",
      "  File \"/Users/ryanpierson/anaconda3/lib/python3.7/site-packages/requests/sessions.py\", line 512, in request\n",
      "    resp = self.send(prep, **send_kwargs)\n",
      "  File \"/Users/ryanpierson/anaconda3/lib/python3.7/site-packages/requests/sessions.py\", line 616, in send\n",
      "    adapter = self.get_adapter(url=request.url)\n",
      "  File \"/Users/ryanpierson/anaconda3/lib/python3.7/site-packages/requests/sessions.py\", line 707, in get_adapter\n",
      "    raise InvalidSchema(\"No connection adapters were found for '%s'\" % url)\n",
      "requests.exceptions.InvalidSchema: No connection adapters were found for '://www.junglebreaks.co.uk/breaks/fools_gold.wav'\n",
      "\n",
      "Exception in thread Thread-368:\n",
      "Traceback (most recent call last):\n",
      "  File \"/Users/ryanpierson/anaconda3/lib/python3.7/threading.py\", line 917, in _bootstrap_inner\n",
      "    self.run()\n",
      "  File \"/Users/ryanpierson/anaconda3/lib/python3.7/threading.py\", line 865, in run\n",
      "    self._target(*self._args, **self._kwargs)\n",
      "  File \"<ipython-input-21-932302479123>\", line 45, in download_files\n",
      "    r = requests.get(name, allow_redirects=True)\n",
      "  File \"/Users/ryanpierson/anaconda3/lib/python3.7/site-packages/requests/api.py\", line 72, in get\n",
      "    return request('get', url, params=params, **kwargs)\n",
      "  File \"/Users/ryanpierson/anaconda3/lib/python3.7/site-packages/requests/api.py\", line 58, in request\n",
      "    return session.request(method=method, url=url, **kwargs)\n",
      "  File \"/Users/ryanpierson/anaconda3/lib/python3.7/site-packages/requests/sessions.py\", line 512, in request\n",
      "    resp = self.send(prep, **send_kwargs)\n",
      "  File \"/Users/ryanpierson/anaconda3/lib/python3.7/site-packages/requests/sessions.py\", line 616, in send\n",
      "    adapter = self.get_adapter(url=request.url)\n",
      "  File \"/Users/ryanpierson/anaconda3/lib/python3.7/site-packages/requests/sessions.py\", line 707, in get_adapter\n",
      "    raise InvalidSchema(\"No connection adapters were found for '%s'\" % url)\n",
      "requests.exceptions.InvalidSchema: No connection adapters were found for '://www.junglebreaks.co.uk/breaks/funky_mule--intro.wav'\n",
      "\n",
      "Exception in thread Thread-367:\n",
      "Traceback (most recent call last):\n",
      "  File \"/Users/ryanpierson/anaconda3/lib/python3.7/threading.py\", line 917, in _bootstrap_inner\n",
      "    self.run()\n",
      "  File \"/Users/ryanpierson/anaconda3/lib/python3.7/threading.py\", line 865, in run\n",
      "    self._target(*self._args, **self._kwargs)\n",
      "  File \"<ipython-input-21-932302479123>\", line 45, in download_files\n",
      "    r = requests.get(name, allow_redirects=True)\n",
      "  File \"/Users/ryanpierson/anaconda3/lib/python3.7/site-packages/requests/api.py\", line 72, in get\n",
      "    return request('get', url, params=params, **kwargs)\n",
      "  File \"/Users/ryanpierson/anaconda3/lib/python3.7/site-packages/requests/api.py\", line 58, in request\n",
      "    return session.request(method=method, url=url, **kwargs)\n",
      "  File \"/Users/ryanpierson/anaconda3/lib/python3.7/site-packages/requests/sessions.py\", line 512, in request\n",
      "    resp = self.send(prep, **send_kwargs)\n",
      "  File \"/Users/ryanpierson/anaconda3/lib/python3.7/site-packages/requests/sessions.py\", line 616, in send\n",
      "    adapter = self.get_adapter(url=request.url)\n",
      "  File \"/Users/ryanpierson/anaconda3/lib/python3.7/site-packages/requests/sessions.py\", line 707, in get_adapter\n",
      "    raise InvalidSchema(\"No connection adapters were found for '%s'\" % url)\n",
      "requests.exceptions.InvalidSchema: No connection adapters were found for '://www.junglebreaks.co.uk/breaks/funky_drummer.wav'\n",
      "\n",
      "Exception in thread Thread-369:\n",
      "Traceback (most recent call last):\n",
      "  File \"/Users/ryanpierson/anaconda3/lib/python3.7/threading.py\", line 917, in _bootstrap_inner\n",
      "    self.run()\n",
      "  File \"/Users/ryanpierson/anaconda3/lib/python3.7/threading.py\", line 865, in run\n",
      "    self._target(*self._args, **self._kwargs)\n",
      "  File \"<ipython-input-21-932302479123>\", line 45, in download_files\n",
      "    r = requests.get(name, allow_redirects=True)\n",
      "  File \"/Users/ryanpierson/anaconda3/lib/python3.7/site-packages/requests/api.py\", line 72, in get\n",
      "    return request('get', url, params=params, **kwargs)\n",
      "  File \"/Users/ryanpierson/anaconda3/lib/python3.7/site-packages/requests/api.py\", line 58, in request\n",
      "    return session.request(method=method, url=url, **kwargs)\n",
      "  File \"/Users/ryanpierson/anaconda3/lib/python3.7/site-packages/requests/sessions.py\", line 512, in request\n",
      "    resp = self.send(prep, **send_kwargs)\n",
      "  File \"/Users/ryanpierson/anaconda3/lib/python3.7/site-packages/requests/sessions.py\", line 616, in send\n",
      "    adapter = self.get_adapter(url=request.url)\n",
      "  File \"/Users/ryanpierson/anaconda3/lib/python3.7/site-packages/requests/sessions.py\", line 707, in get_adapter\n",
      "    raise InvalidSchema(\"No connection adapters were found for '%s'\" % url)\n",
      "requests.exceptions.InvalidSchema: No connection adapters were found for '://www.junglebreaks.co.uk/breaks/funky_mule--rides.wav'\n",
      "\n",
      "Exception in thread Thread-371:\n",
      "Traceback (most recent call last):\n",
      "  File \"/Users/ryanpierson/anaconda3/lib/python3.7/threading.py\", line 917, in _bootstrap_inner\n",
      "    self.run()\n",
      "  File \"/Users/ryanpierson/anaconda3/lib/python3.7/threading.py\", line 865, in run\n",
      "    self._target(*self._args, **self._kwargs)\n",
      "  File \"<ipython-input-21-932302479123>\", line 45, in download_files\n",
      "    r = requests.get(name, allow_redirects=True)\n",
      "  File \"/Users/ryanpierson/anaconda3/lib/python3.7/site-packages/requests/api.py\", line 72, in get\n",
      "    return request('get', url, params=params, **kwargs)\n",
      "  File \"/Users/ryanpierson/anaconda3/lib/python3.7/site-packages/requests/api.py\", line 58, in request\n",
      "    return session.request(method=method, url=url, **kwargs)\n",
      "  File \"/Users/ryanpierson/anaconda3/lib/python3.7/site-packages/requests/sessions.py\", line 512, in request\n",
      "    resp = self.send(prep, **send_kwargs)\n",
      "  File \"/Users/ryanpierson/anaconda3/lib/python3.7/site-packages/requests/sessions.py\", line 616, in send\n",
      "    adapter = self.get_adapter(url=request.url)\n",
      "  File \"/Users/ryanpierson/anaconda3/lib/python3.7/site-packages/requests/sessions.py\", line 707, in get_adapter\n",
      "    raise InvalidSchema(\"No connection adapters were found for '%s'\" % url)\n",
      "requests.exceptions.InvalidSchema: No connection adapters were found for '://www.junglebreaks.co.uk/breaks/god_made_me_funky.wav'\n",
      "\n",
      "Exception in thread Thread-372:\n",
      "Traceback (most recent call last):\n",
      "  File \"/Users/ryanpierson/anaconda3/lib/python3.7/threading.py\", line 917, in _bootstrap_inner\n",
      "    self.run()\n",
      "  File \"/Users/ryanpierson/anaconda3/lib/python3.7/threading.py\", line 865, in run\n",
      "    self._target(*self._args, **self._kwargs)\n",
      "  File \"<ipython-input-21-932302479123>\", line 45, in download_files\n",
      "    r = requests.get(name, allow_redirects=True)\n",
      "  File \"/Users/ryanpierson/anaconda3/lib/python3.7/site-packages/requests/api.py\", line 72, in get\n",
      "    return request('get', url, params=params, **kwargs)\n",
      "  File \"/Users/ryanpierson/anaconda3/lib/python3.7/site-packages/requests/api.py\", line 58, in request\n",
      "    return session.request(method=method, url=url, **kwargs)\n",
      "  File \"/Users/ryanpierson/anaconda3/lib/python3.7/site-packages/requests/sessions.py\", line 512, in request\n",
      "    resp = self.send(prep, **send_kwargs)\n",
      "  File \"/Users/ryanpierson/anaconda3/lib/python3.7/site-packages/requests/sessions.py\", line 616, in send\n",
      "    adapter = self.get_adapter(url=request.url)\n",
      "  File \"/Users/ryanpierson/anaconda3/lib/python3.7/site-packages/requests/sessions.py\", line 707, in get_adapter\n",
      "    raise InvalidSchema(\"No connection adapters were found for '%s'\" % url)\n",
      "requests.exceptions.InvalidSchema: No connection adapters were found for '://www.junglebreaks.co.uk/breaks/hot_pants.wav'\n",
      "Exception in thread Thread-373:\n",
      "Traceback (most recent call last):\n",
      "  File \"/Users/ryanpierson/anaconda3/lib/python3.7/threading.py\", line 917, in _bootstrap_inner\n",
      "    self.run()\n",
      "  File \"/Users/ryanpierson/anaconda3/lib/python3.7/threading.py\", line 865, in run\n",
      "    self._target(*self._args, **self._kwargs)\n",
      "  File \"<ipython-input-21-932302479123>\", line 45, in download_files\n",
      "    r = requests.get(name, allow_redirects=True)\n",
      "  File \"/Users/ryanpierson/anaconda3/lib/python3.7/site-packages/requests/api.py\", line 72, in get\n",
      "    return request('get', url, params=params, **kwargs)\n",
      "  File \"/Users/ryanpierson/anaconda3/lib/python3.7/site-packages/requests/api.py\", line 58, in request\n",
      "    return session.request(method=method, url=url, **kwargs)\n",
      "  File \"/Users/ryanpierson/anaconda3/lib/python3.7/site-packages/requests/sessions.py\", line 512, in request\n",
      "    resp = self.send(prep, **send_kwargs)\n",
      "  File \"/Users/ryanpierson/anaconda3/lib/python3.7/site-packages/requests/sessions.py\", line 616, in send\n",
      "    adapter = self.get_adapter(url=request.url)\n",
      "  File \"/Users/ryanpierson/anaconda3/lib/python3.7/site-packages/requests/sessions.py\", line 707, in get_adapter\n",
      "    raise InvalidSchema(\"No connection adapters were found for '%s'\" % url)\n",
      "requests.exceptions.InvalidSchema: No connection adapters were found for '://www.junglebreaks.co.uk/breaks/humpty_dump.wav'\n",
      "\n",
      "Exception in thread Thread-370:\n",
      "Traceback (most recent call last):\n",
      "  File \"/Users/ryanpierson/anaconda3/lib/python3.7/threading.py\", line 917, in _bootstrap_inner\n",
      "    self.run()\n",
      "  File \"/Users/ryanpierson/anaconda3/lib/python3.7/threading.py\", line 865, in run\n",
      "    self._target(*self._args, **self._kwargs)\n",
      "  File \"<ipython-input-21-932302479123>\", line 45, in download_files\n",
      "    r = requests.get(name, allow_redirects=True)\n",
      "  File \"/Users/ryanpierson/anaconda3/lib/python3.7/site-packages/requests/api.py\", line 72, in get\n",
      "    return request('get', url, params=params, **kwargs)\n",
      "  File \"/Users/ryanpierson/anaconda3/lib/python3.7/site-packages/requests/api.py\", line 58, in request\n",
      "    return session.request(method=method, url=url, **kwargs)\n",
      "  File \"/Users/ryanpierson/anaconda3/lib/python3.7/site-packages/requests/sessions.py\", line 512, in request\n",
      "    resp = self.send(prep, **send_kwargs)\n",
      "  File \"/Users/ryanpierson/anaconda3/lib/python3.7/site-packages/requests/sessions.py\", line 616, in send\n",
      "    adapter = self.get_adapter(url=request.url)\n",
      "  File \"/Users/ryanpierson/anaconda3/lib/python3.7/site-packages/requests/sessions.py\", line 707, in get_adapter\n",
      "    raise InvalidSchema(\"No connection adapters were found for '%s'\" % url)\n",
      "requests.exceptions.InvalidSchema: No connection adapters were found for '://www.junglebreaks.co.uk/breaks/give_it_up_or_turnit_a_loose.wav'\n",
      "\n",
      "\n",
      "Exception in thread Thread-374:\n",
      "Traceback (most recent call last):\n",
      "  File \"/Users/ryanpierson/anaconda3/lib/python3.7/threading.py\", line 917, in _bootstrap_inner\n",
      "    self.run()\n",
      "  File \"/Users/ryanpierson/anaconda3/lib/python3.7/threading.py\", line 865, in run\n",
      "    self._target(*self._args, **self._kwargs)\n",
      "  File \"<ipython-input-21-932302479123>\", line 45, in download_files\n",
      "    r = requests.get(name, allow_redirects=True)\n",
      "  File \"/Users/ryanpierson/anaconda3/lib/python3.7/site-packages/requests/api.py\", line 72, in get\n",
      "    return request('get', url, params=params, **kwargs)\n",
      "  File \"/Users/ryanpierson/anaconda3/lib/python3.7/site-packages/requests/api.py\", line 58, in request\n",
      "    return session.request(method=method, url=url, **kwargs)\n",
      "  File \"/Users/ryanpierson/anaconda3/lib/python3.7/site-packages/requests/sessions.py\", line 512, in request\n",
      "    resp = self.send(prep, **send_kwargs)\n",
      "  File \"/Users/ryanpierson/anaconda3/lib/python3.7/site-packages/requests/sessions.py\", line 616, in send\n",
      "    adapter = self.get_adapter(url=request.url)\n",
      "  File \"/Users/ryanpierson/anaconda3/lib/python3.7/site-packages/requests/sessions.py\", line 707, in get_adapter\n",
      "    raise InvalidSchema(\"No connection adapters were found for '%s'\" % url)\n",
      "requests.exceptions.InvalidSchema: No connection adapters were found for '://www.junglebreaks.co.uk/breaks/its_a_new_day.wav'\n",
      "\n",
      "Exception in thread Thread-376:\n",
      "Traceback (most recent call last):\n",
      "  File \"/Users/ryanpierson/anaconda3/lib/python3.7/threading.py\", line 917, in _bootstrap_inner\n",
      "    self.run()\n",
      "  File \"/Users/ryanpierson/anaconda3/lib/python3.7/threading.py\", line 865, in run\n",
      "    self._target(*self._args, **self._kwargs)\n",
      "  File \"<ipython-input-21-932302479123>\", line 45, in download_files\n",
      "    r = requests.get(name, allow_redirects=True)\n",
      "  File \"/Users/ryanpierson/anaconda3/lib/python3.7/site-packages/requests/api.py\", line 72, in get\n",
      "    return request('get', url, params=params, **kwargs)\n",
      "  File \"/Users/ryanpierson/anaconda3/lib/python3.7/site-packages/requests/api.py\", line 58, in request\n",
      "    return session.request(method=method, url=url, **kwargs)\n",
      "  File \"/Users/ryanpierson/anaconda3/lib/python3.7/site-packages/requests/sessions.py\", line 512, in request\n",
      "    resp = self.send(prep, **send_kwargs)\n",
      "  File \"/Users/ryanpierson/anaconda3/lib/python3.7/site-packages/requests/sessions.py\", line 616, in send\n",
      "    adapter = self.get_adapter(url=request.url)\n",
      "  File \"/Users/ryanpierson/anaconda3/lib/python3.7/site-packages/requests/sessions.py\", line 707, in get_adapter\n",
      "    raise InvalidSchema(\"No connection adapters were found for '%s'\" % url)\n",
      "requests.exceptions.InvalidSchema: No connection adapters were found for '://www.junglebreaks.co.uk/breaks/kool_is_back.wav'\n",
      "\n",
      "Exception in thread Thread-375:\n",
      "Traceback (most recent call last):\n",
      "  File \"/Users/ryanpierson/anaconda3/lib/python3.7/threading.py\", line 917, in _bootstrap_inner\n",
      "    self.run()\n",
      "  File \"/Users/ryanpierson/anaconda3/lib/python3.7/threading.py\", line 865, in run\n",
      "    self._target(*self._args, **self._kwargs)\n",
      "  File \"<ipython-input-21-932302479123>\", line 45, in download_files\n",
      "    r = requests.get(name, allow_redirects=True)\n",
      "  File \"/Users/ryanpierson/anaconda3/lib/python3.7/site-packages/requests/api.py\", line 72, in get\n",
      "    return request('get', url, params=params, **kwargs)\n",
      "  File \"/Users/ryanpierson/anaconda3/lib/python3.7/site-packages/requests/api.py\", line 58, in request\n",
      "    return session.request(method=method, url=url, **kwargs)\n",
      "  File \"/Users/ryanpierson/anaconda3/lib/python3.7/site-packages/requests/sessions.py\", line 512, in request\n",
      "    resp = self.send(prep, **send_kwargs)\n",
      "  File \"/Users/ryanpierson/anaconda3/lib/python3.7/site-packages/requests/sessions.py\", line 616, in send\n",
      "    adapter = self.get_adapter(url=request.url)\n",
      "  File \"/Users/ryanpierson/anaconda3/lib/python3.7/site-packages/requests/sessions.py\", line 707, in get_adapter\n",
      "    raise InvalidSchema(\"No connection adapters were found for '%s'\" % url)\n",
      "requests.exceptions.InvalidSchema: No connection adapters were found for '://www.junglebreaks.co.uk/breaks/kick_back.wav'\n",
      "\n",
      "Exception in thread Thread-379:\n",
      "Traceback (most recent call last):\n",
      "  File \"/Users/ryanpierson/anaconda3/lib/python3.7/threading.py\", line 917, in _bootstrap_inner\n",
      "    self.run()\n",
      "  File \"/Users/ryanpierson/anaconda3/lib/python3.7/threading.py\", line 865, in run\n",
      "    self._target(*self._args, **self._kwargs)\n",
      "  File \"<ipython-input-21-932302479123>\", line 45, in download_files\n",
      "    r = requests.get(name, allow_redirects=True)\n",
      "  File \"/Users/ryanpierson/anaconda3/lib/python3.7/site-packages/requests/api.py\", line 72, in get\n",
      "    return request('get', url, params=params, **kwargs)\n",
      "  File \"/Users/ryanpierson/anaconda3/lib/python3.7/site-packages/requests/api.py\", line 58, in request\n",
      "    return session.request(method=method, url=url, **kwargs)\n",
      "  File \"/Users/ryanpierson/anaconda3/lib/python3.7/site-packages/requests/sessions.py\", line 512, in request\n",
      "    resp = self.send(prep, **send_kwargs)\n",
      "  File \"/Users/ryanpierson/anaconda3/lib/python3.7/site-packages/requests/sessions.py\", line 616, in send\n",
      "    adapter = self.get_adapter(url=request.url)\n",
      "  File \"/Users/ryanpierson/anaconda3/lib/python3.7/site-packages/requests/sessions.py\", line 707, in get_adapter\n",
      "    raise InvalidSchema(\"No connection adapters were found for '%s'\" % url)\n",
      "requests.exceptions.InvalidSchema: No connection adapters were found for '://www.junglebreaks.co.uk/breaks/new_orleans.wav'\n",
      "\n",
      "Exception in thread Thread-378:\n",
      "Traceback (most recent call last):\n",
      "  File \"/Users/ryanpierson/anaconda3/lib/python3.7/threading.py\", line 917, in _bootstrap_inner\n",
      "    self.run()\n",
      "  File \"/Users/ryanpierson/anaconda3/lib/python3.7/threading.py\", line 865, in run\n",
      "    self._target(*self._args, **self._kwargs)\n",
      "  File \"<ipython-input-21-932302479123>\", line 45, in download_files\n",
      "    r = requests.get(name, allow_redirects=True)\n",
      "  File \"/Users/ryanpierson/anaconda3/lib/python3.7/site-packages/requests/api.py\", line 72, in get\n",
      "    return request('get', url, params=params, **kwargs)\n",
      "  File \"/Users/ryanpierson/anaconda3/lib/python3.7/site-packages/requests/api.py\", line 58, in request\n",
      "    return session.request(method=method, url=url, **kwargs)\n",
      "  File \"/Users/ryanpierson/anaconda3/lib/python3.7/site-packages/requests/sessions.py\", line 512, in request\n",
      "    resp = self.send(prep, **send_kwargs)\n",
      "  File \"/Users/ryanpierson/anaconda3/lib/python3.7/site-packages/requests/sessions.py\", line 616, in send\n",
      "    adapter = self.get_adapter(url=request.url)\n",
      "  File \"/Users/ryanpierson/anaconda3/lib/python3.7/site-packages/requests/sessions.py\", line 707, in get_adapter\n",
      "    raise InvalidSchema(\"No connection adapters were found for '%s'\" % url)\n",
      "requests.exceptions.InvalidSchema: No connection adapters were found for '://www.junglebreaks.co.uk/breaks/life_could.wav'\n",
      "\n",
      "Exception in thread Thread-380:\n",
      "Traceback (most recent call last):\n",
      "  File \"/Users/ryanpierson/anaconda3/lib/python3.7/threading.py\", line 917, in _bootstrap_inner\n",
      "    self.run()\n",
      "  File \"/Users/ryanpierson/anaconda3/lib/python3.7/threading.py\", line 865, in run\n",
      "    self._target(*self._args, **self._kwargs)\n",
      "  File \"<ipython-input-21-932302479123>\", line 45, in download_files\n",
      "    r = requests.get(name, allow_redirects=True)\n",
      "  File \"/Users/ryanpierson/anaconda3/lib/python3.7/site-packages/requests/api.py\", line 72, in get\n",
      "    return request('get', url, params=params, **kwargs)\n",
      "  File \"/Users/ryanpierson/anaconda3/lib/python3.7/site-packages/requests/api.py\", line 58, in request\n",
      "    return session.request(method=method, url=url, **kwargs)\n",
      "  File \"/Users/ryanpierson/anaconda3/lib/python3.7/site-packages/requests/sessions.py\", line 512, in request\n",
      "    resp = self.send(prep, **send_kwargs)\n",
      "  File \"/Users/ryanpierson/anaconda3/lib/python3.7/site-packages/requests/sessions.py\", line 616, in send\n",
      "    adapter = self.get_adapter(url=request.url)\n",
      "  File \"/Users/ryanpierson/anaconda3/lib/python3.7/site-packages/requests/sessions.py\", line 707, in get_adapter\n",
      "    raise InvalidSchema(\"No connection adapters were found for '%s'\" % url)\n",
      "requests.exceptions.InvalidSchema: No connection adapters were found for '://www.junglebreaks.co.uk/breaks/nt.wav'\n",
      "Exception in thread Thread-377:\n",
      "Traceback (most recent call last):\n",
      "  File \"/Users/ryanpierson/anaconda3/lib/python3.7/threading.py\", line 917, in _bootstrap_inner\n",
      "    self.run()\n",
      "  File \"/Users/ryanpierson/anaconda3/lib/python3.7/threading.py\", line 865, in run\n",
      "    self._target(*self._args, **self._kwargs)\n",
      "  File \"<ipython-input-21-932302479123>\", line 45, in download_files\n",
      "    r = requests.get(name, allow_redirects=True)\n",
      "  File \"/Users/ryanpierson/anaconda3/lib/python3.7/site-packages/requests/api.py\", line 72, in get\n",
      "    return request('get', url, params=params, **kwargs)\n",
      "  File \"/Users/ryanpierson/anaconda3/lib/python3.7/site-packages/requests/api.py\", line 58, in request\n",
      "    return session.request(method=method, url=url, **kwargs)\n",
      "  File \"/Users/ryanpierson/anaconda3/lib/python3.7/site-packages/requests/sessions.py\", line 512, in request\n",
      "    resp = self.send(prep, **send_kwargs)\n",
      "  File \"/Users/ryanpierson/anaconda3/lib/python3.7/site-packages/requests/sessions.py\", line 616, in send\n",
      "    adapter = self.get_adapter(url=request.url)\n",
      "  File \"/Users/ryanpierson/anaconda3/lib/python3.7/site-packages/requests/sessions.py\", line 707, in get_adapter\n",
      "    raise InvalidSchema(\"No connection adapters were found for '%s'\" % url)\n",
      "requests.exceptions.InvalidSchema: No connection adapters were found for '://www.junglebreaks.co.uk/breaks/let_a_woman_be_a_woman.wav'\n",
      "\n",
      "\n",
      "Exception in thread Thread-383:\n",
      "Traceback (most recent call last):\n",
      "  File \"/Users/ryanpierson/anaconda3/lib/python3.7/threading.py\", line 917, in _bootstrap_inner\n",
      "    self.run()\n",
      "  File \"/Users/ryanpierson/anaconda3/lib/python3.7/threading.py\", line 865, in run\n",
      "    self._target(*self._args, **self._kwargs)\n",
      "  File \"<ipython-input-21-932302479123>\", line 45, in download_files\n",
      "    r = requests.get(name, allow_redirects=True)\n",
      "  File \"/Users/ryanpierson/anaconda3/lib/python3.7/site-packages/requests/api.py\", line 72, in get\n",
      "    return request('get', url, params=params, **kwargs)\n",
      "  File \"/Users/ryanpierson/anaconda3/lib/python3.7/site-packages/requests/api.py\", line 58, in request\n",
      "    return session.request(method=method, url=url, **kwargs)\n",
      "  File \"/Users/ryanpierson/anaconda3/lib/python3.7/site-packages/requests/sessions.py\", line 512, in request\n",
      "    resp = self.send(prep, **send_kwargs)\n",
      "  File \"/Users/ryanpierson/anaconda3/lib/python3.7/site-packages/requests/sessions.py\", line 616, in send\n",
      "    adapter = self.get_adapter(url=request.url)\n",
      "  File \"/Users/ryanpierson/anaconda3/lib/python3.7/site-packages/requests/sessions.py\", line 707, in get_adapter\n",
      "    raise InvalidSchema(\"No connection adapters were found for '%s'\" % url)\n",
      "requests.exceptions.InvalidSchema: No connection adapters were found for '://www.junglebreaks.co.uk/breaks/put_your_love--end.wav'\n",
      "Exception in thread Thread-382:\n",
      "Traceback (most recent call last):\n",
      "  File \"/Users/ryanpierson/anaconda3/lib/python3.7/threading.py\", line 917, in _bootstrap_inner\n",
      "    self.run()\n",
      "  File \"/Users/ryanpierson/anaconda3/lib/python3.7/threading.py\", line 865, in run\n",
      "    self._target(*self._args, **self._kwargs)\n",
      "  File \"<ipython-input-21-932302479123>\", line 45, in download_files\n",
      "    r = requests.get(name, allow_redirects=True)\n",
      "  File \"/Users/ryanpierson/anaconda3/lib/python3.7/site-packages/requests/api.py\", line 72, in get\n",
      "    return request('get', url, params=params, **kwargs)\n",
      "  File \"/Users/ryanpierson/anaconda3/lib/python3.7/site-packages/requests/api.py\", line 58, in request\n",
      "    return session.request(method=method, url=url, **kwargs)\n",
      "  File \"/Users/ryanpierson/anaconda3/lib/python3.7/site-packages/requests/sessions.py\", line 512, in request\n",
      "    resp = self.send(prep, **send_kwargs)\n",
      "  File \"/Users/ryanpierson/anaconda3/lib/python3.7/site-packages/requests/sessions.py\", line 616, in send\n",
      "    adapter = self.get_adapter(url=request.url)\n",
      "  File \"/Users/ryanpierson/anaconda3/lib/python3.7/site-packages/requests/sessions.py\", line 707, in get_adapter\n",
      "    raise InvalidSchema(\"No connection adapters were found for '%s'\" % url)\n",
      "requests.exceptions.InvalidSchema: No connection adapters were found for '://www.junglebreaks.co.uk/breaks/plastic_jam.wav'\n",
      "\n",
      "\n",
      "Exception in thread Thread-381:\n",
      "Traceback (most recent call last):\n",
      "  File \"/Users/ryanpierson/anaconda3/lib/python3.7/threading.py\", line 917, in _bootstrap_inner\n",
      "    self.run()\n",
      "  File \"/Users/ryanpierson/anaconda3/lib/python3.7/threading.py\", line 865, in run\n",
      "    self._target(*self._args, **self._kwargs)\n",
      "  File \"<ipython-input-21-932302479123>\", line 45, in download_files\n",
      "    r = requests.get(name, allow_redirects=True)\n",
      "  File \"/Users/ryanpierson/anaconda3/lib/python3.7/site-packages/requests/api.py\", line 72, in get\n",
      "    return request('get', url, params=params, **kwargs)\n",
      "  File \"/Users/ryanpierson/anaconda3/lib/python3.7/site-packages/requests/api.py\", line 58, in request\n",
      "    return session.request(method=method, url=url, **kwargs)\n",
      "  File \"/Users/ryanpierson/anaconda3/lib/python3.7/site-packages/requests/sessions.py\", line 512, in request\n",
      "    resp = self.send(prep, **send_kwargs)\n",
      "  File \"/Users/ryanpierson/anaconda3/lib/python3.7/site-packages/requests/sessions.py\", line 616, in send\n",
      "    adapter = self.get_adapter(url=request.url)\n",
      "  File \"/Users/ryanpierson/anaconda3/lib/python3.7/site-packages/requests/sessions.py\", line 707, in get_adapter\n",
      "    raise InvalidSchema(\"No connection adapters were found for '%s'\" % url)\n",
      "requests.exceptions.InvalidSchema: No connection adapters were found for '://www.junglebreaks.co.uk/breaks/ode_to_billy_joe.wav'\n",
      "\n",
      "Exception in thread Thread-384:\n",
      "Traceback (most recent call last):\n",
      "  File \"/Users/ryanpierson/anaconda3/lib/python3.7/threading.py\", line 917, in _bootstrap_inner\n",
      "    self.run()\n",
      "  File \"/Users/ryanpierson/anaconda3/lib/python3.7/threading.py\", line 865, in run\n",
      "    self._target(*self._args, **self._kwargs)\n",
      "  File \"<ipython-input-21-932302479123>\", line 45, in download_files\n",
      "    r = requests.get(name, allow_redirects=True)\n",
      "  File \"/Users/ryanpierson/anaconda3/lib/python3.7/site-packages/requests/api.py\", line 72, in get\n",
      "    return request('get', url, params=params, **kwargs)\n",
      "  File \"/Users/ryanpierson/anaconda3/lib/python3.7/site-packages/requests/api.py\", line 58, in request\n",
      "    return session.request(method=method, url=url, **kwargs)\n",
      "  File \"/Users/ryanpierson/anaconda3/lib/python3.7/site-packages/requests/sessions.py\", line 512, in request\n",
      "    resp = self.send(prep, **send_kwargs)\n",
      "  File \"/Users/ryanpierson/anaconda3/lib/python3.7/site-packages/requests/sessions.py\", line 616, in send\n",
      "    adapter = self.get_adapter(url=request.url)\n",
      "  File \"/Users/ryanpierson/anaconda3/lib/python3.7/site-packages/requests/sessions.py\", line 707, in get_adapter\n",
      "    raise InvalidSchema(\"No connection adapters were found for '%s'\" % url)\n",
      "requests.exceptions.InvalidSchema: No connection adapters were found for '://www.junglebreaks.co.uk/breaks/put_your_love--middle.wav'\n",
      "\n",
      "Exception in thread Thread-385:\n",
      "Traceback (most recent call last):\n",
      "  File \"/Users/ryanpierson/anaconda3/lib/python3.7/threading.py\", line 917, in _bootstrap_inner\n",
      "    self.run()\n",
      "  File \"/Users/ryanpierson/anaconda3/lib/python3.7/threading.py\", line 865, in run\n",
      "    self._target(*self._args, **self._kwargs)\n",
      "  File \"<ipython-input-21-932302479123>\", line 45, in download_files\n",
      "    r = requests.get(name, allow_redirects=True)\n",
      "  File \"/Users/ryanpierson/anaconda3/lib/python3.7/site-packages/requests/api.py\", line 72, in get\n",
      "    return request('get', url, params=params, **kwargs)\n",
      "  File \"/Users/ryanpierson/anaconda3/lib/python3.7/site-packages/requests/api.py\", line 58, in request\n",
      "    return session.request(method=method, url=url, **kwargs)\n",
      "  File \"/Users/ryanpierson/anaconda3/lib/python3.7/site-packages/requests/sessions.py\", line 512, in request\n",
      "    resp = self.send(prep, **send_kwargs)\n",
      "  File \"/Users/ryanpierson/anaconda3/lib/python3.7/site-packages/requests/sessions.py\", line 616, in send\n",
      "    adapter = self.get_adapter(url=request.url)\n",
      "  File \"/Users/ryanpierson/anaconda3/lib/python3.7/site-packages/requests/sessions.py\", line 707, in get_adapter\n",
      "    raise InvalidSchema(\"No connection adapters were found for '%s'\" % url)\n",
      "requests.exceptions.InvalidSchema: No connection adapters were found for '://www.junglebreaks.co.uk/breaks/scorpio.wav'\n",
      "\n",
      "Exception in thread Thread-386:\n",
      "Traceback (most recent call last):\n",
      "  File \"/Users/ryanpierson/anaconda3/lib/python3.7/threading.py\", line 917, in _bootstrap_inner\n",
      "    self.run()\n",
      "  File \"/Users/ryanpierson/anaconda3/lib/python3.7/threading.py\", line 865, in run\n",
      "    self._target(*self._args, **self._kwargs)\n",
      "  File \"<ipython-input-21-932302479123>\", line 45, in download_files\n",
      "    r = requests.get(name, allow_redirects=True)\n",
      "  File \"/Users/ryanpierson/anaconda3/lib/python3.7/site-packages/requests/api.py\", line 72, in get\n",
      "    return request('get', url, params=params, **kwargs)\n",
      "  File \"/Users/ryanpierson/anaconda3/lib/python3.7/site-packages/requests/api.py\", line 58, in request\n",
      "    return session.request(method=method, url=url, **kwargs)\n",
      "  File \"/Users/ryanpierson/anaconda3/lib/python3.7/site-packages/requests/sessions.py\", line 512, in request\n",
      "    resp = self.send(prep, **send_kwargs)\n",
      "  File \"/Users/ryanpierson/anaconda3/lib/python3.7/site-packages/requests/sessions.py\", line 616, in send\n",
      "    adapter = self.get_adapter(url=request.url)\n",
      "  File \"/Users/ryanpierson/anaconda3/lib/python3.7/site-packages/requests/sessions.py\", line 707, in get_adapter\n",
      "    raise InvalidSchema(\"No connection adapters were found for '%s'\" % url)\n",
      "requests.exceptions.InvalidSchema: No connection adapters were found for '://www.junglebreaks.co.uk/breaks/sesame_street.wav'\n",
      "\n",
      "Exception in thread Thread-387:\n",
      "Traceback (most recent call last):\n",
      "  File \"/Users/ryanpierson/anaconda3/lib/python3.7/threading.py\", line 917, in _bootstrap_inner\n",
      "    self.run()\n",
      "  File \"/Users/ryanpierson/anaconda3/lib/python3.7/threading.py\", line 865, in run\n",
      "    self._target(*self._args, **self._kwargs)\n",
      "  File \"<ipython-input-21-932302479123>\", line 45, in download_files\n",
      "    r = requests.get(name, allow_redirects=True)\n",
      "  File \"/Users/ryanpierson/anaconda3/lib/python3.7/site-packages/requests/api.py\", line 72, in get\n",
      "    return request('get', url, params=params, **kwargs)\n",
      "  File \"/Users/ryanpierson/anaconda3/lib/python3.7/site-packages/requests/api.py\", line 58, in request\n",
      "    return session.request(method=method, url=url, **kwargs)\n",
      "  File \"/Users/ryanpierson/anaconda3/lib/python3.7/site-packages/requests/sessions.py\", line 512, in request\n",
      "    resp = self.send(prep, **send_kwargs)\n",
      "  File \"/Users/ryanpierson/anaconda3/lib/python3.7/site-packages/requests/sessions.py\", line 616, in send\n",
      "    adapter = self.get_adapter(url=request.url)\n",
      "  File \"/Users/ryanpierson/anaconda3/lib/python3.7/site-packages/requests/sessions.py\", line 707, in get_adapter\n",
      "    raise InvalidSchema(\"No connection adapters were found for '%s'\" % url)\n",
      "requests.exceptions.InvalidSchema: No connection adapters were found for '://www.junglebreaks.co.uk/breaks/shack_up.wav'\n",
      "\n",
      "Exception in thread Thread-388:\n",
      "Traceback (most recent call last):\n",
      "  File \"/Users/ryanpierson/anaconda3/lib/python3.7/threading.py\", line 917, in _bootstrap_inner\n",
      "    self.run()\n",
      "  File \"/Users/ryanpierson/anaconda3/lib/python3.7/threading.py\", line 865, in run\n",
      "    self._target(*self._args, **self._kwargs)\n",
      "  File \"<ipython-input-21-932302479123>\", line 45, in download_files\n",
      "    r = requests.get(name, allow_redirects=True)\n",
      "  File \"/Users/ryanpierson/anaconda3/lib/python3.7/site-packages/requests/api.py\", line 72, in get\n",
      "    return request('get', url, params=params, **kwargs)\n",
      "  File \"/Users/ryanpierson/anaconda3/lib/python3.7/site-packages/requests/api.py\", line 58, in request\n",
      "    return session.request(method=method, url=url, **kwargs)\n",
      "  File \"/Users/ryanpierson/anaconda3/lib/python3.7/site-packages/requests/sessions.py\", line 512, in request\n",
      "    resp = self.send(prep, **send_kwargs)\n",
      "  File \"/Users/ryanpierson/anaconda3/lib/python3.7/site-packages/requests/sessions.py\", line 616, in send\n",
      "    adapter = self.get_adapter(url=request.url)\n",
      "  File \"/Users/ryanpierson/anaconda3/lib/python3.7/site-packages/requests/sessions.py\", line 707, in get_adapter\n",
      "    raise InvalidSchema(\"No connection adapters were found for '%s'\" % url)\n",
      "requests.exceptions.InvalidSchema: No connection adapters were found for '://www.junglebreaks.co.uk/breaks/sing_a_simple_song.wav'\n",
      "\n",
      "Exception in thread Thread-389:\n",
      "Traceback (most recent call last):\n",
      "  File \"/Users/ryanpierson/anaconda3/lib/python3.7/threading.py\", line 917, in _bootstrap_inner\n",
      "    self.run()\n",
      "  File \"/Users/ryanpierson/anaconda3/lib/python3.7/threading.py\", line 865, in run\n",
      "    self._target(*self._args, **self._kwargs)\n",
      "  File \"<ipython-input-21-932302479123>\", line 45, in download_files\n",
      "    r = requests.get(name, allow_redirects=True)\n",
      "  File \"/Users/ryanpierson/anaconda3/lib/python3.7/site-packages/requests/api.py\", line 72, in get\n",
      "    return request('get', url, params=params, **kwargs)\n",
      "  File \"/Users/ryanpierson/anaconda3/lib/python3.7/site-packages/requests/api.py\", line 58, in request\n",
      "    return session.request(method=method, url=url, **kwargs)\n",
      "  File \"/Users/ryanpierson/anaconda3/lib/python3.7/site-packages/requests/sessions.py\", line 512, in request\n",
      "    resp = self.send(prep, **send_kwargs)\n",
      "  File \"/Users/ryanpierson/anaconda3/lib/python3.7/site-packages/requests/sessions.py\", line 616, in send\n",
      "    adapter = self.get_adapter(url=request.url)\n",
      "  File \"/Users/ryanpierson/anaconda3/lib/python3.7/site-packages/requests/sessions.py\", line 707, in get_adapter\n",
      "    raise InvalidSchema(\"No connection adapters were found for '%s'\" % url)\n",
      "requests.exceptions.InvalidSchema: No connection adapters were found for '://www.junglebreaks.co.uk/breaks/sneakin_in_the_back.wav'\n",
      "\n",
      "Exception in thread Thread-390:\n",
      "Traceback (most recent call last):\n",
      "  File \"/Users/ryanpierson/anaconda3/lib/python3.7/threading.py\", line 917, in _bootstrap_inner\n",
      "    self.run()\n",
      "  File \"/Users/ryanpierson/anaconda3/lib/python3.7/threading.py\", line 865, in run\n",
      "    self._target(*self._args, **self._kwargs)\n",
      "  File \"<ipython-input-21-932302479123>\", line 45, in download_files\n",
      "    r = requests.get(name, allow_redirects=True)\n",
      "  File \"/Users/ryanpierson/anaconda3/lib/python3.7/site-packages/requests/api.py\", line 72, in get\n",
      "    return request('get', url, params=params, **kwargs)\n",
      "  File \"/Users/ryanpierson/anaconda3/lib/python3.7/site-packages/requests/api.py\", line 58, in request\n",
      "    return session.request(method=method, url=url, **kwargs)\n",
      "  File \"/Users/ryanpierson/anaconda3/lib/python3.7/site-packages/requests/sessions.py\", line 512, in request\n",
      "    resp = self.send(prep, **send_kwargs)\n",
      "  File \"/Users/ryanpierson/anaconda3/lib/python3.7/site-packages/requests/sessions.py\", line 616, in send\n",
      "    adapter = self.get_adapter(url=request.url)\n",
      "  File \"/Users/ryanpierson/anaconda3/lib/python3.7/site-packages/requests/sessions.py\", line 707, in get_adapter\n",
      "    raise InvalidSchema(\"No connection adapters were found for '%s'\" % url)\n",
      "requests.exceptions.InvalidSchema: No connection adapters were found for '://www.junglebreaks.co.uk/breaks/sniper.wav'\n",
      "\n",
      "Exception in thread Thread-392:\n",
      "Traceback (most recent call last):\n",
      "  File \"/Users/ryanpierson/anaconda3/lib/python3.7/threading.py\", line 917, in _bootstrap_inner\n",
      "    self.run()\n",
      "  File \"/Users/ryanpierson/anaconda3/lib/python3.7/threading.py\", line 865, in run\n",
      "    self._target(*self._args, **self._kwargs)\n",
      "  File \"<ipython-input-21-932302479123>\", line 45, in download_files\n",
      "    r = requests.get(name, allow_redirects=True)\n",
      "  File \"/Users/ryanpierson/anaconda3/lib/python3.7/site-packages/requests/api.py\", line 72, in get\n",
      "    return request('get', url, params=params, **kwargs)\n",
      "  File \"/Users/ryanpierson/anaconda3/lib/python3.7/site-packages/requests/api.py\", line 58, in request\n",
      "    return session.request(method=method, url=url, **kwargs)\n",
      "  File \"/Users/ryanpierson/anaconda3/lib/python3.7/site-packages/requests/sessions.py\", line 512, in request\n",
      "    resp = self.send(prep, **send_kwargs)\n",
      "  File \"/Users/ryanpierson/anaconda3/lib/python3.7/site-packages/requests/sessions.py\", line 616, in send\n",
      "    adapter = self.get_adapter(url=request.url)\n",
      "  File \"/Users/ryanpierson/anaconda3/lib/python3.7/site-packages/requests/sessions.py\", line 707, in get_adapter\n",
      "    raise InvalidSchema(\"No connection adapters were found for '%s'\" % url)\n",
      "requests.exceptions.InvalidSchema: No connection adapters were found for '://www.junglebreaks.co.uk/breaks/soul_pride.wav'\n",
      "\n",
      "Exception in thread Thread-391:\n",
      "Traceback (most recent call last):\n",
      "  File \"/Users/ryanpierson/anaconda3/lib/python3.7/threading.py\", line 917, in _bootstrap_inner\n",
      "    self.run()\n",
      "  File \"/Users/ryanpierson/anaconda3/lib/python3.7/threading.py\", line 865, in run\n",
      "    self._target(*self._args, **self._kwargs)\n",
      "  File \"<ipython-input-21-932302479123>\", line 45, in download_files\n",
      "    r = requests.get(name, allow_redirects=True)\n",
      "  File \"/Users/ryanpierson/anaconda3/lib/python3.7/site-packages/requests/api.py\", line 72, in get\n",
      "    return request('get', url, params=params, **kwargs)\n",
      "  File \"/Users/ryanpierson/anaconda3/lib/python3.7/site-packages/requests/api.py\", line 58, in request\n",
      "    return session.request(method=method, url=url, **kwargs)\n",
      "  File \"/Users/ryanpierson/anaconda3/lib/python3.7/site-packages/requests/sessions.py\", line 512, in request\n",
      "    resp = self.send(prep, **send_kwargs)\n",
      "  File \"/Users/ryanpierson/anaconda3/lib/python3.7/site-packages/requests/sessions.py\", line 616, in send\n",
      "    adapter = self.get_adapter(url=request.url)\n",
      "  File \"/Users/ryanpierson/anaconda3/lib/python3.7/site-packages/requests/sessions.py\", line 707, in get_adapter\n",
      "    raise InvalidSchema(\"No connection adapters were found for '%s'\" % url)\n",
      "requests.exceptions.InvalidSchema: No connection adapters were found for '://www.junglebreaks.co.uk/breaks/soul_beat_runna.wav'\n",
      "Exception in thread Thread-393:\n",
      "Traceback (most recent call last):\n",
      "  File \"/Users/ryanpierson/anaconda3/lib/python3.7/threading.py\", line 917, in _bootstrap_inner\n",
      "    self.run()\n",
      "  File \"/Users/ryanpierson/anaconda3/lib/python3.7/threading.py\", line 865, in run\n",
      "    self._target(*self._args, **self._kwargs)\n",
      "  File \"<ipython-input-21-932302479123>\", line 45, in download_files\n",
      "    r = requests.get(name, allow_redirects=True)\n",
      "  File \"/Users/ryanpierson/anaconda3/lib/python3.7/site-packages/requests/api.py\", line 72, in get\n",
      "    return request('get', url, params=params, **kwargs)\n",
      "  File \"/Users/ryanpierson/anaconda3/lib/python3.7/site-packages/requests/api.py\", line 58, in request\n",
      "    return session.request(method=method, url=url, **kwargs)\n",
      "  File \"/Users/ryanpierson/anaconda3/lib/python3.7/site-packages/requests/sessions.py\", line 512, in request\n",
      "    resp = self.send(prep, **send_kwargs)\n",
      "  File \"/Users/ryanpierson/anaconda3/lib/python3.7/site-packages/requests/sessions.py\", line 616, in send\n",
      "    adapter = self.get_adapter(url=request.url)\n",
      "  File \"/Users/ryanpierson/anaconda3/lib/python3.7/site-packages/requests/sessions.py\", line 707, in get_adapter\n",
      "    raise InvalidSchema(\"No connection adapters were found for '%s'\" % url)\n",
      "requests.exceptions.InvalidSchema: No connection adapters were found for '://www.junglebreaks.co.uk/breaks/sport.wav'\n",
      "\n",
      "Exception in thread Thread-395:\n",
      "Traceback (most recent call last):\n",
      "  File \"/Users/ryanpierson/anaconda3/lib/python3.7/threading.py\", line 917, in _bootstrap_inner\n",
      "    self.run()\n",
      "  File \"/Users/ryanpierson/anaconda3/lib/python3.7/threading.py\", line 865, in run\n",
      "    self._target(*self._args, **self._kwargs)\n",
      "  File \"<ipython-input-21-932302479123>\", line 45, in download_files\n",
      "    r = requests.get(name, allow_redirects=True)\n",
      "  File \"/Users/ryanpierson/anaconda3/lib/python3.7/site-packages/requests/api.py\", line 72, in get\n",
      "    return request('get', url, params=params, **kwargs)\n",
      "  File \"/Users/ryanpierson/anaconda3/lib/python3.7/site-packages/requests/api.py\", line 58, in request\n",
      "    return session.request(method=method, url=url, **kwargs)\n",
      "  File \"/Users/ryanpierson/anaconda3/lib/python3.7/site-packages/requests/sessions.py\", line 512, in request\n",
      "    resp = self.send(prep, **send_kwargs)\n",
      "  File \"/Users/ryanpierson/anaconda3/lib/python3.7/site-packages/requests/sessions.py\", line 616, in send\n",
      "    adapter = self.get_adapter(url=request.url)\n",
      "  File \"/Users/ryanpierson/anaconda3/lib/python3.7/site-packages/requests/sessions.py\", line 707, in get_adapter\n",
      "    raise InvalidSchema(\"No connection adapters were found for '%s'\" % url)\n",
      "requests.exceptions.InvalidSchema: No connection adapters were found for '://www.junglebreaks.co.uk/breaks/take_me_to_the_mardi_gras.wav'\n",
      "Exception in thread Thread-397:\n",
      "Traceback (most recent call last):\n",
      "  File \"/Users/ryanpierson/anaconda3/lib/python3.7/threading.py\", line 917, in _bootstrap_inner\n",
      "    self.run()\n",
      "  File \"/Users/ryanpierson/anaconda3/lib/python3.7/threading.py\", line 865, in run\n",
      "    self._target(*self._args, **self._kwargs)\n",
      "  File \"<ipython-input-21-932302479123>\", line 45, in download_files\n",
      "    r = requests.get(name, allow_redirects=True)\n",
      "  File \"/Users/ryanpierson/anaconda3/lib/python3.7/site-packages/requests/api.py\", line 72, in get\n",
      "    return request('get', url, params=params, **kwargs)\n",
      "  File \"/Users/ryanpierson/anaconda3/lib/python3.7/site-packages/requests/api.py\", line 58, in request\n",
      "    return session.request(method=method, url=url, **kwargs)\n",
      "  File \"/Users/ryanpierson/anaconda3/lib/python3.7/site-packages/requests/sessions.py\", line 512, in request\n",
      "    resp = self.send(prep, **send_kwargs)\n",
      "  File \"/Users/ryanpierson/anaconda3/lib/python3.7/site-packages/requests/sessions.py\", line 616, in send\n",
      "    adapter = self.get_adapter(url=request.url)\n",
      "  File \"/Users/ryanpierson/anaconda3/lib/python3.7/site-packages/requests/sessions.py\", line 707, in get_adapter\n",
      "    raise InvalidSchema(\"No connection adapters were found for '%s'\" % url)\n",
      "requests.exceptions.InvalidSchema: No connection adapters were found for '://www.junglebreaks.co.uk/breaks/tighten_up.wav'\n",
      "\n",
      "Exception in thread Thread-394:\n",
      "Traceback (most recent call last):\n",
      "  File \"/Users/ryanpierson/anaconda3/lib/python3.7/threading.py\", line 917, in _bootstrap_inner\n",
      "    self.run()\n",
      "  File \"/Users/ryanpierson/anaconda3/lib/python3.7/threading.py\", line 865, in run\n",
      "    self._target(*self._args, **self._kwargs)\n",
      "  File \"<ipython-input-21-932302479123>\", line 45, in download_files\n",
      "    r = requests.get(name, allow_redirects=True)\n",
      "  File \"/Users/ryanpierson/anaconda3/lib/python3.7/site-packages/requests/api.py\", line 72, in get\n",
      "    return request('get', url, params=params, **kwargs)\n",
      "  File \"/Users/ryanpierson/anaconda3/lib/python3.7/site-packages/requests/api.py\", line 58, in request\n",
      "    return session.request(method=method, url=url, **kwargs)\n",
      "  File \"/Users/ryanpierson/anaconda3/lib/python3.7/site-packages/requests/sessions.py\", line 512, in request\n",
      "    resp = self.send(prep, **send_kwargs)\n",
      "  File \"/Users/ryanpierson/anaconda3/lib/python3.7/site-packages/requests/sessions.py\", line 616, in send\n",
      "    adapter = self.get_adapter(url=request.url)\n",
      "  File \"/Users/ryanpierson/anaconda3/lib/python3.7/site-packages/requests/sessions.py\", line 707, in get_adapter\n",
      "    raise InvalidSchema(\"No connection adapters were found for '%s'\" % url)\n",
      "requests.exceptions.InvalidSchema: No connection adapters were found for '://www.junglebreaks.co.uk/breaks/sweet_pea.wav'\n",
      "\n",
      "\n",
      "Exception in thread Thread-396:\n",
      "Traceback (most recent call last):\n",
      "  File \"/Users/ryanpierson/anaconda3/lib/python3.7/threading.py\", line 917, in _bootstrap_inner\n",
      "    self.run()\n",
      "  File \"/Users/ryanpierson/anaconda3/lib/python3.7/threading.py\", line 865, in run\n",
      "    self._target(*self._args, **self._kwargs)\n",
      "  File \"<ipython-input-21-932302479123>\", line 45, in download_files\n",
      "    r = requests.get(name, allow_redirects=True)\n",
      "  File \"/Users/ryanpierson/anaconda3/lib/python3.7/site-packages/requests/api.py\", line 72, in get\n",
      "    return request('get', url, params=params, **kwargs)\n",
      "  File \"/Users/ryanpierson/anaconda3/lib/python3.7/site-packages/requests/api.py\", line 58, in request\n",
      "    return session.request(method=method, url=url, **kwargs)\n",
      "  File \"/Users/ryanpierson/anaconda3/lib/python3.7/site-packages/requests/sessions.py\", line 512, in request\n",
      "    resp = self.send(prep, **send_kwargs)\n",
      "  File \"/Users/ryanpierson/anaconda3/lib/python3.7/site-packages/requests/sessions.py\", line 616, in send\n",
      "    adapter = self.get_adapter(url=request.url)\n",
      "  File \"/Users/ryanpierson/anaconda3/lib/python3.7/site-packages/requests/sessions.py\", line 707, in get_adapter\n",
      "    raise InvalidSchema(\"No connection adapters were found for '%s'\" % url)\n",
      "requests.exceptions.InvalidSchema: No connection adapters were found for '://www.junglebreaks.co.uk/breaks/think--all5.wav'\n",
      "\n",
      "\n",
      "Exception in thread Thread-399:\n",
      "Traceback (most recent call last):\n",
      "  File \"/Users/ryanpierson/anaconda3/lib/python3.7/threading.py\", line 917, in _bootstrap_inner\n",
      "    self.run()\n",
      "  File \"/Users/ryanpierson/anaconda3/lib/python3.7/threading.py\", line 865, in run\n",
      "    self._target(*self._args, **self._kwargs)\n",
      "  File \"<ipython-input-21-932302479123>\", line 45, in download_files\n",
      "    r = requests.get(name, allow_redirects=True)\n",
      "  File \"/Users/ryanpierson/anaconda3/lib/python3.7/site-packages/requests/api.py\", line 72, in get\n",
      "    return request('get', url, params=params, **kwargs)\n",
      "  File \"/Users/ryanpierson/anaconda3/lib/python3.7/site-packages/requests/api.py\", line 58, in request\n",
      "    return session.request(method=method, url=url, **kwargs)\n",
      "  File \"/Users/ryanpierson/anaconda3/lib/python3.7/site-packages/requests/sessions.py\", line 512, in request\n",
      "    resp = self.send(prep, **send_kwargs)\n",
      "  File \"/Users/ryanpierson/anaconda3/lib/python3.7/site-packages/requests/sessions.py\", line 616, in send\n",
      "    adapter = self.get_adapter(url=request.url)\n",
      "  File \"/Users/ryanpierson/anaconda3/lib/python3.7/site-packages/requests/sessions.py\", line 707, in get_adapter\n",
      "    raise InvalidSchema(\"No connection adapters were found for '%s'\" % url)\n",
      "requests.exceptions.InvalidSchema: No connection adapters were found for '://www.junglebreaks.co.uk/breaks/willie_pass_the_water.wav'\n",
      "\n",
      "Exception in thread Thread-400:\n",
      "Traceback (most recent call last):\n",
      "  File \"/Users/ryanpierson/anaconda3/lib/python3.7/threading.py\", line 917, in _bootstrap_inner\n",
      "    self.run()\n",
      "  File \"/Users/ryanpierson/anaconda3/lib/python3.7/threading.py\", line 865, in run\n",
      "    self._target(*self._args, **self._kwargs)\n",
      "  File \"<ipython-input-21-932302479123>\", line 45, in download_files\n",
      "    r = requests.get(name, allow_redirects=True)\n",
      "  File \"/Users/ryanpierson/anaconda3/lib/python3.7/site-packages/requests/api.py\", line 72, in get\n",
      "    return request('get', url, params=params, **kwargs)\n",
      "  File \"/Users/ryanpierson/anaconda3/lib/python3.7/site-packages/requests/api.py\", line 58, in request\n",
      "    return session.request(method=method, url=url, **kwargs)\n",
      "  File \"/Users/ryanpierson/anaconda3/lib/python3.7/site-packages/requests/sessions.py\", line 512, in request\n",
      "    resp = self.send(prep, **send_kwargs)\n",
      "  File \"/Users/ryanpierson/anaconda3/lib/python3.7/site-packages/requests/sessions.py\", line 616, in send\n",
      "    adapter = self.get_adapter(url=request.url)\n",
      "  File \"/Users/ryanpierson/anaconda3/lib/python3.7/site-packages/requests/sessions.py\", line 707, in get_adapter\n",
      "    raise InvalidSchema(\"No connection adapters were found for '%s'\" % url)\n",
      "requests.exceptions.InvalidSchema: No connection adapters were found for '://www.junglebreaks.co.uk/breaks/worm.wav'\n",
      "Exception in thread Thread-398:\n",
      "Traceback (most recent call last):\n",
      "  File \"/Users/ryanpierson/anaconda3/lib/python3.7/threading.py\", line 917, in _bootstrap_inner\n",
      "    self.run()\n",
      "  File \"/Users/ryanpierson/anaconda3/lib/python3.7/threading.py\", line 865, in run\n",
      "    self._target(*self._args, **self._kwargs)\n",
      "  File \"<ipython-input-21-932302479123>\", line 45, in download_files\n",
      "    r = requests.get(name, allow_redirects=True)\n",
      "  File \"/Users/ryanpierson/anaconda3/lib/python3.7/site-packages/requests/api.py\", line 72, in get\n",
      "    return request('get', url, params=params, **kwargs)\n",
      "  File \"/Users/ryanpierson/anaconda3/lib/python3.7/site-packages/requests/api.py\", line 58, in request\n",
      "    return session.request(method=method, url=url, **kwargs)\n",
      "  File \"/Users/ryanpierson/anaconda3/lib/python3.7/site-packages/requests/sessions.py\", line 512, in request\n",
      "    resp = self.send(prep, **send_kwargs)\n",
      "  File \"/Users/ryanpierson/anaconda3/lib/python3.7/site-packages/requests/sessions.py\", line 616, in send\n",
      "    adapter = self.get_adapter(url=request.url)\n",
      "  File \"/Users/ryanpierson/anaconda3/lib/python3.7/site-packages/requests/sessions.py\", line 707, in get_adapter\n",
      "    raise InvalidSchema(\"No connection adapters were found for '%s'\" % url)\n",
      "requests.exceptions.InvalidSchema: No connection adapters were found for '://www.junglebreaks.co.uk/breaks/whole_thing.wav'\n",
      "\n",
      "\n"
     ]
    },
    {
     "name": "stdout",
     "output_type": "stream",
     "text": [
      "\n",
      "The file being downloaded is http://www.junglebreaks.co.uk/breaks/worm.wav\n",
      "\n",
      "name ://www.junglebreaks.co.uk/breaks/worm.wav\n",
      "\n"
     ]
    }
   ],
   "source": [
    "download_all('http://www.junglebreaks.co.uk/breaks', '.wav')"
   ]
  },
  {
   "cell_type": "code",
   "execution_count": 107,
   "metadata": {},
   "outputs": [],
   "source": [
    "links, names = f"
   ]
  },
  {
   "cell_type": "code",
   "execution_count": 108,
   "metadata": {},
   "outputs": [
    {
     "data": {
      "text/plain": [
       "['https://samples.kb6.de/downloads.php/hfiehhwodwcnsjdcnsk/[KB6]_Acetone_Rhythm-Ace.rar',\n",
       " 'https://samples.kb6.de/downloads.php/hfiehhwodwcnsjdcnsk/[KB6]_Acetone_Rhythm-King.rar',\n",
       " 'https://samples.kb6.de/downloads.php/hfiehhwodwcnsjdcnsk/[KB6]_Acetone_Rhythm-Master.rar',\n",
       " 'https://samples.kb6.de/downloads.php/hfiehhwodwcnsjdcnsk/[KB6]_AcidLab_Miami.rar',\n",
       " 'https://samples.kb6.de/downloads.php/hfiehhwodwcnsjdcnsk/[KB6]_Akai_MPC2000.rar',\n",
       " 'https://samples.kb6.de/downloads.php/hfiehhwodwcnsjdcnsk/[KB6]_Akai_XE8.rar',\n",
       " 'https://samples.kb6.de/downloads.php/hfiehhwodwcnsjdcnsk/[KB6]_Alesis_HR16A.rar',\n",
       " 'https://samples.kb6.de/downloads.php/hfiehhwodwcnsjdcnsk/[KB6]_ARP_Axxe.rar',\n",
       " 'https://samples.kb6.de/downloads.php/hfiehhwodwcnsjdcnsk/[KB6]_Austin_ARB-6.rar',\n",
       " 'https://samples.kb6.de/downloads.php/hfiehhwodwcnsjdcnsk/[KB6]_BME_Rattlesnake.rar',\n",
       " 'https://samples.kb6.de/downloads.php/hfiehhwodwcnsjdcnsk/[KB6]_Bontempi_HF222.rar',\n",
       " 'https://samples.kb6.de/downloads.php/hfiehhwodwcnsjdcnsk/[KB6]_Casio_CZ-230S.rar',\n",
       " 'https://samples.kb6.de/downloads.php/hfiehhwodwcnsjdcnsk/[KB6]_Casio_HT-700.rar',\n",
       " 'https://samples.kb6.de/downloads.php/hfiehhwodwcnsjdcnsk/[KB6]_Casio_MA-101.rar',\n",
       " 'https://samples.kb6.de/downloads.php/hfiehhwodwcnsjdcnsk/[KB6]_Casio_RZ1.rar',\n",
       " 'https://samples.kb6.de/downloads.php/hfiehhwodwcnsjdcnsk/[KB6]_Casio_SA-10.rar',\n",
       " 'https://samples.kb6.de/downloads.php/hfiehhwodwcnsjdcnsk/[KB6]_Casio_SK1.rar',\n",
       " 'https://samples.kb6.de/downloads.php/hfiehhwodwcnsjdcnsk/[KB6]_Casio_SK5.rar',\n",
       " 'https://samples.kb6.de/downloads.php/hfiehhwodwcnsjdcnsk/[KB6]_Casio_MT-18.rar',\n",
       " 'https://samples.kb6.de/downloads.php/hfiehhwodwcnsjdcnsk/[KB6]_Casio_MT-100.rar',\n",
       " 'https://samples.kb6.de/downloads.php/hfiehhwodwcnsjdcnsk/[KB6]_Casio_MT-500.rar',\n",
       " 'https://samples.kb6.de/downloads.php/hfiehhwodwcnsjdcnsk/[KB6]_Casio_MT-800.rar',\n",
       " 'https://samples.kb6.de/downloads.php/hfiehhwodwcnsjdcnsk/[KB6]_Casio_PT-82.rar',\n",
       " 'https://samples.kb6.de/downloads.php/hfiehhwodwcnsjdcnsk/[KB6]_Casio_Rapman.rar',\n",
       " 'https://samples.kb6.de/downloads.php/hfiehhwodwcnsjdcnsk/[KB6]_Casio_Rapman-II.rar',\n",
       " 'https://samples.kb6.de/downloads.php/hfiehhwodwcnsjdcnsk/[KB6]_Chaser_PR-80.rar',\n",
       " 'https://samples.kb6.de/downloads.php/hfiehhwodwcnsjdcnsk/[KB6]_Cheetah_MD16.rar',\n",
       " 'https://samples.kb6.de/downloads.php/hfiehhwodwcnsjdcnsk/[KB6]_Cheetah_SpecDrum.rar',\n",
       " 'https://samples.kb6.de/downloads.php/hfiehhwodwcnsjdcnsk/[KB6]_Clavia_Nord-Drum.rar',\n",
       " 'https://samples.kb6.de/downloads.php/hfiehhwodwcnsjdcnsk/[KB6]_Coron_Drum-Synce_DS-7.rar',\n",
       " 'https://samples.kb6.de/downloads.php/hfiehhwodwcnsjdcnsk/[KB6]_Daytone_Drum-Synthe-RDS.rar',\n",
       " 'https://samples.kb6.de/downloads.php/hfiehhwodwcnsjdcnsk/[KB6]_DeepSky_Drumbox.rar',\n",
       " 'https://samples.kb6.de/downloads.php/hfiehhwodwcnsjdcnsk/[KB6]_Denon_CRB-90.rar',\n",
       " 'https://samples.kb6.de/downloads.php/hfiehhwodwcnsjdcnsk/[KB6]_Digitech_RP200.rar',\n",
       " 'https://samples.kb6.de/downloads.php/hfiehhwodwcnsjdcnsk/[KB6]_DrBoehm_S-78.rar',\n",
       " 'https://samples.kb6.de/downloads.php/hfiehhwodwcnsjdcnsk/[KB6]_Drumfire_DF-500.rar',\n",
       " 'https://samples.kb6.de/downloads.php/hfiehhwodwcnsjdcnsk/[KB6]_EKO_MusicBox-12.rar',\n",
       " 'https://samples.kb6.de/downloads.php/hfiehhwodwcnsjdcnsk/[KB6]_EKO_Ritmo20.rar',\n",
       " 'https://samples.kb6.de/downloads.php/hfiehhwodwcnsjdcnsk/[KB6]_Electro-Harmonix_DRM-15.rar',\n",
       " 'https://samples.kb6.de/downloads.php/hfiehhwodwcnsjdcnsk/[KB6]_Electro-Harmonix_DRM-16.rar',\n",
       " 'https://samples.kb6.de/downloads.php/hfiehhwodwcnsjdcnsk/[KB6]_Electro-Harmonix_DRM-32.rar',\n",
       " 'https://samples.kb6.de/downloads.php/hfiehhwodwcnsjdcnsk/[KB6]_Elka_Drumstar-80.rar',\n",
       " 'https://samples.kb6.de/downloads.php/hfiehhwodwcnsjdcnsk/[KB6]_EMU_E-Drum.rar',\n",
       " 'https://samples.kb6.de/downloads.php/hfiehhwodwcnsjdcnsk/[KB6]_EMU_Proteus1.rar',\n",
       " 'https://samples.kb6.de/downloads.php/hfiehhwodwcnsjdcnsk/[KB6]_EMU_Proteus3.rar',\n",
       " 'https://samples.kb6.de/downloads.php/hfiehhwodwcnsjdcnsk/[KB6]_EMU_SP-12.rar',\n",
       " 'https://samples.kb6.de/downloads.php/hfiehhwodwcnsjdcnsk/[KB6]_Ensoniq_ASR-X.rar',\n",
       " 'https://samples.kb6.de/downloads.php/hfiehhwodwcnsjdcnsk/[KB6]_Ensoniq_EPS.rar',\n",
       " 'https://samples.kb6.de/downloads.php/hfiehhwodwcnsjdcnsk/[KB6]_Ensoniq_Mirage.rar',\n",
       " 'https://samples.kb6.de/downloads.php/hfiehhwodwcnsjdcnsk/[KB6]_Estradin_Pulsar.rar',\n",
       " 'https://samples.kb6.de/downloads.php/hfiehhwodwcnsjdcnsk/[KB6]_Forat_F-9000.rar',\n",
       " 'https://samples.kb6.de/downloads.php/hfiehhwodwcnsjdcnsk/[KB6]_Fricke_MFB_301.rar',\n",
       " 'https://samples.kb6.de/downloads.php/hfiehhwodwcnsjdcnsk/[KB6]_Fricke_MFB_501.rar',\n",
       " 'https://samples.kb6.de/downloads.php/hfiehhwodwcnsjdcnsk/[KB6]_Fricke_MFB_512.rar',\n",
       " 'https://samples.kb6.de/downloads.php/hfiehhwodwcnsjdcnsk/[KB6]_Fricke_MFB_712.rar',\n",
       " 'https://samples.kb6.de/downloads.php/hfiehhwodwcnsjdcnsk/[KB6]_GEM_Drum15.rar',\n",
       " 'https://samples.kb6.de/downloads.php/hfiehhwodwcnsjdcnsk/[KB6]_Hammond_Auto-Vari64.rar',\n",
       " 'https://samples.kb6.de/downloads.php/hfiehhwodwcnsjdcnsk/[KB6]_Hammond_Rhythm2.rar',\n",
       " 'https://samples.kb6.de/downloads.php/hfiehhwodwcnsjdcnsk/[KB6]_Hing-Hon_EK001.rar',\n",
       " 'https://samples.kb6.de/downloads.php/hfiehhwodwcnsjdcnsk/[KB6]_Jomox_Mbase01.rar',\n",
       " 'https://samples.kb6.de/downloads.php/hfiehhwodwcnsjdcnsk/[KB6]_Kawai_ACR20.rar',\n",
       " 'https://samples.kb6.de/downloads.php/hfiehhwodwcnsjdcnsk/[KB6]_Kawai_K1.rar',\n",
       " 'https://samples.kb6.de/downloads.php/hfiehhwodwcnsjdcnsk/[KB6]_Kawai_R-50.rar',\n",
       " 'https://samples.kb6.de/downloads.php/hfiehhwodwcnsjdcnsk/[KB6]_Kawai_R-50e.rar',\n",
       " 'https://samples.kb6.de/downloads.php/hfiehhwodwcnsjdcnsk/[KB6]_Kawai_R-100.rar',\n",
       " 'https://samples.kb6.de/downloads.php/hfiehhwodwcnsjdcnsk/[KB6]_Kawai_SX-240.rar',\n",
       " 'https://samples.kb6.de/downloads.php/hfiehhwodwcnsjdcnsk/[KB6]_Kawai_XD-5.rar',\n",
       " 'https://samples.kb6.de/downloads.php/hfiehhwodwcnsjdcnsk/[KB6]_Kay_DRM1.rar',\n",
       " 'https://samples.kb6.de/downloads.php/hfiehhwodwcnsjdcnsk/[KB6]_Kay_R8.rar',\n",
       " 'https://samples.kb6.de/downloads.php/hfiehhwodwcnsjdcnsk/[KB6]_Keio_Checkmate.rar',\n",
       " 'https://samples.kb6.de/downloads.php/hfiehhwodwcnsjdcnsk/[KB6]_Ketron_SD-5.rar',\n",
       " 'https://samples.kb6.de/downloads.php/hfiehhwodwcnsjdcnsk/[KB6]_Korg_DDD-1.rar',\n",
       " 'https://samples.kb6.de/downloads.php/hfiehhwodwcnsjdcnsk/[KB6]_Korg_DDM110.rar',\n",
       " 'https://samples.kb6.de/downloads.php/hfiehhwodwcnsjdcnsk/[KB6]_Korg_DDM220.rar',\n",
       " 'https://samples.kb6.de/downloads.php/hfiehhwodwcnsjdcnsk/[KB6]_Korg_DRM-1.rar',\n",
       " 'https://samples.kb6.de/downloads.php/hfiehhwodwcnsjdcnsk/[KB6]_Korg_KPR77.rar',\n",
       " 'https://samples.kb6.de/downloads.php/hfiehhwodwcnsjdcnsk/[KB6]_Korg_KR-33.rar',\n",
       " 'https://samples.kb6.de/downloads.php/hfiehhwodwcnsjdcnsk/[KB6]_Korg_KR55.rar',\n",
       " 'https://samples.kb6.de/downloads.php/hfiehhwodwcnsjdcnsk/[KB6]_Korg_KR-Mini.rar',\n",
       " 'https://samples.kb6.de/downloads.php/hfiehhwodwcnsjdcnsk/[KB6]_Korg_Minipops.rar',\n",
       " 'https://samples.kb6.de/downloads.php/hfiehhwodwcnsjdcnsk/[KB6]_Korg_MP7.rar',\n",
       " 'https://samples.kb6.de/downloads.php/hfiehhwodwcnsjdcnsk/[KB6]_Korg_Prophecy.rar',\n",
       " 'https://samples.kb6.de/downloads.php/hfiehhwodwcnsjdcnsk/[KB6]_Korg_ProWave.rar',\n",
       " 'https://samples.kb6.de/downloads.php/hfiehhwodwcnsjdcnsk/[KB6]_Korg_PSS-50.rar',\n",
       " 'https://samples.kb6.de/downloads.php/hfiehhwodwcnsjdcnsk/[KB6]_Korg_Radias.rar',\n",
       " 'https://samples.kb6.de/downloads.php/hfiehhwodwcnsjdcnsk/[KB6]_Korg_SR-120.rar',\n",
       " 'https://samples.kb6.de/downloads.php/hfiehhwodwcnsjdcnsk/[KB6]_Korg_T1.rar',\n",
       " 'https://samples.kb6.de/downloads.php/hfiehhwodwcnsjdcnsk/[KB6]_Korg_T3.rar',\n",
       " 'https://samples.kb6.de/downloads.php/hfiehhwodwcnsjdcnsk/[KB6]_Kurzweil_K2000.rar',\n",
       " 'https://samples.kb6.de/downloads.php/hfiehhwodwcnsjdcnsk/[KB6]_Lel_PSR.rar',\n",
       " 'https://samples.kb6.de/downloads.php/hfiehhwodwcnsjdcnsk/[KB6]_Linn_AdrenaLinn1.rar',\n",
       " 'https://samples.kb6.de/downloads.php/hfiehhwodwcnsjdcnsk/[KB6]_Linn_LM-1.rar',\n",
       " 'https://samples.kb6.de/downloads.php/hfiehhwodwcnsjdcnsk/[KB6]_Maestro_G2.rar',\n",
       " 'https://samples.kb6.de/downloads.php/hfiehhwodwcnsjdcnsk/[KB6]_Mattel_Electronics_Synsonics_DRM.rar',\n",
       " 'https://samples.kb6.de/downloads.php/hfiehhwodwcnsjdcnsk/[KB6]_Moog_Modular55.rar',\n",
       " 'https://samples.kb6.de/downloads.php/hfiehhwodwcnsjdcnsk/[KB6]_Moog_Voyager.rar',\n",
       " 'https://samples.kb6.de/downloads.php/hfiehhwodwcnsjdcnsk/[KB6]_MPC-Electronics_The-KIT.rar',\n",
       " 'https://samples.kb6.de/downloads.php/hfiehhwodwcnsjdcnsk/[KB6]_MSC_DL-909.rar',\n",
       " 'https://samples.kb6.de/downloads.php/hfiehhwodwcnsjdcnsk/[KB6]_MTI_AO-1.rar',\n",
       " 'https://samples.kb6.de/downloads.php/hfiehhwodwcnsjdcnsk/[KB6]_MXR_185.rar',\n",
       " 'https://samples.kb6.de/downloads.php/hfiehhwodwcnsjdcnsk/[KB6]_Nasta_Hit-Stix2.rar',\n",
       " 'https://samples.kb6.de/downloads.php/hfiehhwodwcnsjdcnsk/[KB6]_Nintendo_Game-Boy-Advance-SP.rar',\n",
       " 'https://samples.kb6.de/downloads.php/hfiehhwodwcnsjdcnsk/[KB6]_Novation_Bass-Station-2.rar',\n",
       " 'https://samples.kb6.de/downloads.php/hfiehhwodwcnsjdcnsk/[KB6]_Panasonic_RD-9844.rar',\n",
       " 'https://samples.kb6.de/downloads.php/hfiehhwodwcnsjdcnsk/[KB6]_Pearl_DRX-1.rar',\n",
       " 'https://samples.kb6.de/downloads.php/hfiehhwodwcnsjdcnsk/[KB6]_Rhodes_Polaris.rar',\n",
       " 'https://samples.kb6.de/downloads.php/hfiehhwodwcnsjdcnsk/[KB6]_RSF_DD-30.rar',\n",
       " 'https://samples.kb6.de/downloads.php/hfiehhwodwcnsjdcnsk/[KB6]_Sakata_DPM48.rar',\n",
       " 'https://samples.kb6.de/downloads.php/hfiehhwodwcnsjdcnsk/[KB6]_SequentialCircuits_Drumtraks.rar',\n",
       " 'https://samples.kb6.de/downloads.php/hfiehhwodwcnsjdcnsk/[KB6]_Sequential_Circuits_Studio-440.rar',\n",
       " 'https://samples.kb6.de/downloads.php/hfiehhwodwcnsjdcnsk/[KB6]_SequentialCircuits_Tom.rar',\n",
       " 'https://samples.kb6.de/downloads.php/hfiehhwodwcnsjdcnsk/[KB6]_Serge_Modular.rar',\n",
       " 'https://samples.kb6.de/downloads.php/hfiehhwodwcnsjdcnsk/[KB6]_Simmons_ClapTrap.rar',\n",
       " 'https://samples.kb6.de/downloads.php/hfiehhwodwcnsjdcnsk/[KB6]_Simmons_SDS1000.rar',\n",
       " 'https://samples.kb6.de/downloads.php/hfiehhwodwcnsjdcnsk/[KB6]_Simmons_SDS200.rar',\n",
       " 'https://samples.kb6.de/downloads.php/hfiehhwodwcnsjdcnsk/[KB6]_Simmons_SDS2000.rar',\n",
       " 'https://samples.kb6.de/downloads.php/hfiehhwodwcnsjdcnsk/[KB6]_Simmons_SDS7.rar',\n",
       " 'https://samples.kb6.de/downloads.php/hfiehhwodwcnsjdcnsk/[KB6]_Solton_Disco-64.rar',\n",
       " 'https://samples.kb6.de/downloads.php/hfiehhwodwcnsjdcnsk/[KB6]_Sony_DRP-1.rar',\n",
       " 'https://samples.kb6.de/downloads.php/hfiehhwodwcnsjdcnsk/[KB6]_SoundMaster_SR88.rar',\n",
       " 'https://samples.kb6.de/downloads.php/hfiehhwodwcnsjdcnsk/[KB6]_SoundMaster_Stix_ST-305.rar',\n",
       " 'https://samples.kb6.de/downloads.php/hfiehhwodwcnsjdcnsk/[KB6]_SRB_600.rar',\n",
       " 'https://samples.kb6.de/downloads.php/hfiehhwodwcnsjdcnsk/[KB6]_Star-Instruments_Synare-PS-1.rar',\n",
       " 'https://samples.kb6.de/downloads.php/hfiehhwodwcnsjdcnsk/[KB6]_Stylophone_Beatbox.rar',\n",
       " 'https://samples.kb6.de/downloads.php/hfiehhwodwcnsjdcnsk/[KB6]_Syncussion_Zapp.rar',\n",
       " 'https://samples.kb6.de/downloads.php/hfiehhwodwcnsjdcnsk/[KB6]_Tama_RockStar.rar',\n",
       " 'https://samples.kb6.de/downloads.php/hfiehhwodwcnsjdcnsk/[KB6]_Tama_TS-500.rar',\n",
       " 'https://samples.kb6.de/downloads.php/hfiehhwodwcnsjdcnsk/[KB6]_Technics_AX5.rar',\n",
       " 'https://samples.kb6.de/downloads.php/hfiehhwodwcnsjdcnsk/[KB6]_Technics_PCM_DP50.rar',\n",
       " 'https://samples.kb6.de/downloads.php/hfiehhwodwcnsjdcnsk/[KB6]_Technics_U90.rar',\n",
       " 'https://samples.kb6.de/downloads.php/hfiehhwodwcnsjdcnsk/[KB6]_Teenage-Engineering_PO-12.rar',\n",
       " 'https://samples.kb6.de/downloads.php/hfiehhwodwcnsjdcnsk/[KB6]_Vermona_DRM1.rar',\n",
       " 'https://samples.kb6.de/downloads.php/hfiehhwodwcnsjdcnsk/[KB6]_Video-Tech_Rythmic10.rar',\n",
       " 'https://samples.kb6.de/downloads.php/hfiehhwodwcnsjdcnsk/[KB6]_Visco_Space_Drum.rar',\n",
       " 'https://samples.kb6.de/downloads.php/hfiehhwodwcnsjdcnsk/[KB6]_Watford-Electronics_Rhythm-Generator.rar',\n",
       " 'https://samples.kb6.de/downloads.php/hfiehhwodwcnsjdcnsk/[KB6]_Wersi_Prisma-DX5.rar',\n",
       " 'https://samples.kb6.de/downloads.php/hfiehhwodwcnsjdcnsk/[KB6]_Wiard_300-Series-Modular.rar',\n",
       " 'https://samples.kb6.de/downloads.php/hfiehhwodwcnsjdcnsk/[KB6]_Wurlitzer_Swinging-Rhythm.rar',\n",
       " 'https://samples.kb6.de/downloads.php/hfiehhwodwcnsjdcnsk/[KB6]_Yamaha_AN200.rar',\n",
       " 'https://samples.kb6.de/downloads.php/hfiehhwodwcnsjdcnsk/[KB6]_Yamaha_CS15D.rar',\n",
       " 'https://samples.kb6.de/downloads.php/hfiehhwodwcnsjdcnsk/[KB6]_Yamaha_CS-40M.rar',\n",
       " 'https://samples.kb6.de/downloads.php/hfiehhwodwcnsjdcnsk/[KB6]_Yamaha_DD-5.rar',\n",
       " 'https://samples.kb6.de/downloads.php/hfiehhwodwcnsjdcnsk/[KB6]_Yamaha_DD-10.rar',\n",
       " 'https://samples.kb6.de/downloads.php/hfiehhwodwcnsjdcnsk/[KB6]_Yamaha_DD-11.rar',\n",
       " 'https://samples.kb6.de/downloads.php/hfiehhwodwcnsjdcnsk/[KB6]_Yamaha_DD-50.rar',\n",
       " 'https://samples.kb6.de/downloads.php/hfiehhwodwcnsjdcnsk/[KB6]_Yamaha_PTX8.rar',\n",
       " 'https://samples.kb6.de/downloads.php/hfiehhwodwcnsjdcnsk/[KB6]_Yamaha_RX-11.rar',\n",
       " 'https://samples.kb6.de/downloads.php/hfiehhwodwcnsjdcnsk/[KB6]_Yamaha_RX-21.rar',\n",
       " 'https://samples.kb6.de/downloads.php/hfiehhwodwcnsjdcnsk/[KB6]_Yamaha_RX-21L.rar',\n",
       " 'https://samples.kb6.de/downloads.php/hfiehhwodwcnsjdcnsk/[KB6]_Yamaha_RX-5.rar',\n",
       " 'https://samples.kb6.de/downloads.php/hfiehhwodwcnsjdcnsk/[KB6]_Yamaha_RX15.rar',\n",
       " 'https://samples.kb6.de/downloads.php/hfiehhwodwcnsjdcnsk/[KB6]_Yamaha_RX17.rar',\n",
       " 'https://samples.kb6.de/downloads.php/hfiehhwodwcnsjdcnsk/[KB6]_Yamaha_RX-120.rar',\n",
       " 'https://samples.kb6.de/downloads.php/hfiehhwodwcnsjdcnsk/[KB6]_Yamaha_SHS200.rar',\n",
       " 'https://samples.kb6.de/downloads.php/hfiehhwodwcnsjdcnsk/[KB6]_Yamaha_TX16W_Typhoon-OS.rar',\n",
       " 'https://samples.kb6.de/downloads.php/hfiehhwodwcnsjdcnsk/[KB6]_Yamaha_VSS-100.rar']"
      ]
     },
     "execution_count": 108,
     "metadata": {},
     "output_type": "execute_result"
    }
   ],
   "source": [
    "links"
   ]
  },
  {
   "cell_type": "code",
   "execution_count": 109,
   "metadata": {},
   "outputs": [
    {
     "data": {
      "text/plain": [
       "['hfiehhwodwcnsjdcnsk/[KB6]_Acetone_Rhythm-Ace.rar',\n",
       " 'hfiehhwodwcnsjdcnsk/[KB6]_Acetone_Rhythm-King.rar',\n",
       " 'hfiehhwodwcnsjdcnsk/[KB6]_Acetone_Rhythm-Master.rar',\n",
       " 'hfiehhwodwcnsjdcnsk/[KB6]_AcidLab_Miami.rar',\n",
       " 'hfiehhwodwcnsjdcnsk/[KB6]_Akai_MPC2000.rar',\n",
       " 'hfiehhwodwcnsjdcnsk/[KB6]_Akai_XE8.rar',\n",
       " 'hfiehhwodwcnsjdcnsk/[KB6]_Alesis_HR16A.rar',\n",
       " 'hfiehhwodwcnsjdcnsk/[KB6]_ARP_Axxe.rar',\n",
       " 'hfiehhwodwcnsjdcnsk/[KB6]_Austin_ARB-6.rar',\n",
       " 'hfiehhwodwcnsjdcnsk/[KB6]_BME_Rattlesnake.rar',\n",
       " 'hfiehhwodwcnsjdcnsk/[KB6]_Bontempi_HF222.rar',\n",
       " 'hfiehhwodwcnsjdcnsk/[KB6]_Casio_CZ-230S.rar',\n",
       " 'hfiehhwodwcnsjdcnsk/[KB6]_Casio_HT-700.rar',\n",
       " 'hfiehhwodwcnsjdcnsk/[KB6]_Casio_MA-101.rar',\n",
       " 'hfiehhwodwcnsjdcnsk/[KB6]_Casio_RZ1.rar',\n",
       " 'hfiehhwodwcnsjdcnsk/[KB6]_Casio_SA-10.rar',\n",
       " 'hfiehhwodwcnsjdcnsk/[KB6]_Casio_SK1.rar',\n",
       " 'hfiehhwodwcnsjdcnsk/[KB6]_Casio_SK5.rar',\n",
       " 'hfiehhwodwcnsjdcnsk/[KB6]_Casio_MT-18.rar',\n",
       " 'hfiehhwodwcnsjdcnsk/[KB6]_Casio_MT-100.rar',\n",
       " 'hfiehhwodwcnsjdcnsk/[KB6]_Casio_MT-500.rar',\n",
       " 'hfiehhwodwcnsjdcnsk/[KB6]_Casio_MT-800.rar',\n",
       " 'hfiehhwodwcnsjdcnsk/[KB6]_Casio_PT-82.rar',\n",
       " 'hfiehhwodwcnsjdcnsk/[KB6]_Casio_Rapman.rar',\n",
       " 'hfiehhwodwcnsjdcnsk/[KB6]_Casio_Rapman-II.rar',\n",
       " 'hfiehhwodwcnsjdcnsk/[KB6]_Chaser_PR-80.rar',\n",
       " 'hfiehhwodwcnsjdcnsk/[KB6]_Cheetah_MD16.rar',\n",
       " 'hfiehhwodwcnsjdcnsk/[KB6]_Cheetah_SpecDrum.rar',\n",
       " 'hfiehhwodwcnsjdcnsk/[KB6]_Clavia_Nord-Drum.rar',\n",
       " 'hfiehhwodwcnsjdcnsk/[KB6]_Coron_Drum-Synce_DS-7.rar',\n",
       " 'hfiehhwodwcnsjdcnsk/[KB6]_Daytone_Drum-Synthe-RDS.rar',\n",
       " 'hfiehhwodwcnsjdcnsk/[KB6]_DeepSky_Drumbox.rar',\n",
       " 'hfiehhwodwcnsjdcnsk/[KB6]_Denon_CRB-90.rar',\n",
       " 'hfiehhwodwcnsjdcnsk/[KB6]_Digitech_RP200.rar',\n",
       " 'hfiehhwodwcnsjdcnsk/[KB6]_DrBoehm_S-78.rar',\n",
       " 'hfiehhwodwcnsjdcnsk/[KB6]_Drumfire_DF-500.rar',\n",
       " 'hfiehhwodwcnsjdcnsk/[KB6]_EKO_MusicBox-12.rar',\n",
       " 'hfiehhwodwcnsjdcnsk/[KB6]_EKO_Ritmo20.rar',\n",
       " 'hfiehhwodwcnsjdcnsk/[KB6]_Electro-Harmonix_DRM-15.rar',\n",
       " 'hfiehhwodwcnsjdcnsk/[KB6]_Electro-Harmonix_DRM-16.rar',\n",
       " 'hfiehhwodwcnsjdcnsk/[KB6]_Electro-Harmonix_DRM-32.rar',\n",
       " 'hfiehhwodwcnsjdcnsk/[KB6]_Elka_Drumstar-80.rar',\n",
       " 'hfiehhwodwcnsjdcnsk/[KB6]_EMU_E-Drum.rar',\n",
       " 'hfiehhwodwcnsjdcnsk/[KB6]_EMU_Proteus1.rar',\n",
       " 'hfiehhwodwcnsjdcnsk/[KB6]_EMU_Proteus3.rar',\n",
       " 'hfiehhwodwcnsjdcnsk/[KB6]_EMU_SP-12.rar',\n",
       " 'hfiehhwodwcnsjdcnsk/[KB6]_Ensoniq_ASR-X.rar',\n",
       " 'hfiehhwodwcnsjdcnsk/[KB6]_Ensoniq_EPS.rar',\n",
       " 'hfiehhwodwcnsjdcnsk/[KB6]_Ensoniq_Mirage.rar',\n",
       " 'hfiehhwodwcnsjdcnsk/[KB6]_Estradin_Pulsar.rar',\n",
       " 'hfiehhwodwcnsjdcnsk/[KB6]_Forat_F-9000.rar',\n",
       " 'hfiehhwodwcnsjdcnsk/[KB6]_Fricke_MFB_301.rar',\n",
       " 'hfiehhwodwcnsjdcnsk/[KB6]_Fricke_MFB_501.rar',\n",
       " 'hfiehhwodwcnsjdcnsk/[KB6]_Fricke_MFB_512.rar',\n",
       " 'hfiehhwodwcnsjdcnsk/[KB6]_Fricke_MFB_712.rar',\n",
       " 'hfiehhwodwcnsjdcnsk/[KB6]_GEM_Drum15.rar',\n",
       " 'hfiehhwodwcnsjdcnsk/[KB6]_Hammond_Auto-Vari64.rar',\n",
       " 'hfiehhwodwcnsjdcnsk/[KB6]_Hammond_Rhythm2.rar',\n",
       " 'hfiehhwodwcnsjdcnsk/[KB6]_Hing-Hon_EK001.rar',\n",
       " 'hfiehhwodwcnsjdcnsk/[KB6]_Jomox_Mbase01.rar',\n",
       " 'hfiehhwodwcnsjdcnsk/[KB6]_Kawai_ACR20.rar',\n",
       " 'hfiehhwodwcnsjdcnsk/[KB6]_Kawai_K1.rar',\n",
       " 'hfiehhwodwcnsjdcnsk/[KB6]_Kawai_R-50.rar',\n",
       " 'hfiehhwodwcnsjdcnsk/[KB6]_Kawai_R-50e.rar',\n",
       " 'hfiehhwodwcnsjdcnsk/[KB6]_Kawai_R-100.rar',\n",
       " 'hfiehhwodwcnsjdcnsk/[KB6]_Kawai_SX-240.rar',\n",
       " 'hfiehhwodwcnsjdcnsk/[KB6]_Kawai_XD-5.rar',\n",
       " 'hfiehhwodwcnsjdcnsk/[KB6]_Kay_DRM1.rar',\n",
       " 'hfiehhwodwcnsjdcnsk/[KB6]_Kay_R8.rar',\n",
       " 'hfiehhwodwcnsjdcnsk/[KB6]_Keio_Checkmate.rar',\n",
       " 'hfiehhwodwcnsjdcnsk/[KB6]_Ketron_SD-5.rar',\n",
       " 'hfiehhwodwcnsjdcnsk/[KB6]_Korg_DDD-1.rar',\n",
       " 'hfiehhwodwcnsjdcnsk/[KB6]_Korg_DDM110.rar',\n",
       " 'hfiehhwodwcnsjdcnsk/[KB6]_Korg_DDM220.rar',\n",
       " 'hfiehhwodwcnsjdcnsk/[KB6]_Korg_DRM-1.rar',\n",
       " 'hfiehhwodwcnsjdcnsk/[KB6]_Korg_KPR77.rar',\n",
       " 'hfiehhwodwcnsjdcnsk/[KB6]_Korg_KR-33.rar',\n",
       " 'hfiehhwodwcnsjdcnsk/[KB6]_Korg_KR55.rar',\n",
       " 'hfiehhwodwcnsjdcnsk/[KB6]_Korg_KR-Mini.rar',\n",
       " 'hfiehhwodwcnsjdcnsk/[KB6]_Korg_Minipops.rar',\n",
       " 'hfiehhwodwcnsjdcnsk/[KB6]_Korg_MP7.rar',\n",
       " 'hfiehhwodwcnsjdcnsk/[KB6]_Korg_Prophecy.rar',\n",
       " 'hfiehhwodwcnsjdcnsk/[KB6]_Korg_ProWave.rar',\n",
       " 'hfiehhwodwcnsjdcnsk/[KB6]_Korg_PSS-50.rar',\n",
       " 'hfiehhwodwcnsjdcnsk/[KB6]_Korg_Radias.rar',\n",
       " 'hfiehhwodwcnsjdcnsk/[KB6]_Korg_SR-120.rar',\n",
       " 'hfiehhwodwcnsjdcnsk/[KB6]_Korg_T1.rar',\n",
       " 'hfiehhwodwcnsjdcnsk/[KB6]_Korg_T3.rar',\n",
       " 'hfiehhwodwcnsjdcnsk/[KB6]_Kurzweil_K2000.rar',\n",
       " 'hfiehhwodwcnsjdcnsk/[KB6]_Lel_PSR.rar',\n",
       " 'hfiehhwodwcnsjdcnsk/[KB6]_Linn_AdrenaLinn1.rar',\n",
       " 'hfiehhwodwcnsjdcnsk/[KB6]_Linn_LM-1.rar',\n",
       " 'hfiehhwodwcnsjdcnsk/[KB6]_Maestro_G2.rar',\n",
       " 'hfiehhwodwcnsjdcnsk/[KB6]_Mattel_Electronics_Synsonics_DRM.rar',\n",
       " 'hfiehhwodwcnsjdcnsk/[KB6]_Moog_Modular55.rar',\n",
       " 'hfiehhwodwcnsjdcnsk/[KB6]_Moog_Voyager.rar',\n",
       " 'hfiehhwodwcnsjdcnsk/[KB6]_MPC-Electronics_The-KIT.rar',\n",
       " 'hfiehhwodwcnsjdcnsk/[KB6]_MSC_DL-909.rar',\n",
       " 'hfiehhwodwcnsjdcnsk/[KB6]_MTI_AO-1.rar',\n",
       " 'hfiehhwodwcnsjdcnsk/[KB6]_MXR_185.rar',\n",
       " 'hfiehhwodwcnsjdcnsk/[KB6]_Nasta_Hit-Stix2.rar',\n",
       " 'hfiehhwodwcnsjdcnsk/[KB6]_Nintendo_Game-Boy-Advance-SP.rar',\n",
       " 'hfiehhwodwcnsjdcnsk/[KB6]_Novation_Bass-Station-2.rar',\n",
       " 'hfiehhwodwcnsjdcnsk/[KB6]_Panasonic_RD-9844.rar',\n",
       " 'hfiehhwodwcnsjdcnsk/[KB6]_Pearl_DRX-1.rar',\n",
       " 'hfiehhwodwcnsjdcnsk/[KB6]_Rhodes_Polaris.rar',\n",
       " 'hfiehhwodwcnsjdcnsk/[KB6]_RSF_DD-30.rar',\n",
       " 'hfiehhwodwcnsjdcnsk/[KB6]_Sakata_DPM48.rar',\n",
       " 'hfiehhwodwcnsjdcnsk/[KB6]_SequentialCircuits_Drumtraks.rar',\n",
       " 'hfiehhwodwcnsjdcnsk/[KB6]_Sequential_Circuits_Studio-440.rar',\n",
       " 'hfiehhwodwcnsjdcnsk/[KB6]_SequentialCircuits_Tom.rar',\n",
       " 'hfiehhwodwcnsjdcnsk/[KB6]_Serge_Modular.rar',\n",
       " 'hfiehhwodwcnsjdcnsk/[KB6]_Simmons_ClapTrap.rar',\n",
       " 'hfiehhwodwcnsjdcnsk/[KB6]_Simmons_SDS1000.rar',\n",
       " 'hfiehhwodwcnsjdcnsk/[KB6]_Simmons_SDS200.rar',\n",
       " 'hfiehhwodwcnsjdcnsk/[KB6]_Simmons_SDS2000.rar',\n",
       " 'hfiehhwodwcnsjdcnsk/[KB6]_Simmons_SDS7.rar',\n",
       " 'hfiehhwodwcnsjdcnsk/[KB6]_Solton_Disco-64.rar',\n",
       " 'hfiehhwodwcnsjdcnsk/[KB6]_Sony_DRP-1.rar',\n",
       " 'hfiehhwodwcnsjdcnsk/[KB6]_SoundMaster_SR88.rar',\n",
       " 'hfiehhwodwcnsjdcnsk/[KB6]_SoundMaster_Stix_ST-305.rar',\n",
       " 'hfiehhwodwcnsjdcnsk/[KB6]_SRB_600.rar',\n",
       " 'hfiehhwodwcnsjdcnsk/[KB6]_Star-Instruments_Synare-PS-1.rar',\n",
       " 'hfiehhwodwcnsjdcnsk/[KB6]_Stylophone_Beatbox.rar',\n",
       " 'hfiehhwodwcnsjdcnsk/[KB6]_Syncussion_Zapp.rar',\n",
       " 'hfiehhwodwcnsjdcnsk/[KB6]_Tama_RockStar.rar',\n",
       " 'hfiehhwodwcnsjdcnsk/[KB6]_Tama_TS-500.rar',\n",
       " 'hfiehhwodwcnsjdcnsk/[KB6]_Technics_AX5.rar',\n",
       " 'hfiehhwodwcnsjdcnsk/[KB6]_Technics_PCM_DP50.rar',\n",
       " 'hfiehhwodwcnsjdcnsk/[KB6]_Technics_U90.rar',\n",
       " 'hfiehhwodwcnsjdcnsk/[KB6]_Teenage-Engineering_PO-12.rar',\n",
       " 'hfiehhwodwcnsjdcnsk/[KB6]_Vermona_DRM1.rar',\n",
       " 'hfiehhwodwcnsjdcnsk/[KB6]_Video-Tech_Rythmic10.rar',\n",
       " 'hfiehhwodwcnsjdcnsk/[KB6]_Visco_Space_Drum.rar',\n",
       " 'hfiehhwodwcnsjdcnsk/[KB6]_Watford-Electronics_Rhythm-Generator.rar',\n",
       " 'hfiehhwodwcnsjdcnsk/[KB6]_Wersi_Prisma-DX5.rar',\n",
       " 'hfiehhwodwcnsjdcnsk/[KB6]_Wiard_300-Series-Modular.rar',\n",
       " 'hfiehhwodwcnsjdcnsk/[KB6]_Wurlitzer_Swinging-Rhythm.rar',\n",
       " 'hfiehhwodwcnsjdcnsk/[KB6]_Yamaha_AN200.rar',\n",
       " 'hfiehhwodwcnsjdcnsk/[KB6]_Yamaha_CS15D.rar',\n",
       " 'hfiehhwodwcnsjdcnsk/[KB6]_Yamaha_CS-40M.rar',\n",
       " 'hfiehhwodwcnsjdcnsk/[KB6]_Yamaha_DD-5.rar',\n",
       " 'hfiehhwodwcnsjdcnsk/[KB6]_Yamaha_DD-10.rar',\n",
       " 'hfiehhwodwcnsjdcnsk/[KB6]_Yamaha_DD-11.rar',\n",
       " 'hfiehhwodwcnsjdcnsk/[KB6]_Yamaha_DD-50.rar',\n",
       " 'hfiehhwodwcnsjdcnsk/[KB6]_Yamaha_PTX8.rar',\n",
       " 'hfiehhwodwcnsjdcnsk/[KB6]_Yamaha_RX-11.rar',\n",
       " 'hfiehhwodwcnsjdcnsk/[KB6]_Yamaha_RX-21.rar',\n",
       " 'hfiehhwodwcnsjdcnsk/[KB6]_Yamaha_RX-21L.rar',\n",
       " 'hfiehhwodwcnsjdcnsk/[KB6]_Yamaha_RX-5.rar',\n",
       " 'hfiehhwodwcnsjdcnsk/[KB6]_Yamaha_RX15.rar',\n",
       " 'hfiehhwodwcnsjdcnsk/[KB6]_Yamaha_RX17.rar',\n",
       " 'hfiehhwodwcnsjdcnsk/[KB6]_Yamaha_RX-120.rar',\n",
       " 'hfiehhwodwcnsjdcnsk/[KB6]_Yamaha_SHS200.rar',\n",
       " 'hfiehhwodwcnsjdcnsk/[KB6]_Yamaha_TX16W_Typhoon-OS.rar',\n",
       " 'hfiehhwodwcnsjdcnsk/[KB6]_Yamaha_VSS-100.rar']"
      ]
     },
     "execution_count": 109,
     "metadata": {},
     "output_type": "execute_result"
    }
   ],
   "source": [
    "names"
   ]
  },
  {
   "cell_type": "code",
   "execution_count": 101,
   "metadata": {},
   "outputs": [
    {
     "data": {
      "text/plain": [
       "(['https://samples.kb6.de/downloads.php/hfiehhwodwcnsjdcnsk/[KB6]_Acetone_Rhythm-Ace.rar\" title=\"Download free Ace Tone Rhythm Ace WAV Drum Samples',\n",
       "  'https://samples.kb6.de/downloads.php/hfiehhwodwcnsjdcnsk/[KB6]_Acetone_Rhythm-King.rar\" title=\"Download free Ace Tone Rhythm King WAV Drum Samples',\n",
       "  'https://samples.kb6.de/downloads.php/hfiehhwodwcnsjdcnsk/[KB6]_Acetone_Rhythm-Master.rar\" title=\"Download free Ace Tone Rhythm Master WAV Drum Samples',\n",
       "  'https://samples.kb6.de/downloads.php/hfiehhwodwcnsjdcnsk/[KB6]_AcidLab_Miami.rar\" title=\"Download free AcidLab Miami WAV Drum Samples',\n",
       "  'https://samples.kb6.de/downloads.php/hfiehhwodwcnsjdcnsk/[KB6]_Akai_MPC2000.rar\" title=\"Download free Akai MPC-2000 WAV Drum Samples',\n",
       "  'https://samples.kb6.de/downloads.php/hfiehhwodwcnsjdcnsk/[KB6]_Akai_XE8.rar\" title=\"Download free Akai XE-8 WAV Drum Samples',\n",
       "  'https://samples.kb6.de/downloads.php/hfiehhwodwcnsjdcnsk/[KB6]_Alesis_HR16A.rar\" title=\"Download free Alesis HR-16A WAV Drum Samples',\n",
       "  'https://samples.kb6.de/downloads.php/hfiehhwodwcnsjdcnsk/[KB6]_ARP_Axxe.rar\" title=\"Download free ARP Axxe WAV Drum Samples',\n",
       "  'https://samples.kb6.de/downloads.php/hfiehhwodwcnsjdcnsk/[KB6]_Austin_ARB-6.rar\" title=\"Download free Austin ARB-6 WAV Drum Samples',\n",
       "  'https://samples.kb6.de/downloads.php/hfiehhwodwcnsjdcnsk/[KB6]_BME_Rattlesnake.rar\" title=\"Download free BME Rattlesnake WAV Drum Samples',\n",
       "  'https://samples.kb6.de/downloads.php/hfiehhwodwcnsjdcnsk/[KB6]_Bontempi_HF222.rar\" title=\"Download free Bontempi HF222 WAV Drum Samples',\n",
       "  'https://samples.kb6.de/downloads.php/hfiehhwodwcnsjdcnsk/[KB6]_Casio_CZ-230S.rar\" title=\"Download free Casio CZ-230S WAV Drum Samples',\n",
       "  'https://samples.kb6.de/downloads.php/hfiehhwodwcnsjdcnsk/[KB6]_Casio_HT-700.rar\" title=\"Download free Casio HT-700 WAV Drum Samples',\n",
       "  'https://samples.kb6.de/downloads.php/hfiehhwodwcnsjdcnsk/[KB6]_Casio_MA-101.rar\" title=\"Download free Casio MA-101 WAV Drum Samples',\n",
       "  'https://samples.kb6.de/downloads.php/hfiehhwodwcnsjdcnsk/[KB6]_Casio_RZ1.rar\" title=\"Download free Casio RZ-1 WAV Drum Samples',\n",
       "  'https://samples.kb6.de/downloads.php/hfiehhwodwcnsjdcnsk/[KB6]_Casio_SA-10.rar\" title=\"Download free Casio SA-10 WAV Drum Samples',\n",
       "  'https://samples.kb6.de/downloads.php/hfiehhwodwcnsjdcnsk/[KB6]_Casio_SK1.rar\" title=\"Download free Casio SK-1 WAV Drum Samples',\n",
       "  'https://samples.kb6.de/downloads.php/hfiehhwodwcnsjdcnsk/[KB6]_Casio_SK5.rar\" title=\"Download free Casio SK-5 WAV Drum Samples',\n",
       "  'https://samples.kb6.de/downloads.php/hfiehhwodwcnsjdcnsk/[KB6]_Casio_MT-18.rar\" title=\"Download free Casio MT-18 WAV Drum Samples',\n",
       "  'https://samples.kb6.de/downloads.php/hfiehhwodwcnsjdcnsk/[KB6]_Casio_MT-100.rar\" title=\"Download free Casio MT-100 WAV Drum Samples',\n",
       "  'https://samples.kb6.de/downloads.php/hfiehhwodwcnsjdcnsk/[KB6]_Casio_MT-500.rar\" title=\"Download free Casio MT-500 WAV Drum Samples',\n",
       "  'https://samples.kb6.de/downloads.php/hfiehhwodwcnsjdcnsk/[KB6]_Casio_MT-800.rar\" title=\"Download free Casio MT-800 WAV Drum Samples',\n",
       "  'https://samples.kb6.de/downloads.php/hfiehhwodwcnsjdcnsk/[KB6]_Casio_PT-82.rar\" title=\"Download free Casio PT-82 WAV Drum Samples',\n",
       "  'https://samples.kb6.de/downloads.php/hfiehhwodwcnsjdcnsk/[KB6]_Casio_Rapman.rar\" title=\"Download free Casio Rapman WAV Drum Samples',\n",
       "  'https://samples.kb6.de/downloads.php/hfiehhwodwcnsjdcnsk/[KB6]_Casio_Rapman-II.rar\" title=\"Download free Casio Rapman-II WAV Drum Samples',\n",
       "  'https://samples.kb6.de/downloads.php/hfiehhwodwcnsjdcnsk/[KB6]_Chaser_PR-80.rar\" title=\"Download free Chaser PR-80 WAV Drum Samples',\n",
       "  'https://samples.kb6.de/downloads.php/hfiehhwodwcnsjdcnsk/[KB6]_Cheetah_MD16.rar\" title=\"Download free Cheetah MD-16 WAV Drum Samples',\n",
       "  'https://samples.kb6.de/downloads.php/hfiehhwodwcnsjdcnsk/[KB6]_Cheetah_SpecDrum.rar\" title=\"Download free Cheetah SpecDrum WAV Drum Samples',\n",
       "  'https://samples.kb6.de/downloads.php/hfiehhwodwcnsjdcnsk/[KB6]_Clavia_Nord-Drum.rar\" title=\"Download free Clavia Nord Drum WAV Drum Samples',\n",
       "  'https://samples.kb6.de/downloads.php/hfiehhwodwcnsjdcnsk/[KB6]_Coron_Drum-Synce_DS-7.rar\" title=\"Download free Coron Drum Synce DS-7 WAV Drum Samples',\n",
       "  'https://samples.kb6.de/downloads.php/hfiehhwodwcnsjdcnsk/[KB6]_Daytone_Drum-Synthe-RDS.rar\" title=\"Download free Daytone Drum-Synthe WAV Drum Samples',\n",
       "  'https://samples.kb6.de/downloads.php/hfiehhwodwcnsjdcnsk/[KB6]_DeepSky_Drumbox.rar\" title=\"Download free Deep Sky WAV Drum Samples',\n",
       "  'https://samples.kb6.de/downloads.php/hfiehhwodwcnsjdcnsk/[KB6]_Denon_CRB-90.rar\" title=\"Download free Denon CRB-90 WAV Drum Samples',\n",
       "  'https://samples.kb6.de/downloads.php/hfiehhwodwcnsjdcnsk/[KB6]_Digitech_RP200.rar\" title=\"Download free DigiTech RP-200 WAV Drum Samples',\n",
       "  'https://samples.kb6.de/downloads.php/hfiehhwodwcnsjdcnsk/[KB6]_DrBoehm_S-78.rar\" title=\"Download free Dr.Böhm S-78 WAV Drum Samples',\n",
       "  'https://samples.kb6.de/downloads.php/hfiehhwodwcnsjdcnsk/[KB6]_Drumfire_DF-500.rar\" title=\"Download free Drumfire DF-500 WAV Drum Samples',\n",
       "  'https://samples.kb6.de/downloads.php/hfiehhwodwcnsjdcnsk/[KB6]_EKO_MusicBox-12.rar\" title=\"Download free EKO Music Box 12 WAV Drum Samples',\n",
       "  'https://samples.kb6.de/downloads.php/hfiehhwodwcnsjdcnsk/[KB6]_EKO_Ritmo20.rar\" title=\"Download free EKO Ritmo 20 WAV Drum Samples',\n",
       "  'https://samples.kb6.de/downloads.php/hfiehhwodwcnsjdcnsk/[KB6]_Electro-Harmonix_DRM-15.rar\" title=\"Download free Electro Harmonix DRM-15 WAV Drum Samples',\n",
       "  'https://samples.kb6.de/downloads.php/hfiehhwodwcnsjdcnsk/[KB6]_Electro-Harmonix_DRM-16.rar\" title=\"Download free Electro Harmonix DRM-16 WAV Drum Samples',\n",
       "  'https://samples.kb6.de/downloads.php/hfiehhwodwcnsjdcnsk/[KB6]_Electro-Harmonix_DRM-32.rar\" title=\"Download free Electro Harmonix DRM-32 WAV Drum Samples',\n",
       "  'https://samples.kb6.de/downloads.php/hfiehhwodwcnsjdcnsk/[KB6]_Elka_Drumstar-80.rar\" title=\"Download free Elka Drumstar 80 WAV Drum Samples',\n",
       "  'https://samples.kb6.de/downloads.php/hfiehhwodwcnsjdcnsk/[KB6]_EMU_E-Drum.rar\" title=\"Download free EMU E-Drum WAV Drum Samples',\n",
       "  'https://samples.kb6.de/downloads.php/hfiehhwodwcnsjdcnsk/[KB6]_EMU_Proteus1.rar\" title=\"Download free EMU Proteus 1 WAV Drum Samples',\n",
       "  'https://samples.kb6.de/downloads.php/hfiehhwodwcnsjdcnsk/[KB6]_EMU_Proteus3.rar\" title=\"Download free EMU Proteus 3 WAV Drum Samples',\n",
       "  'https://samples.kb6.de/downloads.php/hfiehhwodwcnsjdcnsk/[KB6]_EMU_SP-12.rar\" title=\"Download free EMU SP-12 WAV Drum Samples',\n",
       "  'https://samples.kb6.de/downloads.php/hfiehhwodwcnsjdcnsk/[KB6]_Ensoniq_ASR-X.rar\" title=\"Download free Ensoniq ASR-X WAV Drum Samples',\n",
       "  'https://samples.kb6.de/downloads.php/hfiehhwodwcnsjdcnsk/[KB6]_Ensoniq_EPS.rar\" title=\"Download free Ensoniq EPS WAV Drum Samples',\n",
       "  'https://samples.kb6.de/downloads.php/hfiehhwodwcnsjdcnsk/[KB6]_Ensoniq_Mirage.rar\" title=\"Download free Ensoniq Mirage WAV Drum Samples',\n",
       "  'https://samples.kb6.de/downloads.php/hfiehhwodwcnsjdcnsk/[KB6]_Estradin_Pulsar.rar\" title=\"Download free Estradin Pulsar WAV Drum Samples',\n",
       "  'https://samples.kb6.de/downloads.php/hfiehhwodwcnsjdcnsk/[KB6]_Forat_F-9000.rar\" title=\"Download free Forat F-9000 WAV Drum Samples',\n",
       "  'https://samples.kb6.de/downloads.php/hfiehhwodwcnsjdcnsk/[KB6]_Fricke_MFB_301.rar\" title=\"Download free Fricke MFB-301 WAV Drum Samples',\n",
       "  'https://samples.kb6.de/downloads.php/hfiehhwodwcnsjdcnsk/[KB6]_Fricke_MFB_501.rar\" title=\"Download free Fricke MFB-501 WAV Drum Samples',\n",
       "  'https://samples.kb6.de/downloads.php/hfiehhwodwcnsjdcnsk/[KB6]_Fricke_MFB_512.rar\" title=\"Download free Fricke MFB-512 WAV Drum Samples',\n",
       "  'https://samples.kb6.de/downloads.php/hfiehhwodwcnsjdcnsk/[KB6]_Fricke_MFB_712.rar\" title=\"Download free Fricke MFB-712 WAV Drum Samples',\n",
       "  'https://samples.kb6.de/downloads.php/hfiehhwodwcnsjdcnsk/[KB6]_GEM_Drum15.rar\" title=\"Download free Fricke Gem Drum 15 WAV Drum Samples',\n",
       "  'https://samples.kb6.de/downloads.php/hfiehhwodwcnsjdcnsk/[KB6]_Hammond_Auto-Vari64.rar\" title=\"Download free Hammond Auto-Vari 64 WAV Drum Samples',\n",
       "  'https://samples.kb6.de/downloads.php/hfiehhwodwcnsjdcnsk/[KB6]_Hammond_Rhythm2.rar\" title=\"Download free Hammond Rhythm2 WAV Drum Samples',\n",
       "  'https://samples.kb6.de/downloads.php/hfiehhwodwcnsjdcnsk/[KB6]_Hing-Hon_EK001.rar\" title=\"Download free Hing Hon EK-001 WAV Drum Samples',\n",
       "  'https://samples.kb6.de/downloads.php/hfiehhwodwcnsjdcnsk/[KB6]_Jomox_Mbase01.rar\" title=\"Download free Jomox Mbase 01 WAV Drum Samples',\n",
       "  'https://samples.kb6.de/downloads.php/hfiehhwodwcnsjdcnsk/[KB6]_Kawai_ACR20.rar\" title=\"Download free Kawai ACR-20 WAV Drum Samples',\n",
       "  'https://samples.kb6.de/downloads.php/hfiehhwodwcnsjdcnsk/[KB6]_Kawai_K1.rar\" title=\"Download free Kawai K1 WAV Drum Samples',\n",
       "  'https://samples.kb6.de/downloads.php/hfiehhwodwcnsjdcnsk/[KB6]_Kawai_R-50.rar\" title=\"Download free Kawai R-50 WAV Drum Samples',\n",
       "  'https://samples.kb6.de/downloads.php/hfiehhwodwcnsjdcnsk/[KB6]_Kawai_R-50e.rar\" title=\"Download free Kawai R50e WAV Drum Samples',\n",
       "  'https://samples.kb6.de/downloads.php/hfiehhwodwcnsjdcnsk/[KB6]_Kawai_R-100.rar\" title=\"Download free Kawai R-100 WAV Drum Samples',\n",
       "  'https://samples.kb6.de/downloads.php/hfiehhwodwcnsjdcnsk/[KB6]_Kawai_SX-240.rar\" title=\"Download free Kawai SX-240 WAV Drum Samples',\n",
       "  'https://samples.kb6.de/downloads.php/hfiehhwodwcnsjdcnsk/[KB6]_Kawai_XD-5.rar\" title=\"Download free Kawai XD-5 WAV Drum Samples',\n",
       "  'https://samples.kb6.de/downloads.php/hfiehhwodwcnsjdcnsk/[KB6]_Kay_DRM1.rar\" title=\"Download free Kay DRM1 WAV Drum Samples',\n",
       "  'https://samples.kb6.de/downloads.php/hfiehhwodwcnsjdcnsk/[KB6]_Kay_R8.rar\" title=\"Download free Kay R8 WAV Drum Samples',\n",
       "  'https://samples.kb6.de/downloads.php/hfiehhwodwcnsjdcnsk/[KB6]_Keio_Checkmate.rar\" title=\"Download free Keio Checkmate WAV Drum Samples',\n",
       "  'https://samples.kb6.de/downloads.php/hfiehhwodwcnsjdcnsk/[KB6]_Ketron_SD-5.rar\" title=\"Download free Ketron SD-5 WAV Drum Samples',\n",
       "  'https://samples.kb6.de/downloads.php/hfiehhwodwcnsjdcnsk/[KB6]_Korg_DDD-1.rar\" title=\"Download free Korg DDD1 WAV Drum Samples',\n",
       "  'https://samples.kb6.de/downloads.php/hfiehhwodwcnsjdcnsk/[KB6]_Korg_DDM110.rar\" title=\"Download free Korg DDM-110 WAV Drum Samples',\n",
       "  'https://samples.kb6.de/downloads.php/hfiehhwodwcnsjdcnsk/[KB6]_Korg_DDM220.rar\" title=\"Download free Korg DDM-220 WAV Drum Samples',\n",
       "  'https://samples.kb6.de/downloads.php/hfiehhwodwcnsjdcnsk/[KB6]_Korg_DRM-1.rar\" title=\"Download free Korg DRM-1 WAV Drum Samples',\n",
       "  'https://samples.kb6.de/downloads.php/hfiehhwodwcnsjdcnsk/[KB6]_Korg_KPR77.rar\" title=\"Download free Korg KPR-77 WAV Drum Samples',\n",
       "  'https://samples.kb6.de/downloads.php/hfiehhwodwcnsjdcnsk/[KB6]_Korg_KR-33.rar\" title=\"Download free Korg KR-33 WAV Drum Samples',\n",
       "  'https://samples.kb6.de/downloads.php/hfiehhwodwcnsjdcnsk/[KB6]_Korg_KR55.rar\" title=\"Download free Korg KR-55 WAV Drum Samples',\n",
       "  'https://samples.kb6.de/downloads.php/hfiehhwodwcnsjdcnsk/[KB6]_Korg_KR-Mini.rar\" title=\"Download free Korg KR-Mini WAV Drum Samples',\n",
       "  'https://samples.kb6.de/downloads.php/hfiehhwodwcnsjdcnsk/[KB6]_Korg_Minipops.rar\" title=\"Download free Korg Minipops WAV Drum Samples',\n",
       "  'https://samples.kb6.de/downloads.php/hfiehhwodwcnsjdcnsk/[KB6]_Korg_MP7.rar\" title=\"Download free Korg MP-7 WAV Drum Samples',\n",
       "  'https://samples.kb6.de/downloads.php/hfiehhwodwcnsjdcnsk/[KB6]_Korg_Prophecy.rar\" title=\"Download free Korg Prophecy WAV Drum Samples',\n",
       "  'https://samples.kb6.de/downloads.php/hfiehhwodwcnsjdcnsk/[KB6]_Korg_ProWave.rar\" title=\"Download free Korg Pro-Wave WAV Drum Samples',\n",
       "  'https://samples.kb6.de/downloads.php/hfiehhwodwcnsjdcnsk/[KB6]_Korg_PSS-50.rar\" title=\"Download free Korg PSS-50 WAV Drum Samples',\n",
       "  'https://samples.kb6.de/downloads.php/hfiehhwodwcnsjdcnsk/[KB6]_Korg_Radias.rar\" title=\"Download free Korg Radias WAV Drum Samples',\n",
       "  'https://samples.kb6.de/downloads.php/hfiehhwodwcnsjdcnsk/[KB6]_Korg_SR-120.rar\" title=\"Download free Korg SR-120 WAV Drum Samples',\n",
       "  'https://samples.kb6.de/downloads.php/hfiehhwodwcnsjdcnsk/[KB6]_Korg_T1.rar\" title=\"Download free Korg T1 WAV Drum Samples',\n",
       "  'https://samples.kb6.de/downloads.php/hfiehhwodwcnsjdcnsk/[KB6]_Korg_T3.rar\" title=\"Download free Korg T3 WAV Drum Samples',\n",
       "  'https://samples.kb6.de/downloads.php/hfiehhwodwcnsjdcnsk/[KB6]_Kurzweil_K2000.rar\" title=\"Download free Kurzweil K2000 WAV Drum Samples',\n",
       "  'https://samples.kb6.de/downloads.php/hfiehhwodwcnsjdcnsk/[KB6]_Lel_PSR.rar\" title=\"Download free Lel PSR WAV Drum Samples',\n",
       "  'https://samples.kb6.de/downloads.php/hfiehhwodwcnsjdcnsk/[KB6]_Linn_AdrenaLinn1.rar\" title=\"Download free Linn AdrenaLinn1 WAV Drum Samples',\n",
       "  'https://samples.kb6.de/downloads.php/hfiehhwodwcnsjdcnsk/[KB6]_Linn_LM-1.rar\" title=\"Download free Linn LM-1 WAV Drum Samples',\n",
       "  'https://samples.kb6.de/downloads.php/hfiehhwodwcnsjdcnsk/[KB6]_Maestro_G2.rar\" title=\"Download free Maestro G2 WAV Drum Samples',\n",
       "  'https://samples.kb6.de/downloads.php/hfiehhwodwcnsjdcnsk/[KB6]_Mattel_Electronics_Synsonics_DRM.rar\" title=\"Download free Mattell Synsonics WAV Drum Samples',\n",
       "  'https://samples.kb6.de/downloads.php/hfiehhwodwcnsjdcnsk/[KB6]_Moog_Modular55.rar\" title=\"Download free Moog Modular 55 WAV Drum Samples',\n",
       "  'https://samples.kb6.de/downloads.php/hfiehhwodwcnsjdcnsk/[KB6]_Moog_Voyager.rar\" title=\"Download free Moog Voyager WAV Drum Samples',\n",
       "  'https://samples.kb6.de/downloads.php/hfiehhwodwcnsjdcnsk/[KB6]_MPC-Electronics_The-KIT.rar\" title=\"Download free MPC Electronics The Kit WAV Drum Samples',\n",
       "  'https://samples.kb6.de/downloads.php/hfiehhwodwcnsjdcnsk/[KB6]_MSC_DL-909.rar\" title=\"Download free MSC DL-909 WAV Drum Samples',\n",
       "  'https://samples.kb6.de/downloads.php/hfiehhwodwcnsjdcnsk/[KB6]_MTI_AO-1.rar\" title=\"Download free MTI AO-1 WAV Drum Samples',\n",
       "  'https://samples.kb6.de/downloads.php/hfiehhwodwcnsjdcnsk/[KB6]_MXR_185.rar\" title=\"Download free MXR-185 WAV Drum Samples',\n",
       "  'https://samples.kb6.de/downloads.php/hfiehhwodwcnsjdcnsk/[KB6]_Nasta_Hit-Stix2.rar\" title=\"Download free Nasta Hit Stix 2 WAV Drum Samples',\n",
       "  'https://samples.kb6.de/downloads.php/hfiehhwodwcnsjdcnsk/[KB6]_Nintendo_Game-Boy-Advance-SP.rar\" title=\"Download free Nintendo GameBoy Advance SP WAV Drum Samples',\n",
       "  'https://samples.kb6.de/downloads.php/hfiehhwodwcnsjdcnsk/[KB6]_Novation_Bass-Station-2.rar\" title=\"Download free Novation Bass Station 2 WAV Drum Samples',\n",
       "  'https://samples.kb6.de/downloads.php/hfiehhwodwcnsjdcnsk/[KB6]_Panasonic_RD-9844.rar\" title=\"Download free Panasonic RD-9844 WAV Drum Samples',\n",
       "  'https://samples.kb6.de/downloads.php/hfiehhwodwcnsjdcnsk/[KB6]_Pearl_DRX-1.rar\" title=\"Download free Pearl DRX-1 WAV Drum Samples',\n",
       "  'https://samples.kb6.de/downloads.php/hfiehhwodwcnsjdcnsk/[KB6]_Rhodes_Polaris.rar\" title=\"Download free Rhodes Polaris WAV Drum Samples',\n",
       "  'https://samples.kb6.de/downloads.php/hfiehhwodwcnsjdcnsk/[KB6]_RSF_DD-30.rar\" title=\"Download free RSF DD-30 WAV Drum Samples',\n",
       "  'https://samples.kb6.de/downloads.php/hfiehhwodwcnsjdcnsk/[KB6]_Sakata_DPM48.rar\" title=\"Download free Sakata DPM-48 WAV Drum Samples',\n",
       "  'https://samples.kb6.de/downloads.php/hfiehhwodwcnsjdcnsk/[KB6]_SequentialCircuits_Drumtraks.rar\" title=\"Download free Sequential Circuits Drumtraks WAV Drum Samples',\n",
       "  'https://samples.kb6.de/downloads.php/hfiehhwodwcnsjdcnsk/[KB6]_Sequential_Circuits_Studio-440.rar\" title=\"Download free Sequential Circuits Studio 440 WAV Drum Samples',\n",
       "  'https://samples.kb6.de/downloads.php/hfiehhwodwcnsjdcnsk/[KB6]_SequentialCircuits_Tom.rar\" title=\"Download free Sequential Circuits Tom WAV Drum Samples',\n",
       "  'https://samples.kb6.de/downloads.php/hfiehhwodwcnsjdcnsk/[KB6]_Serge_Modular.rar\" title=\"Download free Serge Modular WAV Drum Samples',\n",
       "  'https://samples.kb6.de/downloads.php/hfiehhwodwcnsjdcnsk/[KB6]_Simmons_ClapTrap.rar\" title=\"Download free Simmons ClapTrap WAV Drum Samples',\n",
       "  'https://samples.kb6.de/downloads.php/hfiehhwodwcnsjdcnsk/[KB6]_Simmons_SDS1000.rar\" title=\"Download free Simmons SDS-1000 WAV Drum Samples',\n",
       "  'https://samples.kb6.de/downloads.php/hfiehhwodwcnsjdcnsk/[KB6]_Simmons_SDS200.rar\" title=\"Download free Simmons SDS-200 WAV Drum Samples',\n",
       "  'https://samples.kb6.de/downloads.php/hfiehhwodwcnsjdcnsk/[KB6]_Simmons_SDS2000.rar\" title=\"Download free Simmons SDS-2000 WAV Drum Samples',\n",
       "  'https://samples.kb6.de/downloads.php/hfiehhwodwcnsjdcnsk/[KB6]_Simmons_SDS7.rar\" title=\"Download free Simmons SDS-7 WAV Drum Samples',\n",
       "  'https://samples.kb6.de/downloads.php/hfiehhwodwcnsjdcnsk/[KB6]_Solton_Disco-64.rar\" title=\"Download free Solton Disco 64 WAV Drum Samples',\n",
       "  'https://samples.kb6.de/downloads.php/hfiehhwodwcnsjdcnsk/[KB6]_Sony_DRP-1.rar\" title=\"Download free Sony DRP-1 WAV Drum Samples',\n",
       "  'https://samples.kb6.de/downloads.php/hfiehhwodwcnsjdcnsk/[KB6]_SoundMaster_SR88.rar\" title=\"Download free Soundmaster SR-88 WAV Drum Samples',\n",
       "  'https://samples.kb6.de/downloads.php/hfiehhwodwcnsjdcnsk/[KB6]_SoundMaster_Stix_ST-305.rar\" title=\"Download free Soundmaster Stix ST-305 WAV Drum Samples',\n",
       "  'https://samples.kb6.de/downloads.php/hfiehhwodwcnsjdcnsk/[KB6]_SRB_600.rar\" title=\"Download free SRB 600 WAV Drum Samples',\n",
       "  'https://samples.kb6.de/downloads.php/hfiehhwodwcnsjdcnsk/[KB6]_Star-Instruments_Synare-PS-1.rar\" title=\"Download free Star Instruments Synare 1 WAV Drum Samples',\n",
       "  'https://samples.kb6.de/downloads.php/hfiehhwodwcnsjdcnsk/[KB6]_Stylophone_Beatbox.rar\" title=\"Download free Stylophone Beatbox WAV Drum Samples',\n",
       "  'https://samples.kb6.de/downloads.php/hfiehhwodwcnsjdcnsk/[KB6]_Syncussion_Zapp.rar\" title=\"Download free Syncussion Zapp WAV Drum Samples',\n",
       "  'https://samples.kb6.de/downloads.php/hfiehhwodwcnsjdcnsk/[KB6]_Tama_RockStar.rar\" title=\"Download free Tama Rock-Star WAV Drum Samples',\n",
       "  'https://samples.kb6.de/downloads.php/hfiehhwodwcnsjdcnsk/[KB6]_Tama_TS-500.rar\" title=\"Download free Tama TS-500 WAV Drum Samples',\n",
       "  'https://samples.kb6.de/downloads.php/hfiehhwodwcnsjdcnsk/[KB6]_Technics_AX5.rar\" title=\"Download free Technics AX-5 WAV Drum Samples',\n",
       "  'https://samples.kb6.de/downloads.php/hfiehhwodwcnsjdcnsk/[KB6]_Technics_PCM_DP50.rar\" title=\"Download free Technics PCM DP-50 WAV Drum Samples',\n",
       "  'https://samples.kb6.de/downloads.php/hfiehhwodwcnsjdcnsk/[KB6]_Technics_U90.rar\" title=\"Download free Technics U-90 WAV Drum Samples',\n",
       "  'https://samples.kb6.de/downloads.php/hfiehhwodwcnsjdcnsk/[KB6]_Teenage-Engineering_PO-12.rar\" title=\"Download free Teenage Engineering PO-12 WAV Drum Samples',\n",
       "  'https://samples.kb6.de/downloads.php/hfiehhwodwcnsjdcnsk/[KB6]_Vermona_DRM1.rar\" title=\"Download free Vermona DRM-1 WAV Drum Samples',\n",
       "  'https://samples.kb6.de/downloads.php/hfiehhwodwcnsjdcnsk/[KB6]_Video-Tech_Rythmic10.rar\" title=\"Download free Video Tech Rythmic 10 WAV Drum Samples',\n",
       "  'https://samples.kb6.de/downloads.php/hfiehhwodwcnsjdcnsk/[KB6]_Visco_Space_Drum.rar\" title=\"Download free Visco Space Drum WAV Drum Samples',\n",
       "  'https://samples.kb6.de/downloads.php/hfiehhwodwcnsjdcnsk/[KB6]_Watford-Electronics_Rhythm-Generator.rar\" title=\"Download free Watford WAV Drum Samples',\n",
       "  'https://samples.kb6.de/downloads.php/hfiehhwodwcnsjdcnsk/[KB6]_Wersi_Prisma-DX5.rar\" title=\"Download free Wersi Prisma DX5 WAV Drum Samples',\n",
       "  'https://samples.kb6.de/downloads.php/hfiehhwodwcnsjdcnsk/[KB6]_Wiard_300-Series-Modular.rar\" title=\"Download free Wiard 300 Series Modular WAV Drum Samples',\n",
       "  'https://samples.kb6.de/downloads.php/hfiehhwodwcnsjdcnsk/[KB6]_Wurlitzer_Swinging-Rhythm.rar\" title=\"Download free Wurlitzer WAV Drum Samples',\n",
       "  'https://samples.kb6.de/downloads.php/hfiehhwodwcnsjdcnsk/[KB6]_Yamaha_AN200.rar\" title=\"Download free Yamaha AN-200 WAV Drum Samples',\n",
       "  'https://samples.kb6.de/downloads.php/hfiehhwodwcnsjdcnsk/[KB6]_Yamaha_CS15D.rar\" title=\"Download free Yamaha CS-15D WAV Drum Samples',\n",
       "  'https://samples.kb6.de/downloads.php/hfiehhwodwcnsjdcnsk/[KB6]_Yamaha_CS-40M.rar\" title=\"Download free Yamaha CS-40M WAV Drum Samples',\n",
       "  'https://samples.kb6.de/downloads.php/hfiehhwodwcnsjdcnsk/[KB6]_Yamaha_DD-5.rar\" title=\"Download free Yamaha DD-5 WAV Drum Samples',\n",
       "  'https://samples.kb6.de/downloads.php/hfiehhwodwcnsjdcnsk/[KB6]_Yamaha_DD-10.rar\" title=\"Download free Yamaha DD-10 WAV Drum Samples',\n",
       "  'https://samples.kb6.de/downloads.php/hfiehhwodwcnsjdcnsk/[KB6]_Yamaha_DD-11.rar\" title=\"Download free Yamaha DD-11 WAV Drum Samples',\n",
       "  'https://samples.kb6.de/downloads.php/hfiehhwodwcnsjdcnsk/[KB6]_Yamaha_DD-50.rar\" title=\"Download free Yamaha DD-50 WAV Drum Samples',\n",
       "  'https://samples.kb6.de/downloads.php/hfiehhwodwcnsjdcnsk/[KB6]_Yamaha_PTX8.rar\" title=\"Download free Yamaha PTX-8 WAV Drum Samples',\n",
       "  'https://samples.kb6.de/downloads.php/hfiehhwodwcnsjdcnsk/[KB6]_Yamaha_RX-11.rar\" title=\"Download free Yamaha RX-11 WAV Drum Samples',\n",
       "  'https://samples.kb6.de/downloads.php/hfiehhwodwcnsjdcnsk/[KB6]_Yamaha_RX-21.rar\" title=\"Download free Yamaha RX-21 WAV Drum Samples',\n",
       "  'https://samples.kb6.de/downloads.php/hfiehhwodwcnsjdcnsk/[KB6]_Yamaha_RX-21L.rar\" title=\"Download free Yamaha RX-21L WAV Drum Samples',\n",
       "  'https://samples.kb6.de/downloads.php/hfiehhwodwcnsjdcnsk/[KB6]_Yamaha_RX-5.rar\" title=\"Download free Yamaha RX-5 WAV Drum Samples',\n",
       "  'https://samples.kb6.de/downloads.php/hfiehhwodwcnsjdcnsk/[KB6]_Yamaha_RX15.rar\" title=\"Download free Yamaha RX-15 WAV Drum Samples',\n",
       "  'https://samples.kb6.de/downloads.php/hfiehhwodwcnsjdcnsk/[KB6]_Yamaha_RX17.rar\" title=\"Download free Yamaha RX-17 WAV Drum Samples',\n",
       "  'https://samples.kb6.de/downloads.php/hfiehhwodwcnsjdcnsk/[KB6]_Yamaha_RX-120.rar\" title=\"Download free Yamaha RX-120 WAV Drum Samples',\n",
       "  'https://samples.kb6.de/downloads.php/hfiehhwodwcnsjdcnsk/[KB6]_Yamaha_SHS200.rar\" title=\"Download free Yamaha SHS-200 WAV Drum Samples',\n",
       "  'https://samples.kb6.de/downloads.php/hfiehhwodwcnsjdcnsk/[KB6]_Yamaha_TX16W_Typhoon-OS.rar\" title=\"Download free Yamaha TX-16W WAV Drum Samples',\n",
       "  'https://samples.kb6.de/downloads.php/hfiehhwodwcnsjdcnsk/[KB6]_Yamaha_VSS-100.rar\" title=\"Download free Yamaha VSS-100 WAV Drum Samples'],\n",
       " ['hfiehhwodwcnsjdcnsk/[KB6]_Acetone_Rhythm-Ace.rar\" title=\"Download free Ace Tone Rhythm Ace WAV Drum Samples',\n",
       "  'hfiehhwodwcnsjdcnsk/[KB6]_Acetone_Rhythm-King.rar\" title=\"Download free Ace Tone Rhythm King WAV Drum Samples',\n",
       "  'hfiehhwodwcnsjdcnsk/[KB6]_Acetone_Rhythm-Master.rar\" title=\"Download free Ace Tone Rhythm Master WAV Drum Samples',\n",
       "  'hfiehhwodwcnsjdcnsk/[KB6]_AcidLab_Miami.rar\" title=\"Download free AcidLab Miami WAV Drum Samples',\n",
       "  'hfiehhwodwcnsjdcnsk/[KB6]_Akai_MPC2000.rar\" title=\"Download free Akai MPC-2000 WAV Drum Samples',\n",
       "  'hfiehhwodwcnsjdcnsk/[KB6]_Akai_XE8.rar\" title=\"Download free Akai XE-8 WAV Drum Samples',\n",
       "  'hfiehhwodwcnsjdcnsk/[KB6]_Alesis_HR16A.rar\" title=\"Download free Alesis HR-16A WAV Drum Samples',\n",
       "  'hfiehhwodwcnsjdcnsk/[KB6]_ARP_Axxe.rar\" title=\"Download free ARP Axxe WAV Drum Samples',\n",
       "  'hfiehhwodwcnsjdcnsk/[KB6]_Austin_ARB-6.rar\" title=\"Download free Austin ARB-6 WAV Drum Samples',\n",
       "  'hfiehhwodwcnsjdcnsk/[KB6]_BME_Rattlesnake.rar\" title=\"Download free BME Rattlesnake WAV Drum Samples',\n",
       "  'hfiehhwodwcnsjdcnsk/[KB6]_Bontempi_HF222.rar\" title=\"Download free Bontempi HF222 WAV Drum Samples',\n",
       "  'hfiehhwodwcnsjdcnsk/[KB6]_Casio_CZ-230S.rar\" title=\"Download free Casio CZ-230S WAV Drum Samples',\n",
       "  'hfiehhwodwcnsjdcnsk/[KB6]_Casio_HT-700.rar\" title=\"Download free Casio HT-700 WAV Drum Samples',\n",
       "  'hfiehhwodwcnsjdcnsk/[KB6]_Casio_MA-101.rar\" title=\"Download free Casio MA-101 WAV Drum Samples',\n",
       "  'hfiehhwodwcnsjdcnsk/[KB6]_Casio_RZ1.rar\" title=\"Download free Casio RZ-1 WAV Drum Samples',\n",
       "  'hfiehhwodwcnsjdcnsk/[KB6]_Casio_SA-10.rar\" title=\"Download free Casio SA-10 WAV Drum Samples',\n",
       "  'hfiehhwodwcnsjdcnsk/[KB6]_Casio_SK1.rar\" title=\"Download free Casio SK-1 WAV Drum Samples',\n",
       "  'hfiehhwodwcnsjdcnsk/[KB6]_Casio_SK5.rar\" title=\"Download free Casio SK-5 WAV Drum Samples',\n",
       "  'hfiehhwodwcnsjdcnsk/[KB6]_Casio_MT-18.rar\" title=\"Download free Casio MT-18 WAV Drum Samples',\n",
       "  'hfiehhwodwcnsjdcnsk/[KB6]_Casio_MT-100.rar\" title=\"Download free Casio MT-100 WAV Drum Samples',\n",
       "  'hfiehhwodwcnsjdcnsk/[KB6]_Casio_MT-500.rar\" title=\"Download free Casio MT-500 WAV Drum Samples',\n",
       "  'hfiehhwodwcnsjdcnsk/[KB6]_Casio_MT-800.rar\" title=\"Download free Casio MT-800 WAV Drum Samples',\n",
       "  'hfiehhwodwcnsjdcnsk/[KB6]_Casio_PT-82.rar\" title=\"Download free Casio PT-82 WAV Drum Samples',\n",
       "  'hfiehhwodwcnsjdcnsk/[KB6]_Casio_Rapman.rar\" title=\"Download free Casio Rapman WAV Drum Samples',\n",
       "  'hfiehhwodwcnsjdcnsk/[KB6]_Casio_Rapman-II.rar\" title=\"Download free Casio Rapman-II WAV Drum Samples',\n",
       "  'hfiehhwodwcnsjdcnsk/[KB6]_Chaser_PR-80.rar\" title=\"Download free Chaser PR-80 WAV Drum Samples',\n",
       "  'hfiehhwodwcnsjdcnsk/[KB6]_Cheetah_MD16.rar\" title=\"Download free Cheetah MD-16 WAV Drum Samples',\n",
       "  'hfiehhwodwcnsjdcnsk/[KB6]_Cheetah_SpecDrum.rar\" title=\"Download free Cheetah SpecDrum WAV Drum Samples',\n",
       "  'hfiehhwodwcnsjdcnsk/[KB6]_Clavia_Nord-Drum.rar\" title=\"Download free Clavia Nord Drum WAV Drum Samples',\n",
       "  'hfiehhwodwcnsjdcnsk/[KB6]_Coron_Drum-Synce_DS-7.rar\" title=\"Download free Coron Drum Synce DS-7 WAV Drum Samples',\n",
       "  'hfiehhwodwcnsjdcnsk/[KB6]_Daytone_Drum-Synthe-RDS.rar\" title=\"Download free Daytone Drum-Synthe WAV Drum Samples',\n",
       "  'hfiehhwodwcnsjdcnsk/[KB6]_DeepSky_Drumbox.rar\" title=\"Download free Deep Sky WAV Drum Samples',\n",
       "  'hfiehhwodwcnsjdcnsk/[KB6]_Denon_CRB-90.rar\" title=\"Download free Denon CRB-90 WAV Drum Samples',\n",
       "  'hfiehhwodwcnsjdcnsk/[KB6]_Digitech_RP200.rar\" title=\"Download free DigiTech RP-200 WAV Drum Samples',\n",
       "  'hfiehhwodwcnsjdcnsk/[KB6]_DrBoehm_S-78.rar\" title=\"Download free Dr.Böhm S-78 WAV Drum Samples',\n",
       "  'hfiehhwodwcnsjdcnsk/[KB6]_Drumfire_DF-500.rar\" title=\"Download free Drumfire DF-500 WAV Drum Samples',\n",
       "  'hfiehhwodwcnsjdcnsk/[KB6]_EKO_MusicBox-12.rar\" title=\"Download free EKO Music Box 12 WAV Drum Samples',\n",
       "  'hfiehhwodwcnsjdcnsk/[KB6]_EKO_Ritmo20.rar\" title=\"Download free EKO Ritmo 20 WAV Drum Samples',\n",
       "  'hfiehhwodwcnsjdcnsk/[KB6]_Electro-Harmonix_DRM-15.rar\" title=\"Download free Electro Harmonix DRM-15 WAV Drum Samples',\n",
       "  'hfiehhwodwcnsjdcnsk/[KB6]_Electro-Harmonix_DRM-16.rar\" title=\"Download free Electro Harmonix DRM-16 WAV Drum Samples',\n",
       "  'hfiehhwodwcnsjdcnsk/[KB6]_Electro-Harmonix_DRM-32.rar\" title=\"Download free Electro Harmonix DRM-32 WAV Drum Samples',\n",
       "  'hfiehhwodwcnsjdcnsk/[KB6]_Elka_Drumstar-80.rar\" title=\"Download free Elka Drumstar 80 WAV Drum Samples',\n",
       "  'hfiehhwodwcnsjdcnsk/[KB6]_EMU_E-Drum.rar\" title=\"Download free EMU E-Drum WAV Drum Samples',\n",
       "  'hfiehhwodwcnsjdcnsk/[KB6]_EMU_Proteus1.rar\" title=\"Download free EMU Proteus 1 WAV Drum Samples',\n",
       "  'hfiehhwodwcnsjdcnsk/[KB6]_EMU_Proteus3.rar\" title=\"Download free EMU Proteus 3 WAV Drum Samples',\n",
       "  'hfiehhwodwcnsjdcnsk/[KB6]_EMU_SP-12.rar\" title=\"Download free EMU SP-12 WAV Drum Samples',\n",
       "  'hfiehhwodwcnsjdcnsk/[KB6]_Ensoniq_ASR-X.rar\" title=\"Download free Ensoniq ASR-X WAV Drum Samples',\n",
       "  'hfiehhwodwcnsjdcnsk/[KB6]_Ensoniq_EPS.rar\" title=\"Download free Ensoniq EPS WAV Drum Samples',\n",
       "  'hfiehhwodwcnsjdcnsk/[KB6]_Ensoniq_Mirage.rar\" title=\"Download free Ensoniq Mirage WAV Drum Samples',\n",
       "  'hfiehhwodwcnsjdcnsk/[KB6]_Estradin_Pulsar.rar\" title=\"Download free Estradin Pulsar WAV Drum Samples',\n",
       "  'hfiehhwodwcnsjdcnsk/[KB6]_Forat_F-9000.rar\" title=\"Download free Forat F-9000 WAV Drum Samples',\n",
       "  'hfiehhwodwcnsjdcnsk/[KB6]_Fricke_MFB_301.rar\" title=\"Download free Fricke MFB-301 WAV Drum Samples',\n",
       "  'hfiehhwodwcnsjdcnsk/[KB6]_Fricke_MFB_501.rar\" title=\"Download free Fricke MFB-501 WAV Drum Samples',\n",
       "  'hfiehhwodwcnsjdcnsk/[KB6]_Fricke_MFB_512.rar\" title=\"Download free Fricke MFB-512 WAV Drum Samples',\n",
       "  'hfiehhwodwcnsjdcnsk/[KB6]_Fricke_MFB_712.rar\" title=\"Download free Fricke MFB-712 WAV Drum Samples',\n",
       "  'hfiehhwodwcnsjdcnsk/[KB6]_GEM_Drum15.rar\" title=\"Download free Fricke Gem Drum 15 WAV Drum Samples',\n",
       "  'hfiehhwodwcnsjdcnsk/[KB6]_Hammond_Auto-Vari64.rar\" title=\"Download free Hammond Auto-Vari 64 WAV Drum Samples',\n",
       "  'hfiehhwodwcnsjdcnsk/[KB6]_Hammond_Rhythm2.rar\" title=\"Download free Hammond Rhythm2 WAV Drum Samples',\n",
       "  'hfiehhwodwcnsjdcnsk/[KB6]_Hing-Hon_EK001.rar\" title=\"Download free Hing Hon EK-001 WAV Drum Samples',\n",
       "  'hfiehhwodwcnsjdcnsk/[KB6]_Jomox_Mbase01.rar\" title=\"Download free Jomox Mbase 01 WAV Drum Samples',\n",
       "  'hfiehhwodwcnsjdcnsk/[KB6]_Kawai_ACR20.rar\" title=\"Download free Kawai ACR-20 WAV Drum Samples',\n",
       "  'hfiehhwodwcnsjdcnsk/[KB6]_Kawai_K1.rar\" title=\"Download free Kawai K1 WAV Drum Samples',\n",
       "  'hfiehhwodwcnsjdcnsk/[KB6]_Kawai_R-50.rar\" title=\"Download free Kawai R-50 WAV Drum Samples',\n",
       "  'hfiehhwodwcnsjdcnsk/[KB6]_Kawai_R-50e.rar\" title=\"Download free Kawai R50e WAV Drum Samples',\n",
       "  'hfiehhwodwcnsjdcnsk/[KB6]_Kawai_R-100.rar\" title=\"Download free Kawai R-100 WAV Drum Samples',\n",
       "  'hfiehhwodwcnsjdcnsk/[KB6]_Kawai_SX-240.rar\" title=\"Download free Kawai SX-240 WAV Drum Samples',\n",
       "  'hfiehhwodwcnsjdcnsk/[KB6]_Kawai_XD-5.rar\" title=\"Download free Kawai XD-5 WAV Drum Samples',\n",
       "  'hfiehhwodwcnsjdcnsk/[KB6]_Kay_DRM1.rar\" title=\"Download free Kay DRM1 WAV Drum Samples',\n",
       "  'hfiehhwodwcnsjdcnsk/[KB6]_Kay_R8.rar\" title=\"Download free Kay R8 WAV Drum Samples',\n",
       "  'hfiehhwodwcnsjdcnsk/[KB6]_Keio_Checkmate.rar\" title=\"Download free Keio Checkmate WAV Drum Samples',\n",
       "  'hfiehhwodwcnsjdcnsk/[KB6]_Ketron_SD-5.rar\" title=\"Download free Ketron SD-5 WAV Drum Samples',\n",
       "  'hfiehhwodwcnsjdcnsk/[KB6]_Korg_DDD-1.rar\" title=\"Download free Korg DDD1 WAV Drum Samples',\n",
       "  'hfiehhwodwcnsjdcnsk/[KB6]_Korg_DDM110.rar\" title=\"Download free Korg DDM-110 WAV Drum Samples',\n",
       "  'hfiehhwodwcnsjdcnsk/[KB6]_Korg_DDM220.rar\" title=\"Download free Korg DDM-220 WAV Drum Samples',\n",
       "  'hfiehhwodwcnsjdcnsk/[KB6]_Korg_DRM-1.rar\" title=\"Download free Korg DRM-1 WAV Drum Samples',\n",
       "  'hfiehhwodwcnsjdcnsk/[KB6]_Korg_KPR77.rar\" title=\"Download free Korg KPR-77 WAV Drum Samples',\n",
       "  'hfiehhwodwcnsjdcnsk/[KB6]_Korg_KR-33.rar\" title=\"Download free Korg KR-33 WAV Drum Samples',\n",
       "  'hfiehhwodwcnsjdcnsk/[KB6]_Korg_KR55.rar\" title=\"Download free Korg KR-55 WAV Drum Samples',\n",
       "  'hfiehhwodwcnsjdcnsk/[KB6]_Korg_KR-Mini.rar\" title=\"Download free Korg KR-Mini WAV Drum Samples',\n",
       "  'hfiehhwodwcnsjdcnsk/[KB6]_Korg_Minipops.rar\" title=\"Download free Korg Minipops WAV Drum Samples',\n",
       "  'hfiehhwodwcnsjdcnsk/[KB6]_Korg_MP7.rar\" title=\"Download free Korg MP-7 WAV Drum Samples',\n",
       "  'hfiehhwodwcnsjdcnsk/[KB6]_Korg_Prophecy.rar\" title=\"Download free Korg Prophecy WAV Drum Samples',\n",
       "  'hfiehhwodwcnsjdcnsk/[KB6]_Korg_ProWave.rar\" title=\"Download free Korg Pro-Wave WAV Drum Samples',\n",
       "  'hfiehhwodwcnsjdcnsk/[KB6]_Korg_PSS-50.rar\" title=\"Download free Korg PSS-50 WAV Drum Samples',\n",
       "  'hfiehhwodwcnsjdcnsk/[KB6]_Korg_Radias.rar\" title=\"Download free Korg Radias WAV Drum Samples',\n",
       "  'hfiehhwodwcnsjdcnsk/[KB6]_Korg_SR-120.rar\" title=\"Download free Korg SR-120 WAV Drum Samples',\n",
       "  'hfiehhwodwcnsjdcnsk/[KB6]_Korg_T1.rar\" title=\"Download free Korg T1 WAV Drum Samples',\n",
       "  'hfiehhwodwcnsjdcnsk/[KB6]_Korg_T3.rar\" title=\"Download free Korg T3 WAV Drum Samples',\n",
       "  'hfiehhwodwcnsjdcnsk/[KB6]_Kurzweil_K2000.rar\" title=\"Download free Kurzweil K2000 WAV Drum Samples',\n",
       "  'hfiehhwodwcnsjdcnsk/[KB6]_Lel_PSR.rar\" title=\"Download free Lel PSR WAV Drum Samples',\n",
       "  'hfiehhwodwcnsjdcnsk/[KB6]_Linn_AdrenaLinn1.rar\" title=\"Download free Linn AdrenaLinn1 WAV Drum Samples',\n",
       "  'hfiehhwodwcnsjdcnsk/[KB6]_Linn_LM-1.rar\" title=\"Download free Linn LM-1 WAV Drum Samples',\n",
       "  'hfiehhwodwcnsjdcnsk/[KB6]_Maestro_G2.rar\" title=\"Download free Maestro G2 WAV Drum Samples',\n",
       "  'hfiehhwodwcnsjdcnsk/[KB6]_Mattel_Electronics_Synsonics_DRM.rar\" title=\"Download free Mattell Synsonics WAV Drum Samples',\n",
       "  'hfiehhwodwcnsjdcnsk/[KB6]_Moog_Modular55.rar\" title=\"Download free Moog Modular 55 WAV Drum Samples',\n",
       "  'hfiehhwodwcnsjdcnsk/[KB6]_Moog_Voyager.rar\" title=\"Download free Moog Voyager WAV Drum Samples',\n",
       "  'hfiehhwodwcnsjdcnsk/[KB6]_MPC-Electronics_The-KIT.rar\" title=\"Download free MPC Electronics The Kit WAV Drum Samples',\n",
       "  'hfiehhwodwcnsjdcnsk/[KB6]_MSC_DL-909.rar\" title=\"Download free MSC DL-909 WAV Drum Samples',\n",
       "  'hfiehhwodwcnsjdcnsk/[KB6]_MTI_AO-1.rar\" title=\"Download free MTI AO-1 WAV Drum Samples',\n",
       "  'hfiehhwodwcnsjdcnsk/[KB6]_MXR_185.rar\" title=\"Download free MXR-185 WAV Drum Samples',\n",
       "  'hfiehhwodwcnsjdcnsk/[KB6]_Nasta_Hit-Stix2.rar\" title=\"Download free Nasta Hit Stix 2 WAV Drum Samples',\n",
       "  'hfiehhwodwcnsjdcnsk/[KB6]_Nintendo_Game-Boy-Advance-SP.rar\" title=\"Download free Nintendo GameBoy Advance SP WAV Drum Samples',\n",
       "  'hfiehhwodwcnsjdcnsk/[KB6]_Novation_Bass-Station-2.rar\" title=\"Download free Novation Bass Station 2 WAV Drum Samples',\n",
       "  'hfiehhwodwcnsjdcnsk/[KB6]_Panasonic_RD-9844.rar\" title=\"Download free Panasonic RD-9844 WAV Drum Samples',\n",
       "  'hfiehhwodwcnsjdcnsk/[KB6]_Pearl_DRX-1.rar\" title=\"Download free Pearl DRX-1 WAV Drum Samples',\n",
       "  'hfiehhwodwcnsjdcnsk/[KB6]_Rhodes_Polaris.rar\" title=\"Download free Rhodes Polaris WAV Drum Samples',\n",
       "  'hfiehhwodwcnsjdcnsk/[KB6]_RSF_DD-30.rar\" title=\"Download free RSF DD-30 WAV Drum Samples',\n",
       "  'hfiehhwodwcnsjdcnsk/[KB6]_Sakata_DPM48.rar\" title=\"Download free Sakata DPM-48 WAV Drum Samples',\n",
       "  'hfiehhwodwcnsjdcnsk/[KB6]_SequentialCircuits_Drumtraks.rar\" title=\"Download free Sequential Circuits Drumtraks WAV Drum Samples',\n",
       "  'hfiehhwodwcnsjdcnsk/[KB6]_Sequential_Circuits_Studio-440.rar\" title=\"Download free Sequential Circuits Studio 440 WAV Drum Samples',\n",
       "  'hfiehhwodwcnsjdcnsk/[KB6]_SequentialCircuits_Tom.rar\" title=\"Download free Sequential Circuits Tom WAV Drum Samples',\n",
       "  'hfiehhwodwcnsjdcnsk/[KB6]_Serge_Modular.rar\" title=\"Download free Serge Modular WAV Drum Samples',\n",
       "  'hfiehhwodwcnsjdcnsk/[KB6]_Simmons_ClapTrap.rar\" title=\"Download free Simmons ClapTrap WAV Drum Samples',\n",
       "  'hfiehhwodwcnsjdcnsk/[KB6]_Simmons_SDS1000.rar\" title=\"Download free Simmons SDS-1000 WAV Drum Samples',\n",
       "  'hfiehhwodwcnsjdcnsk/[KB6]_Simmons_SDS200.rar\" title=\"Download free Simmons SDS-200 WAV Drum Samples',\n",
       "  'hfiehhwodwcnsjdcnsk/[KB6]_Simmons_SDS2000.rar\" title=\"Download free Simmons SDS-2000 WAV Drum Samples',\n",
       "  'hfiehhwodwcnsjdcnsk/[KB6]_Simmons_SDS7.rar\" title=\"Download free Simmons SDS-7 WAV Drum Samples',\n",
       "  'hfiehhwodwcnsjdcnsk/[KB6]_Solton_Disco-64.rar\" title=\"Download free Solton Disco 64 WAV Drum Samples',\n",
       "  'hfiehhwodwcnsjdcnsk/[KB6]_Sony_DRP-1.rar\" title=\"Download free Sony DRP-1 WAV Drum Samples',\n",
       "  'hfiehhwodwcnsjdcnsk/[KB6]_SoundMaster_SR88.rar\" title=\"Download free Soundmaster SR-88 WAV Drum Samples',\n",
       "  'hfiehhwodwcnsjdcnsk/[KB6]_SoundMaster_Stix_ST-305.rar\" title=\"Download free Soundmaster Stix ST-305 WAV Drum Samples',\n",
       "  'hfiehhwodwcnsjdcnsk/[KB6]_SRB_600.rar\" title=\"Download free SRB 600 WAV Drum Samples',\n",
       "  'hfiehhwodwcnsjdcnsk/[KB6]_Star-Instruments_Synare-PS-1.rar\" title=\"Download free Star Instruments Synare 1 WAV Drum Samples',\n",
       "  'hfiehhwodwcnsjdcnsk/[KB6]_Stylophone_Beatbox.rar\" title=\"Download free Stylophone Beatbox WAV Drum Samples',\n",
       "  'hfiehhwodwcnsjdcnsk/[KB6]_Syncussion_Zapp.rar\" title=\"Download free Syncussion Zapp WAV Drum Samples',\n",
       "  'hfiehhwodwcnsjdcnsk/[KB6]_Tama_RockStar.rar\" title=\"Download free Tama Rock-Star WAV Drum Samples',\n",
       "  'hfiehhwodwcnsjdcnsk/[KB6]_Tama_TS-500.rar\" title=\"Download free Tama TS-500 WAV Drum Samples',\n",
       "  'hfiehhwodwcnsjdcnsk/[KB6]_Technics_AX5.rar\" title=\"Download free Technics AX-5 WAV Drum Samples',\n",
       "  'hfiehhwodwcnsjdcnsk/[KB6]_Technics_PCM_DP50.rar\" title=\"Download free Technics PCM DP-50 WAV Drum Samples',\n",
       "  'hfiehhwodwcnsjdcnsk/[KB6]_Technics_U90.rar\" title=\"Download free Technics U-90 WAV Drum Samples',\n",
       "  'hfiehhwodwcnsjdcnsk/[KB6]_Teenage-Engineering_PO-12.rar\" title=\"Download free Teenage Engineering PO-12 WAV Drum Samples',\n",
       "  'hfiehhwodwcnsjdcnsk/[KB6]_Vermona_DRM1.rar\" title=\"Download free Vermona DRM-1 WAV Drum Samples',\n",
       "  'hfiehhwodwcnsjdcnsk/[KB6]_Video-Tech_Rythmic10.rar\" title=\"Download free Video Tech Rythmic 10 WAV Drum Samples',\n",
       "  'hfiehhwodwcnsjdcnsk/[KB6]_Visco_Space_Drum.rar\" title=\"Download free Visco Space Drum WAV Drum Samples',\n",
       "  'hfiehhwodwcnsjdcnsk/[KB6]_Watford-Electronics_Rhythm-Generator.rar\" title=\"Download free Watford WAV Drum Samples',\n",
       "  'hfiehhwodwcnsjdcnsk/[KB6]_Wersi_Prisma-DX5.rar\" title=\"Download free Wersi Prisma DX5 WAV Drum Samples',\n",
       "  'hfiehhwodwcnsjdcnsk/[KB6]_Wiard_300-Series-Modular.rar\" title=\"Download free Wiard 300 Series Modular WAV Drum Samples',\n",
       "  'hfiehhwodwcnsjdcnsk/[KB6]_Wurlitzer_Swinging-Rhythm.rar\" title=\"Download free Wurlitzer WAV Drum Samples',\n",
       "  'hfiehhwodwcnsjdcnsk/[KB6]_Yamaha_AN200.rar\" title=\"Download free Yamaha AN-200 WAV Drum Samples',\n",
       "  'hfiehhwodwcnsjdcnsk/[KB6]_Yamaha_CS15D.rar\" title=\"Download free Yamaha CS-15D WAV Drum Samples',\n",
       "  'hfiehhwodwcnsjdcnsk/[KB6]_Yamaha_CS-40M.rar\" title=\"Download free Yamaha CS-40M WAV Drum Samples',\n",
       "  'hfiehhwodwcnsjdcnsk/[KB6]_Yamaha_DD-5.rar\" title=\"Download free Yamaha DD-5 WAV Drum Samples',\n",
       "  'hfiehhwodwcnsjdcnsk/[KB6]_Yamaha_DD-10.rar\" title=\"Download free Yamaha DD-10 WAV Drum Samples',\n",
       "  'hfiehhwodwcnsjdcnsk/[KB6]_Yamaha_DD-11.rar\" title=\"Download free Yamaha DD-11 WAV Drum Samples',\n",
       "  'hfiehhwodwcnsjdcnsk/[KB6]_Yamaha_DD-50.rar\" title=\"Download free Yamaha DD-50 WAV Drum Samples',\n",
       "  'hfiehhwodwcnsjdcnsk/[KB6]_Yamaha_PTX8.rar\" title=\"Download free Yamaha PTX-8 WAV Drum Samples',\n",
       "  'hfiehhwodwcnsjdcnsk/[KB6]_Yamaha_RX-11.rar\" title=\"Download free Yamaha RX-11 WAV Drum Samples',\n",
       "  'hfiehhwodwcnsjdcnsk/[KB6]_Yamaha_RX-21.rar\" title=\"Download free Yamaha RX-21 WAV Drum Samples',\n",
       "  'hfiehhwodwcnsjdcnsk/[KB6]_Yamaha_RX-21L.rar\" title=\"Download free Yamaha RX-21L WAV Drum Samples',\n",
       "  'hfiehhwodwcnsjdcnsk/[KB6]_Yamaha_RX-5.rar\" title=\"Download free Yamaha RX-5 WAV Drum Samples',\n",
       "  'hfiehhwodwcnsjdcnsk/[KB6]_Yamaha_RX15.rar\" title=\"Download free Yamaha RX-15 WAV Drum Samples',\n",
       "  'hfiehhwodwcnsjdcnsk/[KB6]_Yamaha_RX17.rar\" title=\"Download free Yamaha RX-17 WAV Drum Samples',\n",
       "  'hfiehhwodwcnsjdcnsk/[KB6]_Yamaha_RX-120.rar\" title=\"Download free Yamaha RX-120 WAV Drum Samples',\n",
       "  'hfiehhwodwcnsjdcnsk/[KB6]_Yamaha_SHS200.rar\" title=\"Download free Yamaha SHS-200 WAV Drum Samples',\n",
       "  'hfiehhwodwcnsjdcnsk/[KB6]_Yamaha_TX16W_Typhoon-OS.rar\" title=\"Download free Yamaha TX-16W WAV Drum Samples',\n",
       "  'hfiehhwodwcnsjdcnsk/[KB6]_Yamaha_VSS-100.rar\" title=\"Download free Yamaha VSS-100 WAV Drum Samples'])"
      ]
     },
     "execution_count": 101,
     "metadata": {},
     "output_type": "execute_result"
    }
   ],
   "source": [
    "f"
   ]
  },
  {
   "cell_type": "code",
   "execution_count": 39,
   "metadata": {},
   "outputs": [
    {
     "data": {
      "text/plain": [
       "True"
      ]
     },
     "execution_count": 39,
     "metadata": {},
     "output_type": "execute_result"
    }
   ],
   "source": [
    "isinstance(f, tuple)"
   ]
  },
  {
   "cell_type": "code",
   "execution_count": 20,
   "metadata": {},
   "outputs": [
    {
     "name": "stdout",
     "output_type": "stream",
     "text": [
      "yes\n"
     ]
    }
   ],
   "source": [
    "if \"and\" in \"theand\":\n",
    "    print('yes')\n",
    "else:\n",
    "    print('no')"
   ]
  },
  {
   "cell_type": "code",
   "execution_count": 27,
   "metadata": {},
   "outputs": [
    {
     "name": "stderr",
     "output_type": "stream",
     "text": [
      "196862it [00:03, 61435.06it/s]\n"
     ]
    }
   ],
   "source": [
    "from tqdm import tqdm\n",
    "import requests\n",
    "\n",
    "url = 'http://www.junglebreaks.co.uk/breaks/action.wav'\n",
    "response = requests.get(url, stream=True)\n",
    "\n",
    "with open(\"10MB.wav\", \"wb\") as handle:\n",
    "    for data in tqdm(response.iter_content()):\n",
    "        handle.write(data)"
   ]
  },
  {
   "cell_type": "code",
   "execution_count": 28,
   "metadata": {},
   "outputs": [],
   "source": [
    "lit = [1, 2, 3]\n",
    "tup = (1, 2, 3)"
   ]
  },
  {
   "cell_type": "code",
   "execution_count": 29,
   "metadata": {},
   "outputs": [
    {
     "data": {
      "text/plain": [
       "list"
      ]
     },
     "execution_count": 29,
     "metadata": {},
     "output_type": "execute_result"
    }
   ],
   "source": [
    "type(lit)"
   ]
  },
  {
   "cell_type": "code",
   "execution_count": 30,
   "metadata": {},
   "outputs": [
    {
     "data": {
      "text/plain": [
       "tuple"
      ]
     },
     "execution_count": 30,
     "metadata": {},
     "output_type": "execute_result"
    }
   ],
   "source": [
    "type(tup)"
   ]
  },
  {
   "cell_type": "code",
   "execution_count": 31,
   "metadata": {},
   "outputs": [
    {
     "name": "stdout",
     "output_type": "stream",
     "text": [
      "no\n"
     ]
    }
   ],
   "source": [
    "if type(tup) == 'tuple':\n",
    "    print('yes')\n",
    "else:\n",
    "    print('no')"
   ]
  },
  {
   "cell_type": "code",
   "execution_count": 35,
   "metadata": {},
   "outputs": [
    {
     "data": {
      "text/plain": [
       "False"
      ]
     },
     "execution_count": 35,
     "metadata": {},
     "output_type": "execute_result"
    }
   ],
   "source": [
    "import types\n",
    "\n",
    "isinstance(lit, tuple)"
   ]
  },
  {
   "cell_type": "code",
   "execution_count": 112,
   "metadata": {},
   "outputs": [
    {
     "data": {
      "text/plain": [
       "'/Users/ryanpierson/Desktop/files'"
      ]
     },
     "execution_count": 112,
     "metadata": {},
     "output_type": "execute_result"
    }
   ],
   "source": [
    "pwd"
   ]
  },
  {
   "cell_type": "code",
   "execution_count": 113,
   "metadata": {},
   "outputs": [],
   "source": [
    "import os"
   ]
  },
  {
   "cell_type": "code",
   "execution_count": 115,
   "metadata": {},
   "outputs": [],
   "source": [
    "os.chdir('/Users/ryanpierson/Desktop/drum_samples')"
   ]
  },
  {
   "cell_type": "code",
   "execution_count": 116,
   "metadata": {},
   "outputs": [
    {
     "name": "stdout",
     "output_type": "stream",
     "text": [
      "[KB6]_ARP_Axxe.rar\r\n",
      "[KB6]_Acetone_Rhythm-Ace.rar\r\n",
      "[KB6]_Acetone_Rhythm-King.rar\r\n",
      "[KB6]_Acetone_Rhythm-Master.rar\r\n",
      "[KB6]_AcidLab_Miami.rar\r\n",
      "[KB6]_Akai_MPC2000.rar\r\n",
      "[KB6]_Akai_XE8.rar\r\n",
      "[KB6]_Alesis_HR16A.rar\r\n",
      "[KB6]_Austin_ARB-6.rar\r\n",
      "[KB6]_BME_Rattlesnake.rar\r\n",
      "[KB6]_Bontempi_HF222.rar\r\n",
      "[KB6]_Casio_CZ-230S.rar\r\n",
      "[KB6]_Casio_HT-700.rar\r\n",
      "[KB6]_Casio_MA-101.rar\r\n",
      "[KB6]_Casio_MT-100.rar\r\n",
      "[KB6]_Casio_MT-18.rar\r\n",
      "[KB6]_Casio_MT-500.rar\r\n",
      "[KB6]_Casio_MT-800.rar\r\n",
      "[KB6]_Casio_PT-82.rar\r\n",
      "[KB6]_Casio_RZ1.rar\r\n",
      "[KB6]_Casio_Rapman-II.rar\r\n",
      "[KB6]_Casio_Rapman.rar\r\n",
      "[KB6]_Casio_SA-10.rar\r\n",
      "[KB6]_Casio_SK1.rar\r\n",
      "[KB6]_Casio_SK5.rar\r\n",
      "[KB6]_Chaser_PR-80.rar\r\n",
      "[KB6]_Cheetah_MD16.rar\r\n",
      "[KB6]_Cheetah_SpecDrum.rar\r\n",
      "[KB6]_Clavia_Nord-Drum.rar\r\n",
      "[KB6]_Coron_Drum-Synce_DS-7.rar\r\n",
      "[KB6]_Daytone_Drum-Synthe-RDS.rar\r\n",
      "[KB6]_DeepSky_Drumbox.rar\r\n",
      "[KB6]_Denon_CRB-90.rar\r\n",
      "[KB6]_Digitech_RP200.rar\r\n",
      "[KB6]_DrBoehm_S-78.rar\r\n",
      "[KB6]_Drumfire_DF-500.rar\r\n",
      "[KB6]_EKO_MusicBox-12.rar\r\n",
      "[KB6]_EKO_Ritmo20.rar\r\n",
      "[KB6]_EMU_E-Drum.rar\r\n",
      "[KB6]_EMU_Proteus1.rar\r\n",
      "[KB6]_EMU_Proteus3.rar\r\n",
      "[KB6]_EMU_SP-12.rar\r\n",
      "[KB6]_Electro-Harmonix_DRM-15.rar\r\n",
      "[KB6]_Electro-Harmonix_DRM-16.rar\r\n",
      "[KB6]_Electro-Harmonix_DRM-32.rar\r\n",
      "[KB6]_Elka_Drumstar-80.rar\r\n",
      "[KB6]_Ensoniq_ASR-X.rar\r\n",
      "[KB6]_Ensoniq_EPS.rar\r\n",
      "[KB6]_Ensoniq_Mirage.rar\r\n",
      "[KB6]_Estradin_Pulsar.rar\r\n",
      "[KB6]_Forat_F-9000.rar\r\n",
      "[KB6]_Fricke_MFB_301.rar\r\n",
      "[KB6]_Fricke_MFB_501.rar\r\n",
      "[KB6]_Fricke_MFB_512.rar\r\n",
      "[KB6]_Fricke_MFB_712.rar\r\n",
      "[KB6]_GEM_Drum15.rar\r\n",
      "[KB6]_Hammond_Auto-Vari64.rar\r\n",
      "[KB6]_Hammond_Rhythm2.rar\r\n",
      "[KB6]_Hing-Hon_EK001.rar\r\n",
      "[KB6]_Jomox_Mbase01.rar\r\n",
      "[KB6]_Kawai_ACR20.rar\r\n",
      "[KB6]_Kawai_K1.rar\r\n",
      "[KB6]_Kawai_R-100.rar\r\n",
      "[KB6]_Kawai_R-50.rar\r\n",
      "[KB6]_Kawai_R-50e.rar\r\n",
      "[KB6]_Kawai_SX-240.rar\r\n",
      "[KB6]_Kawai_XD-5.rar\r\n",
      "[KB6]_Kay_DRM1.rar\r\n",
      "[KB6]_Kay_R8.rar\r\n",
      "[KB6]_Keio_Checkmate.rar\r\n",
      "[KB6]_Ketron_SD-5.rar\r\n",
      "[KB6]_Korg_DDD-1.rar\r\n",
      "[KB6]_Korg_DDM110.rar\r\n",
      "[KB6]_Korg_DDM220.rar\r\n",
      "[KB6]_Korg_DRM-1.rar\r\n",
      "[KB6]_Korg_KPR77.rar\r\n",
      "[KB6]_Korg_KR-33.rar\r\n",
      "[KB6]_Korg_KR-Mini.rar\r\n",
      "[KB6]_Korg_KR55.rar\r\n",
      "[KB6]_Korg_MP7.rar\r\n",
      "[KB6]_Korg_Minipops.rar\r\n",
      "[KB6]_Korg_PSS-50.rar\r\n",
      "[KB6]_Korg_ProWave.rar\r\n",
      "[KB6]_Korg_Prophecy.rar\r\n",
      "[KB6]_Korg_Radias.rar\r\n",
      "[KB6]_Korg_SR-120.rar\r\n",
      "[KB6]_Korg_T1.rar\r\n",
      "[KB6]_Korg_T3.rar\r\n",
      "[KB6]_Kurzweil_K2000.rar\r\n",
      "[KB6]_Lel_PSR.rar\r\n",
      "[KB6]_Linn_AdrenaLinn1.rar\r\n",
      "[KB6]_Linn_LM-1.rar\r\n",
      "[KB6]_MPC-Electronics_The-KIT.rar\r\n",
      "[KB6]_MSC_DL-909.rar\r\n",
      "[KB6]_MTI_AO-1.rar\r\n",
      "[KB6]_MXR_185.rar\r\n",
      "[KB6]_Maestro_G2.rar\r\n",
      "[KB6]_Mattel_Electronics_Synsonics_DRM.rar\r\n",
      "[KB6]_Moog_Modular55.rar\r\n",
      "[KB6]_Moog_Voyager.rar\r\n",
      "[KB6]_Nasta_Hit-Stix2.rar\r\n",
      "[KB6]_Nintendo_Game-Boy-Advance-SP.rar\r\n",
      "[KB6]_Novation_Bass-Station-2.rar\r\n",
      "[KB6]_Panasonic_RD-9844.rar\r\n",
      "[KB6]_Pearl_DRX-1.rar\r\n",
      "[KB6]_RSF_DD-30.rar\r\n",
      "[KB6]_Rhodes_Polaris.rar\r\n",
      "[KB6]_SRB_600.rar\r\n",
      "[KB6]_Sakata_DPM48.rar\r\n",
      "[KB6]_SequentialCircuits_Drumtraks.rar\r\n",
      "[KB6]_SequentialCircuits_Tom.rar\r\n",
      "[KB6]_Sequential_Circuits_Studio-440.rar\r\n",
      "[KB6]_Serge_Modular.rar\r\n",
      "[KB6]_Simmons_ClapTrap.rar\r\n",
      "[KB6]_Simmons_SDS1000.rar\r\n",
      "[KB6]_Simmons_SDS200.rar\r\n",
      "[KB6]_Simmons_SDS2000.rar\r\n",
      "[KB6]_Simmons_SDS7.rar\r\n",
      "[KB6]_Solton_Disco-64.rar\r\n",
      "[KB6]_Sony_DRP-1.rar\r\n",
      "[KB6]_SoundMaster_SR88.rar\r\n",
      "[KB6]_SoundMaster_Stix_ST-305.rar\r\n",
      "[KB6]_Star-Instruments_Synare-PS-1.rar\r\n",
      "[KB6]_Stylophone_Beatbox.rar\r\n",
      "[KB6]_Syncussion_Zapp.rar\r\n",
      "[KB6]_Tama_RockStar.rar\r\n",
      "[KB6]_Tama_TS-500.rar\r\n",
      "[KB6]_Technics_AX5.rar\r\n",
      "[KB6]_Technics_PCM_DP50.rar\r\n",
      "[KB6]_Technics_U90.rar\r\n",
      "[KB6]_Teenage-Engineering_PO-12.rar\r\n",
      "[KB6]_Vermona_DRM1.rar\r\n",
      "[KB6]_Video-Tech_Rythmic10.rar\r\n",
      "[KB6]_Visco_Space_Drum.rar\r\n",
      "[KB6]_Watford-Electronics_Rhythm-Generator.rar\r\n",
      "[KB6]_Wersi_Prisma-DX5.rar\r\n",
      "[KB6]_Wiard_300-Series-Modular.rar\r\n",
      "[KB6]_Wurlitzer_Swinging-Rhythm.rar\r\n",
      "[KB6]_Yamaha_AN200.rar\r\n",
      "[KB6]_Yamaha_CS-40M.rar\r\n",
      "[KB6]_Yamaha_CS15D.rar\r\n",
      "[KB6]_Yamaha_DD-10.rar\r\n",
      "[KB6]_Yamaha_DD-11.rar\r\n",
      "[KB6]_Yamaha_DD-5.rar\r\n",
      "[KB6]_Yamaha_DD-50.rar\r\n",
      "[KB6]_Yamaha_PTX8.rar\r\n",
      "[KB6]_Yamaha_RX-11.rar\r\n",
      "[KB6]_Yamaha_RX-120.rar\r\n",
      "[KB6]_Yamaha_RX-21.rar\r\n",
      "[KB6]_Yamaha_RX-21L.rar\r\n",
      "[KB6]_Yamaha_RX-5.rar\r\n",
      "[KB6]_Yamaha_RX15.rar\r\n",
      "[KB6]_Yamaha_RX17.rar\r\n",
      "[KB6]_Yamaha_SHS200.rar\r\n",
      "[KB6]_Yamaha_TX16W_Typhoon-OS.rar\r\n",
      "\u001b[34mextracted_drum_samples\u001b[m\u001b[m/\r\n"
     ]
    }
   ],
   "source": [
    "ls"
   ]
  },
  {
   "cell_type": "code",
   "execution_count": 118,
   "metadata": {},
   "outputs": [
    {
     "ename": "PatoolError",
     "evalue": "patool can not unpack\npatool error: error extracting /Users/ryanpierson/Desktop/drum_samples/[KB6]_ARP_Axxe.rar: could not find an executable program to extract format rar; candidates are (rar,unrar,7z),",
     "output_type": "error",
     "traceback": [
      "\u001b[0;31m---------------------------------------------------------------------------\u001b[0m",
      "\u001b[0;31mPatoolError\u001b[0m                               Traceback (most recent call last)",
      "\u001b[0;32m<ipython-input-118-39a47bbd948d>\u001b[0m in \u001b[0;36m<module>\u001b[0;34m()\u001b[0m\n\u001b[1;32m      1\u001b[0m \u001b[0;32mfrom\u001b[0m \u001b[0mpyunpack\u001b[0m \u001b[0;32mimport\u001b[0m \u001b[0mArchive\u001b[0m\u001b[0;34m\u001b[0m\u001b[0m\n\u001b[1;32m      2\u001b[0m \u001b[0;34m\u001b[0m\u001b[0m\n\u001b[0;32m----> 3\u001b[0;31m \u001b[0mArchive\u001b[0m\u001b[0;34m(\u001b[0m\u001b[0;34m'[KB6]_ARP_Axxe.rar'\u001b[0m\u001b[0;34m)\u001b[0m\u001b[0;34m.\u001b[0m\u001b[0mextractall\u001b[0m\u001b[0;34m(\u001b[0m\u001b[0;34m'/Users/ryanpierson/Desktop/drum_samples/extracted_drum_samples'\u001b[0m\u001b[0;34m)\u001b[0m\u001b[0;34m\u001b[0m\u001b[0m\n\u001b[0m",
      "\u001b[0;32m~/anaconda3/lib/python3.7/site-packages/pyunpack/__init__.py\u001b[0m in \u001b[0;36mextractall\u001b[0;34m(self, directory, auto_create_dir, patool_path)\u001b[0m\n\u001b[1;32m     88\u001b[0m                 \u001b[0mself\u001b[0m\u001b[0;34m.\u001b[0m\u001b[0mextractall_zipfile\u001b[0m\u001b[0;34m(\u001b[0m\u001b[0mdirectory\u001b[0m\u001b[0;34m)\u001b[0m\u001b[0;34m\u001b[0m\u001b[0m\n\u001b[1;32m     89\u001b[0m             \u001b[0;32melse\u001b[0m\u001b[0;34m:\u001b[0m\u001b[0;34m\u001b[0m\u001b[0m\n\u001b[0;32m---> 90\u001b[0;31m                 \u001b[0mself\u001b[0m\u001b[0;34m.\u001b[0m\u001b[0mextractall_patool\u001b[0m\u001b[0;34m(\u001b[0m\u001b[0mdirectory\u001b[0m\u001b[0;34m,\u001b[0m \u001b[0mpatool_path\u001b[0m\u001b[0;34m)\u001b[0m\u001b[0;34m\u001b[0m\u001b[0m\n\u001b[0m\u001b[1;32m     91\u001b[0m \u001b[0;34m\u001b[0m\u001b[0m\n\u001b[1;32m     92\u001b[0m         \u001b[0;32mif\u001b[0m \u001b[0mself\u001b[0m\u001b[0;34m.\u001b[0m\u001b[0mbackend\u001b[0m \u001b[0;34m==\u001b[0m \u001b[0;34m'zipfile'\u001b[0m\u001b[0;34m:\u001b[0m\u001b[0;34m\u001b[0m\u001b[0m\n",
      "\u001b[0;32m~/anaconda3/lib/python3.7/site-packages/pyunpack/__init__.py\u001b[0m in \u001b[0;36mextractall_patool\u001b[0;34m(self, directory, patool_path)\u001b[0m\n\u001b[1;32m     60\u001b[0m             \u001b[0;32mraise\u001b[0m \u001b[0mPatoolError\u001b[0m\u001b[0;34m(\u001b[0m\u001b[0;34m'patool timeout\\n'\u001b[0m \u001b[0;34m+\u001b[0m \u001b[0mstr\u001b[0m\u001b[0;34m(\u001b[0m\u001b[0mp\u001b[0m\u001b[0;34m.\u001b[0m\u001b[0mstdout\u001b[0m\u001b[0;34m)\u001b[0m \u001b[0;34m+\u001b[0m \u001b[0;34m'\\n'\u001b[0m \u001b[0;34m+\u001b[0m \u001b[0mstr\u001b[0m\u001b[0;34m(\u001b[0m\u001b[0mp\u001b[0m\u001b[0;34m.\u001b[0m\u001b[0mstderr\u001b[0m\u001b[0;34m)\u001b[0m\u001b[0;34m)\u001b[0m\u001b[0;34m\u001b[0m\u001b[0m\n\u001b[1;32m     61\u001b[0m         \u001b[0;32mif\u001b[0m \u001b[0mp\u001b[0m\u001b[0;34m.\u001b[0m\u001b[0mreturn_code\u001b[0m\u001b[0;34m:\u001b[0m\u001b[0;34m\u001b[0m\u001b[0m\n\u001b[0;32m---> 62\u001b[0;31m             \u001b[0;32mraise\u001b[0m \u001b[0mPatoolError\u001b[0m\u001b[0;34m(\u001b[0m\u001b[0;34m'patool can not unpack\\n'\u001b[0m \u001b[0;34m+\u001b[0m \u001b[0mstr\u001b[0m\u001b[0;34m(\u001b[0m\u001b[0mp\u001b[0m\u001b[0;34m.\u001b[0m\u001b[0mstderr\u001b[0m\u001b[0;34m)\u001b[0m\u001b[0;34m)\u001b[0m\u001b[0;34m\u001b[0m\u001b[0m\n\u001b[0m\u001b[1;32m     63\u001b[0m \u001b[0;34m\u001b[0m\u001b[0m\n\u001b[1;32m     64\u001b[0m     \u001b[0;32mdef\u001b[0m \u001b[0mextractall_zipfile\u001b[0m\u001b[0;34m(\u001b[0m\u001b[0mself\u001b[0m\u001b[0;34m,\u001b[0m \u001b[0mdirectory\u001b[0m\u001b[0;34m)\u001b[0m\u001b[0;34m:\u001b[0m\u001b[0;34m\u001b[0m\u001b[0m\n",
      "\u001b[0;31mPatoolError\u001b[0m: patool can not unpack\npatool error: error extracting /Users/ryanpierson/Desktop/drum_samples/[KB6]_ARP_Axxe.rar: could not find an executable program to extract format rar; candidates are (rar,unrar,7z),"
     ]
    }
   ],
   "source": [
    "from pyunpack import Archive\n",
    "\n",
    "Archive('[KB6]_ARP_Axxe.rar').extractall('/Users/ryanpierson/Desktop/drum_samples/extracted_drum_samples')"
   ]
  },
  {
   "cell_type": "code",
   "execution_count": 119,
   "metadata": {},
   "outputs": [
    {
     "data": {
      "text/plain": [
       "'/Users/ryanpierson/Desktop/drum_samples'"
      ]
     },
     "execution_count": 119,
     "metadata": {},
     "output_type": "execute_result"
    }
   ],
   "source": [
    "pwd"
   ]
  },
  {
   "cell_type": "code",
   "execution_count": null,
   "metadata": {},
   "outputs": [],
   "source": []
  }
 ],
 "metadata": {
  "kernelspec": {
   "display_name": "Python 3",
   "language": "python",
   "name": "python3"
  },
  "language_info": {
   "codemirror_mode": {
    "name": "ipython",
    "version": 3
   },
   "file_extension": ".py",
   "mimetype": "text/x-python",
   "name": "python",
   "nbconvert_exporter": "python",
   "pygments_lexer": "ipython3",
   "version": "3.7.0"
  }
 },
 "nbformat": 4,
 "nbformat_minor": 2
}
