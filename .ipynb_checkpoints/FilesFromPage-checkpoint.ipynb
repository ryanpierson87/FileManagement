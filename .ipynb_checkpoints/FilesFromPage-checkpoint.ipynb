{
 "cells": [
  {
   "cell_type": "code",
   "execution_count": null,
   "metadata": {},
   "outputs": [],
   "source": [
    "from bs4 import BeautifulSoup\n",
    "import re\n",
    "import requests\n",
    "from threading import Thread\n",
    "\n",
    "#This is the program that scrapes the webpage for all of the necessary files and returns the links where the files are\n",
    "def files_to_download(site, file_format):\n",
    "    '''    Scrapes the provided website and returns the links of all of the provided file format.\n",
    "    Ex: a page with a list of mp3s\n",
    "    files_to_download('https://sitewithmusic.com', '.mp3')\n",
    "    >>> ['...sitewithmusic.com/track_1', '...sitewithmusic.com/track_2', '...sitewithmusic.com/track_3']'''\n",
    "    url = requests.get(site)\n",
    "    soup = BeautifulSoup(url.content, 'html.parser')\n",
    "    #finds the files on the page\n",
    "    regex = re.compile(r\"href=\\\"(.*)\\\">\")\n",
    "    matches = re.findall(regex, str(soup.body))\n",
    "    dl = []\n",
    "    for i in matches:\n",
    "        if file_format in i:\n",
    "            dl.append(i)\n",
    "    return dl\n",
    "\n",
    "#This is the threading function that takes a download url and a possibly a folder.\n",
    "#it grabs the download from the link and sticks it into the provided folder- or local to the program.\n",
    "def download_files(url, folder=None):\n",
    "    r'''Downloads a file from a download link and places it in the specified folder.\n",
    "    \n",
    "    download_files('www.website.com/download_file', 'C:\\Users\\Me\\Desktop')\n",
    "        places the file from website.com onto the users Desktop.'''\n",
    "    if folder == None:\n",
    "        name = url[url.find('.com/')+ 5:]\n",
    "    else:\n",
    "        if url[-1] == \"/\":\n",
    "            name = folder + url[url.find('.com/')+ 5:]\n",
    "        else:\n",
    "            name = folder + \"\\\\\" + url[url.find('.com/')+ 5:]\n",
    "    print(\"The file being downloaded is {}\".format(url))\n",
    "    r = requests.get(url, allow_redirects=True)\n",
    "    open(name, 'wb').write(r.content)\n",
    "\n",
    "    \n",
    "#This function combines the functions: files_to_download and download_files\n",
    "#It runs the files_to_download to generate a list of links to download\n",
    "#It then threads through all of the downloads to get done SUPER QUICK\n",
    "def download_all(site, file_format, folder=None):\n",
    "    '''Takes a Site, a File Format, and a Destination folder\n",
    "   Downloads all of files of that format from a webpage into the folder.\n",
    "    \n",
    "    download_all('https://websitewithmusic.com', '.mp3', 'C:\\\\Users\\\\Desktop\\Folder')\n",
    "    >>>> All mp3s will be downloaded to the Folder folder on your Desktop'''\n",
    "    files_list = files_to_download(site, file_format)\n",
    "    for i in files_list:\n",
    "        t = Thread(target=download_files, args=(i, folder))\n",
    "        t.start()"
   ]
  }
 ],
 "metadata": {
  "kernelspec": {
   "display_name": "Python 3",
   "language": "python",
   "name": "python3"
  },
  "language_info": {
   "codemirror_mode": {
    "name": "ipython",
    "version": 3
   },
   "file_extension": ".py",
   "mimetype": "text/x-python",
   "name": "python",
   "nbconvert_exporter": "python",
   "pygments_lexer": "ipython3",
   "version": "3.6.4"
  }
 },
 "nbformat": 4,
 "nbformat_minor": 2
}
