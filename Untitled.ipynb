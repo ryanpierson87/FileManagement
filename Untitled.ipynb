{
 "cells": [
  {
   "cell_type": "code",
   "execution_count": null,
   "metadata": {},
   "outputs": [],
   "source": [
    "    #COMPILERS\n",
    "#The Regex the first table\n",
    "num_re = re.compile(r\"<li>(.*) <\")\n",
    "title_re = re.compile(r\"title=\\\".*\\\">(.*)</a></li>\")\n",
    "\n",
    "#This is for the script parser\n",
    "link_re = re.compile(r\"href=\\\"frasier/transcripts/(.*) title=\\\"Frasier\")\n",
    "\n",
    "soup, raw = double_out('http://www.kacl780.net/frasier/transcripts/')\n"
   ]
  },
  {
   "cell_type": "code",
   "execution_count": null,
   "metadata": {},
   "outputs": [],
   "source": [
    "frasierTables('http://www.kacl780.net/frasier/transcripts/')"
   ]
  },
  {
   "cell_type": "code",
   "execution_count": null,
   "metadata": {},
   "outputs": [],
   "source": [
    "def script_find(string, cast):\n",
    "    print(string)\n",
    "    print(cast)\n",
    "    lst = []\n",
    "    x = 0\n",
    "    y = 0\n",
    "    for i in range(len(cast)):\n",
    "        print(cast[i])\n",
    "        x = string.find(cast[i], y)\n",
    "        print(x)\n",
    "        y = x\n",
    "        print(string[x])\n",
    "#         if i == 0:\n",
    "#             print(\"one\", lst)\n",
    "#             continue\n",
    "        if i + 1 > (len(cast)-1):\n",
    "            print(\"two\", lst)\n",
    "            lst.append(string[x +len(cast[i]):])\n",
    "        else:\n",
    "            print(\"three\", lst)\n",
    "            lst.append(string[x +len(cast[i]):string.find(cast[i +1], x)])\n",
    "        print(lst)\n",
    "    return lst"
   ]
  },
  {
   "cell_type": "code",
   "execution_count": null,
   "metadata": {},
   "outputs": [],
   "source": [
    "def cast_find(soup):\n",
    "    cast = []\n",
    "    char_re = re.compile(r\"<b>.*?:</b>\")\n",
    "    characters = re.findall(char_re, str(the_good_son.find_all('pre')))\n",
    "\n",
    "    for i in characters:\n",
    "        if not len(i) > 20:\n",
    "            if i != \"Credits\":\n",
    "                cast.extend(i.split(\"/\"))\n",
    "\n",
    "    return cast, str(the_good_son)"
   ]
  }
 ],
 "metadata": {
  "kernelspec": {
   "display_name": "Python 3",
   "language": "python",
   "name": "python3"
  },
  "language_info": {
   "codemirror_mode": {
    "name": "ipython",
    "version": 3
   },
   "file_extension": ".py",
   "mimetype": "text/x-python",
   "name": "python",
   "nbconvert_exporter": "python",
   "pygments_lexer": "ipython3",
   "version": "3.6.5"
  }
 },
 "nbformat": 4,
 "nbformat_minor": 2
}
